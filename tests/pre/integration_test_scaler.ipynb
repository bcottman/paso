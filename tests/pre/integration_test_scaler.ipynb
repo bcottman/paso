{
 "cells": [
  {
   "cell_type": "markdown",
   "metadata": {},
   "source": [
    "# scalar testing"
   ]
  },
  {
   "cell_type": "code",
   "execution_count": 1,
   "metadata": {
    "ExecuteTime": {
     "end_time": "2019-05-28T20:44:55.330099Z",
     "start_time": "2019-05-28T20:44:55.318497Z"
    }
   },
   "outputs": [
    {
     "data": {
      "text/plain": [
       "['/Users/brucecottman/Documents/PROJECTS/paso/tests/pre',\n",
       " '/Users/brucecottman/anaconda3/envs/paso/lib/python37.zip',\n",
       " '/Users/brucecottman/anaconda3/envs/paso/lib/python3.7',\n",
       " '/Users/brucecottman/anaconda3/envs/paso/lib/python3.7/lib-dynload',\n",
       " '',\n",
       " '/Users/brucecottman/.local/lib/python3.7/site-packages',\n",
       " '/Users/brucecottman/anaconda3/envs/paso/lib/python3.7/site-packages',\n",
       " '/Users/brucecottman/anaconda3/envs/paso/lib/python3.7/site-packages/aeosa',\n",
       " '/Users/brucecottman/anaconda3/envs/paso/lib/python3.7/site-packages/IPython/extensions',\n",
       " '/Users/brucecottman/.ipython']"
      ]
     },
     "execution_count": 1,
     "metadata": {},
     "output_type": "execute_result"
    }
   ],
   "source": [
    "import os,sys\n",
    "#sys.path.append(os.path.abspath('../'))\n",
    "sys.path"
   ]
  },
  {
   "cell_type": "code",
   "execution_count": 2,
   "metadata": {
    "ExecuteTime": {
     "end_time": "2019-05-28T20:44:55.890014Z",
     "start_time": "2019-05-28T20:44:55.333278Z"
    }
   },
   "outputs": [],
   "source": [
    "import numpy as np\n",
    "import pytest\n",
    "from sklearn.base import BaseEstimator, TransformerMixin\n"
   ]
  },
  {
   "cell_type": "code",
   "execution_count": 3,
   "metadata": {
    "ExecuteTime": {
     "end_time": "2019-05-28T20:44:56.251149Z",
     "start_time": "2019-05-28T20:44:55.892659Z"
    }
   },
   "outputs": [],
   "source": [
    "from category_encoders.utils import get_obj_cols, convert_input"
   ]
  },
  {
   "cell_type": "code",
   "execution_count": 4,
   "metadata": {
    "ExecuteTime": {
     "end_time": "2019-05-28T20:44:57.234253Z",
     "start_time": "2019-05-28T20:44:56.254915Z"
    }
   },
   "outputs": [],
   "source": [
    "from paso.base import get_paso_log"
   ]
  },
  {
   "cell_type": "code",
   "execution_count": 5,
   "metadata": {
    "ExecuteTime": {
     "end_time": "2019-05-28T20:44:57.333194Z",
     "start_time": "2019-05-28T20:44:57.237820Z"
    }
   },
   "outputs": [
    {
     "data": {
      "text/plain": [
       "{'StandardScaler': sklearn.preprocessing.data.StandardScaler,\n",
       " 'MinMaxScaler': sklearn.preprocessing.data.MinMaxScaler,\n",
       " 'Normalizer': sklearn.preprocessing.data.Normalizer,\n",
       " 'MaxAbsScaler': sklearn.preprocessing.data.MaxAbsScaler,\n",
       " 'RobustScaler': sklearn.preprocessing.data.RobustScaler,\n",
       " 'QuantileTransformer': sklearn.preprocessing.data.QuantileTransformer,\n",
       " 'BoxCoxScaler': paso.pre.scale.BoxCoxScaler,\n",
       " 'LambertScaler': paso.pre.scale.LambertScaler}"
      ]
     },
     "execution_count": 5,
     "metadata": {},
     "output_type": "execute_result"
    }
   ],
   "source": [
    "from paso.pre.scale import  __ScalerDict__,BoxCoxScaler , LambertScaler\n",
    "__ScalerDict__"
   ]
  },
  {
   "cell_type": "markdown",
   "metadata": {},
   "source": [
    "# Compare the effect of different scalers on data with Gauusians with heavy tails"
   ]
  },
  {
   "cell_type": "markdown",
   "metadata": {
    "heading_collapsed": true
   },
   "source": [
    "## General"
   ]
  },
  {
   "cell_type": "code",
   "execution_count": 6,
   "metadata": {
    "ExecuteTime": {
     "end_time": "2019-05-28T20:44:57.340012Z",
     "start_time": "2019-05-28T20:44:57.335708Z"
    },
    "hidden": true
   },
   "outputs": [
    {
     "data": {
      "text/plain": [
       "'BruceCottman'"
      ]
     },
     "execution_count": 6,
     "metadata": {},
     "output_type": "execute_result"
    }
   ],
   "source": [
    "__author__ = 'BruceCottman'\n",
    "__author__"
   ]
  },
  {
   "cell_type": "code",
   "execution_count": 7,
   "metadata": {
    "ExecuteTime": {
     "end_time": "2019-05-28T20:45:01.861051Z",
     "start_time": "2019-05-28T20:44:57.342155Z"
    },
    "hidden": true
   },
   "outputs": [
    {
     "name": "stdout",
     "output_type": "stream",
     "text": [
      "# packages in environment at /Users/brucecottman/anaconda3/envs/paso:\r\n",
      "#\r\n",
      "# Name                    Version                   Build  Channel\r\n",
      "_ipyw_jlab_nb_ext_conf    0.1.0                    py37_0  \r\n",
      "absl-py                   0.7.0                    pypi_0    pypi\r\n",
      "alabaster                 0.7.12                   py37_0  \r\n",
      "anaconda-client           1.7.2                    py37_0  \r\n",
      "anaconda-navigator        1.9.6                    py37_0  \r\n",
      "anaconda-project          0.8.2                    py37_0  \r\n",
      "appnope                   0.1.0                    py37_0  \r\n",
      "appscript                 1.0.1            py37h1de35cc_1  \r\n",
      "asn1crypto                0.24.0                   py37_0  \r\n",
      "astor                     0.7.1                    pypi_0    pypi\r\n",
      "astroid                   2.1.0                    py37_0  \r\n",
      "astropy                   3.1              py37h1de35cc_0  \r\n",
      "atomicwrites              1.2.1                    py37_0  \r\n",
      "attrdict                  2.0.1                    pypi_0    pypi\r\n",
      "attrs                     18.2.0           py37h28b3542_0  \r\n",
      "babel                     2.6.0                    py37_0  \r\n",
      "backcall                  0.1.0                    py37_0  \r\n",
      "backports                 1.0                      py37_1  \r\n",
      "backports.os              0.1.1                    py37_0  \r\n",
      "backports.shutil_get_terminal_size 1.0.0                    py37_2  \r\n",
      "beautifulsoup4            4.6.3                    py37_0  \r\n",
      "bitarray                  0.8.3            py37h1de35cc_0  \r\n",
      "bkcharts                  0.2                      py37_0  \r\n",
      "blas                      1.0                         mkl  \r\n",
      "blaze                     0.11.3                   py37_0  \r\n",
      "bleach                    3.0.2                    py37_0  \r\n",
      "blosc                     1.14.4               hd9629dc_0  \r\n",
      "bokeh                     1.0.4                    py37_0  \r\n",
      "boto                      2.49.0                   py37_0  \r\n",
      "boto3                     1.9.148                  pypi_0    pypi\r\n",
      "botocore                  1.12.148                 pypi_0    pypi\r\n",
      "bottleneck                1.2.1            py37h1d22016_1  \r\n",
      "bzip2                     1.0.6                h1de35cc_5  \r\n",
      "ca-certificates           2019.1.23                     0  \r\n",
      "cairo                     1.14.12              hc4e6be7_4  \r\n",
      "catboost                  0.12.2                   pypi_0    pypi\r\n",
      "category-encoders         1.3.0                    pypi_0    pypi\r\n",
      "certifi                   2019.3.9                 py37_0  \r\n",
      "cffi                      1.11.5           py37h6174b99_1  \r\n",
      "chardet                   3.0.4                    py37_1  \r\n",
      "click                     7.0                      py37_0  \r\n",
      "cloudpickle               0.6.1                    py37_0  \r\n",
      "clyent                    1.2.2                    py37_1  \r\n",
      "colorama                  0.4.1                    py37_0  \r\n",
      "conda-verify              3.1.1                    py37_0  \r\n",
      "contextlib2               0.5.5                    py37_0  \r\n",
      "coverage                  4.5.2                    pypi_0    pypi\r\n",
      "cryptography              2.4.2            py37ha12b0ac_0  \r\n",
      "curl                      7.63.0            ha441bb4_1000  \r\n",
      "cvxpy                     1.0.18                   pypi_0    pypi\r\n",
      "cycler                    0.10.0                   py37_0  \r\n",
      "cymem                     2.0.2                    pypi_0    pypi\r\n",
      "cython                    0.29.2           py37h0a44026_0  \r\n",
      "cytoolz                   0.9.0.1          py37h1de35cc_1  \r\n",
      "dask                      1.0.0                    py37_0  \r\n",
      "dask-core                 1.0.0                    py37_0  \r\n",
      "datashape                 0.5.4                    py37_1  \r\n",
      "dbus                      1.13.2               h760590f_1  \r\n",
      "decorator                 4.3.0                    py37_0  \r\n",
      "defusedxml                0.5.0                    py37_1  \r\n",
      "dill                      0.2.9                    pypi_0    pypi\r\n",
      "distributed               1.25.1                   py37_0  \r\n",
      "docutils                  0.14                     py37_0  \r\n",
      "ecos                      2.0.7.post1              pypi_0    pypi\r\n",
      "entrypoints               0.2.3                    py37_2  \r\n",
      "enum34                    1.1.6                    pypi_0    pypi\r\n",
      "et_xmlfile                1.0.1                    py37_0  \r\n",
      "expat                     2.2.6                h0a44026_0  \r\n",
      "fancyimpute               0.4.2                    pypi_0    pypi\r\n",
      "fastai                    1.0.45                   pypi_0    pypi\r\n",
      "fastcache                 1.0.2            py37h1de35cc_2  \r\n",
      "fastprogress              0.1.19                   pypi_0    pypi\r\n",
      "filelock                  3.0.10                   py37_0  \r\n",
      "findspark                 1.3.0                    pypi_0    pypi\r\n",
      "flask                     1.0.2                    py37_1  \r\n",
      "flask-cors                3.0.7                    py37_0  \r\n",
      "flatbuffers               1.10                     pypi_0    pypi\r\n",
      "fontconfig                2.13.0               h5d5b041_1  \r\n",
      "freetype                  2.9.1                hb4e5f40_0  \r\n",
      "fribidi                   1.0.5                h1de35cc_0  \r\n",
      "funcsigs                  1.0.2                    pypi_0    pypi\r\n",
      "future                    0.17.1                   py37_0  \r\n",
      "gast                      0.2.2                    pypi_0    pypi\r\n",
      "get_terminal_size         1.0.0                h7520d66_0  \r\n",
      "gettext                   0.19.8.1             h15daf44_3  \r\n",
      "gevent                    1.3.7            py37h1de35cc_1  \r\n",
      "glib                      2.56.2               hd9629dc_0  \r\n",
      "glob2                     0.6                      py37_1  \r\n",
      "gmp                       6.1.2                hb37e062_1  \r\n",
      "gmpy2                     2.0.8            py37h6ef4df4_2  \r\n",
      "graphite2                 1.3.13               h2098e52_0  \r\n",
      "graphviz                  2.40.1               hefbbd9a_2  \r\n",
      "greenlet                  0.4.15           py37h1de35cc_0  \r\n",
      "grpcio                    1.18.0                   pypi_0    pypi\r\n",
      "h5py                      2.8.0            py37h878fce3_3  \r\n",
      "harfbuzz                  1.8.8                hb8d4a28_0  \r\n",
      "hdf5                      1.10.2               hfa1e0ec_1  \r\n",
      "heapdict                  1.0.0                    py37_2  \r\n",
      "html5lib                  1.0.1                    py37_0  \r\n",
      "icu                       58.2                 h4b95b61_1  \r\n",
      "idna                      2.8                      py37_0  \r\n",
      "imageio                   2.4.1                    py37_0  \r\n",
      "imagesize                 1.1.0                    py37_0  \r\n",
      "importlib_metadata        0.6                      py37_0  \r\n",
      "intel-openmp              2019.1                      144  \r\n",
      "ipykernel                 5.1.0            py37h39e3cac_0  \r\n",
      "ipython                   7.2.0            py37h39e3cac_0  \r\n",
      "ipython_genutils          0.2.0                    py37_0  \r\n",
      "ipywidgets                7.4.2                    py37_0  \r\n",
      "isort                     4.3.4                    py37_0  \r\n",
      "isoweek                   1.3.3                    pypi_0    pypi\r\n",
      "itsdangerous              1.1.0                    py37_0  \r\n",
      "jbig                      2.1                  h4d881f8_0  \r\n",
      "jdcal                     1.4                      py37_0  \r\n",
      "jedi                      0.13.2                   py37_0  \r\n",
      "jinja2                    2.10                     py37_0  \r\n",
      "jmespath                  0.9.4                    pypi_0    pypi\r\n",
      "joblib                    0.13.2                   pypi_0    pypi\r\n",
      "jpeg                      9b                   he5867d9_2  \r\n",
      "jsonschema                2.6.0                    py37_0  \r\n",
      "jupyter                   1.0.0                    py37_7  \r\n",
      "jupyter-contrib-core      0.3.3                    pypi_0    pypi\r\n",
      "jupyter-contrib-nbextensions 0.5.1                    pypi_0    pypi\r\n",
      "jupyter-highlight-selected-word 0.2.0                    pypi_0    pypi\r\n",
      "jupyter-latex-envs        1.4.6                    pypi_0    pypi\r\n",
      "jupyter-nbextensions-configurator 0.4.1                    pypi_0    pypi\r\n",
      "jupyter_client            5.2.4                    py37_0  \r\n",
      "jupyter_console           6.0.0                    py37_0  \r\n",
      "jupyter_core              4.4.0                    py37_0  \r\n",
      "jupyterlab                0.35.3                   py37_0  \r\n",
      "jupyterlab_server         0.2.0                    py37_0  \r\n",
      "keras                     2.2.4                    pypi_0    pypi\r\n",
      "keras-applications        1.0.7                    pypi_0    pypi\r\n",
      "keras-preprocessing       1.0.9                    pypi_0    pypi\r\n",
      "keyring                   17.0.0                   py37_0  \r\n",
      "kiwisolver                1.0.1            py37h0a44026_0  \r\n",
      "knnimpute                 0.1.0                    pypi_0    pypi\r\n",
      "krb5                      1.16.1               hddcf347_7  \r\n",
      "lazy-object-proxy         1.3.1            py37h1de35cc_2  \r\n",
      "libarchive                3.3.3                h786848e_5  \r\n",
      "libcurl                   7.63.0            h051b688_1000  \r\n",
      "libcxx                    4.0.1                hcfea43d_1  \r\n",
      "libcxxabi                 4.0.1                hcfea43d_1  \r\n",
      "libedit                   3.1.20170329         hb402a30_2  \r\n",
      "libffi                    3.2.1                h475c297_4  \r\n",
      "libgfortran               3.0.1                h93005f0_2  \r\n",
      "libiconv                  1.15                 hdd342a3_7  \r\n",
      "liblief                   0.9.0                h2a1bed3_0  \r\n",
      "libpng                    1.6.35               ha441bb4_0  \r\n",
      "libsodium                 1.0.16               h3efe00b_0  \r\n",
      "libssh2                   1.8.0                ha12b0ac_4  \r\n",
      "libtiff                   4.0.9                hcb84e12_2  \r\n",
      "libxml2                   2.9.8                hab757c2_1  \r\n",
      "libxslt                   1.1.32               hb819dd2_0  \r\n",
      "lightgbm                  2.2.3                    pypi_0    pypi\r\n",
      "llvm-openmp               4.0.1                hcfea43d_1  \r\n",
      "llvmlite                  0.26.0           py37h8c7ce04_0  \r\n",
      "locket                    0.2.0                    py37_1  \r\n",
      "lxml                      4.2.5            py37hef8c89e_0  \r\n",
      "lz4-c                     1.8.1.2              h1de35cc_0  \r\n",
      "lzo                       2.10                 h362108e_2  \r\n",
      "markdown                  3.0.1                    pypi_0    pypi\r\n",
      "markupsafe                1.1.0            py37h1de35cc_0  \r\n",
      "matplotlib                3.0.2            py37h54f8f79_0  \r\n",
      "mccabe                    0.6.1                    py37_1  \r\n",
      "mistune                   0.8.4            py37h1de35cc_0  \r\n",
      "mkl                       2019.1                      144  \r\n",
      "mkl-service               1.1.2            py37hfbe908c_5  \r\n",
      "mkl_fft                   1.0.6            py37h27c97d8_0  \r\n",
      "mkl_random                1.0.2            py37h27c97d8_0  \r\n",
      "mock                      2.0.0                    pypi_0    pypi\r\n",
      "modin                     0.4.0                    pypi_0    pypi\r\n",
      "more-itertools            4.3.0                    py37_0  \r\n",
      "mpc                       1.1.0                h6ef4df4_1  \r\n",
      "mpfr                      4.0.1                h3018a27_3  \r\n",
      "mpmath                    1.1.0                    py37_0  \r\n",
      "msgpack-numpy             0.4.3.2                  pypi_0    pypi\r\n",
      "msgpack-python            0.5.6            py37h04f5b5a_1  \r\n",
      "multipledispatch          0.6.0                    py37_0  \r\n",
      "multiprocess              0.70.7                   pypi_0    pypi\r\n",
      "murmurhash                1.0.1                    pypi_0    pypi\r\n",
      "navigator-updater         0.2.1                    py37_0  \r\n",
      "nbconvert                 5.4.1                    pypi_0    pypi\r\n",
      "nbformat                  4.4.0                    py37_0  \r\n",
      "nbsphinx                  0.4.2                    pypi_0    pypi\r\n",
      "ncurses                   6.1                  h0a44026_1  \r\n",
      "networkx                  2.2                      py37_1  \r\n",
      "ninja                     1.8.2            py37h04f5b5a_1  \r\n",
      "nltk                      3.4                      py37_1  \r\n",
      "nose                      1.3.7                    py37_2  \r\n",
      "notebook                  5.7.4                    py37_0  \r\n",
      "np-utils                  0.5.9.0                  pypi_0    pypi\r\n",
      "numba                     0.41.0           py37h6440ff4_0  \r\n",
      "numexpr                   2.6.8            py37h7413580_0  \r\n",
      "numpy                     1.15.0                   pypi_0    pypi\r\n",
      "numpydoc                  0.8.0                    py37_0  \r\n",
      "nvidia-ml-py3             7.352.0                  pypi_0    pypi\r\n",
      "odo                       0.5.1                    py37_0  \r\n",
      "olefile                   0.46                     py37_0  \r\n",
      "openpyxl                  2.5.12                   py37_0  \r\n",
      "openssl                   1.1.1b               h1de35cc_1  \r\n",
      "osqp                      0.5.0                    pypi_0    pypi\r\n",
      "packaging                 18.0                     py37_0  \r\n",
      "pandas                    0.24.1                   pypi_0    pypi\r\n",
      "pandas-summary            0.0.6                    pypi_0    pypi\r\n",
      "pandoc                    1.19.2.1             ha5e8f32_1  \r\n",
      "pandocfilters             1.4.2                    py37_1  \r\n",
      "pango                     1.42.4               h060686c_0  \r\n",
      "parso                     0.3.1                    py37_0  \r\n",
      "partd                     0.3.9                    py37_0  \r\n",
      "paso                      0.2.8                    pypi_0    pypi\r\n",
      "path.py                   11.5.0                   py37_0  \r\n",
      "pathlib2                  2.3.3                    py37_0  \r\n",
      "patsy                     0.5.1                    py37_0  \r\n",
      "pbr                       5.1.2                    pypi_0    pypi\r\n",
      "pcre                      8.42                 h378b8a2_0  \r\n",
      "pep8                      1.7.1                    py37_0  \r\n",
      "pexpect                   4.6.0                    py37_0  \r\n",
      "pickleshare               0.7.5                    py37_0  \r\n",
      "pillow                    5.3.0            py37hb68e598_0  \r\n",
      "pip                       19.1.1                   pypi_0    pypi\r\n",
      "pixman                    0.38.0               h1de35cc_0  \r\n",
      "pkginfo                   1.4.2                    py37_1  \r\n",
      "plac                      0.9.6                    pypi_0    pypi\r\n",
      "plotly                    3.6.1                    pypi_0    pypi\r\n",
      "pluggy                    0.8.0                    py37_0  \r\n",
      "ply                       3.11                     py37_0  \r\n",
      "preshed                   2.0.1                    pypi_0    pypi\r\n",
      "probscale                 0.2.3                    pypi_0    pypi\r\n",
      "prometheus_client         0.5.0                    py37_0  \r\n",
      "prompt_toolkit            2.0.7                    py37_0  \r\n",
      "protobuf                  3.6.1                    pypi_0    pypi\r\n",
      "psutil                    5.4.8            py37h1de35cc_0  \r\n",
      "ptyprocess                0.6.0                    py37_0  \r\n",
      "py                        1.7.0                    py37_0  \r\n",
      "py-lief                   0.9.0            py37hd4eaf27_0  \r\n",
      "py4j                      0.10.7                   pypi_0    pypi\r\n",
      "pyarrow                   0.12.0                   pypi_0    pypi\r\n",
      "pycodestyle               2.4.0                    py37_0  \r\n",
      "pycosat                   0.6.3            py37h1de35cc_0  \r\n",
      "pycparser                 2.19                     py37_0  \r\n",
      "pycrypto                  2.6.1            py37h1de35cc_9  \r\n",
      "pycurl                    7.43.0.2         py37ha12b0ac_0  \r\n",
      "pydataset                 0.2.0                    pypi_0    pypi\r\n",
      "pydot                     1.3.0                    py37_1  \r\n",
      "pydot-ng                  2.0.0                    pypi_0    pypi\r\n",
      "pyflakes                  2.0.0                    py37_0  \r\n",
      "pygments                  2.3.1                    py37_0  \r\n",
      "pylint                    2.2.2                    py37_0  \r\n",
      "pyodbc                    4.0.25           py37h0a44026_0  \r\n",
      "pyopenssl                 18.0.0                   py37_0  \r\n",
      "pyparsing                 2.3.0                    py37_0  \r\n",
      "pyqt                      5.9.2            py37h655552a_2  \r\n",
      "pysocks                   1.6.8                    py37_0  \r\n",
      "pyspark                   2.4.3                    pypi_0    pypi\r\n",
      "pytables                  3.4.4            py37h13cba08_0  \r\n",
      "pytest                    4.0.2                    py37_0  \r\n",
      "pytest-arraydiff          0.3              py37h39e3cac_0  \r\n",
      "pytest-astropy            0.5.0                    py37_0  \r\n",
      "pytest-doctestplus        0.2.0                    py37_0  \r\n",
      "pytest-openfiles          0.3.1                    py37_0  \r\n",
      "pytest-remotedata         0.3.1                    py37_0  \r\n",
      "python                    3.7.1                haf84260_7  \r\n",
      "python-dateutil           2.7.5                    py37_0  \r\n",
      "python-libarchive-c       2.8                      py37_6  \r\n",
      "python.app                2                        py37_9  \r\n",
      "pytorch                   1.0.1                   py3.7_2    pytorch\r\n",
      "pytz                      2018.7                   py37_0  \r\n",
      "pywavelets                1.0.1            py37h1d22016_0  \r\n",
      "pyyaml                    3.13             py37h1de35cc_0  \r\n",
      "pyzmq                     17.1.2           py37h1de35cc_0  \r\n",
      "qt                        5.9.7                h468cd18_1  \r\n",
      "qtawesome                 0.5.3                    py37_0  \r\n",
      "qtconsole                 4.4.3                    py37_0  \r\n",
      "qtpy                      1.5.2                    py37_0  \r\n",
      "ray                       0.6.2                    pypi_0    pypi\r\n",
      "readline                  7.0                  h1de35cc_5  \r\n",
      "redis                     3.2.1                    pypi_0    pypi\r\n",
      "regex                     2018.1.10                pypi_0    pypi\r\n",
      "requests                  2.21.0                   py37_0  \r\n",
      "retrying                  1.3.3                    pypi_0    pypi\r\n",
      "rope                      0.11.0                   py37_0  \r\n",
      "ruamel_yaml               0.15.46          py37h1de35cc_0  \r\n",
      "s3fs                      0.2.1                    pypi_0    pypi\r\n",
      "s3transfer                0.2.0                    pypi_0    pypi\r\n",
      "scikit-image              0.14.1           py37h0a44026_0  \r\n",
      "scikit-learn              0.20.1           py37h27c97d8_0  \r\n",
      "scipy                     1.1.0            py37h1410ff5_2  \r\n",
      "scs                       2.0.2                    pypi_0    pypi\r\n",
      "seaborn                   0.9.0                    py37_0  \r\n",
      "send2trash                1.5.0                    py37_0  \r\n",
      "setuptools                40.6.3                   py37_0  \r\n",
      "simplegeneric             0.8.1                    py37_2  \r\n",
      "singledispatch            3.4.0.3                  py37_0  \r\n",
      "sip                       4.19.8           py37h0a44026_0  \r\n",
      "six                       1.12.0                   py37_0  \r\n",
      "sklearn                   0.0                      pypi_0    pypi\r\n",
      "sklearn-pandas            1.8.0                    pypi_0    pypi\r\n",
      "snappy                    1.1.7                he62c110_3  \r\n",
      "snowballstemmer           1.2.1                    py37_0  \r\n",
      "sortedcollections         1.0.1                    py37_0  \r\n",
      "sortedcontainers          2.1.0                    py37_0  \r\n",
      "spacy                     2.0.18                   pypi_0    pypi\r\n",
      "sphinx                    1.8.2                    py37_0  \r\n",
      "sphinx-automodapi         0.10                     pypi_0    pypi\r\n",
      "sphinx-gallery            0.2.0                    pypi_0    pypi\r\n",
      "sphinx-rtd-theme          0.4.3                    pypi_0    pypi\r\n",
      "sphinxcontrib             1.0                      py37_1  \r\n",
      "sphinxcontrib-websupport  1.1.0                    py37_1  \r\n",
      "spyder                    3.3.2                    py37_0  \r\n",
      "spyder-kernels            0.3.0                    py37_0  \r\n",
      "sqlalchemy                1.2.15           py37h1de35cc_0  \r\n",
      "sqlite                    3.26.0               ha441bb4_0  \r\n",
      "statsmodels               0.9.0            py37h1d22016_0  \r\n",
      "sympy                     1.3                      py37_0  \r\n",
      "tblib                     1.3.2                    py37_0  \r\n",
      "tensorboard               1.12.2                   pypi_0    pypi\r\n",
      "tensorflow                1.13.0rc2                pypi_0    pypi\r\n",
      "tensorflow-estimator      1.13.0rc0                pypi_0    pypi\r\n",
      "termcolor                 1.1.0                    pypi_0    pypi\r\n",
      "terminado                 0.8.1                    py37_1  \r\n",
      "testpath                  0.4.2                    py37_0  \r\n",
      "thinc                     6.12.1                   pypi_0    pypi\r\n",
      "tk                        8.6.8                ha441bb4_0  \r\n",
      "toolz                     0.9.0                    py37_0  \r\n",
      "torchvision               0.2.1                      py_2    pytorch\r\n",
      "tornado                   5.1.1            py37h1de35cc_0  \r\n",
      "tqdm                      4.28.1           py37h28b3542_0  \r\n",
      "traitlets                 4.3.2                    py37_0  \r\n",
      "typing                    3.6.6                    pypi_0    pypi\r\n",
      "ujson                     1.35                     pypi_0    pypi\r\n",
      "unicodecsv                0.14.1                   py37_0  \r\n",
      "unixodbc                  2.3.7                h1de35cc_0  \r\n",
      "urllib3                   1.24.1                   py37_0  \r\n",
      "wand                      0.5.1                    pypi_0    pypi\r\n",
      "wcwidth                   0.1.7                    py37_0  \r\n",
      "webencodings              0.5.1                    py37_1  \r\n",
      "werkzeug                  0.14.1                   py37_0  \r\n",
      "wheel                     0.32.3                   py37_0  \r\n",
      "widgetsnbextension        3.4.2                    py37_0  \r\n",
      "wrapt                     1.10.11          py37h1de35cc_2  \r\n",
      "wurlitzer                 1.0.2                    py37_0  \r\n",
      "xgboost                   0.81                     pypi_0    pypi\r\n",
      "xlrd                      1.2.0                    py37_0  \r\n",
      "xlsxwriter                1.1.2                    py37_0  \r\n",
      "xlwings                   0.15.1                   py37_0  \r\n",
      "xlwt                      1.3.0                    py37_0  \r\n",
      "xz                        5.2.4                h1de35cc_4  \r\n",
      "yaml                      0.1.7                hc338f04_2  \r\n",
      "zeromq                    4.2.5                h0a44026_1  \r\n",
      "zict                      0.1.3                    py37_0  \r\n",
      "zlib                      1.2.11               h1de35cc_3  \r\n",
      "zstd                      1.3.7                h5bba6e5_0  \r\n"
     ]
    }
   ],
   "source": [
    "!conda list"
   ]
  },
  {
   "cell_type": "markdown",
   "metadata": {},
   "source": [
    "## **Note Outliers/Target; Gaussian with heavy tail**"
   ]
  },
  {
   "cell_type": "markdown",
   "metadata": {},
   "source": [
    "    **Rank-Gaussian**\n",
    "    - The method comes from Michael Jahrer\n",
    "    - The idea is to first make the distribution uniform by rank transforming the data. Then you apply the inverse of the CDF for a normal. This results in very gaussian looking empirical data, but it has some drawbacks.\n",
    "    - One drawback of this approach is that the first step, the empirical copula transform, is not a smooth transformation. Furthermore, inverting this transformation can only be done in a kind of piecemeal approximate way which is not yet implemented.\n",
    "\n",
    "**Note Outliers/Target; Gaussian with heavy tail**\n",
    "- use log or log1p (if needed to create Gaussian with heavy tail) and then **BoxCox** or **Lambert**\n",
    "-  regression often assumes Gaussian errors;\n",
    "- - regression with Cauchy error\n",
    "- pattern recognition for images often model noise as a Gaussian random field \n",
    "- - denoising images for α-stable noise \n",
    "-  data/noise often exhibits asymmetry and heavy tails; \n",
    "- - wind speed data human dynamics. Internet traffic data, etc.\n",
    "-  many time series models are based on Gaussian white noise\n",
    "- - forecasting long memory processes\n",
    "- - ARMA modeling of electricity loads with hyperbolic noise \n",
    "- - financial data and speech signals which almost exclusively exhibit heavy tails\n",
    "- CNN work best with Guassian sjapes\n",
    "- clip any remaining outliers???"
   ]
  },
  {
   "cell_type": "markdown",
   "metadata": {},
   "source": [
    "## imports"
   ]
  },
  {
   "cell_type": "code",
   "execution_count": 8,
   "metadata": {
    "ExecuteTime": {
     "end_time": "2019-05-28T20:45:01.868247Z",
     "start_time": "2019-05-28T20:45:01.864020Z"
    }
   },
   "outputs": [],
   "source": [
    "import pandas as pd\n",
    "import copy, random\n",
    "import numpy as np\n",
    "from numba import jit"
   ]
  },
  {
   "cell_type": "code",
   "execution_count": 9,
   "metadata": {
    "ExecuteTime": {
     "end_time": "2019-05-28T20:45:01.876116Z",
     "start_time": "2019-05-28T20:45:01.870757Z"
    }
   },
   "outputs": [],
   "source": [
    "from sklearn.base import BaseEstimator, TransformerMixin\n",
    "from category_encoders.utils import get_obj_cols, convert_input\n",
    "from sklearn.preprocessing import MinMaxScaler\n",
    "from sklearn.preprocessing import MaxAbsScaler\n",
    "from sklearn.preprocessing import Normalizer\n",
    "from sklearn.preprocessing import minmax_scale\n",
    "from sklearn.preprocessing import RobustScaler\n",
    "from sklearn.preprocessing import StandardScaler\n",
    "from sklearn.preprocessing.data import QuantileTransformer\n",
    "import sklearn.preprocessing.data as skpr"
   ]
  },
  {
   "cell_type": "markdown",
   "metadata": {},
   "source": [
    "\n",
    "Level\tNumeric value\n",
    "-   CRITICAL\t50\n",
    "-    ERROR\t40\n",
    "-    WARNING\t30\n",
    "-    INFO\t20\n",
    "-    DEBUG\t10\n",
    "-    NOTSET\t0"
   ]
  },
  {
   "cell_type": "code",
   "execution_count": 10,
   "metadata": {
    "ExecuteTime": {
     "end_time": "2019-05-28T20:45:01.881937Z",
     "start_time": "2019-05-28T20:45:01.878646Z"
    }
   },
   "outputs": [],
   "source": [
    "logger = get_paso_log()"
   ]
  },
  {
   "cell_type": "code",
   "execution_count": 11,
   "metadata": {
    "ExecuteTime": {
     "end_time": "2019-05-28T20:45:01.889976Z",
     "start_time": "2019-05-28T20:45:01.884493Z"
    }
   },
   "outputs": [
    {
     "data": {
      "text/plain": [
       "10"
      ]
     },
     "execution_count": 11,
     "metadata": {},
     "output_type": "execute_result"
    }
   ],
   "source": [
    "logger.setLevel('DEBUG'.upper())\n",
    "logger.getEffectiveLevel()"
   ]
  },
  {
   "cell_type": "code",
   "execution_count": 12,
   "metadata": {
    "ExecuteTime": {
     "end_time": "2019-05-28T20:45:02.140683Z",
     "start_time": "2019-05-28T20:45:01.892348Z"
    }
   },
   "outputs": [],
   "source": [
    "from __future__ import print_function\n",
    "import matplotlib as mpl\n",
    "from matplotlib import pyplot as plt\n",
    "from matplotlib import cm\n",
    "import probscale\n",
    "import seaborn as sns\n",
    "from scipy.stats import probplot\n",
    "import statsmodels.api as sm\n",
    "\n",
    "%reload_ext autoreload\n",
    "%autoreload 2\n",
    "%matplotlib inline\n",
    "import matplotlib"
   ]
  },
  {
   "cell_type": "markdown",
   "metadata": {},
   "source": [
    "## Input  Datasets"
   ]
  },
  {
   "cell_type": "markdown",
   "metadata": {},
   "source": [
    "Continuous features can exhibit a wide range of distributional characteristics, including near-Gaussian, strongly asymmetric, light- or heavy-tailed, multi-moda\n",
    "\n",
    "Catagorical features  can be  either ordered, or unordered. Catagorical features are not covered here."
   ]
  },
  {
   "cell_type": "markdown",
   "metadata": {},
   "source": [
    "### Boston Dataset"
   ]
  },
  {
   "cell_type": "code",
   "execution_count": 13,
   "metadata": {
    "ExecuteTime": {
     "end_time": "2019-05-28T20:45:02.287070Z",
     "start_time": "2019-05-28T20:45:02.143072Z"
    }
   },
   "outputs": [],
   "source": [
    "from sklearn.datasets import load_boston\n",
    "boston = load_boston()\n",
    "\n",
    "logger.info(boston.feature_names)\n",
    "logger.info(boston.DESCR)\n",
    "City = pd.DataFrame(boston.data, columns = boston.feature_names )\n",
    "City = City[['CRIM', 'INDUS','NOX','TAX','B']]\n",
    "City['MEDV'] = boston.target\n",
    "logger.info(City.shape)\n",
    "logger.info(City.columns)"
   ]
  },
  {
   "cell_type": "markdown",
   "metadata": {},
   "source": [
    "A dataset that illustrates the range of distributional behavior is the Boston Boston dataframe.  This dataframe includes 14 numerical variables that characterize 506 suburban housing tracts in the Boston area: 12 of these variables have class “numeric” and the remaining two have class “integer”.  \n",
    "\n",
    "-  the distribution of crim is very asymmetric with an extremely heavy right tail;\n",
    "- the distribution of lstat is also clearly asymmetric but far less so;\n",
    "- the distribution of rm appears to be almost Gaussian; \n",
    "- the distribution of zn appears to be tri-modal, mostly concentrated around zero, but with clear secondary peaks at around 20 and 80."
   ]
  },
  {
   "cell_type": "markdown",
   "metadata": {},
   "source": [
    "### Housing Dataset"
   ]
  },
  {
   "cell_type": "markdown",
   "metadata": {},
   "source": [
    "- Feature 0 (median income in a block) and feature 5 (number of households) of\n",
    "the `California housing dataset\n",
    "<http://www.dcc.fc.up.pt/~ltorgo/Regression/cal_housing.html>`_ have very\n",
    "different scales and contain some very large outliers. These two\n",
    "characteristics lead to difficulties to visualize the data and, more\n",
    "importantly, they can degrade the predictive performance of many machine\n",
    "learning algorithms. Unscaled data can also slow down or even prevent the\n",
    "convergence of many gradient-based estimators.\n",
    "- Indeed many estimators are designed with the assumption that each feature takes\n",
    "values close to zero or more importantly that all features vary on comparable\n",
    "scales. In particular, metric-based and gradient-based estimators often assume\n",
    "approximately standardized data (centered features with unit variances). A\n",
    "notable exception are decision tree-based estimators that are robust to\n",
    "arbitrary scaling of the data."
   ]
  },
  {
   "cell_type": "code",
   "execution_count": 14,
   "metadata": {
    "ExecuteTime": {
     "end_time": "2019-05-28T20:45:02.372955Z",
     "start_time": "2019-05-28T20:45:02.289422Z"
    }
   },
   "outputs": [
    {
     "name": "stdout",
     "output_type": "stream",
     "text": [
      "Automatically created module for IPython interactive environment\n"
     ]
    }
   ],
   "source": [
    "from sklearn.datasets import fetch_california_housing\n",
    "print(__doc__)\n",
    "dataset = fetch_california_housing()\n",
    "X_full, y_full = dataset.data, dataset.target\n",
    "\n",
    "# Take only 2 features to make visualization easier\n",
    "# Feature of 0 has a long tail distribution.\n",
    "# Feature 5 has a few but very large outliers.\n",
    "logger.info(dataset.data.shape)\n",
    "logger.info(dataset.feature_names)\n",
    "logger.info(dataset.DESCR) \n",
    "Housing = pd.DataFrame(dataset.data, columns = dataset.feature_names )\n",
    "Housing = Housing[['MedInc', 'HouseAge', 'AveRooms'\n",
    "                   , 'AveBedrms', 'Population', 'AveOccup']]\n",
    "logger.info(Housing.shape)\n",
    "logger.info(Housing.columns)"
   ]
  },
  {
   "cell_type": "markdown",
   "metadata": {},
   "source": [
    "### Hip_m Dataset"
   ]
  },
  {
   "cell_type": "markdown",
   "metadata": {
    "ExecuteTime": {
     "end_time": "2018-09-05T16:29:41.939842Z",
     "start_time": "2018-09-05T16:29:41.795053Z"
    }
   },
   "source": [
    "hip_m=np.genfromtxt('HIP_MEN_chr_pos_rs_pval.txt', dtype=None)\n",
    "hip_m= pd.DataFrame(hip_m[['f0','f1','f2','f3']])\n",
    "Hip_m= hip_m\n",
    "hip_m= hip_m[['f1','f3']]\n",
    "logger.info(hip_m.shape)\n",
    "logger.info(hip_m.head())"
   ]
  },
  {
   "cell_type": "markdown",
   "metadata": {},
   "source": [
    "## __ScalerDict__"
   ]
  },
  {
   "cell_type": "markdown",
   "metadata": {},
   "source": [
    "\n",
    "- We use different scalers, transformers, and normalizers to tranform feature data as near as possible a Guassian shape.\n",
    "\n",
    "- - Scalers are linear (or more precisely affine) transformers and differ from each\n",
    "other in the way to estimate the parameters used to shift and scale each\n",
    "feature.\n",
    "\n",
    "- - ``QuantileTransformer`` provides a non-linear transformation in which distances\n",
    "between marginal outliers and inliers are shrunk.\n",
    "\n",
    "- - Unlike the previous transformations, normalization refers to a per sample\n",
    "transformation instead of a per feature transformation."
   ]
  },
  {
   "cell_type": "code",
   "execution_count": 15,
   "metadata": {
    "ExecuteTime": {
     "end_time": "2019-05-28T20:45:02.439581Z",
     "start_time": "2019-05-28T20:45:02.375179Z"
    },
    "pixiedust": {
     "displayParams": {
      "handlerId": "tableView"
     }
    }
   },
   "outputs": [
    {
     "data": {
      "text/plain": [
       "{'StandardScaler': sklearn.preprocessing.data.StandardScaler,\n",
       " 'MinMaxScaler': sklearn.preprocessing.data.MinMaxScaler,\n",
       " 'Normalizer': sklearn.preprocessing.data.Normalizer,\n",
       " 'MaxAbsScaler': sklearn.preprocessing.data.MaxAbsScaler,\n",
       " 'RobustScaler': sklearn.preprocessing.data.RobustScaler,\n",
       " 'QuantileTransformer': sklearn.preprocessing.data.QuantileTransformer,\n",
       " 'BoxCoxScaler': paso.pre.scale.BoxCoxScaler,\n",
       " 'LambertScaler': paso.pre.scale.LambertScaler}"
      ]
     },
     "metadata": {},
     "output_type": "display_data"
    }
   ],
   "source": [
    "logger.info(display(__ScalerDict__))"
   ]
  },
  {
   "cell_type": "markdown",
   "metadata": {},
   "source": [
    "## Plot Distribution Defintions"
   ]
  },
  {
   "cell_type": "markdown",
   "metadata": {},
   "source": [
    "### SeabornFig2Grid"
   ]
  },
  {
   "cell_type": "code",
   "execution_count": 16,
   "metadata": {
    "ExecuteTime": {
     "end_time": "2019-05-28T20:45:02.519016Z",
     "start_time": "2019-05-28T20:45:02.442303Z"
    }
   },
   "outputs": [],
   "source": [
    "import matplotlib.gridspec as gridspec\n",
    "\n",
    "class SeabornFig2Grid():\n",
    "\n",
    "    def __init__(self, seaborngrid, fig,  subplot_spec):\n",
    "        self.fig = fig\n",
    "        self.sg = seaborngrid\n",
    "        self.subplot = subplot_spec\n",
    "        if isinstance(self.sg, sns.axisgrid.FacetGrid) or \\\n",
    "            isinstance(self.sg, sns.axisgrid.PairGrid):\n",
    "            self._movegrid()\n",
    "        elif isinstance(self.sg, sns.axisgrid.JointGrid):\n",
    "            self._movejointgrid()\n",
    "        self._finalize()\n",
    "\n",
    "    def _movegrid(self):\n",
    "        \"\"\" Move PairGrid or Facetgrid \"\"\"\n",
    "        self._resize()\n",
    "        n = self.sg.axes.shape[0]\n",
    "        m = self.sg.axes.shape[1]\n",
    "        self.subgrid = gridspec.GridSpecFromSubplotSpec(n,m, subplot_spec=self.subplot)\n",
    "        for i in range(n):\n",
    "            for j in range(m):\n",
    "                self._moveaxes(self.sg.axes[i,j], self.subgrid[i,j])\n",
    "\n",
    "    def _movejointgrid(self):\n",
    "        \"\"\" Move Jointgrid \"\"\"\n",
    "        h= self.sg.ax_joint.get_position().height\n",
    "        h2= self.sg.ax_marg_x.get_position().height\n",
    "        r = int(np.round(h/h2))\n",
    "        self._resize()\n",
    "        self.subgrid = gridspec.GridSpecFromSubplotSpec(r+1,r+1, subplot_spec=self.subplot)\n",
    "\n",
    "        self._moveaxes(self.sg.ax_joint, self.subgrid[1:, :-1])\n",
    "        self._moveaxes(self.sg.ax_marg_x, self.subgrid[0, :-1])\n",
    "        self._moveaxes(self.sg.ax_marg_y, self.subgrid[1:, -1])\n",
    "\n",
    "    def _moveaxes(self, ax, gs):\n",
    "        #https://stackoverflow.com/a/46906599/4124317\n",
    "        ax.remove()\n",
    "        ax.figure=self.fig\n",
    "        self.fig.axes.append(ax)\n",
    "        self.fig.add_axes(ax)\n",
    "        ax._subplotspec = gs\n",
    "        ax.set_position(gs.get_position(self.fig))\n",
    "        ax.set_subplotspec(gs)\n",
    "\n",
    "    def _finalize(self):\n",
    "        plt.close(self.sg.fig)\n",
    "        self.fig.canvas.mpl_connect(\"resize_event\", self._resize)\n",
    "        self.fig.canvas.draw()\n",
    "\n",
    "    def _resize(self, evt=None):\n",
    "        self.sg.fig.set_size_inches(self.fig.get_size_inches())"
   ]
  },
  {
   "cell_type": "code",
   "execution_count": 17,
   "metadata": {
    "ExecuteTime": {
     "end_time": "2019-05-28T20:45:07.954512Z",
     "start_time": "2019-05-28T20:45:02.521587Z"
    }
   },
   "outputs": [
    {
     "data": {
      "image/png": "[encoded data removed]",
      "text/plain": [
       "<Figure size 936x576 with 22 Axes>"
      ]
     },
     "metadata": {},
     "output_type": "display_data"
    }
   ],
   "source": [
    "#import SeabornFig2Grid as sfg\n",
    "\n",
    "\n",
    "sns.set()\n",
    "\n",
    "iris = sns.load_dataset(\"iris\")\n",
    "tips = sns.load_dataset(\"tips\")\n",
    "\n",
    "# An lmplot\n",
    "g0 = sns.lmplot(x=\"total_bill\", y=\"tip\", hue=\"smoker\", data=tips, \n",
    "                palette=dict(Yes=\"g\", No=\"m\"))\n",
    "# A PairGrid\n",
    "g1 = sns.PairGrid(iris, hue=\"species\")\n",
    "g1.map(plt.scatter, s=5)\n",
    "# A FacetGrid\n",
    "g2 = sns.FacetGrid(tips, col=\"time\",  hue=\"smoker\")\n",
    "g2.map(plt.scatter, \"total_bill\", \"tip\", edgecolor=\"w\")\n",
    "# A JointGrid\n",
    "g3 = sns.jointplot(\"sepal_width\", \"petal_length\", data=iris,\n",
    "                   kind=\"kde\", space=0, color=\"g\")\n",
    "\n",
    "\n",
    "fig = plt.figure(figsize=(13,8))\n",
    "gs = gridspec.GridSpec(2, 2)\n",
    "\n",
    "mg0 = SeabornFig2Grid(g0, fig, gs[0])\n",
    "mg1 = SeabornFig2Grid(g1, fig, gs[1])\n",
    "mg2 = SeabornFig2Grid(g2, fig, gs[3])\n",
    "mg3 = SeabornFig2Grid(g3, fig, gs[2])\n",
    "\n",
    "gs.tight_layout(fig)\n",
    "#gs.update(top=0.7)\n",
    "\n",
    "plt.show()\n"
   ]
  },
  {
   "cell_type": "code",
   "execution_count": 18,
   "metadata": {
    "ExecuteTime": {
     "end_time": "2019-05-28T20:45:11.150276Z",
     "start_time": "2019-05-28T20:45:07.962255Z"
    }
   },
   "outputs": [
    {
     "data": {
      "image/png": "[encoded data removed]",
      "text/plain": [
       "<Figure size 864x288 with 6 Axes>"
      ]
     },
     "metadata": {},
     "output_type": "display_data"
    }
   ],
   "source": [
    "sns.set()\n",
    "\n",
    "iris = sns.load_dataset(\"iris\")\n",
    "tips = sns.load_dataset(\"tips\")\n",
    "\n",
    "g2 = sns.jointplot(\"sepal_width\", \"petal_length\", data=iris,\n",
    "                   kind=\"kde\", space=0, color=\"g\")\n",
    "g3 = sns.jointplot(\"sepal_width\", \"petal_length\", data=iris,\n",
    "                   kind=\"kde\", space=0, color=\"b\")\n",
    "\n",
    "\n",
    "fig = plt.figure(figsize=(4*3,4))\n",
    "gs = gridspec.GridSpec(2, 1)\n",
    "\n",
    "#mg0 = SeabornFig2Grid(g0, fig, gs[0])\n",
    "#mg1 = SeabornFig2Grid(g1, fig, gs[1])\n",
    "#mg2 = SeabornFig2Grid(g2, fig, gs[3])\n",
    "mg0 = SeabornFig2Grid(g2, fig, gs[0])\n",
    "mg1 = SeabornFig2Grid(g3, fig, gs[1])\n",
    "#mg2 = SeabornFig2Grid(g3, fig, gs[2])\n",
    "gs.tight_layout(fig)\n",
    "#gs.update(top=0.7)\n",
    "\n",
    "plt.show()"
   ]
  },
  {
   "cell_type": "markdown",
   "metadata": {},
   "source": [
    "### ppqqp_plot"
   ]
  },
  {
   "cell_type": "code",
   "execution_count": 19,
   "metadata": {
    "ExecuteTime": {
     "end_time": "2019-05-28T20:45:11.230069Z",
     "start_time": "2019-05-28T20:45:11.153712Z"
    }
   },
   "outputs": [],
   "source": [
    "def ppqqp_plot(X,name,sze=100,dist=None):\n",
    "    '''\n",
    "    3 plots \n",
    "    1. Percentile, a.k.a. P-P plot\n",
    "    2 .Quantile, a.k.a. Q-Q plot (normal distribution)\n",
    "    3. Probability, a.k.a. Prob Plot\n",
    "    quick and dirty no numpy or other dist checking\n",
    "    - X must be a pandas series\n",
    "    - name: label name\n",
    "    - size: (default: 100) is sample size of X \n",
    "    - dist: (default: none)  When using quantile or probability scales,\n",
    "    you can pass a distribution from the scipy.stats module\n",
    "    to the probplot function. When a distribution is not provided \n",
    "    to the dist parameter, a standard normal distribution is used.\n",
    "    - return: boolean of sucess\n",
    "    '''\n",
    "\n",
    "    logger.debug('ppqqp_plot:')        \n",
    "    if not ((X.dtype == np.int) or (X.dtype == np.float)):\n",
    "        # not numeric\n",
    "        logger.error('ppqqp was passed a distrubtion not numeric but of type: {})'.format(X.dtype))\n",
    "        return(False)\n",
    "    if type(X) == np.ndarray:\n",
    "        if len(X) > sze: X = np.random.choice(X,sze)\n",
    "    elif type(X) == pd.core.series.Series:\n",
    "        if len(X) > sze: X = X.sample(sze)\n",
    "    else:\n",
    "        logger.error('ppqqp was passed a distrubtion not numeric but of type: {})'.format(X.dtype))\n",
    "        return(False)\n",
    "    ax = [0,1,3]\n",
    "    fig, (ax[0], ax[1],ax[2]) = plt.subplots(figsize=(12, 4), ncols=3)\n",
    "    gp = probscale.probplot(X, ax=ax[0], plottype='pp', bestfit=True,\n",
    "                             problabel='Percentile', datalabel=name,\n",
    "                             scatter_kws=dict(label=name),\n",
    "                             line_kws=dict(label='Best Fit line'))\n",
    "    fig = probscale.probplot(X, ax=ax[1], plottype='qq', bestfit=True, dist=dist,\n",
    "                             problabel='Standard Normal Quantiles', datalabel=name,\n",
    "                             scatter_kws=dict(label=name),\n",
    "                             line_kws=dict(label='Normal QQ line'))\n",
    "    fig = probscale.probplot(X, ax=ax[2], plottype='prob', bestfit=True,dist=dist,\n",
    "                             problabel='Standard Normal Probalities', datalabel=name,\n",
    "                             scatter_kws=dict(label=name),\n",
    "                             line_kws=dict(label='Normal Probalities line'))\n",
    "    ax[0].legend(loc='upper left');ax[1].legend(loc='upper left');ax[2].legend(loc='upper left')\n",
    "    return(True)"
   ]
  },
  {
   "cell_type": "markdown",
   "metadata": {},
   "source": [
    "### dualplot"
   ]
  },
  {
   "cell_type": "code",
   "execution_count": 20,
   "metadata": {
    "ExecuteTime": {
     "end_time": "2019-05-28T20:45:11.297693Z",
     "start_time": "2019-05-28T20:45:11.232204Z"
    }
   },
   "outputs": [],
   "source": [
    "def dualplot(dist,ytest):\n",
    "    logger.debug('dualplot:')\n",
    "    df = pd.DataFrame({'theory': dist,'actual': ytest})\n",
    "    fig = plt.figure(figsize=(4,4))\n",
    "    gp = sns.jointplot('actual', 'theory', df, stat_func=None, kind='hex')\n",
    "    return(gp)"
   ]
  },
  {
   "cell_type": "markdown",
   "metadata": {},
   "source": [
    "### Plot_Distribution_c"
   ]
  },
  {
   "cell_type": "code",
   "execution_count": 22,
   "metadata": {
    "ExecuteTime": {
     "end_time": "2019-05-28T20:46:34.195355Z",
     "start_time": "2019-05-28T20:46:34.122287Z"
    }
   },
   "outputs": [],
   "source": [
    "#side effect is a plot, nothing to save\n",
    "# no state to save\n",
    "#maybe save plot in (or X) in future version\n",
    "from matplotlib import colors as mcolors\n",
    "\n",
    "class Plot_Distribution_c(object):\n",
    "    def __init__(self,label='',dist_name=''\n",
    "                 ,title='Distribution',*args,**kwargs):\n",
    "        super().__init__()\n",
    "        self.title = title\n",
    "        self.label = label\n",
    "        self.dist_name = dist_name\n",
    "        self.color_list = list(mcolors.CSS4_COLORS.keys())[51:100]\n",
    "    \n",
    "    def fit(self, X_o,X):\n",
    "        logger.debug('Plot_Distribution_c fit:')\n",
    "        return self\n",
    "\n",
    "# X_o: orginal\n",
    "# X ->  X = f(X_o)\n",
    "    def transform(self, X_o,X):\n",
    "        logger.debug('Plot_Distribution_c transform:')\n",
    "        for feat in list(X_o.columns):  # assume df,fix later\n",
    "            vth = list(X_o.columns).index(feat)\n",
    "            self.dist_name = ' '+feat\n",
    "            dualplot(X_o[feat],X[:,vth])\n",
    "            ppqqp_plot(X[:,vth],self.label+self.dist_name)\n",
    "        return self\n",
    "    \n",
    "    def fit_transform(self, X_o,X):\n",
    "        return((self.fit(X_o,X)).transform(X_o,X))\n",
    "\n",
    "    def load(self, filepath):\n",
    "        return self\n",
    "\n",
    "    def persist(self, filepath):\n",
    "        pass"
   ]
  },
  {
   "cell_type": "markdown",
   "metadata": {},
   "source": [
    "### fooplot definitions"
   ]
  },
  {
   "cell_type": "code",
   "execution_count": 23,
   "metadata": {
    "ExecuteTime": {
     "end_time": "2019-05-28T20:46:50.329124Z",
     "start_time": "2019-05-28T20:46:50.258215Z"
    }
   },
   "outputs": [],
   "source": [
    "def fooplot(dnames,scaler_list,size):\n",
    "\n",
    "    for dname,args in dnames:\n",
    "        for scalar in scaler_list:\n",
    "            logger.debug('{}  {}:    {} '.format(scalar,args,dname))\n",
    "            if args == 'none': \n",
    "                dist = StatDistributionDict[dname](size=size)\n",
    "            else: \n",
    "                dist = StatDistributionDict[dname](*args,size=size)\n",
    "            try: \n",
    "                gp = [0,1,2,3]\n",
    "                sns.set()\n",
    "                ytest = __ScalerDict__[scalar]().fit_transform(dist[:,np.newaxis])\n",
    "                gp0 = dualplot(dist,ytest)\n",
    "                ppqqp_plot(ytest,scalar+' '+ dname)\n",
    "            except: pass\n",
    "            plt.show()"
   ]
  },
  {
   "cell_type": "code",
   "execution_count": 24,
   "metadata": {
    "ExecuteTime": {
     "end_time": "2019-05-28T20:46:55.285637Z",
     "start_time": "2019-05-28T20:46:55.218112Z"
    }
   },
   "outputs": [],
   "source": [
    "def fooplot2(df,dnames,scaler_list,size):\n",
    "    for dname in dnames:\n",
    "        for scalar in scaler_list:\n",
    "            try:\n",
    "                dist = df[dname].values\n",
    "                ytest = __ScalerDict__[scalar]().fit_transform(dist[:,np.newaxis])\n",
    "                dualplot(dist,ytest)\n",
    "                ppqqp_plot(ytest,scalar+dname)\n",
    "            except: pass\n"
   ]
  },
  {
   "cell_type": "markdown",
   "metadata": {},
   "source": [
    "## Statisical Distibutions Tests\n"
   ]
  },
  {
   "cell_type": "code",
   "execution_count": 25,
   "metadata": {
    "ExecuteTime": {
     "end_time": "2019-05-28T20:47:03.568675Z",
     "start_time": "2019-05-28T20:47:03.489443Z"
    }
   },
   "outputs": [
    {
     "name": "stdout",
     "output_type": "stream",
     "text": [
      "\n",
      "Distribution with no  attribute rvs method \n",
      " ===============================================\n",
      "\n",
      "Distribution attribute rvs method \n",
      " ========================================\n"
     ]
    }
   ],
   "source": [
    "import scipy\n",
    "StatDistributionDict = {}\n",
    "\n",
    "print('\\nDistribution with no  attribute rvs method \\n ===============================================')\n",
    "for nth,d in enumerate(scipy.stats.__all__):\n",
    "    try:\n",
    "        StatDistributionDict[d] = eval('scipy.stats.'+d+'.rvs')\n",
    "    except:\n",
    "        logger.debug('{} {}'.format(nth,d))\n",
    "\n",
    "print('\\nDistribution attribute rvs method \\n ========================================')\n",
    "for nth,d in enumerate(StatDistributionDict.keys()):\n",
    "    logger.info('{} {}'.format(nth,d))"
   ]
  },
  {
   "cell_type": "markdown",
   "metadata": {},
   "source": [
    "###  Scalar Transform .vs. Original Distribution Joint Plot"
   ]
  },
  {
   "cell_type": "markdown",
   "metadata": {},
   "source": [
    "#### Standard Distibutions"
   ]
  },
  {
   "cell_type": "code",
   "execution_count": 26,
   "metadata": {
    "ExecuteTime": {
     "end_time": "2019-05-28T20:47:23.917875Z",
     "start_time": "2019-05-28T20:47:23.849952Z"
    }
   },
   "outputs": [],
   "source": [
    "size = 10000\n",
    "dist = StatDistributionDict['cauchy'](size=size)"
   ]
  },
  {
   "cell_type": "code",
   "execution_count": 27,
   "metadata": {
    "ExecuteTime": {
     "end_time": "2019-05-28T20:47:28.230522Z",
     "start_time": "2019-05-28T20:47:28.162361Z"
    }
   },
   "outputs": [
    {
     "data": {
      "text/plain": [
       "paso.pre.scale.LambertScaler"
      ]
     },
     "execution_count": 27,
     "metadata": {},
     "output_type": "execute_result"
    }
   ],
   "source": [
    "__ScalerDict__['LambertScaler']"
   ]
  },
  {
   "cell_type": "code",
   "execution_count": 28,
   "metadata": {
    "ExecuteTime": {
     "end_time": "2019-05-28T20:47:55.677301Z",
     "start_time": "2019-05-28T20:47:35.721937Z"
    }
   },
   "outputs": [],
   "source": [
    "dnames = [['beta',[2.0,1.0]],['alpha',[0.75]]\n",
    "          ,['uniform','none'],['cauchy','none']\n",
    "          ,['ksone',[1000]],['boltzmann',[1.4, 19]]\n",
    "          ,['laplace',[3.0]],['tukeylambda',[3.0]]\n",
    "          ,['dweibull',[3.0]],['chi2',[3.0]]\n",
    "          ,['exponnorm',[1]],['norm','none']]\n",
    "\n",
    "scaler_list = ['BoxCoxScaler','LambertScaler'\n",
    "               ,'StandardScaler','MinMaxScaler']\n",
    "size = 10000\n",
    "fooplot(dnames,scaler_list,size)\n"
   ]
  },
  {
   "cell_type": "markdown",
   "metadata": {},
   "source": [
    "#### Housing"
   ]
  },
  {
   "cell_type": "code",
   "execution_count": 29,
   "metadata": {
    "ExecuteTime": {
     "end_time": "2019-05-28T20:48:43.404035Z",
     "start_time": "2019-05-28T20:48:38.226315Z"
    }
   },
   "outputs": [],
   "source": [
    "df = Housing\n",
    "dnames = list(df.columns)\n",
    "scaler_list = ['BoxCoxScaler','LambertScaler'\n",
    "               ,'StandardScaler','MinMaxScaler']\n",
    "size = 10000\n",
    "\n",
    "fooplot2(df,dnames,scaler_list,size)"
   ]
  },
  {
   "cell_type": "markdown",
   "metadata": {},
   "source": [
    "- every transform has problems last bin of HOUSEAGE. This last could be a clip, which could be modeled as same distbution with a width of 50 (parmeterize year extension number) An experiment for another day\n",
    "- MINMAX probably does best on AVGBEDRMS at transforming into Gaussian\n",
    "- BOOXCOX does well on AVEROCCUP!!!!!"
   ]
  },
  {
   "cell_type": "markdown",
   "metadata": {},
   "source": [
    "#### City"
   ]
  },
  {
   "cell_type": "code",
   "execution_count": 30,
   "metadata": {
    "ExecuteTime": {
     "end_time": "2019-05-28T20:48:50.508911Z",
     "start_time": "2019-05-28T20:48:49.865642Z"
    }
   },
   "outputs": [],
   "source": [
    "df = City\n",
    "dnames = list(df.columns)\n",
    "\n",
    "scaler_list = ['BoxCoxScaler','LambertScaler'\n",
    "               ,'StandardScaler','MinMaxScaler']\n",
    "\n",
    "size = 10000\n",
    "\n",
    "fooplot2(df,dnames,scaler_list,size)"
   ]
  },
  {
   "cell_type": "markdown",
   "metadata": {},
   "source": [
    "- 'BoxCoxScaler','LambertScaler' do best on the continuous features"
   ]
  },
  {
   "cell_type": "markdown",
   "metadata": {},
   "source": [
    "#### Hip male"
   ]
  },
  {
   "cell_type": "markdown",
   "metadata": {
    "ExecuteTime": {
     "end_time": "2018-09-05T16:29:41.961244Z",
     "start_time": "2018-09-05T16:29:31.319Z"
    }
   },
   "source": [
    "df = hip_m\n",
    "dnames = list(df.columns)\n",
    "\n",
    "scaler_list = ['BoxCoxScaler','LambertScaler'\n",
    "               'StandardScaler','MinMaxScaler']\n",
    "\n",
    "size = 10000\n",
    "\n",
    "fooplot2(df,dnames,scaler_list,size)"
   ]
  },
  {
   "cell_type": "markdown",
   "metadata": {
    "heading_collapsed": true
   },
   "source": [
    "#### Conclusions"
   ]
  },
  {
   "cell_type": "markdown",
   "metadata": {
    "hidden": true
   },
   "source": [
    "- BoxCox is better than Lambert at transforming into Gaussian (halfgennorm,chisq\n",
    "- - wont work on negative values (Cauchy,laplace\n",
    "- Lambert is best at bringing right or left tails towards center (by about 2 or more stds) and best at not-perturbing (changing) balanced distributions (uniform,dweibull)\n",
    "- although Standard and Robust are even better at not-perturbing any distribution\n",
    "\n",
    "- use BoxCox to transform to Gaussian\n",
    "- use Lambert for distributions with outliers to transform to more centered (less skewnn)\n",
    "- use Standard to put any feature on a standard scale"
   ]
  },
  {
   "cell_type": "markdown",
   "metadata": {},
   "source": [
    "#  Steps"
   ]
  },
  {
   "cell_type": "markdown",
   "metadata": {
    "ExecuteTime": {
     "end_time": "2018-09-05T16:35:28.092575Z",
     "start_time": "2018-09-05T16:35:28.011148Z"
    }
   },
   "source": [
    "Hip_m_o = Hip_m.copy()\n",
    "data_Hip_m = {\n",
    "    'input': {\n",
    "        'features': Hip_m,\n",
    "        'features_o': Hip_m_o\n",
    "    }\n",
    "}"
   ]
  },
  {
   "cell_type": "markdown",
   "metadata": {},
   "source": [
    "## LambertScaler -Step Testing"
   ]
  },
  {
   "cell_type": "code",
   "execution_count": null,
   "metadata": {
    "ExecuteTime": {
     "end_time": "2019-05-28T20:45:11.823991Z",
     "start_time": "2019-05-28T20:44:55.403Z"
    }
   },
   "outputs": [],
   "source": [
    "LambertScaler_step = Step(name='Steppy_Scaler_L',\n",
    "               transformer=S_Scaler('LambertScaler'),\n",
    "               input_data=['input'],\n",
    "               adapter=Adapter({\n",
    "                   'X': E('input','features_o')\n",
    "               }),\n",
    "               experiment_directory=EXPERIMENT_DIR,\n",
    "                is_trainable=True,\n",
    "                force_fitting=True)"
   ]
  },
  {
   "cell_type": "code",
   "execution_count": null,
   "metadata": {
    "ExecuteTime": {
     "end_time": "2019-05-28T20:45:11.825518Z",
     "start_time": "2019-05-28T20:44:55.405Z"
    }
   },
   "outputs": [],
   "source": [
    "LambertScaler_step.fit_transform(data_Housing)['X'][:,0][:,np.newaxis].shape"
   ]
  },
  {
   "cell_type": "code",
   "execution_count": null,
   "metadata": {
    "ExecuteTime": {
     "end_time": "2019-05-28T20:45:11.827656Z",
     "start_time": "2019-05-28T20:44:55.408Z"
    }
   },
   "outputs": [],
   "source": [
    "import graphviz\n",
    "#.LambertScaler_step"
   ]
  },
  {
   "cell_type": "markdown",
   "metadata": {},
   "source": [
    "## StandardScaler - Step Testing "
   ]
  },
  {
   "cell_type": "code",
   "execution_count": null,
   "metadata": {
    "ExecuteTime": {
     "end_time": "2019-05-28T20:45:11.829415Z",
     "start_time": "2019-05-28T20:44:55.411Z"
    }
   },
   "outputs": [],
   "source": [
    "StandardScaler_step = Step(name='Steppy_Scaler_S',\n",
    "               transformer=S_Scaler('StandardScaler'),\n",
    "               input_data=['input'],\n",
    "               adapter=Adapter({\n",
    "                   'X': E('input','features_o')\n",
    "               }),\n",
    "               experiment_directory=EXPERIMENT_DIR,\n",
    "                       is_trainable=True,\n",
    "                       force_fitting=True)"
   ]
  },
  {
   "cell_type": "code",
   "execution_count": null,
   "metadata": {
    "ExecuteTime": {
     "end_time": "2019-05-28T20:45:11.831406Z",
     "start_time": "2019-05-28T20:44:55.413Z"
    }
   },
   "outputs": [],
   "source": [
    "StandardScaler_step.fit_transform(data_Housing)['X'][:,0][:,np.newaxis].shape"
   ]
  },
  {
   "cell_type": "markdown",
   "metadata": {
    "heading_collapsed": true
   },
   "source": [
    "## BoxCoxEncoder - Step Testing -FAIL"
   ]
  },
  {
   "cell_type": "code",
   "execution_count": null,
   "metadata": {
    "ExecuteTime": {
     "end_time": "2019-05-28T20:45:11.833297Z",
     "start_time": "2019-05-28T20:44:55.416Z"
    },
    "hidden": true
   },
   "outputs": [],
   "source": [
    "# should fail\n",
    "try:\n",
    "    n = 'BoxCoxEncoder'\n",
    "    e = Steppy_Scaler(n,verbose=True)\n",
    "except:\n",
    "    print('BoxCoxEncoder ***error*** should be BoxCoxScaler')\n"
   ]
  },
  {
   "cell_type": "markdown",
   "metadata": {},
   "source": [
    "##  Lots of Scale Steps Test"
   ]
  },
  {
   "cell_type": "code",
   "execution_count": null,
   "metadata": {
    "ExecuteTime": {
     "end_time": "2019-05-28T20:45:11.835009Z",
     "start_time": "2019-05-28T20:44:55.419Z"
    }
   },
   "outputs": [],
   "source": [
    "scaler_list = ['BoxCoxScaler','LambertScaler','StandardScaler','MinMaxScaler']\n",
    "Scale_steps = [Step(name='S_Scaler_{}'.format(scaler),\n",
    "                 transformer=S_Scaler(scaler),\n",
    "                 input_data=['input'],\n",
    "                 adapter=Adapter({\n",
    "                       'X': E('input','features')\n",
    "                }),    \n",
    "               experiment_directory=EXPERIMENT_DIR,\n",
    "                is_trainable=True,\n",
    "                force_fitting=True)\n",
    "            for nth, scaler in enumerate(scaler_list)]"
   ]
  },
  {
   "cell_type": "code",
   "execution_count": null,
   "metadata": {
    "ExecuteTime": {
     "end_time": "2019-05-28T20:45:11.836952Z",
     "start_time": "2019-05-28T20:44:55.421Z"
    }
   },
   "outputs": [],
   "source": [
    "Scale_steps[1].fit_transform(data_Housing)['X'][:,1][:,np.newaxis].shape"
   ]
  },
  {
   "cell_type": "code",
   "execution_count": null,
   "metadata": {
    "ExecuteTime": {
     "end_time": "2019-05-28T20:45:11.838509Z",
     "start_time": "2019-05-28T20:44:55.423Z"
    }
   },
   "outputs": [],
   "source": [
    "Scale_steps[0].name[14:]"
   ]
  },
  {
   "cell_type": "code",
   "execution_count": null,
   "metadata": {
    "ExecuteTime": {
     "end_time": "2019-05-28T20:45:11.840332Z",
     "start_time": "2019-05-28T20:44:55.426Z"
    }
   },
   "outputs": [],
   "source": [
    "pc = Plot_Distribution_c()\n",
    "feat = 'MedInc'\n",
    "x_o = Housing\n",
    "ytest = Scale_steps[0].fit_transform(data_Housing)['X']\n",
    "pc.label = Scale_steps[0].name[14:]\n",
    "pc.transform(x_o,ytest)\n"
   ]
  },
  {
   "cell_type": "markdown",
   "metadata": {},
   "source": [
    "# Plot Testing of Scalers"
   ]
  },
  {
   "cell_type": "markdown",
   "metadata": {
    "heading_collapsed": true
   },
   "source": [
    "## Plot_Gaussian_step"
   ]
  },
  {
   "cell_type": "code",
   "execution_count": null,
   "metadata": {
    "ExecuteTime": {
     "end_time": "2019-05-28T20:45:11.841974Z",
     "start_time": "2019-05-28T20:44:55.429Z"
    },
    "hidden": true
   },
   "outputs": [],
   "source": [
    "#color_list = list(mcolors.CSS4_COLORS.keys())[51:100]\n",
    "Plot_Gaussian_step \\\n",
    "    = [Step(name='Plot_Gaussian_{}'.format(astep.name),\n",
    "           transformer=Plot_Distribution_c(label=astep.name[14:]),\n",
    "           input_steps=[astep], \n",
    "           input_data=['input'],\n",
    "            adapter=Adapter({\n",
    "                   'X_o': E('input','features_o'),\n",
    "                   'X': E(astep.name,'X')\n",
    "            }),\n",
    "            experiment_directory=EXPERIMENT_DIR,\n",
    "           is_trainable=True,\n",
    "           force_fitting=True)\n",
    "            for nth, astep in enumerate(list(Scale_steps))]\n",
    "\n"
   ]
  },
  {
   "cell_type": "markdown",
   "metadata": {
    "ExecuteTime": {
     "end_time": "2018-08-12T21:44:28.438459Z",
     "start_time": "2018-08-12T21:44:28.387653Z"
    }
   },
   "source": [
    "## Plot_Gaussian_step Step Test"
   ]
  },
  {
   "cell_type": "markdown",
   "metadata": {},
   "source": [
    "### Cauchy Step Input"
   ]
  },
  {
   "cell_type": "code",
   "execution_count": null,
   "metadata": {
    "ExecuteTime": {
     "end_time": "2019-05-28T20:45:11.843719Z",
     "start_time": "2019-05-28T20:44:55.432Z"
    }
   },
   "outputs": [],
   "source": [
    "dname ='cauchy'\n",
    "dist = StatDistributionDict[dname](size=1000)"
   ]
  },
  {
   "cell_type": "code",
   "execution_count": null,
   "metadata": {
    "ExecuteTime": {
     "end_time": "2019-05-28T20:45:11.845527Z",
     "start_time": "2019-05-28T20:44:55.434Z"
    }
   },
   "outputs": [],
   "source": [
    "data_Dist = {\n",
    "    'input': {\n",
    "        'features': dist\n",
    "    }\n",
    "}\n",
    "#Plot_Gaussian_step[0]"
   ]
  },
  {
   "cell_type": "markdown",
   "metadata": {},
   "source": [
    "### Housing Plot_Gaussian_step"
   ]
  },
  {
   "cell_type": "code",
   "execution_count": null,
   "metadata": {
    "ExecuteTime": {
     "end_time": "2019-05-28T20:45:11.847171Z",
     "start_time": "2019-05-28T20:44:55.437Z"
    }
   },
   "outputs": [],
   "source": [
    "for Plot_Gaussian_step_nth in Plot_Gaussian_step:\n",
    "    Plot_Gaussian_step_nth.fit_transform(data_Housing)"
   ]
  },
  {
   "cell_type": "markdown",
   "metadata": {
    "heading_collapsed": true
   },
   "source": [
    "### City Plot_Gaussian_step"
   ]
  },
  {
   "cell_type": "code",
   "execution_count": null,
   "metadata": {
    "ExecuteTime": {
     "end_time": "2019-05-28T20:45:11.848960Z",
     "start_time": "2019-05-28T20:44:55.440Z"
    },
    "hidden": true
   },
   "outputs": [],
   "source": [
    "for Plot_Gaussian_step_nth in Plot_Gaussian_step:  \n",
    "        Plot_Gaussian_step_nth.fit_transform(data_City)"
   ]
  },
  {
   "cell_type": "markdown",
   "metadata": {
    "ExecuteTime": {
     "end_time": "2018-08-21T20:43:23.093946Z",
     "start_time": "2018-08-21T20:43:23.029490Z"
    },
    "heading_collapsed": true
   },
   "source": [
    "### Hip_m Plot_Gaussian_step"
   ]
  },
  {
   "cell_type": "markdown",
   "metadata": {
    "ExecuteTime": {
     "start_time": "2018-09-05T16:38:40.659Z"
    },
    "hidden": true
   },
   "source": [
    "for Plot_Gaussian_step_nth in Plot_Gaussian_step:  \n",
    "    try: Plot_Gaussian_step_nth.fit_transform(data_Hip_m)\n",
    "    except: pass"
   ]
  },
  {
   "cell_type": "markdown",
   "metadata": {},
   "source": [
    "# References"
   ]
  },
  {
   "cell_type": "markdown",
   "metadata": {
    "heading_collapsed": true
   },
   "source": [
    "## Compare the effect of different scalers on data with outliers¶\n",
    "- Author:  Raghav RV <rvraghav93@gmail.com>\n",
    "-           Guillaume Lemaitre <g.lemaitre58@gmail.com>\n",
    "-          Thomas Unterthiner\n",
    "-  License: BSD 3 clause\n",
    "- http://scikit-learn.org/stable/auto_examples/preprocessing/plot_all_scaling.html#sphx-glr-auto-examples-preprocessing-plot-all-scaling-py"
   ]
  },
  {
   "cell_type": "markdown",
   "metadata": {},
   "source": [
    "## Better ways to do One Hot Encoding\n",
    "- by Tukey\n",
    "- http://tukeys.blogspot.com/2017/05/better-ways-to-do-one-hot-encoding.html"
   ]
  },
  {
   "cell_type": "markdown",
   "metadata": {},
   "source": [
    "## 1st place with representation learning (RankGauss)\n",
    "- by Michael Jahrer\n",
    "- https://www.kaggle.com/c/porto-seguro-safe-driver-prediction/discussion/44629#260408"
   ]
  },
  {
   "cell_type": "markdown",
   "metadata": {},
   "source": [
    "## Preparing continuous features for neural networks with GaussRank\n",
    "- by y Zygmunt Z. \n",
    "- http://fastml.com/preparing-continuous-features-for-neural-networks-with-rankgauss/\n",
    "- https://github.com/zygmuntz/gaussrank"
   ]
  },
  {
   "cell_type": "markdown",
   "metadata": {},
   "source": [
    "## Plotting Class: SeabornFig2Grid\n",
    "- https://stackoverflow.com/questions/35042255/how-to-plot-multiple-seaborn-jointplot-in-subplot"
   ]
  },
  {
   "cell_type": "markdown",
   "metadata": {},
   "source": [
    "## A closer look at probability plots\n",
    "- https://matplotlib.org/mpl-probscale/tutorial/closer_look_at_viz.html#overview"
   ]
  },
  {
   "cell_type": "markdown",
   "metadata": {},
   "source": [
    "## Spacing measures: heterogeneity in numerical distributions\n",
    "- http://exploringdatablog.blogspot.com/2012/09/spacing-measures-heterogeneity-in.html"
   ]
  }
 ],
 "metadata": {
  "hide_input": false,
  "kernelspec": {
   "display_name": "Python 3",
   "language": "python",
   "name": "python3"
  },
  "language_info": {
   "codemirror_mode": {
    "name": "ipython",
    "version": 3
   },
   "file_extension": ".py",
   "mimetype": "text/x-python",
   "name": "python",
   "nbconvert_exporter": "python",
   "pygments_lexer": "ipython3",
   "version": "3.7.1"
  },
  "toc": {
   "base_numbering": 1,
   "nav_menu": {
    "height": "208px",
    "width": "252px"
   },
   "number_sections": true,
   "sideBar": true,
   "skip_h1_title": false,
   "title_cell": "Table of Contents",
   "title_sidebar": "Contents",
   "toc_cell": false,
   "toc_position": {
    "height": "817px",
    "left": "0px",
    "right": "832.1331787109375px",
    "top": "128.99456787109375px",
    "width": "167px"
   },
   "toc_section_display": "block",
   "toc_window_display": true
  }
 },
 "nbformat": 4,
 "nbformat_minor": 2
}
