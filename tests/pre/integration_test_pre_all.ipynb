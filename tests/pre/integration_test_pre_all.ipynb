{
 "cells": [
  {
   "cell_type": "markdown",
   "metadata": {},
   "source": [
    "# test .ContinuoustoCategory\n"
   ]
  },
  {
   "cell_type": "markdown",
   "metadata": {},
   "source": [
    "## General"
   ]
  },
  {
   "cell_type": "code",
   "execution_count": 1,
   "metadata": {
    "ExecuteTime": {
     "end_time": "2019-06-04T00:15:00.803797Z",
     "start_time": "2019-06-04T00:15:00.792284Z"
    }
   },
   "outputs": [
    {
     "data": {
      "text/plain": [
       "('BruceCottman', 'MIT License')"
      ]
     },
     "execution_count": 1,
     "metadata": {},
     "output_type": "execute_result"
    }
   ],
   "source": [
    "__author__ = 'BruceCottman'\n",
    "__license__ = 'MIT License'\n",
    "__author__,__license__"
   ]
  },
  {
   "cell_type": "code",
   "execution_count": 2,
   "metadata": {
    "ExecuteTime": {
     "end_time": "2019-06-04T00:15:00.809492Z",
     "start_time": "2019-06-04T00:15:00.806598Z"
    }
   },
   "outputs": [],
   "source": [
    "import pdb"
   ]
  },
  {
   "cell_type": "code",
   "execution_count": 3,
   "metadata": {
    "ExecuteTime": {
     "end_time": "2019-06-04T00:15:05.297149Z",
     "start_time": "2019-06-04T00:15:00.811500Z"
    }
   },
   "outputs": [
    {
     "name": "stdout",
     "output_type": "stream",
     "text": [
      "# packages in environment at /Users/brucecottman/anaconda3/envs/paso:\r\n",
      "#\r\n",
      "# Name                    Version                   Build  Channel\r\n",
      "_ipyw_jlab_nb_ext_conf    0.1.0                    py37_0  \r\n",
      "absl-py                   0.7.0                    pypi_0    pypi\r\n",
      "alabaster                 0.7.12                   py37_0  \r\n",
      "anaconda-client           1.7.2                    py37_0  \r\n",
      "anaconda-navigator        1.9.6                    py37_0  \r\n",
      "anaconda-project          0.8.2                    py37_0  \r\n",
      "ansimarkup                1.4.0                    pypi_0    pypi\r\n",
      "appnope                   0.1.0                    py37_0  \r\n",
      "appscript                 1.0.1            py37h1de35cc_1  \r\n",
      "asn1crypto                0.24.0                   py37_0  \r\n",
      "astor                     0.7.1                    pypi_0    pypi\r\n",
      "astroid                   2.1.0                    py37_0  \r\n",
      "astropy                   3.1              py37h1de35cc_0  \r\n",
      "atomicwrites              1.2.1                    py37_0  \r\n",
      "attrdict                  2.0.1                    pypi_0    pypi\r\n",
      "attrs                     18.2.0           py37h28b3542_0  \r\n",
      "babel                     2.6.0                    py37_0  \r\n",
      "backcall                  0.1.0                    py37_0  \r\n",
      "backports                 1.0                      py37_1  \r\n",
      "backports.os              0.1.1                    py37_0  \r\n",
      "backports.shutil_get_terminal_size 1.0.0                    py37_2  \r\n",
      "beautifulsoup4            4.6.3                    py37_0  \r\n",
      "better-exceptions-fork    0.2.1.post6              pypi_0    pypi\r\n",
      "bitarray                  0.8.3            py37h1de35cc_0  \r\n",
      "bkcharts                  0.2                      py37_0  \r\n",
      "blas                      1.0                         mkl  \r\n",
      "blaze                     0.11.3                   py37_0  \r\n",
      "bleach                    3.0.2                    py37_0  \r\n",
      "blosc                     1.14.4               hd9629dc_0  \r\n",
      "bokeh                     1.0.4                    py37_0  \r\n",
      "boto                      2.49.0                   py37_0  \r\n",
      "boto3                     1.9.148                  pypi_0    pypi\r\n",
      "botocore                  1.12.148                 pypi_0    pypi\r\n",
      "bottleneck                1.2.1            py37h1d22016_1  \r\n",
      "bzip2                     1.0.6                h1de35cc_5  \r\n",
      "ca-certificates           2019.1.23                     0  \r\n",
      "cairo                     1.14.12              hc4e6be7_4  \r\n",
      "catboost                  0.12.2                   pypi_0    pypi\r\n",
      "category-encoders         1.3.0                    pypi_0    pypi\r\n",
      "certifi                   2019.3.9                 py37_0  \r\n",
      "cffi                      1.11.5           py37h6174b99_1  \r\n",
      "chardet                   3.0.4                    py37_1  \r\n",
      "click                     7.0                      py37_0  \r\n",
      "cloudpickle               0.6.1                    py37_0  \r\n",
      "clyent                    1.2.2                    py37_1  \r\n",
      "colorama                  0.4.1                    py37_0  \r\n",
      "conda-verify              3.1.1                    py37_0  \r\n",
      "contextlib2               0.5.5                    py37_0  \r\n",
      "coverage                  4.5.2                    pypi_0    pypi\r\n",
      "cryptography              2.4.2            py37ha12b0ac_0  \r\n",
      "curl                      7.63.0            ha441bb4_1000  \r\n",
      "cvxpy                     1.0.18                   pypi_0    pypi\r\n",
      "cycler                    0.10.0                   py37_0  \r\n",
      "cymem                     2.0.2                    pypi_0    pypi\r\n",
      "cython                    0.29.2           py37h0a44026_0  \r\n",
      "cytoolz                   0.9.0.1          py37h1de35cc_1  \r\n",
      "dask                      1.0.0                    py37_0  \r\n",
      "dask-core                 1.0.0                    py37_0  \r\n",
      "datashape                 0.5.4                    py37_1  \r\n",
      "dbus                      1.13.2               h760590f_1  \r\n",
      "decorator                 4.3.0                    py37_0  \r\n",
      "defusedxml                0.5.0                    py37_1  \r\n",
      "dill                      0.2.9                    pypi_0    pypi\r\n",
      "distributed               1.25.1                   py37_0  \r\n",
      "docutils                  0.14                     py37_0  \r\n",
      "ecos                      2.0.7.post1              pypi_0    pypi\r\n",
      "entrypoints               0.2.3                    py37_2  \r\n",
      "enum34                    1.1.6                    pypi_0    pypi\r\n",
      "et_xmlfile                1.0.1                    py37_0  \r\n",
      "expat                     2.2.6                h0a44026_0  \r\n",
      "fancyimpute               0.4.2                    pypi_0    pypi\r\n",
      "fastai                    1.0.45                   pypi_0    pypi\r\n",
      "fastcache                 1.0.2            py37h1de35cc_2  \r\n",
      "fastprogress              0.1.19                   pypi_0    pypi\r\n",
      "filelock                  3.0.10                   py37_0  \r\n",
      "findspark                 1.3.0                    pypi_0    pypi\r\n",
      "flask                     1.0.2                    py37_1  \r\n",
      "flask-cors                3.0.7                    py37_0  \r\n",
      "flatbuffers               1.10                     pypi_0    pypi\r\n",
      "fontconfig                2.13.0               h5d5b041_1  \r\n",
      "freetype                  2.9.1                hb4e5f40_0  \r\n",
      "fribidi                   1.0.5                h1de35cc_0  \r\n",
      "funcsigs                  1.0.2                    pypi_0    pypi\r\n",
      "future                    0.17.1                   py37_0  \r\n",
      "gast                      0.2.2                    pypi_0    pypi\r\n",
      "get_terminal_size         1.0.0                h7520d66_0  \r\n",
      "gettext                   0.19.8.1             h15daf44_3  \r\n",
      "gevent                    1.3.7            py37h1de35cc_1  \r\n",
      "glib                      2.56.2               hd9629dc_0  \r\n",
      "glob2                     0.6                      py37_1  \r\n",
      "gmp                       6.1.2                hb37e062_1  \r\n",
      "gmpy2                     2.0.8            py37h6ef4df4_2  \r\n",
      "graphite2                 1.3.13               h2098e52_0  \r\n",
      "graphviz                  2.40.1               hefbbd9a_2  \r\n",
      "greenlet                  0.4.15           py37h1de35cc_0  \r\n",
      "grpcio                    1.18.0                   pypi_0    pypi\r",
      "\r\n",
      "h5py                      2.8.0            py37h878fce3_3  \r\n",
      "harfbuzz                  1.8.8                hb8d4a28_0  \r\n",
      "hdf5                      1.10.2               hfa1e0ec_1  \r\n",
      "heapdict                  1.0.0                    py37_2  \r\n",
      "html5lib                  1.0.1                    py37_0  \r\n",
      "icu                       58.2                 h4b95b61_1  \r\n",
      "idna                      2.8                      py37_0  \r\n",
      "imageio                   2.4.1                    py37_0  \r\n",
      "imagesize                 1.1.0                    py37_0  \r\n",
      "importlib_metadata        0.6                      py37_0  \r\n",
      "intel-openmp              2019.1                      144  \r\n",
      "ipykernel                 5.1.0            py37h39e3cac_0  \r\n",
      "ipython                   7.2.0            py37h39e3cac_0  \r\n",
      "ipython_genutils          0.2.0                    py37_0  \r\n",
      "ipywidgets                7.4.2                    py37_0  \r\n",
      "isort                     4.3.4                    py37_0  \r\n",
      "isoweek                   1.3.3                    pypi_0    pypi\r\n",
      "itsdangerous              1.1.0                    py37_0  \r\n",
      "jbig                      2.1                  h4d881f8_0  \r\n",
      "jdcal                     1.4                      py37_0  \r\n",
      "jedi                      0.13.2                   py37_0  \r\n",
      "jinja2                    2.10                     py37_0  \r\n",
      "jmespath                  0.9.4                    pypi_0    pypi\r\n",
      "joblib                    0.13.2                   pypi_0    pypi\r\n",
      "jpeg                      9b                   he5867d9_2  \r\n",
      "jsonschema                2.6.0                    py37_0  \r\n",
      "jupyter                   1.0.0                    py37_7  \r\n",
      "jupyter-contrib-core      0.3.3                    pypi_0    pypi\r\n",
      "jupyter-contrib-nbextensions 0.5.1                    pypi_0    pypi\r\n",
      "jupyter-highlight-selected-word 0.2.0                    pypi_0    pypi\r\n",
      "jupyter-latex-envs        1.4.6                    pypi_0    pypi\r\n",
      "jupyter-nbextensions-configurator 0.4.1                    pypi_0    pypi\r\n",
      "jupyter_client            5.2.4                    py37_0  \r\n",
      "jupyter_console           6.0.0                    py37_0  \r\n",
      "jupyter_core              4.4.0                    py37_0  \r\n",
      "jupyterlab                0.35.3                   py37_0  \r\n",
      "jupyterlab_server         0.2.0                    py37_0  \r\n",
      "keras                     2.2.4                    pypi_0    pypi\r\n",
      "keras-applications        1.0.7                    pypi_0    pypi\r\n",
      "keras-preprocessing       1.0.9                    pypi_0    pypi\r\n",
      "keyring                   17.0.0                   py37_0  \r\n",
      "kiwisolver                1.0.1            py37h0a44026_0  \r\n",
      "knnimpute                 0.1.0                    pypi_0    pypi\r\n",
      "krb5                      1.16.1               hddcf347_7  \r\n",
      "lazy-object-proxy         1.3.1            py37h1de35cc_2  \r\n",
      "libarchive                3.3.3                h786848e_5  \r\n",
      "libcurl                   7.63.0            h051b688_1000  \r\n",
      "libcxx                    4.0.1                hcfea43d_1  \r\n",
      "libcxxabi                 4.0.1                hcfea43d_1  \r\n",
      "libedit                   3.1.20170329         hb402a30_2  \r\n",
      "libffi                    3.2.1                h475c297_4  \r\n",
      "libgfortran               3.0.1                h93005f0_2  \r\n",
      "libiconv                  1.15                 hdd342a3_7  \r\n",
      "liblief                   0.9.0                h2a1bed3_0  \r\n",
      "libpng                    1.6.35               ha441bb4_0  \r\n",
      "libsodium                 1.0.16               h3efe00b_0  \r\n",
      "libssh2                   1.8.0                ha12b0ac_4  \r\n",
      "libtiff                   4.0.9                hcb84e12_2  \r\n",
      "libxml2                   2.9.8                hab757c2_1  \r\n",
      "libxslt                   1.1.32               hb819dd2_0  \r\n",
      "lightgbm                  2.2.3                    pypi_0    pypi\r\n",
      "llvm-openmp               4.0.1                hcfea43d_1  \r\n",
      "llvmlite                  0.26.0           py37h8c7ce04_0  \r\n",
      "locket                    0.2.0                    py37_1  \r\n",
      "loguru                    0.2.5                    pypi_0    pypi\r\n",
      "lxml                      4.2.5            py37hef8c89e_0  \r\n",
      "lz4-c                     1.8.1.2              h1de35cc_0  \r\n",
      "lzo                       2.10                 h362108e_2  \r\n",
      "markdown                  3.0.1                    pypi_0    pypi\r\n",
      "markupsafe                1.1.0            py37h1de35cc_0  \r\n",
      "matplotlib                3.0.2            py37h54f8f79_0  \r\n",
      "mccabe                    0.6.1                    py37_1  \r\n",
      "mistune                   0.8.4            py37h1de35cc_0  \r\n",
      "mkl                       2019.1                      144  \r\n",
      "mkl-service               1.1.2            py37hfbe908c_5  \r\n",
      "mkl_fft                   1.0.6            py37h27c97d8_0  \r\n",
      "mkl_random                1.0.2            py37h27c97d8_0  \r\n",
      "mock                      2.0.0                    pypi_0    pypi\r\n",
      "modin                     0.4.0                    pypi_0    pypi\r\n",
      "more-itertools            4.3.0                    py37_0  \r\n",
      "mpc                       1.1.0                h6ef4df4_1  \r\n",
      "mpfr                      4.0.1                h3018a27_3  \r\n",
      "mpmath                    1.1.0                    py37_0  \r\n",
      "msgpack-numpy             0.4.3.2                  pypi_0    pypi\r\n",
      "msgpack-python            0.5.6            py37h04f5b5a_1  \r\n",
      "multipledispatch          0.6.0                    py37_0  \r\n",
      "multiprocess              0.70.7                   pypi_0    pypi\r\n",
      "murmurhash                1.0.1                    pypi_0    pypi\r\n",
      "navigator-updater         0.2.1                    py37_0  \r\n",
      "nbconvert                 5.4.1                    pypi_0    pypi\r\n",
      "nbformat                  4.4.0                    py37_0  \r\n",
      "nbsphinx                  0.4.2                    pypi_0    pypi\r\n",
      "ncurses                   6.1                  h0a44026_1  \r\n",
      "networkx                  2.2                      py37_1  \r\n",
      "ninja                     1.8.2            py37h04f5b5a_1  \r\n",
      "nltk                      3.4                      py37_1  \r\n",
      "nose                      1.3.7                    py37_2  \r\n",
      "notebook                  5.7.4                    py37_0  \r\n",
      "np-utils                  0.5.9.0                  pypi_0    pypi\r\n",
      "numba                     0.41.0           py37h6440ff4_0  \r\n",
      "numexpr                   2.6.8            py37h7413580_0  \r\n",
      "numpy                     1.15.0                   pypi_0    pypi\r\n",
      "numpydoc                  0.8.0                    py37_0  \r\n",
      "nvidia-ml-py3             7.352.0                  pypi_0    pypi\r\n",
      "odo                       0.5.1                    py37_0  \r\n",
      "olefile                   0.46                     py37_0  \r\n",
      "openpyxl                  2.5.12                   py37_0  \r\n",
      "openssl                   1.1.1b               h1de35cc_1  \r\n",
      "osqp                      0.5.0                    pypi_0    pypi\r\n",
      "packaging                 18.0                     py37_0  \r\n",
      "pandas                    0.24.1                   pypi_0    pypi\r\n",
      "pandas-summary            0.0.6                    pypi_0    pypi\r\n",
      "pandoc                    1.19.2.1             ha5e8f32_1  \r\n",
      "pandocfilters             1.4.2                    py37_1  \r\n",
      "pango                     1.42.4               h060686c_0  \r\n",
      "parso                     0.3.1                    py37_0  \r\n",
      "partd                     0.3.9                    py37_0  \r\n",
      "path.py                   11.5.0                   py37_0  \r\n",
      "pathlib2                  2.3.3                    py37_0  \r\n",
      "patsy                     0.5.1                    py37_0  \r\n",
      "pbr                       5.1.2                    pypi_0    pypi\r\n",
      "pcre                      8.42                 h378b8a2_0  \r\n",
      "pep8                      1.7.1                    py37_0  \r\n",
      "pexpect                   4.6.0                    py37_0  \r\n",
      "pickleshare               0.7.5                    py37_0  \r\n",
      "pillow                    5.3.0            py37hb68e598_0  \r\n",
      "pip                       19.1.1                   pypi_0    pypi\r\n",
      "pixman                    0.38.0               h1de35cc_0  \r\n",
      "pkginfo                   1.4.2                    py37_1  \r\n",
      "plac                      0.9.6                    pypi_0    pypi\r\n",
      "plotly                    3.6.1                    pypi_0    pypi\r\n",
      "pluggy                    0.8.0                    py37_0  \r\n",
      "ply                       3.11                     py37_0  \r\n",
      "preshed                   2.0.1                    pypi_0    pypi\r\n",
      "probscale                 0.2.3                    pypi_0    pypi\r\n",
      "prometheus_client         0.5.0                    py37_0  \r\n",
      "prompt_toolkit            2.0.7                    py37_0  \r\n",
      "protobuf                  3.6.1                    pypi_0    pypi\r\n",
      "psutil                    5.4.8            py37h1de35cc_0  \r\n",
      "ptyprocess                0.6.0                    py37_0  \r\n",
      "py                        1.7.0                    py37_0  \r\n",
      "py-lief                   0.9.0            py37hd4eaf27_0  \r\n",
      "py4j                      0.10.7                   pypi_0    pypi\r\n",
      "pyarrow                   0.12.0                   pypi_0    pypi\r\n",
      "pycodestyle               2.4.0                    py37_0  \r\n",
      "pycosat                   0.6.3            py37h1de35cc_0  \r\n",
      "pycparser                 2.19                     py37_0  \r\n",
      "pycrypto                  2.6.1            py37h1de35cc_9  \r\n",
      "pycurl                    7.43.0.2         py37ha12b0ac_0  \r\n",
      "pydataset                 0.2.0                    pypi_0    pypi\r\n",
      "pydot                     1.3.0                    py37_1  \r\n",
      "pydot-ng                  2.0.0                    pypi_0    pypi\r\n",
      "pyflakes                  2.0.0                    py37_0  \r\n",
      "pygments                  2.3.1                    py37_0  \r\n",
      "pylint                    2.2.2                    py37_0  \r\n",
      "pyodbc                    4.0.25           py37h0a44026_0  \r\n",
      "pyopenssl                 18.0.0                   py37_0  \r\n",
      "pyparsing                 2.3.0                    py37_0  \r\n",
      "pyqt                      5.9.2            py37h655552a_2  \r\n",
      "pysocks                   1.6.8                    py37_0  \r\n",
      "pyspark                   2.4.3                    pypi_0    pypi\r\n",
      "pytables                  3.4.4            py37h13cba08_0  \r\n",
      "pytest                    4.0.2                    py37_0  \r\n",
      "pytest-arraydiff          0.3              py37h39e3cac_0  \r\n",
      "pytest-astropy            0.5.0                    py37_0  \r\n",
      "pytest-doctestplus        0.2.0                    py37_0  \r\n",
      "pytest-openfiles          0.3.1                    py37_0  \r\n",
      "pytest-remotedata         0.3.1                    py37_0  \r\n",
      "python                    3.7.1                haf84260_7  \r\n",
      "python-dateutil           2.7.5                    py37_0  \r\n",
      "python-libarchive-c       2.8                      py37_6  \r\n",
      "python.app                2                        py37_9  \r\n",
      "pytorch                   1.0.1                   py3.7_2    pytorch\r\n",
      "pytz                      2018.7                   py37_0  \r\n",
      "pywavelets                1.0.1            py37h1d22016_0  \r\n",
      "pyyaml                    3.13             py37h1de35cc_0  \r\n",
      "pyzmq                     17.1.2           py37h1de35cc_0  \r\n",
      "qt                        5.9.7                h468cd18_1  \r\n",
      "qtawesome                 0.5.3                    py37_0  \r\n",
      "qtconsole                 4.4.3                    py37_0  \r\n",
      "qtpy                      1.5.2                    py37_0  \r\n",
      "ray                       0.6.2                    pypi_0    pypi\r\n",
      "readline                  7.0                  h1de35cc_5  \r\n",
      "redis                     3.2.1                    pypi_0    pypi\r\n",
      "regex                     2018.1.10                pypi_0    pypi\r\n",
      "requests                  2.21.0                   py37_0  \r\n",
      "retrying                  1.3.3                    pypi_0    pypi\r\n",
      "rope                      0.11.0                   py37_0  \r\n",
      "ruamel_yaml               0.15.46          py37h1de35cc_0  \r\n",
      "s3fs                      0.2.1                    pypi_0    pypi\r\n",
      "s3transfer                0.2.0                    pypi_0    pypi\r\n",
      "scikit-image              0.14.1           py37h0a44026_0  \r\n",
      "scikit-learn              0.20.1           py37h27c97d8_0  \r\n",
      "scipy                     1.1.0            py37h1410ff5_2  \r\n",
      "scs                       2.0.2                    pypi_0    pypi\r\n",
      "seaborn                   0.9.0                    py37_0  \r\n",
      "send2trash                1.5.0                    py37_0  \r\n",
      "setuptools                40.6.3                   py37_0  \r\n",
      "simplegeneric             0.8.1                    py37_2  \r\n",
      "singledispatch            3.4.0.3                  py37_0  \r\n",
      "sip                       4.19.8           py37h0a44026_0  \r\n",
      "six                       1.12.0                   py37_0  \r\n",
      "sklearn                   0.0                      pypi_0    pypi\r\n",
      "sklearn-pandas            1.8.0                    pypi_0    pypi\r\n",
      "snappy                    1.1.7                he62c110_3  \r\n",
      "snowballstemmer           1.2.1                    py37_0  \r\n",
      "sortedcollections         1.0.1                    py37_0  \r\n",
      "sortedcontainers          2.1.0                    py37_0  \r\n",
      "spacy                     2.0.18                   pypi_0    pypi\r\n",
      "sphinx                    1.8.2                    py37_0  \r\n",
      "sphinx-automodapi         0.10                     pypi_0    pypi\r\n",
      "sphinx-gallery            0.2.0                    pypi_0    pypi\r\n",
      "sphinx-rtd-theme          0.4.3                    pypi_0    pypi\r\n",
      "sphinxcontrib             1.0                      py37_1  \r\n",
      "sphinxcontrib-websupport  1.1.0                    py37_1  \r\n",
      "spyder                    3.3.2                    py37_0  \r\n",
      "spyder-kernels            0.3.0                    py37_0  \r\n",
      "sqlalchemy                1.2.15           py37h1de35cc_0  \r\n",
      "sqlite                    3.26.0               ha441bb4_0  \r\n",
      "statsmodels               0.9.0            py37h1d22016_0  \r\n",
      "sympy                     1.3                      py37_0  \r\n",
      "tblib                     1.3.2                    py37_0  \r\n",
      "tensorboard               1.12.2                   pypi_0    pypi\r\n",
      "tensorflow                1.13.0rc2                pypi_0    pypi\r\n",
      "tensorflow-estimator      1.13.0rc0                pypi_0    pypi\r\n",
      "termcolor                 1.1.0                    pypi_0    pypi\r\n",
      "terminado                 0.8.1                    py37_1  \r\n",
      "testpath                  0.4.2                    py37_0  \r\n",
      "thinc                     6.12.1                   pypi_0    pypi\r\n",
      "tk                        8.6.8                ha441bb4_0  \r\n",
      "toolz                     0.9.0                    py37_0  \r\n",
      "torchvision               0.2.1                      py_2    pytorch\r\n",
      "tornado                   5.1.1            py37h1de35cc_0  \r\n",
      "tqdm                      4.28.1           py37h28b3542_0  \r\n",
      "traitlets                 4.3.2                    py37_0  \r\n",
      "typing                    3.6.6                    pypi_0    pypi\r\n",
      "ujson                     1.35                     pypi_0    pypi\r\n",
      "unicodecsv                0.14.1                   py37_0  \r\n",
      "unixodbc                  2.3.7                h1de35cc_0  \r\n",
      "urllib3                   1.24.1                   py37_0  \r\n",
      "wand                      0.5.1                    pypi_0    pypi\r\n",
      "wcwidth                   0.1.7                    py37_0  \r\n",
      "webencodings              0.5.1                    py37_1  \r\n",
      "werkzeug                  0.14.1                   py37_0  \r\n",
      "wheel                     0.32.3                   py37_0  \r\n",
      "widgetsnbextension        3.4.2                    py37_0  \r\n",
      "wrapt                     1.10.11          py37h1de35cc_2  \r\n",
      "wurlitzer                 1.0.2                    py37_0  \r\n",
      "xgboost                   0.81                     pypi_0    pypi\r\n",
      "xlrd                      1.2.0                    py37_0  \r\n",
      "xlsxwriter                1.1.2                    py37_0  \r\n",
      "xlwings                   0.15.1                   py37_0  \r\n",
      "xlwt                      1.3.0                    py37_0  \r\n",
      "xz                        5.2.4                h1de35cc_4  \r\n",
      "yaml                      0.1.7                hc338f04_2  \r\n",
      "zeromq                    4.2.5                h0a44026_1  \r\n",
      "zict                      0.1.3                    py37_0  \r\n",
      "zlib                      1.2.11               h1de35cc_3  \r\n",
      "zstd                      1.3.7                h5bba6e5_0  \r\n"
     ]
    }
   ],
   "source": [
    "!conda list"
   ]
  },
  {
   "cell_type": "markdown",
   "metadata": {},
   "source": [
    "## imports"
   ]
  },
  {
   "cell_type": "markdown",
   "metadata": {},
   "source": [
    "### general"
   ]
  },
  {
   "cell_type": "code",
   "execution_count": 4,
   "metadata": {
    "ExecuteTime": {
     "end_time": "2019-06-04T00:15:05.305900Z",
     "start_time": "2019-06-04T00:15:05.301093Z"
    }
   },
   "outputs": [
    {
     "data": {
      "text/plain": [
       "['/Users/brucecottman/Documents/PROJECTS/paso/tests/pre',\n",
       " '/Users/brucecottman/anaconda3/envs/paso/lib/python37.zip',\n",
       " '/Users/brucecottman/anaconda3/envs/paso/lib/python3.7',\n",
       " '/Users/brucecottman/anaconda3/envs/paso/lib/python3.7/lib-dynload',\n",
       " '',\n",
       " '/Users/brucecottman/.local/lib/python3.7/site-packages',\n",
       " '/Users/brucecottman/anaconda3/envs/paso/lib/python3.7/site-packages',\n",
       " '/Users/brucecottman/anaconda3/envs/paso/lib/python3.7/site-packages/aeosa',\n",
       " '/Users/brucecottman/anaconda3/envs/paso/lib/python3.7/site-packages/IPython/extensions',\n",
       " '/Users/brucecottman/.ipython']"
      ]
     },
     "execution_count": 4,
     "metadata": {},
     "output_type": "execute_result"
    }
   ],
   "source": [
    "import os,sys\n",
    "sys.path"
   ]
  },
  {
   "cell_type": "code",
   "execution_count": 5,
   "metadata": {
    "ExecuteTime": {
     "end_time": "2019-06-04T00:15:05.312127Z",
     "start_time": "2019-06-04T00:15:05.309634Z"
    }
   },
   "outputs": [],
   "source": [
    "#_file__ = !cd ../../;pwd\n",
    "#__file__ = __file__[0]\n",
    "#__file__"
   ]
  },
  {
   "cell_type": "code",
   "execution_count": 6,
   "metadata": {
    "ExecuteTime": {
     "end_time": "2019-06-04T00:15:05.316717Z",
     "start_time": "2019-06-04T00:15:05.314177Z"
    }
   },
   "outputs": [],
   "source": [
    "#sys.path.append(__file__)\n",
    "#sys.path"
   ]
  },
  {
   "cell_type": "code",
   "execution_count": 7,
   "metadata": {
    "ExecuteTime": {
     "end_time": "2019-06-04T00:15:05.752216Z",
     "start_time": "2019-06-04T00:15:05.318765Z"
    }
   },
   "outputs": [],
   "source": [
    "import copy, random, math\n",
    "import pandas as pd\n",
    "import numpy as np\n",
    "from tqdm import tqdm\n",
    "import joblib, traceback\n"
   ]
  },
  {
   "cell_type": "code",
   "execution_count": 8,
   "metadata": {
    "ExecuteTime": {
     "end_time": "2019-06-04T00:15:06.937846Z",
     "start_time": "2019-06-04T00:15:05.754634Z"
    }
   },
   "outputs": [],
   "source": [
    "from __future__ import print_function\n",
    "import matplotlib as mpl\n",
    "from matplotlib import pyplot as plt\n",
    "from matplotlib import cm\n",
    "import probscale\n",
    "import seaborn as sns\n",
    "from scipy.stats import probplot\n",
    "import statsmodels.api as sm\n",
    "\n",
    "%reload_ext autoreload\n",
    "%autoreload 2\n",
    "%matplotlib inline\n",
    "import matplotlib\n",
    "from sklearn.model_selection import train_test_split\n",
    "import sklearn_pandas \n",
    "from pandas_summary import DataFrameSummary"
   ]
  },
  {
   "cell_type": "markdown",
   "metadata": {},
   "source": [
    "### paso imports"
   ]
  },
  {
   "cell_type": "code",
   "execution_count": 9,
   "metadata": {
    "ExecuteTime": {
     "end_time": "2019-06-04T00:15:07.334936Z",
     "start_time": "2019-06-04T00:15:06.939941Z"
    }
   },
   "outputs": [
    {
     "ename": "ModuleNotFoundError",
     "evalue": "No module named 'paso.base'",
     "output_type": "error",
     "traceback": [
      "\u001b[0;31m---------------------------------------------------------------------------\u001b[0m",
      "\u001b[0;31mModuleNotFoundError\u001b[0m                       Traceback (most recent call last)",
      "\u001b[0;32m<ipython-input-9-e384f0663660>\u001b[0m in \u001b[0;36m<module>\u001b[0;34m\u001b[0m\n\u001b[0;32m----> 1\u001b[0;31m \u001b[0;32mfrom\u001b[0m \u001b[0mpaso\u001b[0m\u001b[0;34m.\u001b[0m\u001b[0mbase\u001b[0m \u001b[0;32mimport\u001b[0m \u001b[0m__PiPeLiNeS__\u001b[0m\u001b[0;34m\u001b[0m\u001b[0;34m\u001b[0m\u001b[0m\n\u001b[0m\u001b[1;32m      2\u001b[0m \u001b[0;32mfrom\u001b[0m \u001b[0mpaso\u001b[0m\u001b[0;34m.\u001b[0m\u001b[0mbase\u001b[0m \u001b[0;32mimport\u001b[0m \u001b[0mget_paso_log\u001b[0m\u001b[0;34m,\u001b[0m\u001b[0mpasoLine\u001b[0m\u001b[0;34m\u001b[0m\u001b[0;34m\u001b[0m\u001b[0m\n\u001b[1;32m      3\u001b[0m \u001b[0;32mfrom\u001b[0m \u001b[0mpaso\u001b[0m\u001b[0;34m.\u001b[0m\u001b[0mbase\u001b[0m \u001b[0;32mimport\u001b[0m \u001b[0mtoDataFrame\u001b[0m\u001b[0;34m\u001b[0m\u001b[0;34m\u001b[0m\u001b[0m\n\u001b[1;32m      4\u001b[0m \u001b[0;32mfrom\u001b[0m \u001b[0mpaso\u001b[0m\u001b[0;34m.\u001b[0m\u001b[0mbase\u001b[0m \u001b[0;32mimport\u001b[0m \u001b[0mdask_pandas_ratio\u001b[0m\u001b[0;34m\u001b[0m\u001b[0;34m\u001b[0m\u001b[0m\n\u001b[1;32m      5\u001b[0m \u001b[0;32mfrom\u001b[0m \u001b[0mpaso\u001b[0m\u001b[0;34m.\u001b[0m\u001b[0mpre\u001b[0m\u001b[0;34m.\u001b[0m\u001b[0mtoCategory\u001b[0m \u001b[0;32mimport\u001b[0m \u001b[0mtoCategory\u001b[0m\u001b[0;34m\u001b[0m\u001b[0;34m\u001b[0m\u001b[0m\n",
      "\u001b[0;31mModuleNotFoundError\u001b[0m: No module named 'paso.base'"
     ]
    }
   ],
   "source": [
    "from paso.base import __PiPeLiNeS__\n",
    "from paso.base import get_paso_log,pasoLine\n",
    "from paso.base import toDataFrame\n",
    "from paso.base import dask_pandas_ratio\n",
    "from paso.pre.toCategory import toCategory\n",
    "from paso.pre.ContinuoustoCategory import ContinuoustoCategory,_Check_No_NA_Values,_Check_No_NA_Values,_fixed_width_labels\n",
    "from paso.pre.toDatetimeComponents import toDatetimeComponents\n",
    "from paso.pre.EliminateUnviableFeatures import EliminateUnviableFeatures"
   ]
  },
  {
   "cell_type": "markdown",
   "metadata": {
    "heading_collapsed": true
   },
   "source": [
    "## Start pipeline"
   ]
  },
  {
   "cell_type": "code",
   "execution_count": null,
   "metadata": {
    "ExecuteTime": {
     "end_time": "2019-06-04T00:15:07.342295Z",
     "start_time": "2019-06-04T00:15:00.821Z"
    },
    "hidden": true
   },
   "outputs": [],
   "source": [
    "import logging\n",
    "logger = logging.getLogger('paso')\n",
    "logger.setLevel('DEBUG'.upper())\n",
    "logger"
   ]
  },
  {
   "cell_type": "code",
   "execution_count": null,
   "metadata": {
    "ExecuteTime": {
     "end_time": "2019-06-04T00:15:07.344098Z",
     "start_time": "2019-06-04T00:15:00.824Z"
    },
    "hidden": true
   },
   "outputs": [],
   "source": [
    "#call only oncea\n",
    "Pipe = pasoLine(parameter_filepath='../../parameters/lesson.1.yaml',log_name='paso')\n",
    "logger = Pipe.startup().log\n",
    "logger.setLevel('DEBUG'.upper())\n",
    "logger.getEffectiveLevel()\n",
    "logger.info('It lives!!!!')\n",
    "Pipe.display_DAG()\n",
    "Pipe.log"
   ]
  },
  {
   "cell_type": "markdown",
   "metadata": {
    "hidden": true
   },
   "source": [
    "### test pasoLine facilities"
   ]
  },
  {
   "cell_type": "markdown",
   "metadata": {
    "hidden": true
   },
   "source": [
    "#### logging"
   ]
  },
  {
   "cell_type": "code",
   "execution_count": null,
   "metadata": {
    "ExecuteTime": {
     "end_time": "2019-06-04T00:15:07.345693Z",
     "start_time": "2019-06-04T00:15:00.828Z"
    },
    "hidden": true
   },
   "outputs": [],
   "source": [
    "# call as nmany times as you like\n",
    "logger.info('It lives!!!!')\n",
    "logger.info('It lives again!!!!')\n",
    "logger.info('DIE')"
   ]
  },
  {
   "cell_type": "markdown",
   "metadata": {
    "heading_collapsed": true,
    "hidden": true
   },
   "source": [
    "#### parmeters"
   ]
  },
  {
   "cell_type": "code",
   "execution_count": null,
   "metadata": {
    "ExecuteTime": {
     "end_time": "2019-06-04T00:15:07.347457Z",
     "start_time": "2019-06-04T00:15:00.832Z"
    },
    "hidden": true
   },
   "outputs": [],
   "source": [
    "d = Pipe.parameters\n",
    "for k in d.keys():\n",
    "    print(k,':',d[k])"
   ]
  },
  {
   "cell_type": "markdown",
   "metadata": {
    "heading_collapsed": true
   },
   "source": [
    "## Input  Datasets"
   ]
  },
  {
   "cell_type": "markdown",
   "metadata": {
    "heading_collapsed": true,
    "hidden": true
   },
   "source": [
    "### pydataset"
   ]
  },
  {
   "cell_type": "markdown",
   "metadata": {
    "hidden": true
   },
   "source": [
    "Start with importing data():\n",
    "\n",
    "* from pydataset import data\n",
    "* To load a dataset:\n",
    "* `titanic = data('titanic') `\n",
    "\n",
    "* To display the documentation of a dataset:\n",
    "* `data('titanic', show_doc=True)`\n",
    "* To see the available datasets:\n",
    "* `data()`"
   ]
  },
  {
   "cell_type": "code",
   "execution_count": null,
   "metadata": {
    "ExecuteTime": {
     "end_time": "2019-06-04T00:15:07.348889Z",
     "start_time": "2019-06-04T00:15:00.841Z"
    },
    "hidden": true
   },
   "outputs": [],
   "source": [
    "from pydataset import data\n",
    "df_data = data()\n",
    "df_data"
   ]
  },
  {
   "cell_type": "code",
   "execution_count": null,
   "metadata": {
    "ExecuteTime": {
     "end_time": "2019-06-04T00:15:07.350367Z",
     "start_time": "2019-06-04T00:15:00.844Z"
    },
    "hidden": true
   },
   "outputs": [],
   "source": [
    "titanic = data('titanic')\n",
    "display(titanic)"
   ]
  },
  {
   "cell_type": "markdown",
   "metadata": {
    "heading_collapsed": true,
    "hidden": true
   },
   "source": [
    "### mtcars"
   ]
  },
  {
   "cell_type": "code",
   "execution_count": null,
   "metadata": {
    "ExecuteTime": {
     "end_time": "2019-06-04T00:15:07.352201Z",
     "start_time": "2019-06-04T00:15:00.848Z"
    },
    "hidden": true
   },
   "outputs": [],
   "source": [
    "mtcars = data('mtcars')\n",
    "display(mtcars)\n",
    "mtcars[['mpg','cyl']].boxplot(by = 'cyl',fontsize=12,figsize=(6,4))\n",
    "mtcars[['mpg','hp']].boxplot(by = 'hp',fontsize=8,figsize=(12,4))\n",
    "mtcars[['mpg','carb']].boxplot(by = 'carb',fontsize=12,figsize=(6,4))"
   ]
  },
  {
   "cell_type": "markdown",
   "metadata": {
    "heading_collapsed": true,
    "hidden": true
   },
   "source": [
    "### presidents"
   ]
  },
  {
   "cell_type": "code",
   "execution_count": null,
   "metadata": {
    "ExecuteTime": {
     "end_time": "2019-06-04T00:15:07.353846Z",
     "start_time": "2019-06-04T00:15:00.851Z"
    },
    "hidden": true
   },
   "outputs": [],
   "source": [
    "presidents = data('presidents')\n",
    "presidents['m'] = round((presidents['time'] % 1)*12).astype(np.int)\n",
    "presidents['y'] = presidents['time'].astype(np.int)\n",
    "presidents[['y','presidents']].boxplot(by = 'y',fontsize=8,figsize=(12,4))\n"
   ]
  },
  {
   "cell_type": "code",
   "execution_count": null,
   "metadata": {
    "ExecuteTime": {
     "end_time": "2019-06-04T00:15:07.355673Z",
     "start_time": "2019-06-04T00:15:00.854Z"
    },
    "hidden": true
   },
   "outputs": [],
   "source": [
    "presidents.head(5)"
   ]
  },
  {
   "cell_type": "markdown",
   "metadata": {
    "heading_collapsed": true,
    "hidden": true
   },
   "source": [
    "### UKDriverDeaths"
   ]
  },
  {
   "cell_type": "code",
   "execution_count": null,
   "metadata": {
    "ExecuteTime": {
     "end_time": "2019-06-04T00:15:07.357289Z",
     "start_time": "2019-06-04T00:15:00.857Z"
    },
    "hidden": true
   },
   "outputs": [],
   "source": [
    "# float, integer\n",
    "UKDriverDeaths = data('UKDriverDeaths')\n",
    "UKDriverDeaths['m'] = round((UKDriverDeaths['time'] % 1)*12).astype(np.int)\n",
    "UKDriverDeaths['y'] = UKDriverDeaths['time'].astype(np.int)\n",
    "UKDriverDeaths.head(5)"
   ]
  },
  {
   "cell_type": "code",
   "execution_count": null,
   "metadata": {
    "ExecuteTime": {
     "end_time": "2019-06-04T00:15:07.358908Z",
     "start_time": "2019-06-04T00:15:00.860Z"
    },
    "hidden": true
   },
   "outputs": [],
   "source": [
    "UKDriverDeaths[['m','UKDriverDeaths']].boxplot(by = 'm')"
   ]
  },
  {
   "cell_type": "markdown",
   "metadata": {
    "heading_collapsed": true,
    "hidden": true
   },
   "source": [
    "### sunspot"
   ]
  },
  {
   "cell_type": "code",
   "execution_count": null,
   "metadata": {
    "ExecuteTime": {
     "end_time": "2019-06-04T00:15:07.360328Z",
     "start_time": "2019-06-04T00:15:00.863Z"
    },
    "hidden": true
   },
   "outputs": [],
   "source": [
    "# float, integer\n",
    "data('sunspot.month', show_doc=True)\n",
    "sunspot = data('sunspot.month')\n",
    "sunspot['m'] = round((sunspot['time'] % 1)*12).astype(np.int)\n",
    "sunspot['y'] = sunspot['time'].astype(np.int)\n",
    "display(sunspot.head())\n",
    "sunspot[['m','sunspot.month']].boxplot(by = 'm')"
   ]
  },
  {
   "cell_type": "code",
   "execution_count": null,
   "metadata": {
    "ExecuteTime": {
     "end_time": "2019-06-04T00:15:07.361957Z",
     "start_time": "2019-06-04T00:15:00.866Z"
    },
    "hidden": true
   },
   "outputs": [],
   "source": [
    "sunspot.plot.scatter(x = 'y',y = 'sunspot.month' )"
   ]
  },
  {
   "cell_type": "markdown",
   "metadata": {
    "heading_collapsed": true,
    "hidden": true
   },
   "source": [
    "### Iris"
   ]
  },
  {
   "cell_type": "code",
   "execution_count": null,
   "metadata": {
    "ExecuteTime": {
     "end_time": "2019-06-04T00:15:07.363451Z",
     "start_time": "2019-06-04T00:15:00.870Z"
    },
    "hidden": true
   },
   "outputs": [],
   "source": [
    "data('iris', show_doc=True)\n",
    "iris = data('iris')\n",
    "iris.head()"
   ]
  },
  {
   "cell_type": "markdown",
   "metadata": {
    "heading_collapsed": true,
    "hidden": true
   },
   "source": [
    "### Boston Dataset"
   ]
  },
  {
   "cell_type": "code",
   "execution_count": null,
   "metadata": {
    "ExecuteTime": {
     "end_time": "2019-06-04T00:15:07.365209Z",
     "start_time": "2019-06-04T00:15:00.873Z"
    },
    "hidden": true
   },
   "outputs": [],
   "source": [
    "from sklearn.datasets import load_boston\n",
    "boston = load_boston()\n",
    "\n",
    "logger.info(boston.feature_names)\n",
    "logger.info(boston.DESCR)\n",
    "City = pd.DataFrame(boston.data, columns = boston.feature_names )\n",
    "#City = City[['CRIM', 'INDUS','NOX','TAX','B']]\n",
    "City_y = boston.target\n",
    "logger.info(City.shape)\n",
    "logger.info(City_y.shape)\n",
    "logger.info(City.dtypes)\n",
    "logger.info(City.columns)\n",
    "logger.info(display(City.head()))"
   ]
  },
  {
   "cell_type": "markdown",
   "metadata": {
    "hidden": true
   },
   "source": [
    "A dataset that illustrates the range of distributional behavior is the Boston Boston dataframe.  This dataframe includes 14 numerical variables that characterize 506 suburban housing tracts in the Boston area: 12 of these variables have class “numeric” and the remaining two have class “integer”.  \n",
    "\n",
    "-  the distribution of crim is very asymmetric with an extremely heavy right tail;\n",
    "- the distribution of lstat is also clearly asymmetric but far less so;\n",
    "- the distribution of rm appears to be almost Gaussian; \n",
    "- the distribution of zn appears to be tri-modal, mostly concentrated around zero, but with clear secondary peaks at around 20 and 80."
   ]
  },
  {
   "cell_type": "markdown",
   "metadata": {
    "heading_collapsed": true,
    "hidden": true
   },
   "source": [
    "### Housing Dataset"
   ]
  },
  {
   "cell_type": "markdown",
   "metadata": {
    "hidden": true
   },
   "source": [
    "- Feature 0 (median income in a block) and feature 5 (number of households) of\n",
    "the `California housing dataset\n",
    "<http://www.dcc.fc.up.pt/~ltorgo/Regression/cal_housing.html>`_ have very\n",
    "different scales and contain some very large outliers. These two\n",
    "characteristics lead to difficulties to visualize the data and, more\n",
    "importantly, they can degrade the predictive performance of many machine\n",
    "learning algorithms. Unscaled data can also slow down or even prevent the\n",
    "convergence of many gradient-based estimators.\n",
    "- Indeed many estimators are designed with the assumption that each feature takes\n",
    "values close to zero or more importantly that all features vary on comparable\n",
    "scales. In particular, metric-based and gradient-based estimators often assume\n",
    "approximately standardized data (centered features with unit variances). A\n",
    "notable exception are decision tree-based estimators that are robust to\n",
    "arbitrary scaling of the data."
   ]
  },
  {
   "cell_type": "code",
   "execution_count": null,
   "metadata": {
    "ExecuteTime": {
     "end_time": "2019-06-04T00:15:07.366563Z",
     "start_time": "2019-06-04T00:15:00.877Z"
    },
    "hidden": true
   },
   "outputs": [],
   "source": [
    "from sklearn.datasets import fetch_california_housing\n",
    "print(__doc__)\n",
    "dataset = fetch_california_housing()\n",
    "logger.info(dataset.DESCR) \n",
    "Housing = pd.DataFrame(dataset.data, columns = dataset.feature_names)\n",
    "Housing_y = dataset.target\n",
    "#keeppers = ['MedInc', 'HouseAge', 'AveRooms'\n",
    "#                   , 'AveBedrms', 'Population', 'AveOccup']\n",
    "#Housing = Housing[keeppers]\n",
    "logger.info(Housing.shape)\n",
    "logger.info('Housing features:')\n",
    "logger.info(Housing.dtypes)\n",
    "logger.info('Housing target: HouseValue')\n",
    "logger.info(Housing_y.shape)\n",
    "logger.info(display(Housing.head()))"
   ]
  },
  {
   "cell_type": "markdown",
   "metadata": {
    "heading_collapsed": true,
    "hidden": true
   },
   "source": [
    "### define df Internet traffic"
   ]
  },
  {
   "cell_type": "code",
   "execution_count": null,
   "metadata": {
    "ExecuteTime": {
     "end_time": "2019-06-04T00:15:07.368329Z",
     "start_time": "2019-06-04T00:15:00.880Z"
    },
    "hidden": true
   },
   "outputs": [],
   "source": [
    "dates =[\n",
    "    '6/7/05 7:00',\n",
    "'6/7/05 8:00',\n",
    "'6/7/05 9:00',\n",
    "'6/7/05 10:00',\n",
    "'6/7/05 11:00',\n",
    "'6/7/05 12:00',\n",
    "'6/7/05 13:00',\n",
    "'6/7/05 14:00',\n",
    "'6/7/05 15:00',\n",
    "'6/7/05 16:00',\n",
    "'6/7/05 17:00',\n",
    "'6/7/05 18:00',\n",
    "'6/7/05 19:00',\n",
    "'6/7/05 20:00',\n",
    "'6/7/05 21:00',\n",
    "'6/7/05 22:00',\n",
    "'6/7/05 23:00',\n",
    "'6/8/05 0:00',\n",
    "'6/8/05 1:00',\n",
    "'6/8/05 2:00',\n",
    "'6/8/05 3:00',\n",
    "'6/8/05 4:00',\n",
    "'6/8/05 5:00',\n",
    "'6/8/05 6:00',\n",
    "'6/8/05 7:00',\n",
    "'6/8/05 8:00',\n",
    "'6/8/05 9:00',\n",
    "'6/8/05 10:00',\n",
    "'6/8/05 11:00',\n",
    "'6/8/05 12:00',\n",
    "'6/8/05 13:00',\n",
    "'6/8/05 14:00',\n",
    "'6/8/05 15:00',\n",
    "'6/8/05 16:00',\n",
    "'6/8/05 17:00',\n",
    "'6/8/05 18:00',\n",
    "'6/8/05 19:00',\n",
    "'6/8/05 20:00',\n",
    "'6/8/05 21:00',\n",
    "'6/8/05 22:00',\n",
    "'6/8/05 23:00',\n",
    "'6/9/05 0:00',\n",
    "'6/9/05 1:00',\n",
    "'6/9/05 2:00',\n",
    "'6/9/05 3:00',\n",
    "'6/9/05 4:00',\n",
    "'6/9/05 5:00',\n",
    "'6/9/05 6:00',\n",
    "'6/9/05 7:00',\n",
    "'6/9/05 8:00',\n",
    "'6/9/05 9:00',\n",
    "'6/9/05 10:00',\n",
    "'6/9/05 11:00',\n",
    "'6/9/05 12:00',\n",
    "'6/9/05 13:00',\n",
    "'6/9/05 14:00',\n",
    "'6/9/05 15:00',\n",
    "'6/9/05 16:00',\n",
    "'6/9/05 17:00'\n",
    "]\n",
    "\n",
    "bits = [\n",
    "56718587433\t,\n",
    "76456162968\t,\n",
    "82534038485\t,\n",
    "88796995092\t,\n",
    "90247922345\t,\n",
    "90146117117\t,\n",
    "90457410673\t,\n",
    "89967660859\t,\n",
    "87211742250\t,\n",
    "73610634839\t,\n",
    "56695326238\t,\n",
    "48110601866\t,\n",
    "44406878766\t,\n",
    "43050199070\t,\n",
    "36961508495\t,\n",
    "31555022712\t,\n",
    "27467342825\t,\n",
    "25041832565\t,\n",
    "21160963384\t,\n",
    "19820358830\t,\n",
    "19088172849\t,\n",
    "23204098006\t,\n",
    "26290215100\t,\n",
    "42380697686\t,\n",
    "70062696507\t,\n",
    "80545779973\t,\n",
    "92844295517\t,\n",
    "96880965179\t,\n",
    "90932927706\t,\n",
    "91291134373\t,\n",
    "91713661478\t,\n",
    "90959467260\t,\n",
    "79385942062\t,\n",
    "62489604464\t,\n",
    "56243244765\t,\n",
    "50040519394\t,\n",
    "46874882633\t,\n",
    "41135776475\t,\n",
    "33502564447\t,\n",
    "28113068984\t,\n",
    "24938212968\t,\n",
    "21893717932\t,\n",
    "20344443618\t,\n",
    "19757922807\t,\n",
    "19588672617\t,\n",
    "21350728448\t,\n",
    "34965445638\t,\n",
    "58397356904\t,\n",
    "79198224742\t,\n",
    "89726734078\t,\n",
    "92701958472\t,\n",
    "89941544749\t,\n",
    "93225272251\t,\n",
    "93840519305\t,\n",
    "91765453742\t,\n",
    "84996841280\t,\n",
    "70779170417\t,\n",
    "53526087319\t,\n",
    "46784929778\t\n",
    "]"
   ]
  },
  {
   "cell_type": "code",
   "execution_count": null,
   "metadata": {
    "ExecuteTime": {
     "end_time": "2019-06-04T00:15:07.369747Z",
     "start_time": "2019-06-04T00:15:00.883Z"
    },
    "hidden": true
   },
   "outputs": [],
   "source": [
    "logger=get_paso_log('paso2222')\n",
    "internet_traffic = pd.DataFrame(dates,columns=['date'])\n",
    "internet_traffic['bit'] = bits\n",
    "internet_traffic['byte'] = internet_traffic['bit']/8.\n",
    "logger.info(internet_traffic.shape)\n",
    "logger.info(display(internet_traffic.dtypes))\n",
    "logger.info(display(internet_traffic.head()))"
   ]
  },
  {
   "cell_type": "markdown",
   "metadata": {},
   "source": [
    "# toCategory  test"
   ]
  },
  {
   "cell_type": "markdown",
   "metadata": {},
   "source": [
    "## toCategory  internet traffic"
   ]
  },
  {
   "cell_type": "code",
   "execution_count": null,
   "metadata": {
    "ExecuteTime": {
     "end_time": "2019-06-04T00:15:07.371228Z",
     "start_time": "2019-06-04T00:15:00.886Z"
    }
   },
   "outputs": [],
   "source": [
    "toCategory().transform(internet_traffic,objects=False).shape"
   ]
  },
  {
   "cell_type": "code",
   "execution_count": null,
   "metadata": {
    "ExecuteTime": {
     "end_time": "2019-06-04T00:15:07.372634Z",
     "start_time": "2019-06-04T00:15:00.889Z"
    }
   },
   "outputs": [],
   "source": [
    "internet_traffic_tmp = internet_traffic.copy()\n",
    "internet_traffic_tmp['date'] = pd.to_datetime(internet_traffic['date'])\n",
    "toCategory().transform(internet_traffic_tmp,inplace=True).head()\n",
    "internet_traffic.dtypes,internet_traffic_tmp.dtypes"
   ]
  },
  {
   "cell_type": "markdown",
   "metadata": {
    "heading_collapsed": true
   },
   "source": [
    "## Categoryategory Housing"
   ]
  },
  {
   "cell_type": "code",
   "execution_count": null,
   "metadata": {
    "ExecuteTime": {
     "end_time": "2019-06-04T00:15:07.373970Z",
     "start_time": "2019-06-04T00:15:00.892Z"
    },
    "hidden": true
   },
   "outputs": [],
   "source": [
    "bh = pd.concat([Housing\n",
    "           , Housing\n",
    "           , Housing\n",
    "           , Housing\n",
    "           , Housing\n",
    "          ], axis=0)\n",
    "bh.shape"
   ]
  },
  {
   "cell_type": "code",
   "execution_count": null,
   "metadata": {
    "ExecuteTime": {
     "end_time": "2019-06-04T00:15:07.375503Z",
     "start_time": "2019-06-04T00:15:00.895Z"
    },
    "hidden": true
   },
   "outputs": [],
   "source": [
    "bbh = pd.concat([bh, bh\n",
    "           , bh, bh\n",
    "           , bh, bh\n",
    "           , bh, bh\n",
    "           , bh, bh\n",
    "          ], axis=0)\n",
    "print('Shape:{}'.format(bbh.shape))"
   ]
  },
  {
   "cell_type": "code",
   "execution_count": null,
   "metadata": {
    "ExecuteTime": {
     "end_time": "2019-06-04T00:15:07.376960Z",
     "start_time": "2019-06-04T00:15:00.897Z"
    },
    "hidden": true
   },
   "outputs": [],
   "source": [
    "bbbh = pd.concat([bbh, bbh\n",
    "           , bbh, bbh\n",
    "           , bbh, bbh\n",
    "           , bbh, bbh\n",
    "           , bbh, bbh\n",
    "          ], axis=0)\n",
    "print('Shape:{}'.format(bbbh.shape))"
   ]
  },
  {
   "cell_type": "code",
   "execution_count": null,
   "metadata": {
    "ExecuteTime": {
     "end_time": "2019-06-04T00:15:07.378758Z",
     "start_time": "2019-06-04T00:15:00.900Z"
    },
    "hidden": true
   },
   "outputs": [],
   "source": [
    "b4h = pd.concat([bbbh, bbbh\n",
    "           , bbbh, bbbh\n",
    "           , bbbh, bbbh\n",
    "           , bbbh, bbbh\n",
    "           , bbbh, bbbh\n",
    "          ], axis=0)\n",
    "\n",
    "\n",
    "print('Shape:{}'.format(b4h.shape))"
   ]
  },
  {
   "cell_type": "code",
   "execution_count": null,
   "metadata": {
    "ExecuteTime": {
     "end_time": "2019-06-04T00:15:07.380447Z",
     "start_time": "2019-06-04T00:15:00.903Z"
    },
    "hidden": true
   },
   "outputs": [],
   "source": [
    "%timeit -r 3 toCategory(verbose=True).transform(Housing)"
   ]
  },
  {
   "cell_type": "markdown",
   "metadata": {
    "hidden": true
   },
   "source": [
    "For above shape requires the above time per call. Currently this is 1,000,000 x 8 columns requires 18 ms. Now turn off logging.\n",
    "\n",
    "It appears logging adds 12\\% to 15\\%."
   ]
  },
  {
   "cell_type": "code",
   "execution_count": null,
   "metadata": {
    "ExecuteTime": {
     "end_time": "2019-06-04T00:15:07.382097Z",
     "start_time": "2019-06-04T00:15:00.905Z"
    },
    "hidden": true
   },
   "outputs": [],
   "source": [
    " %timeit -r 3 toCategory(verbose=False).transform(Housing)"
   ]
  },
  {
   "cell_type": "code",
   "execution_count": null,
   "metadata": {
    "ExecuteTime": {
     "end_time": "2019-06-04T00:15:07.383696Z",
     "start_time": "2019-06-04T00:15:00.908Z"
    },
    "hidden": true
   },
   "outputs": [],
   "source": [
    "toCategory(verbose=False).transform(Housing,inplace=True)\n",
    "Housing.shape"
   ]
  },
  {
   "cell_type": "markdown",
   "metadata": {},
   "source": [
    "# toContinuousCategory  test"
   ]
  },
  {
   "cell_type": "markdown",
   "metadata": {
    "ExecuteTime": {
     "end_time": "2019-03-03T23:17:50.170519Z",
     "start_time": "2019-03-03T23:17:50.109116Z"
    },
    "heading_collapsed": true
   },
   "source": [
    "## define internet df again"
   ]
  },
  {
   "cell_type": "code",
   "execution_count": null,
   "metadata": {
    "ExecuteTime": {
     "end_time": "2019-06-04T00:15:07.385311Z",
     "start_time": "2019-06-04T00:15:00.911Z"
    },
    "hidden": true
   },
   "outputs": [],
   "source": [
    "dates =[\n",
    "    '6/7/05 7:00',\n",
    "'6/7/05 8:00',\n",
    "'6/7/05 9:00',\n",
    "'6/7/05 10:00',\n",
    "'6/7/05 11:00',\n",
    "'6/7/05 12:00',\n",
    "'6/7/05 13:00',\n",
    "'6/7/05 14:00',\n",
    "'6/7/05 15:00',\n",
    "'6/7/05 16:00',\n",
    "'6/7/05 17:00',\n",
    "'6/7/05 18:00',\n",
    "'6/7/05 19:00',\n",
    "'6/7/05 20:00',\n",
    "'6/7/05 21:00',\n",
    "'6/7/05 22:00',\n",
    "'6/7/05 23:00',\n",
    "'6/8/05 0:00',\n",
    "'6/8/05 1:00',\n",
    "'6/8/05 2:00',\n",
    "'6/8/05 3:00',\n",
    "'6/8/05 4:00',\n",
    "'6/8/05 5:00',\n",
    "'6/8/05 6:00',\n",
    "'6/8/05 7:00',\n",
    "'6/8/05 8:00',\n",
    "'6/8/05 9:00',\n",
    "'6/8/05 10:00',\n",
    "'6/8/05 11:00',\n",
    "'6/8/05 12:00',\n",
    "'6/8/05 13:00',\n",
    "'6/8/05 14:00',\n",
    "'6/8/05 15:00',\n",
    "'6/8/05 16:00',\n",
    "'6/8/05 17:00',\n",
    "'6/8/05 18:00',\n",
    "'6/8/05 19:00',\n",
    "'6/8/05 20:00',\n",
    "'6/8/05 21:00',\n",
    "'6/8/05 22:00',\n",
    "'6/8/05 23:00',\n",
    "'6/9/05 0:00',\n",
    "'6/9/05 1:00',\n",
    "'6/9/05 2:00',\n",
    "'6/9/05 3:00',\n",
    "'6/9/05 4:00',\n",
    "'6/9/05 5:00',\n",
    "'6/9/05 6:00',\n",
    "'6/9/05 7:00',\n",
    "'6/9/05 8:00',\n",
    "'6/9/05 9:00',\n",
    "'6/9/05 10:00',\n",
    "'6/9/05 11:00',\n",
    "'6/9/05 12:00',\n",
    "'6/9/05 13:00',\n",
    "'6/9/05 14:00',\n",
    "'6/9/05 15:00',\n",
    "'6/9/05 16:00',\n",
    "'6/9/05 17:00'\n",
    "]\n",
    "\n",
    "bits = [\n",
    "56718587433\t,\n",
    "76456162968\t,\n",
    "82534038485\t,\n",
    "88796995092\t,\n",
    "90247922345\t,\n",
    "90146117117\t,\n",
    "90457410673\t,\n",
    "89967660859\t,\n",
    "87211742250\t,\n",
    "73610634839\t,\n",
    "56695326238\t,\n",
    "48110601866\t,\n",
    "44406878766\t,\n",
    "43050199070\t,\n",
    "36961508495\t,\n",
    "31555022712\t,\n",
    "27467342825\t,\n",
    "25041832565\t,\n",
    "21160963384\t,\n",
    "19820358830\t,\n",
    "19088172849\t,\n",
    "23204098006\t,\n",
    "26290215100\t,\n",
    "42380697686\t,\n",
    "70062696507\t,\n",
    "80545779973\t,\n",
    "92844295517\t,\n",
    "96880965179\t,\n",
    "90932927706\t,\n",
    "91291134373\t,\n",
    "91713661478\t,\n",
    "90959467260\t,\n",
    "79385942062\t,\n",
    "62489604464\t,\n",
    "56243244765\t,\n",
    "50040519394\t,\n",
    "46874882633\t,\n",
    "41135776475\t,\n",
    "33502564447\t,\n",
    "28113068984\t,\n",
    "24938212968\t,\n",
    "21893717932\t,\n",
    "20344443618\t,\n",
    "19757922807\t,\n",
    "19588672617\t,\n",
    "21350728448\t,\n",
    "34965445638\t,\n",
    "58397356904\t,\n",
    "79198224742\t,\n",
    "89726734078\t,\n",
    "92701958472\t,\n",
    "89941544749\t,\n",
    "93225272251\t,\n",
    "93840519305\t,\n",
    "91765453742\t,\n",
    "84996841280\t,\n",
    "70779170417\t,\n",
    "53526087319\t,\n",
    "46784929778\n",
    "]\n",
    "\n",
    "internet_traffic = pd.DataFrame(dates, columns=['date'])\n",
    "internet_traffic['bit'] = bits\n",
    "internet_traffic['byte'] = internet_traffic['bit'] / 8.\n",
    "df_internet_traffic=internet_traffic.copy()"
   ]
  },
  {
   "cell_type": "markdown",
   "metadata": {},
   "source": [
    "## City"
   ]
  },
  {
   "cell_type": "code",
   "execution_count": null,
   "metadata": {
    "ExecuteTime": {
     "end_time": "2019-06-04T00:15:07.386898Z",
     "start_time": "2019-06-04T00:15:00.914Z"
    }
   },
   "outputs": [],
   "source": [
    " g = ContinuoustoCategory()\n",
    "(g.transform(df_internet_traffic,integer=False,floaty=False) == df_internet_traffic.astype('category')).all()"
   ]
  },
  {
   "cell_type": "code",
   "execution_count": null,
   "metadata": {
    "ExecuteTime": {
     "end_time": "2019-06-04T00:15:07.388276Z",
     "start_time": "2019-06-04T00:15:00.917Z"
    },
    "scrolled": true
   },
   "outputs": [],
   "source": [
    "City_tmp = City.copy()\n",
    "(ContinuoustoCategory(verbose=True).transform(City_tmp,drop=True,inplace=True).columns ==\\\n",
    "['CRIM_qbin', 'ZN_qbin', 'INDUS_qbin', 'CHAS_qbin', 'NOX_qbin',\n",
    "       'RM_qbin', 'AGE_qbin', 'DIS_qbin', 'RAD_qbin', 'TAX_qbin',\n",
    "       'PTRATIO_qbin', 'B_qbin', 'LSTAT_qbin']).all()"
   ]
  },
  {
   "cell_type": "markdown",
   "metadata": {},
   "source": [
    "## show speedup of .cacheOn()"
   ]
  },
  {
   "cell_type": "code",
   "execution_count": null,
   "metadata": {
    "ExecuteTime": {
     "end_time": "2019-06-04T00:15:07.389853Z",
     "start_time": "2019-06-04T00:15:00.921Z"
    }
   },
   "outputs": [],
   "source": [
    "City_tmp = City.copy()\n",
    "ContinuoustoCategory(verbose=True).transform(City_tmp,drop=False,inplace=True).iloc[:,0]\n",
    "toCategory(verbose=True).transform(City_tmp,drop=True,inplace=True).head()"
   ]
  },
  {
   "cell_type": "code",
   "execution_count": null,
   "metadata": {
    "ExecuteTime": {
     "end_time": "2019-06-04T00:15:07.391633Z",
     "start_time": "2019-06-04T00:15:00.923Z"
    }
   },
   "outputs": [],
   "source": [
    "City_tmp = City.copy()\n",
    "%timeit ContinuoustoCategory(verbose=False).transform(City_tmp,drop=False,inplace=False)\n",
    "%timeit toCategory(verbose=False).transform(City_tmp,drop=True,inplace=False).head()"
   ]
  },
  {
   "cell_type": "code",
   "execution_count": null,
   "metadata": {
    "ExecuteTime": {
     "end_time": "2019-06-04T00:15:07.393527Z",
     "start_time": "2019-06-04T00:15:00.926Z"
    }
   },
   "outputs": [],
   "source": [
    "City_tmp = City.copy()\n",
    "g = ContinuoustoCategory(verbose=False).cacheOn()\n",
    "g.transform(City_tmp,drop=True,inplace=False)\n",
    "%timeit g.transform(City_tmp,drop=False,inplace=True)\n",
    "h = toCategory(verbose=False).cacheOn()\n",
    "%timeit h.transform(City_tmp,drop=True,inplace=True)"
   ]
  },
  {
   "cell_type": "code",
   "execution_count": null,
   "metadata": {
    "ExecuteTime": {
     "end_time": "2019-06-04T00:15:07.395466Z",
     "start_time": "2019-06-04T00:15:00.929Z"
    }
   },
   "outputs": [],
   "source": [
    "cache_speedup = 128/1.96 *1000\n",
    "print('ContinuoustoCategory feature conversion speedup factor:{}',format(cache_speedup//1))\n",
    "cache_speedup = 3.6/1.93 * 1000\n",
    "print('toCaterogy no feature conversion speedup factor:{}',format(cache_speedup//1))"
   ]
  },
  {
   "cell_type": "markdown",
   "metadata": {
    "heading_collapsed": true
   },
   "source": [
    "## Housing"
   ]
  },
  {
   "cell_type": "code",
   "execution_count": null,
   "metadata": {
    "ExecuteTime": {
     "end_time": "2019-06-04T00:15:07.396855Z",
     "start_time": "2019-06-04T00:15:00.932Z"
    },
    "hidden": true
   },
   "outputs": [],
   "source": [
    "nredf = list(ContinuoustoCategory(verbose=True).transform(Housing,quantile_bins=False,nbins=10,drop=False,inplace=False))\n",
    "len(nredf)"
   ]
  },
  {
   "cell_type": "markdown",
   "metadata": {},
   "source": [
    "# DateTimeComponents"
   ]
  },
  {
   "cell_type": "markdown",
   "metadata": {},
   "source": [
    "## define datetime data"
   ]
  },
  {
   "cell_type": "code",
   "execution_count": null,
   "metadata": {
    "ExecuteTime": {
     "end_time": "2019-06-04T00:15:07.398614Z",
     "start_time": "2019-06-04T00:15:00.935Z"
    }
   },
   "outputs": [],
   "source": [
    "def df_small():\n",
    "    df = pd.DataFrame({\n",
    "        'datetime_S_column': ['11/11/1906', '11/11/1906', '11/11/1906 12:13:14', '11/11/1906', '11/11/1906'],\n",
    "        'datetime_NY_column': ['11/11/1906', '11/11/1907', '11/11/1908', '11/11/1909', '11/11/1910'],\n",
    "        'datetime_ND_column': ['11/11/1906', '11/12/1907', '11/13/1908', '11/14/1909', '11/15/1910'],\n",
    "        'datetime_NA_column': ['11/11/1906', np.nan, '11/11/1908', '11/11/1909', '11/11/1910'],\n",
    "        'datetime_EU_column': ['21.01.1906', '21.11.1907', '14.11.1908', '13.11.1909', '11.10.1910'],\n",
    "        'obj_column': ['red', 'blue', 'green', 'pink', np.nan],\n",
    "        'booly': [True, False, True, False, True],\n",
    "        'integer': [1, 2, 33, 44, 34],\n",
    "        'float': [1., 2., 35., 46, .37]\n",
    "            })\n",
    "    return (df)\n",
    "\n",
    "def df_small_no_NAf(df_small):\n",
    "    return (df_small().replace(to_replace=np.nan, value='11/11/1906'))\n",
    "\n",
    "df_small_no_NA = df_small_no_NAf(df_small)\n",
    "df_small_no_NA.dtypes"
   ]
  },
  {
   "cell_type": "markdown",
   "metadata": {
    "heading_collapsed": true
   },
   "source": [
    "## toDatetimeComponents(verbose=True)\n",
    "- .transform(dt,drop=True,inplace=True)\n",
    "\n"
   ]
  },
  {
   "cell_type": "code",
   "execution_count": null,
   "metadata": {
    "ExecuteTime": {
     "end_time": "2019-06-04T00:15:07.400401Z",
     "start_time": "2019-06-04T00:15:00.938Z"
    },
    "hidden": true
   },
   "outputs": [],
   "source": [
    "g = toDatetimeComponents(verbose=True)\n",
    "dt = df_small_no_NA.copy()\n",
    "for feature in dt.columns[0:6]:\n",
    "    dt[feature] = pd.to_datetime(dt[feature]\n",
    "                                 , exact=True\n",
    "                                 , errors ='ignore'\n",
    "                                 , infer_datetime_format=True) \n",
    "\n",
    "display(dt.dtypes)\n",
    "display(g.transform(dt,drop=True,inplace=True).shape[1])\n",
    "DataFrameSummary(dt).summary()"
   ]
  },
  {
   "cell_type": "markdown",
   "metadata": {},
   "source": [
    "## timeit with cache"
   ]
  },
  {
   "cell_type": "code",
   "execution_count": null,
   "metadata": {
    "ExecuteTime": {
     "end_time": "2019-06-04T00:15:07.402085Z",
     "start_time": "2019-06-04T00:15:00.942Z"
    }
   },
   "outputs": [],
   "source": [
    "g = toDatetimeComponents(verbose=False)\n",
    "dt = df_small_no_NA.copy()\n",
    "for feature in dt.columns[0:6]:\n",
    "    dt[feature] = pd.to_datetime(dt[feature]\n",
    "                                 , exact=True\n",
    "                                 , errors ='ignore'\n",
    "                                 , infer_datetime_format=True) \n",
    "\n",
    "%timeit g.transform(dt,drop=True,inplace=False)"
   ]
  },
  {
   "cell_type": "code",
   "execution_count": null,
   "metadata": {
    "ExecuteTime": {
     "end_time": "2019-06-04T00:15:07.403616Z",
     "start_time": "2019-06-04T00:15:00.944Z"
    }
   },
   "outputs": [],
   "source": [
    "g = toDatetimeComponents(verbose=False).cacheOn()\n",
    "dt = df_small_no_NA.copy()\n",
    "for feature in dt.columns[0:6]:\n",
    "    dt[feature] = pd.to_datetime(dt[feature]\n",
    "                                 , exact=True\n",
    "                                 , errors ='ignore'\n",
    "                                 , infer_datetime_format=True) \n",
    "\n",
    "%timeit g.transform(dt,drop=True,inplace=False)"
   ]
  },
  {
   "cell_type": "code",
   "execution_count": null,
   "metadata": {
    "ExecuteTime": {
     "end_time": "2019-06-04T00:15:07.404973Z",
     "start_time": "2019-06-04T00:15:00.947Z"
    }
   },
   "outputs": [],
   "source": [
    "63.7e03/1.92"
   ]
  },
  {
   "cell_type": "markdown",
   "metadata": {},
   "source": [
    "\n",
    "approximately 33,000x faster with cacheOn"
   ]
  },
  {
   "cell_type": "markdown",
   "metadata": {},
   "source": [
    "## read/wrire"
   ]
  },
  {
   "cell_type": "markdown",
   "metadata": {},
   "source": [
    "This will make this **paso** save the transform of ``f(x):x``, that once it's been computed once, it can later just read from permanent storage."
   ]
  },
  {
   "cell_type": "code",
   "execution_count": null,
   "metadata": {
    "ExecuteTime": {
     "end_time": "2019-06-04T00:15:07.406799Z",
     "start_time": "2019-06-04T00:15:00.952Z"
    }
   },
   "outputs": [],
   "source": [
    "g = toDatetimeComponents(verbose=False).cacheOn()\n",
    "dt = df_small_no_NA.copy()\n",
    "for feature in dt.columns[0:6]:\n",
    "    dt[feature] = pd.to_datetime(dt[feature]\n",
    "                                 , exact=True\n",
    "                                 , errors ='ignore'\n",
    "                                 , infer_datetime_format=True) \n",
    "g.transform(dt,drop=True,inplace=True)\n",
    "g.write('tmp/dt')\n",
    "DataFrameSummary(dt).summary()"
   ]
  },
  {
   "cell_type": "code",
   "execution_count": null,
   "metadata": {
    "ExecuteTime": {
     "end_time": "2019-06-04T00:15:07.408432Z",
     "start_time": "2019-06-04T00:15:00.956Z"
    }
   },
   "outputs": [],
   "source": [
    "dt2 = g.read()\n",
    "DataFrameSummary(dt2).summary()"
   ]
  },
  {
   "cell_type": "markdown",
   "metadata": {},
   "source": [
    "# DateTimetoCatergory"
   ]
  },
  {
   "cell_type": "code",
   "execution_count": null,
   "metadata": {},
   "outputs": [],
   "source": []
  },
  {
   "cell_type": "code",
   "execution_count": null,
   "metadata": {},
   "outputs": [],
   "source": []
  },
  {
   "cell_type": "code",
   "execution_count": null,
   "metadata": {},
   "outputs": [],
   "source": []
  },
  {
   "cell_type": "markdown",
   "metadata": {},
   "source": [
    "# EliminateUnviableFeatures"
   ]
  },
  {
   "cell_type": "code",
   "execution_count": null,
   "metadata": {
    "ExecuteTime": {
     "end_time": "2019-06-04T00:15:07.410123Z",
     "start_time": "2019-06-04T00:15:00.964Z"
    }
   },
   "outputs": [],
   "source": [
    "def X():\n",
    "    return np.array([\n",
    "            [4.2, 3.7, 8.9],\n",
    "            [3.1, 3.2, 0.5],\n",
    "            [1.4, 0.9, 8.9],\n",
    "            [5.8, 5.0, 2.4],\n",
    "            [5.6, 7.8, 2.4],\n",
    "            [0.1, 7.0, 0.2],\n",
    "            [8.3, 1.9, 7.8],\n",
    "            [3.8, 9.2, 2.8],\n",
    "            [5.3, 5.7, 4.5],\n",
    "            [6.8, 5.3, 3.2]\n",
    "        ])"
   ]
  },
  {
   "cell_type": "code",
   "execution_count": null,
   "metadata": {
    "ExecuteTime": {
     "end_time": "2019-06-04T00:15:07.411904Z",
     "start_time": "2019-06-04T00:15:00.967Z"
    }
   },
   "outputs": [],
   "source": [
    "def cn():\n",
    "    return ['integer_0','float_1','float_2']\n",
    "def df_typeNA():\n",
    "    return ((pd.DataFrame(X(), columns=[cn()])).replace(to_replace=5, value=np.nan))"
   ]
  },
  {
   "cell_type": "code",
   "execution_count": null,
   "metadata": {
    "ExecuteTime": {
     "end_time": "2019-06-04T00:15:07.413508Z",
     "start_time": "2019-06-04T00:15:00.969Z"
    }
   },
   "outputs": [],
   "source": [
    "g = EliminateUnviableFeatures()\n",
    "try: g.transform(df_typeNA())\n",
    "except:print('exception rose. as it should.')"
   ]
  },
  {
   "cell_type": "code",
   "execution_count": null,
   "metadata": {
    "ExecuteTime": {
     "end_time": "2019-06-04T00:15:07.415099Z",
     "start_time": "2019-06-04T00:15:00.972Z"
    }
   },
   "outputs": [],
   "source": [
    "def df_type():\n",
    "    return pd.DataFrame(X(), columns=[cn()])\n",
    "\n",
    "def df_typeDup():\n",
    "    df =  pd.DataFrame(X(), columns=[cn()])\n",
    "    df['float_1'] = df['float_2'].values\n",
    "    return(df)\n",
    "\n",
    "def cno():\n",
    "    return ['integer_10', 'float_11', 'float_12']\n",
    "\n",
    "def df_typeo():\n",
    "    return pd.DataFrame(X(), columns=[cno()])"
   ]
  },
  {
   "cell_type": "code",
   "execution_count": null,
   "metadata": {
    "ExecuteTime": {
     "end_time": "2019-06-04T00:15:07.416447Z",
     "start_time": "2019-06-04T00:15:00.975Z"
    }
   },
   "outputs": [],
   "source": [
    "g = EliminateUnviableFeatures()\n",
    "g.transform(df_type(), Yarg=df_type(),inplace=True)"
   ]
  },
  {
   "cell_type": "code",
   "execution_count": null,
   "metadata": {
    "ExecuteTime": {
     "end_time": "2019-06-04T00:15:07.417895Z",
     "start_time": "2019-06-04T00:15:00.977Z"
    }
   },
   "outputs": [],
   "source": [
    "g = EliminateUnviableFeatures()\n",
    "g.transform(df_type(), Yarg=City)"
   ]
  },
  {
   "cell_type": "markdown",
   "metadata": {},
   "source": [
    "# Scale"
   ]
  },
  {
   "cell_type": "code",
   "execution_count": null,
   "metadata": {
    "ExecuteTime": {
     "end_time": "2019-06-04T00:15:07.419603Z",
     "start_time": "2019-06-04T00:15:00.980Z"
    }
   },
   "outputs": [],
   "source": [
    "import multiprocessing\n",
    "multiprocessing.cpu_count()"
   ]
  },
  {
   "cell_type": "markdown",
   "metadata": {},
   "source": [
    "# Dask"
   ]
  },
  {
   "cell_type": "code",
   "execution_count": null,
   "metadata": {
    "ExecuteTime": {
     "end_time": "2019-06-04T00:15:07.420961Z",
     "start_time": "2019-06-04T00:15:00.983Z"
    }
   },
   "outputs": [],
   "source": [
    "import dask.dataframe as pdd\n",
    "import multiprocessing as mp"
   ]
  },
  {
   "cell_type": "code",
   "execution_count": null,
   "metadata": {
    "ExecuteTime": {
     "end_time": "2019-06-04T00:15:07.422884Z",
     "start_time": "2019-06-04T00:15:00.985Z"
    }
   },
   "outputs": [],
   "source": [
    "#import graphviz\n",
    "#b4hd.visualize()"
   ]
  },
  {
   "cell_type": "code",
   "execution_count": null,
   "metadata": {
    "ExecuteTime": {
     "end_time": "2019-06-04T00:15:07.424958Z",
     "start_time": "2019-06-04T00:15:00.988Z"
    }
   },
   "outputs": [],
   "source": [
    "df = dask_pandas_ratio()\n",
    "df.loc[0,0] == 'count'"
   ]
  },
  {
   "cell_type": "markdown",
   "metadata": {
    "ExecuteTime": {
     "end_time": "2019-03-20T00:16:47.683046Z",
     "start_time": "2019-03-20T00:13:43.877Z"
    }
   },
   "source": [
    "For highly parallel operations, with a threadcount = 24, then choose dask when the number of elements is greater than 1.0e06. For not very parallel operations, with a threadcount = 24, then choose dask when the number of elements is greater than 1.0e07.  Ignore isnull() as outlier because very fast for pandas.\n",
    "\n",
    "in general about 10x faster or more when using dask on dataframes with more than 1.0e07 elements."
   ]
  },
  {
   "cell_type": "markdown",
   "metadata": {},
   "source": [
    "# Scale"
   ]
  },
  {
   "cell_type": "code",
   "execution_count": null,
   "metadata": {
    "ExecuteTime": {
     "end_time": "2019-06-04T00:15:07.426519Z",
     "start_time": "2019-06-04T00:15:00.991Z"
    }
   },
   "outputs": [],
   "source": [
    "from paso.pre.scale import scaler\n",
    "g = scaler('LambertScaler')\n",
    "g.train(City) == g\n",
    "Pipe.display_DAG()"
   ]
  },
  {
   "cell_type": "markdown",
   "metadata": {},
   "source": [
    "## _select_type"
   ]
  },
  {
   "cell_type": "code",
   "execution_count": null,
   "metadata": {
    "ExecuteTime": {
     "end_time": "2019-06-04T00:15:07.428267Z",
     "start_time": "2019-06-04T00:15:00.994Z"
    }
   },
   "outputs": [],
   "source": [
    "def _select_type(X,dtype_):\n",
    "        if X.ndim == 1:  #series or 1-feature array\n",
    "            print(X.dtypes)\n",
    "            if X.dtypes ==  dtype_:\n",
    "                return X\n",
    "            else: return pd.DataFrame()  # not dtype_, return empty DataFrame\n",
    "        elif X.shape[1] <= 0:\n",
    "            raise TypeError('toDatetimeComponents:length le 0. {}'.fornat(str(X.shape[1])))\n",
    "        else:\n",
    "            Z = X.select_dtypes(include=[dtype_])\n",
    "            return Z"
   ]
  },
  {
   "cell_type": "markdown",
   "metadata": {},
   "source": [
    "### create some test df's"
   ]
  },
  {
   "cell_type": "code",
   "execution_count": null,
   "metadata": {
    "ExecuteTime": {
     "end_time": "2019-06-04T00:15:07.429787Z",
     "start_time": "2019-06-04T00:15:00.997Z"
    }
   },
   "outputs": [],
   "source": [
    "df = pd.DataFrame([\n",
    "    ['a1', 'b', 'c1'],\n",
    "    ['a2', 'b', 'c2'],\n",
    "    ['a3', 'b', 'c3'],\n",
    "    ['a4', 'b', 'c4'],\n",
    "    ['a5', 'b', 'c5'],\n",
    "    ['a6', 'b', 'c6'],\n",
    "    ['a7', 'b', 'c7'],\n",
    "    ['a8', 'b', 'c8'],\n",
    "    ['a9', 'b', 'c9'],\n",
    "    ['a0', 'b', 'c01'],\n",
    "    ['a01', 'b', 'c02'],\n",
    "    ['a02', 'b', 'c03']\n",
    "])\n",
    "df.dtypes"
   ]
  },
  {
   "cell_type": "code",
   "execution_count": null,
   "metadata": {
    "ExecuteTime": {
     "end_time": "2019-06-04T00:15:07.431284Z",
     "start_time": "2019-06-04T00:15:00.999Z"
    }
   },
   "outputs": [],
   "source": [
    "df2 = pd.DataFrame([\n",
    "    ['a1', True, 1],\n",
    "    ['a2', False, 2],\n",
    "    ['a3', False, 3],\n",
    "    ['a4', True, 4],\n",
    "    ['a5', True, 5],\n",
    "    ['a6', True, 6],\n",
    "    ['a7', False, 7],\n",
    "    ['a8', True, 8],\n",
    "    ['a9', False, 9],\n",
    "    ['a0', True, 1],\n",
    "    ['a01', False, 2],\n",
    "    ['a02', False, 3]\n",
    "])\n",
    "df2.dtypes"
   ]
  },
  {
   "cell_type": "markdown",
   "metadata": {},
   "source": [
    "### test object conversion"
   ]
  },
  {
   "cell_type": "code",
   "execution_count": null,
   "metadata": {
    "ExecuteTime": {
     "end_time": "2019-06-04T00:15:07.432955Z",
     "start_time": "2019-06-04T00:15:01.002Z"
    }
   },
   "outputs": [],
   "source": [
    "g = toCategory()\n",
    "g.transform(df,integer=False,boolean=False,objects=False).dtypes"
   ]
  },
  {
   "cell_type": "code",
   "execution_count": null,
   "metadata": {
    "ExecuteTime": {
     "end_time": "2019-06-04T00:15:07.434372Z",
     "start_time": "2019-06-04T00:15:01.005Z"
    }
   },
   "outputs": [],
   "source": [
    "g = toCategory()\n",
    "g.transform(df,integer=False,boolean=False,objects=True).dtypes"
   ]
  },
  {
   "cell_type": "markdown",
   "metadata": {},
   "source": [
    "### test float conversion to category"
   ]
  },
  {
   "cell_type": "code",
   "execution_count": null,
   "metadata": {
    "ExecuteTime": {
     "end_time": "2019-06-04T00:15:07.435763Z",
     "start_time": "2019-06-04T00:15:01.008Z"
    }
   },
   "outputs": [],
   "source": [
    "g = toCategory()\n",
    "z=  g.transform(iris)\n",
    "display(iris.dtypes)\n",
    "z.dtypes;z.head(3)"
   ]
  },
  {
   "cell_type": "markdown",
   "metadata": {},
   "source": [
    "### test object,boolean.integer conversion to category"
   ]
  },
  {
   "cell_type": "code",
   "execution_count": null,
   "metadata": {
    "ExecuteTime": {
     "end_time": "2019-06-04T00:15:07.437381Z",
     "start_time": "2019-06-04T00:15:01.011Z"
    }
   },
   "outputs": [],
   "source": [
    "g = toCategory()\n",
    "z=  g.transform(df2)\n",
    "display(df2.dtypes)\n",
    "z.dtypes"
   ]
  },
  {
   "cell_type": "markdown",
   "metadata": {},
   "source": [
    "### test datetime conversion to category"
   ]
  },
  {
   "cell_type": "code",
   "execution_count": null,
   "metadata": {
    "ExecuteTime": {
     "end_time": "2019-06-04T00:15:07.438651Z",
     "start_time": "2019-06-04T00:15:01.014Z"
    }
   },
   "outputs": [],
   "source": [
    "g = toCategory()\n",
    "\n",
    "df_internet_traffic =internet_traffic.copy()\n",
    "DT_internet_traffic = df_internet_traffic.copy()\n",
    "DT_internet_traffic['date'] = pd.to_datetime(df_internet_traffic['date'])\n",
    "z=  g.transform(DT_internet_traffic)\n",
    "display(DT_internet_traffic.head(3))\n",
    "z.head(3)"
   ]
  },
  {
   "cell_type": "markdown",
   "metadata": {},
   "source": [
    "# Create Train,valid,test"
   ]
  },
  {
   "cell_type": "markdown",
   "metadata": {},
   "source": [
    "First carve out 30% as test.leaving 70% of dataset as train. Since target has more Negative (WDBC-Benign) than Positive (WDBC-Malignant), stratify is used. Later on show imbalance paso.\n",
    "\n",
    "Secondly, carve out 20% of remaining train dataset as validation, leaving 56% of dataset as train. "
   ]
  },
  {
   "cell_type": "code",
   "execution_count": null,
   "metadata": {
    "ExecuteTime": {
     "end_time": "2019-06-04T00:15:07.440282Z",
     "start_time": "2019-06-04T00:15:01.018Z"
    }
   },
   "outputs": [],
   "source": [
    "X, Z, X_target, Z_target = train_test_split( City[City.columns.difference(['CRIM'])]\n",
    "                                              ,  City['CRIM']\n",
    "                                              , test_size=0.3\n",
    "                   #                           , stratify=City['CRIM']\n",
    "                                              , random_state=77)\n",
    "\n",
    "X.shape,X_target.shape, Z.shape,  Z_target.shape"
   ]
  },
  {
   "cell_type": "code",
   "execution_count": null,
   "metadata": {
    "ExecuteTime": {
     "end_time": "2019-06-04T00:15:07.441855Z",
     "start_time": "2019-06-04T00:15:01.020Z"
    }
   },
   "outputs": [],
   "source": [
    "X, Y, X_target, Y_target = train_test_split( X,X_target\n",
    "                                              , test_size=0.2\n",
    "                                              , random_state=77)\n",
    "X.shape,X_target.shape, Y.shape,  Y_target.shape, Z.shape,  Z_target.shape"
   ]
  }
 ],
 "metadata": {
  "hide_input": false,
  "kernelspec": {
   "display_name": "Python 3",
   "language": "python",
   "name": "python3"
  },
  "language_info": {
   "codemirror_mode": {
    "name": "ipython",
    "version": 3
   },
   "file_extension": ".py",
   "mimetype": "text/x-python",
   "name": "python",
   "nbconvert_exporter": "python",
   "pygments_lexer": "ipython3",
   "version": "3.7.1"
  },
  "toc": {
   "base_numbering": 1,
   "nav_menu": {
    "height": "208px",
    "width": "252px"
   },
   "number_sections": true,
   "sideBar": true,
   "skip_h1_title": false,
   "title_cell": "Table of Contents",
   "title_sidebar": "Contents",
   "toc_cell": false,
   "toc_position": {
    "height": "817px",
    "left": "0px",
    "right": "982.5679321289063px",
    "top": "128.99456787109375px",
    "width": "167px"
   },
   "toc_section_display": "block",
   "toc_window_display": true
  }
 },
 "nbformat": 4,
 "nbformat_minor": 2
}
