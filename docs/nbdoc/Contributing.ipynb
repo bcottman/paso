{
 "cells": [
  {
   "cell_type": "markdown",
   "metadata": {},
   "source": [
    "# Contributing to any of the **paso** Projects"
   ]
  },
  {
   "cell_type": "markdown",
   "metadata": {},
   "source": [
    "The public [project](https://github.com/bcottman/paso) is on GitHub     .\n"
   ]
  },
  {
   "cell_type": "markdown",
   "metadata": {},
   "source": [
    "You can contribute to the **paso** Project in many ways. Below are listed some of the areas:\n",
    "\n",
    "- Fix a typo(s) in documentation.\n",
    "- Improve some of the documentation.\n",
    "- Fix typo or/and improve a docstring(s).\n",
    "- Report a documentation bug.\n",
    "- Improve existing test or/and code more tests.\n",
    "- Execute test suite for a distribution candidate and report any test failures.\n",
    "- Post a new issue.\n",
    "- Fix a bug in a issue.\n",
    "- Re-factor some code to add functionality or improve performance.\n",
    "- Suggest a new feature.\n",
    "- Implement a new feature.\n",
    "- Improve or/and add a lesson.\n",
    "\n",
    "Remember to post in issues the proposed change and if accepted it will be closed.\n",
    "See [issues](https://github.com/bcottman/paso/issues) or [projects](https://github.com/bcottman/paso/projects/1) for open issues for the **paso** project.\n",
    "\n",
    "You can find a issue , or you can post a new issue, to work on. Next, or your alternative first step, you need to set-up your local **paso** development environment.  Code, Documentation and Test can have separate or shared environments. Each one is discussed in the following sections."
   ]
  },
  {
   "cell_type": "markdown",
   "metadata": {},
   "source": [
    "## Contributing to the **paso** Documentation"
   ]
  },
  {
   "cell_type": "markdown",
   "metadata": {},
   "source": [
    "One of the best ways to start CONTRIBUTE-ing to the **paso** project is by accomplishing a documentation task. \n",
    "\n",
    "The **paso** project uses ``Sphinx``. Sphinx, written by Georg Brandl and licensed under the BSD license, was originally created for the Python documentation. Unfortunately, you will be wresting with ``.rst`` unless you choose the much simpler markup of Jupyter notebooks or even the more powerful ``LaTex``.\n",
    "\n",
    "Once you finish your documentation task, please Submit a GitHub pull request, as show in\n",
    "\n",
    "    Creating a push request \n",
    "    \n",
    "in [Github pull request](https://github.com/bcottman/paso/tree/master/docs/nbdoc/Contributing.ipynb)\n",
    "\n",
    "Documentation sources can be found [Doc sources](https://github.com/bcottman/paso/docs/nbdoc/)\n",
    "\n",
    "**paso** Documentation can be found [Docs.](https://paso.readthedocs.io)"
   ]
  },
  {
   "cell_type": "markdown",
   "metadata": {},
   "source": [
    "### Create a Documentation environment using conda"
   ]
  },
  {
   "cell_type": "markdown",
   "metadata": {},
   "source": [
    "Most of what you need in both ``Sphinx`` packages and environment creation are in the [Anaconda](https://www.anaconda.com) distribution.\n",
    "\n",
    "First you should create an environment for **paso** documenation. Detailed instuctions are found [here.](https://conda.io/docs/user-guide/tasks/manage-environments.html).\n",
    "\n",
    "Almost all of the packages you need for documentation are included in the Anaconda distribution. You only need add to your environment (for this and other examples we call our environment **paso**).\n",
    "\n",
    "    >>> (paso) pip install paso\n",
    "    >>> (paso) pip install sphinx\n",
    "    >>> (paso) pip install sphinx-rtd-theme \n",
    "    >>> (paso) pip install sphinx-apidoc"
   ]
  },
  {
   "cell_type": "markdown",
   "metadata": {},
   "source": [
    "### Create your own docs\n",
    "\n",
    "The ``bcottman/paso project has created the ``docs``directory and the initial infrastructure. You will finish creating your local doc development environment.\n",
    "\n",
    "Clone the ``bcottman/paso to the local directory you have selected using ``git``,\n",
    "\n",
    "Go topaso project directory\n",
    "\n",
    "    >>> (paso) cd ../paso/docs\n",
    "    \n",
    "Create ``rst`` files from docstrings in ``py`` files.:\n",
    "\n",
    "    >>> (paso) sphinx-apidoc -o generated/ -d 4 -fMa ../paso\n",
    "    \n",
    "Generate documnentation:\n",
    "\n",
    "    >>> (paso) clear;make clean;make html\n",
    "    \n",
    "The HTML of the documentation can be found [here.](.../paso/docs/_build/html/index.html)"
   ]
  },
  {
   "cell_type": "markdown",
   "metadata": {},
   "source": [
    "### How to use notebooks (``ipynb`` ) for documentation\n",
    "\n",
    "Python notebooks (``ipynb`` ) can be used to document instead of or with ``rst`` files. ``nbsphinx``  is a Sphinx extension that enables ``ipynb`` files.\n",
    "\n",
    "To Install ``nbsphinx``:\n",
    "\n",
    "    >>> (**paso**) pip install nbsphinx --user\n",
    "\n",
    "in your **paso** doc environment.\n",
    "    \n",
    "Edit your ``conf.py`` and change ``source_suffix``:\n",
    "\n",
    "    source_suffix = ['.rst', '.ipynb']\n",
    "\n",
    "Edit your ``index.rst``  and add the names of your *.ipynb files to the toctree.\n",
    "\n",
    "More detailed information is found [here.](https://nbsphinx.readthedocs.io/en/0.2.8/rst.html)"
   ]
  },
  {
   "cell_type": "markdown",
   "metadata": {},
   "source": [
    "### Sphinx and other Documentation Resources\n",
    "- [Overview](https://pythonhosted.org/an_example_pypi_project/sphinx.html)\n",
    "- [yao](https://codeandchaos.wordpress.com/2012/07/30/sphinx-autodoc-tutorial-for-dummies/)"
   ]
  },
  {
   "cell_type": "markdown",
   "metadata": {
    "heading_collapsed": true
   },
   "source": [
    "## Contributing to the **paso** Issues and Reviews"
   ]
  },
  {
   "cell_type": "markdown",
   "metadata": {
    "hidden": true
   },
   "source": [
    "\n",
    "- Answering queries on the issue tracker.\n",
    "- Investigating, isolating or/and implementing code that demostrates a bug that other(s) have reported on [issues](https://github.com/bcottman/paso/issues).\n",
    "- Review other developers’ pull requests especially merges that could cause conflicts.\n",
    "- Report any issues that you may encounter.\n",
    "- Reference the project from your blog aor publications that you may write.\n",
    "- Link to it from your social media account or website\n",
    "- Use your imagination. Let us know as we will add to this list.\n"
   ]
  },
  {
   "cell_type": "markdown",
   "metadata": {},
   "source": [
    "## Contributing to the **paso** Tests"
   ]
  },
  {
   "cell_type": "markdown",
   "metadata": {},
   "source": [
    "The next suggested step (sic.) to **CONTRIBUTE** to the various **paso** projects is testing. Create a testing enhancement, then Submit a GitHub pull request.\n",
    "\n",
    "Test sources can be found [**paso** unit test suite](https://github.com/bcottman/**paso**/tests). Developing a [lesson](https://github.com/bcottman/paso/paso/lessons) serves also as integration test.\n"
   ]
  },
  {
   "cell_type": "markdown",
   "metadata": {},
   "source": [
    "Adding more tests for existing **paso** objects, and other supporting code is a great method to familiarize yourself and make your starting contributions to the **paso** project. \n",
    "\n",
    "Also,it will be not be possible for your contributed code to be merged into the master **paso** repo without accompanying docstring and unit tests that provide coverage for the critical parts of your contribution. \n",
    "\n",
    "You can expect your contribution to not past review unless tests are provided to cover edge cases and test for error conditions. Remember, you are asking people to use your contributed code."
   ]
  },
  {
   "cell_type": "markdown",
   "metadata": {
    "heading_collapsed": true
   },
   "source": [
    "### **peso** Test Guidelines"
   ]
  },
  {
   "cell_type": "markdown",
   "metadata": {
    "hidden": true
   },
   "source": [
    "Some of these guidelines have been adapted from [writing tests](https://docs.python-guide.org/writing/tests/) and\n",
    "[pandas testing](https://github.com/pandas-dev/pandas/wiki/Testing).\n",
    "\n",
    "\n",
    "\n",
    "- (RECCOMENED) Learn your tools and learn how to run a single test or a test case. Then, when developing a function inside a module, run this function’s tests frequently, ideally automatically when you save the code.\n",
    "\n",
    "- (REQUIRED) Each test unit must be fully independent. Each test must be able to run alone, and also within the test suite, regardless of the order that they are called. The implication of this rule is that each test must be loaded with a fresh dataset and may have to do some cleanup afterwards. This standard is that this is handled by setUp() and tearDown() methods. (if you use ``pytsest``it will take care of this you.)\n",
    "\n",
    "- (RECCOMENED) Run the full test suite before a coding session, and run it again after.\n",
    "\n",
    "- (RECCOMENED) The first step when you are debugging your code is to write a new test pinpointing the bug. While it is not always possible to do, those bug catching tests are among the most valuable pieces of code in your project.\n",
    "\n",
    "- (RECCOMENED) Use long and descriptive names for testing functions. These function names are displayed when a test fails, and should be as descriptive as possible.\n",
    "\n",
    "- (REQUIRED) When something goes wrong or has to be changed, and if your code has a good set of tests, you or other maintainers will rely largely on the testing suite to fix the problem or modify a given behavior. Therefore the testing code will be read as much as or even more than the running code. \n",
    "\n",
    "- (RECCOMENED) Testing code is as an introduction to any developers. When someone will have to work on the code base, running and reading the related testing code is often the best thing that they can do to start. They will or should discover the hot spots, where most difficulties arise, and the corner cases. If they have to add some functionality, the first step should be to add a test to ensure that the new functionality is not already a working path that has not been plugged into the interface."
   ]
  },
  {
   "cell_type": "markdown",
   "metadata": {
    "heading_collapsed": true
   },
   "source": [
    "### Create a testing environment"
   ]
  },
  {
   "cell_type": "markdown",
   "metadata": {
    "hidden": true
   },
   "source": [
    "We recommend you create a virtual environment for your testing. Use your favorite tool to create a virtual environment. \n",
    " \n",
    "Use or source activate (on mac or ubuntu) the virtual environment named paso:\n",
    "\n",
    "    >>> source activate paso\n",
    "    \n",
    "install the packages you will need to develop test for paso. The following are the standard packages we use:\n",
    "\n",
    "    (paso)>>> pip install paso \n",
    "    (paso)>>> pip install pytest\n",
    "    (paso)>>> pip install pandas\n",
    "    (paso)>>> pip install coverage\n",
    "    \n",
    "You may already have pandas as part of your environment. What you will need to import into python is:\n",
    "\n",
    "    import pytest\n",
    "    # paso imports\n",
    "    import joblib\n",
    "    from paso.pasoBase import pasoFunctionBase, pasoModelBase,pasoError\n",
    "    from paso.common.PipeLine import get_paso_log\n",
    "    <any other needed paso files>\n",
    "    "
   ]
  },
  {
   "cell_type": "markdown",
   "metadata": {
    "heading_collapsed": true
   },
   "source": [
    "### Recommended Testing Resources"
   ]
  },
  {
   "cell_type": "markdown",
   "metadata": {
    "hidden": true
   },
   "source": [
    "- https://docs.python-guide.org/writing/tests/\n",
    "- https://semaphoreci.com/community/tutorials/testing-python-applications-with-pytest\n",
    "- http://pythontesting.net/framework/nose/nose-introduction/\n",
    "- https://ymichael.com/2014/12/17/python-testing-with-nose-for-beginners.html\n",
    "- https://github.com/pandas-dev/pandas/wiki/Testing"
   ]
  },
  {
   "cell_type": "markdown",
   "metadata": {
    "heading_collapsed": true
   },
   "source": [
    "### Coverage tool for **paso**"
   ]
  },
  {
   "cell_type": "markdown",
   "metadata": {
    "hidden": true
   },
   "source": [
    "Coverage measurement is typically used to measure the effectiveness of tests. It can show which parts of your code are being exercised by tests, and which are not. You can use any coverage tool you wish. We recommend\n",
    "\n",
    "    Coverage.py (see documentation for installation and usage) \n",
    "    \n",
    ",a tool for measuring code coverage of Python programs. It monitors your test suite, noting which parts of the code have been executed, then analyzes the source to identify code that could have been executed but was not.\n",
    "\n",
    "Also a good introduction to Coverage.py is:\n",
    "\n",
    "    https://www.blog.pythonlibrary.org/2016/07/20/an-intro-to-coverage-py/"
   ]
  },
  {
   "cell_type": "markdown",
   "metadata": {
    "hidden": true
   },
   "source": [
    "#### Branch Coverage"
   ]
  },
  {
   "cell_type": "markdown",
   "metadata": {
    "hidden": true
   },
   "source": [
    "\n",
    "You can use another powerful feature of coverage.py: branch coverage. Testing every possible branch path through code, while a great goal to strive for, is a secondary goal to getting 100% line coverage for the entire **paso** package.\n",
    "\n",
    "If you decide you want to try to improve branch coverage, add the ``--branch`` flag to your coverage run:\n",
    "\n",
    "    /python COVERAGEDIR run --pylib --branch <arguments>\n",
    "    \n",
    "This will result in a  report stating not only what lines were not covered, but also what branch paths were not executed."
   ]
  },
  {
   "cell_type": "markdown",
   "metadata": {},
   "source": [
    "## Contributing to **paso** Distributions"
   ]
  },
  {
   "cell_type": "markdown",
   "metadata": {},
   "source": [
    "This contribution consists of running the test suite on configuration of the underlying environment of the distribution."
   ]
  },
  {
   "cell_type": "markdown",
   "metadata": {},
   "source": [
    "## Contributing to the **paso** Code"
   ]
  },
  {
   "cell_type": "markdown",
   "metadata": {},
   "source": [
    "1. You want to propose a new Feature and implement it post about your intended feature (under issues or projects) and project management shall discuss the design and implementation. Once we agree that the plan looks good, go ahead and implement it.\n",
    "\n",
    "1. You want to implement a feature refactor or bug-fix for an outstanding issue. Look at the outstanding [issues](https://github.com/bcottman/paso/issues). Pick an issue and comment on the task that you want to work on this feature. If you need more context on a particular issue, please ask and someone will provide a suggestion on how to proceed.\n",
    "\n",
    "Code sources can be found under the [source code](https://github.com/bcottman/paso/paso)/ directory.\n",
    "\n",
    "Once you finish your feature enhancement, please Submit a GitHub pull request."
   ]
  },
  {
   "cell_type": "markdown",
   "metadata": {},
   "source": [
    "## Contributing to the **paso** lessons"
   ]
  },
  {
   "cell_type": "markdown",
   "metadata": {},
   "source": [
    "**paso** enables both documentation and learning by **paso** **lessons**. Tasks for **lessons** include:\n",
    "\n",
    "1. Add to/improve a lesson.\n",
    "1. Implement new lesson.\n",
    "\n"
   ]
  },
  {
   "cell_type": "markdown",
   "metadata": {},
   "source": [
    "## Creating  a push request "
   ]
  },
  {
   "cell_type": "markdown",
   "metadata": {},
   "source": [
    "Navigate to the [paso repo](https://github.com/bcottman/paso).\n",
    "    \n",
    "1. Click the “Fork” button in the top-right part of the page, right under the main navigation. A copy of the **paso** repo in your Github account.\n",
    "1. Clone your Github account copy of the of the **paso** repo on your local client  machine where you will do your development enhancements for the **paso** project. \n",
    "    \n",
    "        cd <local client  machine development directory>\n",
    "        git clone https://github.com/<your github username>paso.git\n",
    "        \n",
    "Locally, create a branch for your work\n",
    "\n",
    "    git checkout -b <branch-name>  \n",
    "    \n",
    "Locally,  accomplish your changes to N files named \\<file-1\\>...\\<file-n\\>\n",
    "\n",
    "    git add <file-1>\n",
    "    .\n",
    "    .\n",
    "    git add <file-n> \n",
    "    \n",
    "commit locally N-files from staging area\n",
    "    \n",
    "    git commit -a -m '<message-documentation-change>'\n",
    "    \n",
    "show associated remote repo on GitHub\n",
    "\n",
    "    git remote -v\n",
    "    \n",
    "push to remote GitHub, aliased as origin, from local branch \\<branch-name\\> \n",
    "\n",
    "    git push origin <branch-name>\n",
    "    \n",
    "1. on your remote Github account repo, change to branch \n",
    "\n",
    "    <branch-name>\n",
    "    \n",
    "1. Navigate to the base repo at  [paso repo](https://github.com/bcottman/paso) issues and click the “New Pull Request” button\n",
    "\n",
    " what you are doing is: “I have some code in my fork of the ****paso**** project in ``<branch-name>`` that I want to merge into the ****paso**** base repo\n",
    " "
   ]
  }
 ],
 "metadata": {
  "hide_input": false,
  "kernelspec": {
   "display_name": "Python 3",
   "language": "python",
   "name": "python3"
  },
  "language_info": {
   "codemirror_mode": {
    "name": "ipython",
    "version": 3
   },
   "file_extension": ".py",
   "mimetype": "text/x-python",
   "name": "python",
   "nbconvert_exporter": "python",
   "pygments_lexer": "ipython3",
   "version": "3.7.1"
  },
  "toc": {
   "base_numbering": 1,
   "nav_menu": {
    "height": "62px",
    "width": "252px"
   },
   "number_sections": true,
   "sideBar": true,
   "skip_h1_title": false,
   "title_cell": "Table of Contents",
   "title_sidebar": "Contents",
   "toc_cell": false,
   "toc_position": {
    "height": "906px",
    "left": "0px",
    "right": "835.8287963867188px",
    "top": "180px",
    "width": "212px"
   },
   "toc_section_display": "block",
   "toc_window_display": true
  }
 },
 "nbformat": 4,
 "nbformat_minor": 2
}
