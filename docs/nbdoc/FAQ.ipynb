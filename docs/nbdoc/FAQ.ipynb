{
 "cells": [
  {
   "cell_type": "markdown",
   "metadata": {},
   "source": [
    "# FAQ"
   ]
  },
  {
   "cell_type": "markdown",
   "metadata": {},
   "source": [
    "## What is **paso** standard documentation tool-set?"
   ]
  },
  {
   "cell_type": "markdown",
   "metadata": {},
   "source": [
    "The documentation tools are:\n",
    "\n",
    "    sphinx\n",
    "    sphinx-apidoc\n",
    "    sphinx-rtd-theme"
   ]
  },
  {
   "cell_type": "markdown",
   "metadata": {},
   "source": [
    "## What is **paso** standard test tool-set?"
   ]
  },
  {
   "cell_type": "markdown",
   "metadata": {},
   "source": [
    "    pvtest\n",
    "    coverage\n",
    "    %timeit (in jupyter)\n",
    "    dbg\n",
    "    idbg (in jupyter)\n",
    "    "
   ]
  },
  {
   "cell_type": "markdown",
   "metadata": {},
   "source": [
    "## What is **paso** development tool-set?"
   ]
  },
  {
   "cell_type": "markdown",
   "metadata": {},
   "source": [
    "The development tools are:\n",
    "\n",
    "    python 3.5 and up\n",
    "    anaconda\n",
    "    create and use environment using conda \n",
    "        suggest: environment named paso     \n",
    "    install paso requirements\n",
    "    (now conda activate paso)\n",
    "    jupyter (via anaconda)\n",
    "    pycharm\n",
    "    git\n",
    "    github"
   ]
  },
  {
   "cell_type": "markdown",
   "metadata": {},
   "source": [
    "## What is the difference between the ``pandas.DataFrame`` and ``paso.common.toDataFrame`` ?"
   ]
  },
  {
   "cell_type": "markdown",
   "metadata": {},
   "source": [
    " ``paso.common.toDataFrame`` enables **paso** to add additionality functionality without changing the  ``pandas.DataFrame`` defintion. Please use with **paso** ``paso.common.toDataFrame``."
   ]
  },
  {
   "cell_type": "markdown",
   "metadata": {},
   "source": [
    "## What is the difference between the scikit and the **paso** ?"
   ]
  },
  {
   "cell_type": "markdown",
   "metadata": {},
   "source": [
    "- **Standard input and output is a pandas dataframe**\n",
    "    - sckit-learn standard input and output is a numpy array\n",
    "- **paso**  new data objects with a 2-phase ``train/predict`` as models (``pasoModel``). \n",
    "- **paso**  creates new data objects with a 1-phase  ``transform``\n",
    " as functions (``pasoFunction``)."
   ]
  },
  {
   "cell_type": "markdown",
   "metadata": {},
   "source": [
    "## What is the difference between the sci-kit pipeline and the **paso** pipeline?"
   ]
  },
  {
   "cell_type": "markdown",
   "metadata": {},
   "source": [
    "In a  pipeline a series of data-operations are connected together. In a sci-kit data-analytics pipeline, this is usually a left-to-right series of calls of transformer calls ended by an estimator (model), that is a PIPELINE of invocations.\n",
    "\n",
    "What **paso** offers with ``pasoLine`` (sic. paso pipeline) is everything that sci-kit does (in fact, **paso** can be used with sci-kit) , plus:\n",
    "\n",
    "\n",
    "1. one or more named event loggers;\n",
    "1. check-pointing by save/load of models;\n",
    "1. persisting by read/write transformed datasets;\n",
    "1. flexible parameter setting and reading;\n",
    "1. use of any available GPUs;\n",
    "1. multi-threaded or multi-process for multi-core CPUs.\n",
    "1. scaffolding for the hoped-for emergence of quantum computing.\n"
   ]
  },
  {
   "cell_type": "markdown",
   "metadata": {},
   "source": [
    "## Error \"no module named [some module]\""
   ]
  },
  {
   "cell_type": "markdown",
   "metadata": {},
   "source": [
    "In the repository folder do: \n",
    "\n",
    "    pip install -r requirements.txt \n",
    "    \n",
    "this should solve this error."
   ]
  },
  {
   "cell_type": "markdown",
   "metadata": {},
   "source": [
    "## Are there tutorials for **paso** ?"
   ]
  },
  {
   "cell_type": "markdown",
   "metadata": {},
   "source": [
    "Yes. In the form of jupyter notebooks. See [lessons](https://github.com/bcottman/paso/paso/lessons)"
   ]
  },
  {
   "cell_type": "markdown",
   "metadata": {},
   "source": [
    "## Is **paso** Threadsafe?"
   ]
  },
  {
   "cell_type": "markdown",
   "metadata": {},
   "source": [
    "**paso**, itself, is  thread-safe. However, you will use **paso** with many other packages which may not be thread-safe. For example, numpy is thread-safe.\n",
    "ndarrays can be accessed in a thread-safe manner, but you must be careful with state if you mutate an array.\n",
    "\n",
    "In Pandas, deleting a column is usually not thread-safe as changing the size of a DataFrame usually results in a new Dataframe object. Any **pasoFunction** with ``iplace=True`` will not be thread-safe.\n",
    "\n",
    "At some point this may change in Pandas and other python libaries as multi-cored CPUs are becoming common."
   ]
  }
 ],
 "metadata": {
  "hide_input": false,
  "kernelspec": {
   "display_name": "Python 3",
   "language": "python",
   "name": "python3"
  },
  "language_info": {
   "codemirror_mode": {
    "name": "ipython",
    "version": 3
   },
   "file_extension": ".py",
   "mimetype": "text/x-python",
   "name": "python",
   "nbconvert_exporter": "python",
   "pygments_lexer": "ipython3",
   "version": "3.7.1"
  },
  "toc": {
   "base_numbering": 1,
   "nav_menu": {
    "height": "62px",
    "width": "252px"
   },
   "number_sections": true,
   "sideBar": true,
   "skip_h1_title": false,
   "title_cell": "Table of Contents",
   "title_sidebar": "Contents",
   "toc_cell": false,
   "toc_position": {},
   "toc_section_display": "block",
   "toc_window_display": true
  }
 },
 "nbformat": 4,
 "nbformat_minor": 2
}
