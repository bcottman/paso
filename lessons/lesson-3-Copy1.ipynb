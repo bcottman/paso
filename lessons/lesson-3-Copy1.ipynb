{
 "cells": [
  {
   "cell_type": "markdown",
   "metadata": {},
   "source": [
    "## import local"
   ]
  },
  {
   "cell_type": "code",
   "execution_count": 1,
   "metadata": {
    "ExecuteTime": {
     "end_time": "2019-07-14T21:20:24.002576Z",
     "start_time": "2019-07-14T21:20:23.981482Z"
    }
   },
   "outputs": [
    {
     "data": {
      "text/plain": [
       "'/Users/brucecottman/Documents/PROJECTS/paso'"
      ]
     },
     "execution_count": 1,
     "metadata": {},
     "output_type": "execute_result"
    }
   ],
   "source": [
    "from __future__ import print_function\n",
    "__file__ = !cd .. ;pwd\n",
    "__file__ = __file__[0]\n",
    "__file__"
   ]
  },
  {
   "cell_type": "code",
   "execution_count": 2,
   "metadata": {
    "ExecuteTime": {
     "end_time": "2019-07-14T21:20:24.394529Z",
     "start_time": "2019-07-14T21:20:24.005722Z"
    }
   },
   "outputs": [
    {
     "data": {
      "text/plain": [
       "['/Users/brucecottman/Documents/PROJECTS/paso/lessons',\n",
       " '/Users/brucecottman/anaconda3/envs/paso/lib/python37.zip',\n",
       " '/Users/brucecottman/anaconda3/envs/paso/lib/python3.7',\n",
       " '/Users/brucecottman/anaconda3/envs/paso/lib/python3.7/lib-dynload',\n",
       " '',\n",
       " '/Users/brucecottman/.local/lib/python3.7/site-packages',\n",
       " '/Users/brucecottman/anaconda3/envs/paso/lib/python3.7/site-packages',\n",
       " '/Users/brucecottman/anaconda3/envs/paso/lib/python3.7/site-packages/aeosa',\n",
       " '/Users/brucecottman/anaconda3/envs/paso/lib/python3.7/site-packages/IPython/extensions',\n",
       " '/Users/brucecottman/.ipython',\n",
       " '/Users/brucecottman/Documents/PROJECTS/paso']"
      ]
     },
     "execution_count": 2,
     "metadata": {},
     "output_type": "execute_result"
    }
   ],
   "source": [
    "import sys\n",
    "from random import random\n",
    "import pandas as pd\n",
    "sys.path.append(__file__)\n",
    "sys.path"
   ]
  },
  {
   "cell_type": "code",
   "execution_count": 3,
   "metadata": {
    "ExecuteTime": {
     "end_time": "2019-07-14T21:20:25.664685Z",
     "start_time": "2019-07-14T21:20:24.396563Z"
    }
   },
   "outputs": [
    {
     "name": "stdout",
     "output_type": "stream",
     "text": [
      "paso 14.7.2019 17:20:25 INFO Log started\n",
      "paso 14.7.2019 17:20:25 INFO ========================================\n",
      "paso 14.7.2019 17:20:25 INFO Read in parameter file: ../parameters/lesson.3.yaml\n"
     ]
    },
    {
     "ename": "ModuleNotFoundError",
     "evalue": "No module named 'paso.models.sklearn'",
     "output_type": "error",
     "traceback": [
      "\u001b[0;31m---------------------------------------------------------------------------\u001b[0m",
      "\u001b[0;31mModuleNotFoundError\u001b[0m                       Traceback (most recent call last)",
      "\u001b[0;32m~/Documents/PROJECTS/paso\u001b[0m in \u001b[0;36m<module>\u001b[0;34m\u001b[0m\n\u001b[1;32m      2\u001b[0m \u001b[0;32mfrom\u001b[0m \u001b[0mloguru\u001b[0m \u001b[0;32mimport\u001b[0m \u001b[0mlogger\u001b[0m\u001b[0;34m\u001b[0m\u001b[0;34m\u001b[0m\u001b[0m\n\u001b[1;32m      3\u001b[0m \u001b[0msession\u001b[0m \u001b[0;34m=\u001b[0m \u001b[0mPaso\u001b[0m\u001b[0;34m(\u001b[0m\u001b[0mparameters_filepath\u001b[0m\u001b[0;34m=\u001b[0m\u001b[0;34m'../parameters/lesson.3.yaml'\u001b[0m\u001b[0;34m)\u001b[0m\u001b[0;34m.\u001b[0m\u001b[0mstartup\u001b[0m\u001b[0;34m(\u001b[0m\u001b[0;34m)\u001b[0m\u001b[0;34m\u001b[0m\u001b[0;34m\u001b[0m\u001b[0m\n\u001b[0;32m----> 4\u001b[0;31m \u001b[0;32mfrom\u001b[0m \u001b[0mpaso\u001b[0m\u001b[0;34m.\u001b[0m\u001b[0mmodels\u001b[0m\u001b[0;34m.\u001b[0m\u001b[0msklearn\u001b[0m \u001b[0;32mimport\u001b[0m \u001b[0mSkModel\u001b[0m\u001b[0;34m\u001b[0m\u001b[0;34m\u001b[0m\u001b[0m\n\u001b[0m\u001b[1;32m      5\u001b[0m \u001b[0;32mdef\u001b[0m \u001b[0mdf_City\u001b[0m\u001b[0;34m(\u001b[0m\u001b[0;34m)\u001b[0m\u001b[0;34m:\u001b[0m\u001b[0;34m\u001b[0m\u001b[0;34m\u001b[0m\u001b[0m\n\u001b[1;32m      6\u001b[0m     \u001b[0;32mfrom\u001b[0m \u001b[0msklearn\u001b[0m\u001b[0;34m.\u001b[0m\u001b[0mdatasets\u001b[0m \u001b[0;32mimport\u001b[0m \u001b[0mload_boston\u001b[0m\u001b[0;34m\u001b[0m\u001b[0;34m\u001b[0m\u001b[0m\n",
      "\u001b[0;31mModuleNotFoundError\u001b[0m: No module named 'paso.models.sklearn'"
     ]
    }
   ],
   "source": [
    "from paso.base import Paso,Log,PasoError,Param,NameToClass\n",
    "from loguru import logger\n",
    "session = Paso(parameters_filepath='../parameters/lesson.3.yaml').startup()\n",
    "from paso.models.sklearn import SkModel\n",
    "def df_City():\n",
    "    from sklearn.datasets import load_boston\n",
    "    boston = load_boston()\n",
    "    City = pd.DataFrame(boston.data, columns=boston.feature_names)\n",
    "    City['MEDV'] = boston.target\n",
    "    return (City.copy())\n"
   ]
  },
  {
   "cell_type": "markdown",
   "metadata": {},
   "source": [
    "## Class Balancing and  Augmentating Structured Data"
   ]
  },
  {
   "cell_type": "markdown",
   "metadata": {},
   "source": [
    "Structured Data Augmentation is very rarely discussed in theoretical or real-world production systems. It a secret sauce for which the recipe will be shown here. Along the way, we will introduce ``paso's`` Class Balancing tools. As was shown in the previous two articles, **paso** supports and is compatiable with ``sklearn``.\n",
    "\n"
   ]
  },
  {
   "cell_type": "markdown",
   "metadata": {},
   "source": [
    "## A Quick Overview of paso"
   ]
  },
  {
   "cell_type": "markdown",
   "metadata": {},
   "source": [
    "**paso** is a package written in Python and some ``C``(for speed) that was originally intended to bundle best-practices and state-of-the-art services, classes and functions for the Machine Learning and Deep Learning community. **paso** has grown beyond this to offer patterns, classes and methods you can use in your **Scikit-Learn pipelines** or custom code with or without adopting the entire **paso** package.\n",
    "\n",
    "**Scikit-Learn pipelines** are composed of steps, each step has to be **Scikit-Learn transformer** or a custom **Scikit-Learn transformer**. The last of the pipeline can be a transformer or an estimator, where a **Scikit-Learn estimator** is a compatible model. \n",
    "\n",
    "**paso** has quite a few Class Balancing transformers that are custom **Scikit-Learn transformers**. Note that **paso** translates from Spanish to English to the word step.\n",
    "\n",
    "Discussion will be divided into the following major segments:\n",
    "- What Class Balancing stratagems are in **paso**.\n",
    "- How to use Class Balancing to argument Fixed Structure data\n",
    "- The benefits of argumenting Fixed Structure data.\n",
    "- As usual the source code for all examples is available."
   ]
  },
  {
   "cell_type": "markdown",
   "metadata": {},
   "source": [
    "As we saw in [lesson-1](), we need to startup **paso** services."
   ]
  },
  {
   "cell_type": "code",
   "execution_count": null,
   "metadata": {
    "ExecuteTime": {
     "end_time": "2019-07-14T21:20:25.670396Z",
     "start_time": "2019-07-14T21:20:23.989Z"
    }
   },
   "outputs": [],
   "source": [
    "import numpy as np\n",
    "import pandas as pd\n",
    "from pandas_summary import DataFrameSummary\n",
    "\n",
    "import warnings\n",
    "warnings.filterwarnings(\"ignore\")\n",
    "import multiprocessing\n",
    "\n",
    "import matplotlib as mpl\n",
    "from matplotlib import pyplot as plt\n",
    "from matplotlib import cm\n",
    "\n",
    "%reload_ext autoreload\n",
    "%autoreload 2\n",
    "%matplotlib inline\n",
    "import matplotlib\n",
    "import seaborn as sns\n",
    "color = sns.color_palette()\n",
    "\n",
    "from paso.base import Paso,Log,PasoError\n",
    "from loguru import logger\n",
    "session = Paso(parameters_filepath='../parameters/lesson.3.yaml').startup()"
   ]
  },
  {
   "cell_type": "markdown",
   "metadata": {},
   "source": [
    "Next, we load the ``boston``data set into the ``City``dataframe. We will munge City up to show what the **paso** cleaners can do."
   ]
  },
  {
   "cell_type": "markdown",
   "metadata": {},
   "source": [
    "## paso Class for Handling Imbalanced Classes"
   ]
  },
  {
   "cell_type": "markdown",
   "metadata": {},
   "source": [
    "All available class balance strategies are shown with:"
   ]
  },
  {
   "cell_type": "code",
   "execution_count": null,
   "metadata": {
    "ExecuteTime": {
     "end_time": "2019-07-14T21:20:25.672365Z",
     "start_time": "2019-07-14T21:20:23.993Z"
    }
   },
   "outputs": [],
   "source": [
    "from paso.pre.cleaners import Class_Balance\n",
    "o = Class_Balance('SMOTE')\n",
    "o.classBalancers()"
   ]
  },
  {
   "cell_type": "markdown",
   "metadata": {},
   "source": [
    "## Balance Toy Example Classes"
   ]
  },
  {
   "cell_type": "markdown",
   "metadata": {},
   "source": [
    "Let us start with a toy dataset to class balance. we load the ``iris``data set, into the ``Flower``dataframe.  The feature ``TypeOf`` will contain the class target values."
   ]
  },
  {
   "cell_type": "code",
   "execution_count": null,
   "metadata": {
    "ExecuteTime": {
     "end_time": "2019-07-14T21:20:25.673771Z",
     "start_time": "2019-07-14T21:20:23.996Z"
    }
   },
   "outputs": [],
   "source": [
    "from sklearn.datasets import load_iris\n",
    "iris = load_iris()\n",
    "Flower = pd.DataFrame(iris.data, columns = iris.feature_names )\n",
    "Flower['TypeOf'] = iris.target\n",
    "#logger.info(iris.DESCR)\n",
    "DataFrameSummary(Flower).summary()"
   ]
  },
  {
   "cell_type": "code",
   "execution_count": null,
   "metadata": {
    "ExecuteTime": {
     "end_time": "2019-07-14T21:20:25.675796Z",
     "start_time": "2019-07-14T21:20:23.999Z"
    }
   },
   "outputs": [],
   "source": [
    "targetFeature = 'TypeOf'\n",
    "Class_BalancerKey = 'SMOTE'\n",
    "X = Class_Balance(Class_BalancerKey).transform(Flower,targetFeature)"
   ]
  },
  {
   "cell_type": "code",
   "execution_count": null,
   "metadata": {
    "ExecuteTime": {
     "end_time": "2019-07-14T21:20:25.677511Z",
     "start_time": "2019-07-14T21:20:24.001Z"
    }
   },
   "outputs": [],
   "source": [
    "DataFrameSummary(X).summary()"
   ]
  },
  {
   "cell_type": "markdown",
   "metadata": {},
   "source": [
    "``Class_Balance`` did not change the ``Flower`` dataframe as the ``iris``dataset comes class balanced.  "
   ]
  },
  {
   "cell_type": "code",
   "execution_count": null,
   "metadata": {
    "ExecuteTime": {
     "end_time": "2019-07-14T21:20:25.678991Z",
     "start_time": "2019-07-14T21:20:24.004Z"
    }
   },
   "outputs": [],
   "source": [
    "sns.set(rc={'figure.figsize':(6,4)})\n",
    "sns.distplot((X['TypeOf'].astype('category').cat.codes.astype('int')+1),kde=False)"
   ]
  },
  {
   "cell_type": "code",
   "execution_count": null,
   "metadata": {
    "ExecuteTime": {
     "end_time": "2019-07-14T21:20:25.680533Z",
     "start_time": "2019-07-14T21:20:24.007Z"
    }
   },
   "outputs": [],
   "source": [
    "from sklearn.model_selection import train_test_split\n",
    "from sklearn.ensemble import RandomForestClassifier\n",
    "from sklearn import metrics"
   ]
  },
  {
   "cell_type": "code",
   "execution_count": null,
   "metadata": {
    "ExecuteTime": {
     "end_time": "2019-07-14T21:20:25.682155Z",
     "start_time": "2019-07-14T21:20:24.009Z"
    }
   },
   "outputs": [],
   "source": [
    "(Param.parameters_D['RandomForest' + '_kwargs'])"
   ]
  },
  {
   "cell_type": "code",
   "execution_count": null,
   "metadata": {
    "ExecuteTime": {
     "end_time": "2019-07-14T21:20:25.683879Z",
     "start_time": "2019-07-14T21:20:24.011Z"
    }
   },
   "outputs": [],
   "source": [
    "NameToClass.__models__['RandomForest']\n",
    "Param.parameters_D['RandomForest' + '_kwargs']"
   ]
  },
  {
   "cell_type": "code",
   "execution_count": null,
   "metadata": {
    "ExecuteTime": {
     "end_time": "2019-07-14T21:20:25.685547Z",
     "start_time": "2019-07-14T21:20:24.014Z"
    }
   },
   "outputs": [],
   "source": [
    "from paso.models.sklearn import SkModel\n",
    "o = SkModel()\n",
    "o.train(X)"
   ]
  },
  {
   "cell_type": "markdown",
   "metadata": {
    "ExecuteTime": {
     "end_time": "2019-06-29T20:39:58.155829Z",
     "start_time": "2019-06-29T20:39:58.100796Z"
    }
   },
   "source": [
    "The argment ratio is the amount of the dataset to assign to the validation (test) dataset. In this case,\n",
    "``X``and ``y`` datasets into training set(70\\%) and test set(30\\%). Train and predict using ``RandomForestClassifier``."
   ]
  },
  {
   "cell_type": "code",
   "execution_count": null,
   "metadata": {
    "ExecuteTime": {
     "end_time": "2019-07-14T21:20:25.687131Z",
     "start_time": "2019-07-14T21:20:24.016Z"
    }
   },
   "outputs": [],
   "source": [
    "def RF(X,targetFeature,ratio,epochs):\n",
    "    accAcum = 0\n",
    "    f1_score_Acc = 0\n",
    "    precision_score_Acc = 0\n",
    "    recall_score_Acc = 0\n",
    "    y_predAcc = 0\n",
    "    logLossAcc = 0\n",
    "    y = X[targetFeature]\n",
    "    X = X[X.columns.difference([targetFeature])]\n",
    "    for round in range(epochs):\n",
    "        X_train, X_test, y_train, y_test = train_test_split(X, y, test_size=ratio,stratify=y)\n",
    "        clf=RandomForestClassifier(n_estimators=100,n_jobs=-1)\n",
    "        clf.fit(X_train,y_train)\n",
    "        y_pred=clf.predict(X_test)\n",
    "        y_predAcc += y_pred + 1\n",
    "        accAcum += metrics.accuracy_score(y_test, y_pred)\n",
    "        precision_score_Acc += metrics.precision_score(y_test, y_pred, average=\"macro\")\n",
    "        recall_score_Acc += metrics.recall_score(y_test, y_pred, average=\"macro\")\n",
    "        f1_score_Acc += metrics.f1_score(y_test, y_pred, average=\"macro\")\n",
    "#        logLossAcc += metrics.log_loss(y_test, y_pred, eps=1e-15, normalize=False)\n",
    "        \n",
    "    print(\"Accuracy:\",accAcum/epochs)\n",
    "    print(\"precision:\",precision_score_Acc/epochs)\n",
    "    print(\"recall:\",recall_score_Acc/epochs)\n",
    "    print(\"f1:\",f1_score_Acc/epochs)\n",
    "#    print(\"logLoss:\",logLossAcc/epochs)\n",
    "    return y_test,y_pred,accAcum/epochs\n",
    "#targetFeature = 'TypeOf'\n",
    "epochs = 100\n",
    "#y_test,y_pred,accuracy = RF(X,targetFeature,ratio,epochs)"
   ]
  },
  {
   "cell_type": "markdown",
   "metadata": {},
   "source": [
    "Overall, very good scores using ``RandomForestClassifier``.  The following is ``confusion_matrix``of ``epochs = 100`` separate runs that averaged the results of ``RandomForestClassifier``."
   ]
  },
  {
   "cell_type": "code",
   "execution_count": null,
   "metadata": {
    "ExecuteTime": {
     "end_time": "2019-07-14T21:20:25.688771Z",
     "start_time": "2019-07-14T21:20:24.019Z"
    }
   },
   "outputs": [],
   "source": [
    "from sklearn.metrics import confusion_matrix\n",
    "print(len(y_test))\n",
    "confusion_matrix(y_test, y_pred)"
   ]
  },
  {
   "cell_type": "markdown",
   "metadata": {},
   "source": [
    "## Augment the ``iris``dataset."
   ]
  },
  {
   "cell_type": "markdown",
   "metadata": {},
   "source": [
    "Now we can augment (increase by 10\\% the amount data) with  synthetic data generated by a claas imbalence scheme,  ``SMOOT``. Just ``TypeOf=0`` needs 15(10%) rows (3 classes of 5 rows) of synthetic data to balance the classes. The result is similar to image augmention in that we accomplished structured data augmentation by increasing the row count ``Isis``dataset with synthetic data."
   ]
  },
  {
   "cell_type": "code",
   "execution_count": null,
   "metadata": {
    "ExecuteTime": {
     "end_time": "2019-07-14T21:20:25.690214Z",
     "start_time": "2019-07-14T21:20:24.022Z"
    }
   },
   "outputs": [],
   "source": [
    "from paso.pre.cleaners import Augment_by_Class\n",
    "ratio = 0.1\n",
    "targetFeature = 'TypeOf'\n",
    "Class_BalancerKey = 'SMOTE'\n",
    "X = Augment_by_Class(Class_BalancerKey).transform(Flower,targetFeature,0.1)\n",
    "DataFrameSummary(X).summary()"
   ]
  },
  {
   "cell_type": "markdown",
   "metadata": {},
   "source": [
    "Notice the ``mean``, ``std`` and other statistics have slightly changed. Also, the count has inreased by 10% or augmented a structured dataset by 10%. Why do expect slight and not large change in the dataset statistics?"
   ]
  },
  {
   "cell_type": "code",
   "execution_count": null,
   "metadata": {
    "ExecuteTime": {
     "end_time": "2019-07-14T21:20:25.691936Z",
     "start_time": "2019-07-14T21:20:24.024Z"
    }
   },
   "outputs": [],
   "source": [
    "targetFeature = 'TypeOf'\n",
    "epochs = 100\n",
    "y_test,y_pred,accuracy = RF(X,targetFeature,ratio,epochs)"
   ]
  },
  {
   "cell_type": "code",
   "execution_count": null,
   "metadata": {
    "ExecuteTime": {
     "end_time": "2019-07-14T21:20:25.694001Z",
     "start_time": "2019-07-14T21:20:24.026Z"
    }
   },
   "outputs": [],
   "source": [
    "print(len(y_test))\n",
    "confusion_matrix(y_test, y_pred)"
   ]
  },
  {
   "cell_type": "markdown",
   "metadata": {
    "ExecuteTime": {
     "end_time": "2019-07-01T21:10:09.297466Z",
     "start_time": "2019-07-01T21:09:40.152Z"
    }
   },
   "source": [
    "Hmmm, did not seem to help much. Let us try 100% augmentation or double the number of rows the  ``Flower`` dataframe."
   ]
  },
  {
   "cell_type": "code",
   "execution_count": null,
   "metadata": {
    "ExecuteTime": {
     "end_time": "2019-07-14T21:20:25.695805Z",
     "start_time": "2019-07-14T21:20:24.029Z"
    }
   },
   "outputs": [],
   "source": [
    "ratio = 1.00\n",
    "targetFeature = 'TypeOf'\n",
    "Class_BalancerKey = 'SMOTE'\n",
    "X = Augment_by_Class(Class_BalancerKey).transform(Flower,targetFeature,ratio)\n",
    "DataFrameSummary(X).summary()"
   ]
  },
  {
   "cell_type": "code",
   "execution_count": null,
   "metadata": {
    "ExecuteTime": {
     "end_time": "2019-07-14T21:20:25.697234Z",
     "start_time": "2019-07-14T21:20:24.031Z"
    }
   },
   "outputs": [],
   "source": [
    "targetFeature = 'TypeOf'\n",
    "epochs = 100\n",
    "y_test,y_pred,accuracy = RF(X,targetFeature,ratio,epochs)"
   ]
  },
  {
   "cell_type": "markdown",
   "metadata": {
    "ExecuteTime": {
     "end_time": "2019-06-29T20:04:22.014608Z",
     "start_time": "2019-06-29T20:04:21.962258Z"
    }
   },
   "source": [
    "It seems to be more accurate in predicting the holdout (test) dataset."
   ]
  },
  {
   "cell_type": "code",
   "execution_count": null,
   "metadata": {
    "ExecuteTime": {
     "end_time": "2019-07-14T21:20:25.699068Z",
     "start_time": "2019-07-14T21:20:24.033Z"
    }
   },
   "outputs": [],
   "source": [
    "print(len(y_test))\n",
    "confusion_matrix(y_test, y_pred)"
   ]
  },
  {
   "cell_type": "markdown",
   "metadata": {},
   "source": [
    "Seemed to raise the accuracy by 0.024. Not bad, in both the real-world and the **Kaggle** world this is huge!"
   ]
  },
  {
   "cell_type": "code",
   "execution_count": null,
   "metadata": {
    "ExecuteTime": {
     "end_time": "2019-07-14T21:20:25.700762Z",
     "start_time": "2019-07-14T21:20:24.036Z"
    }
   },
   "outputs": [],
   "source": [
    "ratio = 1.00\n",
    "targetFeature = 'TypeOf'\n",
    "Class_BalancerKey = 'SMOTE'\n",
    "X = Augment_by_Class(Class_BalancerKey).transform(X,targetFeature,ratio)\n",
    "DataFrameSummary(X).summary()"
   ]
  },
  {
   "cell_type": "code",
   "execution_count": null,
   "metadata": {
    "ExecuteTime": {
     "end_time": "2019-07-14T21:20:25.702708Z",
     "start_time": "2019-07-14T21:20:24.038Z"
    }
   },
   "outputs": [],
   "source": [
    "targetFeature = 'TypeOf'\n",
    "epochs = 100\n",
    "y_test,y_pred,accuracy = RF(X,targetFeature,ratio,epochs)"
   ]
  },
  {
   "cell_type": "code",
   "execution_count": null,
   "metadata": {
    "ExecuteTime": {
     "end_time": "2019-07-14T21:20:25.704565Z",
     "start_time": "2019-07-14T21:20:24.040Z"
    }
   },
   "outputs": [],
   "source": [
    "print(len(y_test))\n",
    "confusion_matrix(y_test, y_pred)"
   ]
  },
  {
   "cell_type": "markdown",
   "metadata": {},
   "source": [
    "Seemed to raise the accuracy by 0.014 or .039 by quadrupling."
   ]
  },
  {
   "cell_type": "code",
   "execution_count": null,
   "metadata": {
    "ExecuteTime": {
     "end_time": "2019-07-14T21:20:25.705999Z",
     "start_time": "2019-07-14T21:20:24.042Z"
    }
   },
   "outputs": [],
   "source": [
    "ratio = 1.00\n",
    "targetFeature = 'TypeOf'\n",
    "Class_BalancerKey = 'SMOTE'\n",
    "X = Augment_by_Class(Class_BalancerKey).transform(X,targetFeature,ratio)\n",
    "DataFrameSummary(X).summary()"
   ]
  },
  {
   "cell_type": "code",
   "execution_count": null,
   "metadata": {
    "ExecuteTime": {
     "end_time": "2019-07-14T21:20:25.707515Z",
     "start_time": "2019-07-14T21:20:24.044Z"
    }
   },
   "outputs": [],
   "source": [
    "targetFeature = 'TypeOf'\n",
    "epochs = 100\n",
    "y_test,y_pred,accuracy = RF(X,targetFeature,ratio,epochs)"
   ]
  },
  {
   "cell_type": "code",
   "execution_count": null,
   "metadata": {
    "ExecuteTime": {
     "end_time": "2019-07-14T21:20:25.709144Z",
     "start_time": "2019-07-14T21:20:24.046Z"
    }
   },
   "outputs": [],
   "source": [
    "print(len(y_test))\n",
    "confusion_matrix(y_test, y_pred)"
   ]
  },
  {
   "cell_type": "markdown",
   "metadata": {
    "ExecuteTime": {
     "end_time": "2019-06-29T16:38:30.805143Z",
     "start_time": "2019-06-29T16:38:27.312Z"
    }
   },
   "source": [
    "## Non-trivial class balancing"
   ]
  },
  {
   "cell_type": "markdown",
   "metadata": {},
   "source": [
    "Let us rebalance and augment a larger dataset. [You can get ``otto_group``here.](https://www.kaggle.com/c/otto-group-product-classification-challenge/data). In this dataset we have about 62,000 rows and 8 different classes."
   ]
  },
  {
   "cell_type": "code",
   "execution_count": null,
   "metadata": {
    "ExecuteTime": {
     "end_time": "2019-07-14T21:20:25.711003Z",
     "start_time": "2019-07-14T21:20:24.049Z"
    }
   },
   "outputs": [],
   "source": [
    "otto_group_train = pd.read_csv(\"otto-group/train.csv\")\n",
    "DataFrameSummary(otto_group_train).summary()"
   ]
  },
  {
   "cell_type": "markdown",
   "metadata": {},
   "source": [
    "The ``otto_group_train`` has a few majority(1,5) and minority classes(0,3,4.6).It is an unbalanced dataset."
   ]
  },
  {
   "cell_type": "code",
   "execution_count": null,
   "metadata": {
    "ExecuteTime": {
     "end_time": "2019-07-14T21:20:25.712566Z",
     "start_time": "2019-07-14T21:20:24.051Z"
    }
   },
   "outputs": [],
   "source": [
    "otto_group_train['target'] = otto_group_train['target'].astype('category').cat.codes\n",
    "sns.set_color_codes()\n",
    "sns.distplot(otto_group_train['target'],kde=False)"
   ]
  },
  {
   "cell_type": "code",
   "execution_count": null,
   "metadata": {
    "ExecuteTime": {
     "end_time": "2019-07-14T21:20:25.714272Z",
     "start_time": "2019-07-14T21:20:24.053Z"
    }
   },
   "outputs": [],
   "source": [
    "otto_group_train[['id','target']].groupby(['target']).count()"
   ]
  },
  {
   "cell_type": "code",
   "execution_count": null,
   "metadata": {
    "ExecuteTime": {
     "end_time": "2019-07-14T21:20:25.716198Z",
     "start_time": "2019-07-14T21:20:24.055Z"
    }
   },
   "outputs": [],
   "source": [
    "epochs = 10\n",
    "targetFeature = 'target'\n",
    "y_test,y_pred,accuracy = RF(otto_group_train,targetFeature,ratio,epochs)"
   ]
  },
  {
   "cell_type": "code",
   "execution_count": null,
   "metadata": {
    "ExecuteTime": {
     "end_time": "2019-07-14T21:20:25.717812Z",
     "start_time": "2019-07-14T21:20:24.057Z"
    }
   },
   "outputs": [],
   "source": [
    "print(len(y_test))\n",
    "confusion_matrix(y_test, y_pred)"
   ]
  },
  {
   "cell_type": "markdown",
   "metadata": {},
   "source": [
    " What happens when we class balance ``otto_group_train`` dataset ?"
   ]
  },
  {
   "cell_type": "code",
   "execution_count": null,
   "metadata": {
    "ExecuteTime": {
     "end_time": "2019-07-14T21:20:25.719126Z",
     "start_time": "2019-07-14T21:20:24.059Z"
    }
   },
   "outputs": [],
   "source": [
    "ratio = 0.0\n",
    "targetFeature = 'target'\n",
    "Class_BalancerKey = 'SMOTE'\n",
    "X = Augment_by_Class(Class_BalancerKey).transform(otto_group_train,targetFeature,ratio)\n",
    "DataFrameSummary(X).summary()"
   ]
  },
  {
   "cell_type": "markdown",
   "metadata": {},
   "source": [
    "We can use ``Augment_by_Class`` to balance ``otto_group_train``by augmenting by 0%."
   ]
  },
  {
   "cell_type": "code",
   "execution_count": null,
   "metadata": {
    "ExecuteTime": {
     "end_time": "2019-07-14T21:20:25.720541Z",
     "start_time": "2019-07-14T21:20:24.062Z"
    }
   },
   "outputs": [],
   "source": [
    "epochs = 10\n",
    "y_test,y_pred,accuracy = RF(X,targetFeature,ratio,epochs)"
   ]
  },
  {
   "cell_type": "code",
   "execution_count": null,
   "metadata": {
    "ExecuteTime": {
     "end_time": "2019-07-14T21:20:25.722197Z",
     "start_time": "2019-07-14T21:20:24.064Z"
    }
   },
   "outputs": [],
   "source": [
    "print(len(y_test))\n",
    "confusion_matrix(y_test, y_pred)"
   ]
  },
  {
   "cell_type": "code",
   "execution_count": null,
   "metadata": {
    "ExecuteTime": {
     "end_time": "2019-07-14T21:20:25.723587Z",
     "start_time": "2019-07-14T21:20:24.066Z"
    }
   },
   "outputs": [],
   "source": [
    "ratio = 1.00\n",
    "targetFeature = 'target'\n",
    "Class_BalancerKey = 'SMOTE'\n",
    "X = Augment_by_Class(Class_BalancerKey).transform(X,targetFeature,ratio)\n",
    "DataFrameSummary(X).summary()"
   ]
  },
  {
   "cell_type": "code",
   "execution_count": null,
   "metadata": {
    "ExecuteTime": {
     "end_time": "2019-07-14T21:20:25.725254Z",
     "start_time": "2019-07-14T21:20:24.068Z"
    }
   },
   "outputs": [],
   "source": [
    "epochs = 10\n",
    "y_test,y_pred,accuracy = RF(X,targetFeature,ratio,epochs)"
   ]
  },
  {
   "cell_type": "code",
   "execution_count": null,
   "metadata": {
    "ExecuteTime": {
     "end_time": "2019-07-14T21:20:25.727005Z",
     "start_time": "2019-07-14T21:20:24.070Z"
    }
   },
   "outputs": [],
   "source": [
    "print(len(y_test))\n",
    "confusion_matrix(y_test, y_pred)"
   ]
  },
  {
   "cell_type": "markdown",
   "metadata": {},
   "source": [
    "Wait, maybe the accuracy is even better. We tripled the size of the dataset while also increasing the accuracy. What happens to a balanced ``otto_group_train`` dataset that is the same size as the original ``otto_group_train`` dataset?"
   ]
  },
  {
   "cell_type": "markdown",
   "metadata": {},
   "source": [
    "## Summary"
   ]
  },
  {
   "cell_type": "markdown",
   "metadata": {},
   "source": [
    "In summary paso data cleaning transformation classes are:\n",
    "- ``Impute_Features_by_Values``\n",
    "\n",
    "You have seen **paso** offers data cleaning classes for both production data engineers and research data scientists. **paso** support streaming data as well as bulk extraction data cleaning. You can expect **paso** to continue to offer state-of-the-art tools for data cleaning."
   ]
  },
  {
   "cell_type": "markdown",
   "metadata": {},
   "source": [
    "Other lessons on **paso** are:\n",
    "1. [**paso**'s Offering of Logging and Parameter Services for your Python Project](https://github.com/bcottman/paso/blob/master/lessons/lesson_1.ipynb)\n",
    "1. [**paso**'s Offering of Data Cleaners for your Machine or Deep Learning Projects](https://github.com/bcottman/paso/blob/master/lessons/lesson_2.ipynb)"
   ]
  },
  {
   "cell_type": "markdown",
   "metadata": {},
   "source": [
    "In the future, we will cover **paso** in more depth with the following lesons:\n",
    "- Overview of **paso** scalers and handling data outliers.\n",
    "- Overview of **paso** encoders.\n",
    "- Overview of **paso** machine learning and deep learning models.\n",
    "- Using  **paso** on GPUs.\n",
    "- and yet more…\n",
    "\n",
    "If you have a service or feature or see a bug, then leave the **paso** project a [note](https://github.com/bcottman/paso/issues)."
   ]
  },
  {
   "cell_type": "markdown",
   "metadata": {},
   "source": []
  },
  {
   "cell_type": "markdown",
   "metadata": {},
   "source": []
  },
  {
   "cell_type": "markdown",
   "metadata": {},
   "source": []
  },
  {
   "cell_type": "markdown",
   "metadata": {},
   "source": []
  },
  {
   "cell_type": "markdown",
   "metadata": {},
   "source": []
  },
  {
   "cell_type": "markdown",
   "metadata": {},
   "source": []
  }
 ],
 "metadata": {
  "hide_input": false,
  "kernelspec": {
   "display_name": "Python 3",
   "language": "python",
   "name": "python3"
  },
  "language_info": {
   "codemirror_mode": {
    "name": "ipython",
    "version": 3
   },
   "file_extension": ".py",
   "mimetype": "text/x-python",
   "name": "python",
   "nbconvert_exporter": "python",
   "pygments_lexer": "ipython3",
   "version": "3.7.1"
  },
  "notify_time": "0",
  "toc": {
   "base_numbering": 1,
   "nav_menu": {},
   "number_sections": true,
   "sideBar": true,
   "skip_h1_title": false,
   "title_cell": "Table of Contents",
   "title_sidebar": "Contents",
   "toc_cell": false,
   "toc_position": {},
   "toc_section_display": true,
   "toc_window_display": false
  }
 },
 "nbformat": 4,
 "nbformat_minor": 2
}
