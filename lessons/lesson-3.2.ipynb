{
 "cells": [
  {
   "cell_type": "markdown",
   "metadata": {},
   "source": [
    "## import local"
   ]
  },
  {
   "cell_type": "markdown",
   "metadata": {},
   "source": [
    "if no test dataset:\n",
    "    train,test    =split\n",
    " = Balance(train)\n",
    "\n",
    "clf = RandomForestClassifier(n_estimators=50, n_jobs=-1)\n",
    "\n",
    "bagging n boost = True\n",
    "\n",
    "sklearn.calibration.\n",
    "clf_cal = CalibratedClassifierCV(cv_clf,cv=prefit, cv = k)   resulting in k**2\n",
    "\n",
    "2 modes for kaggle\n",
    "1. train,train-valid, train-test using split-train_test\n",
    "    ratio = .2 verify model against train dataset\n",
    "2. train,train-valid, test using split-train_test \n",
    "   create model from bigger trainset, using ratio = 0.2.0,1 etce\n",
    "use clf_cal. predict on test\n"
   ]
  },
  {
   "cell_type": "code",
   "execution_count": 1,
   "metadata": {
    "ExecuteTime": {
     "end_time": "2019-08-08T15:29:52.263298Z",
     "start_time": "2019-08-08T15:29:47.469421Z"
    }
   },
   "outputs": [
    {
     "name": "stdout",
     "output_type": "stream",
     "text": [
      "# packages in environment at /Users/brucecottman/anaconda3/envs/paso:\r\n",
      "#\r\n",
      "# Name                    Version                   Build  Channel\r\n",
      "_ipyw_jlab_nb_ext_conf    0.1.0                    py37_0  \r\n",
      "absl-py                   0.7.0                    pypi_0    pypi\r\n",
      "alabaster                 0.7.12                   py37_0  \r\n",
      "anaconda-client           1.7.2                    py37_0  \r\n",
      "anaconda-navigator        1.9.6                    py37_0  \r\n",
      "anaconda-project          0.8.2                    py37_0  \r\n",
      "ansimarkup                1.4.0                    pypi_0    pypi\r\n",
      "appnope                   0.1.0                    py37_0  \r\n",
      "appscript                 1.0.1            py37h1de35cc_1  \r\n",
      "asn1crypto                0.24.0                   py37_0  \r\n",
      "astor                     0.7.1                    pypi_0    pypi\r\n",
      "astroid                   2.1.0                    py37_0  \r\n",
      "astropy                   3.1              py37h1de35cc_0  \r\n",
      "atomicwrites              1.2.1                    py37_0  \r\n",
      "attrdict                  2.0.1                    pypi_0    pypi\r\n",
      "attrs                     18.2.0           py37h28b3542_0  \r\n",
      "babel                     2.6.0                    py37_0  \r\n",
      "backcall                  0.1.0                    py37_0  \r\n",
      "backports                 1.0                      py37_1  \r\n",
      "backports.os              0.1.1                    py37_0  \r\n",
      "backports.shutil_get_terminal_size 1.0.0                    py37_2  \r\n",
      "beautifulsoup4            4.6.3                    py37_0  \r\n",
      "better-exceptions-fork    0.2.1.post6              pypi_0    pypi\r\n",
      "bitarray                  0.8.3            py37h1de35cc_0  \r\n",
      "bkcharts                  0.2                      py37_0  \r\n",
      "blas                      1.0                         mkl  \r\n",
      "blaze                     0.11.3                   py37_0  \r\n",
      "bleach                    3.0.2                    py37_0  \r\n",
      "blosc                     1.14.4               hd9629dc_0  \r\n",
      "bokeh                     1.0.4                    py37_0  \r\n",
      "boto                      2.49.0                   py37_0  \r\n",
      "boto3                     1.9.148                  pypi_0    pypi\r\n",
      "botocore                  1.12.148                 pypi_0    pypi\r\n",
      "bottleneck                1.2.1            py37h1d22016_1  \r\n",
      "bzip2                     1.0.6                h1de35cc_5  \r\n",
      "ca-certificates           2019.1.23                     0  \r\n",
      "cairo                     1.14.12              hc4e6be7_4  \r\n",
      "catboost                  0.12.2                   pypi_0    pypi\r\n",
      "category-encoders         2.0.0                    pypi_0    pypi\r\n",
      "certifi                   2019.3.9                 py37_0  \r\n",
      "cffi                      1.11.5           py37h6174b99_1  \r\n",
      "chardet                   3.0.4                    py37_1  \r\n",
      "click                     7.0                      py37_0  \r\n",
      "cloudpickle               0.6.1                    py37_0  \r\n",
      "clyent                    1.2.2                    py37_1  \r\n",
      "colorama                  0.4.1                    py37_0  \r\n",
      "conda-verify              3.1.1                    py37_0  \r\n",
      "contextlib2               0.5.5                    py37_0  \r\n",
      "coverage                  4.5.2                    pypi_0    pypi\r\n",
      "cryptography              2.4.2            py37ha12b0ac_0  \r\n",
      "curl                      7.63.0            ha441bb4_1000  \r\n",
      "cvxpy                     1.0.18                   pypi_0    pypi\r\n",
      "cycler                    0.10.0                   py37_0  \r\n",
      "cymem                     2.0.2                    pypi_0    pypi\r\n",
      "cython                    0.29.2           py37h0a44026_0  \r\n",
      "cytoolz                   0.9.0.1          py37h1de35cc_1  \r\n",
      "dask                      1.0.0                    py37_0  \r\n",
      "dask-core                 1.0.0                    py37_0  \r\n",
      "datashape                 0.5.4                    py37_1  \r\n",
      "dbus                      1.13.2               h760590f_1  \r\n",
      "decorator                 4.3.0                    py37_0  \r\n",
      "defusedxml                0.5.0                    py37_1  \r\n",
      "dill                      0.2.9                    pypi_0    pypi\r\n",
      "distributed               1.25.1                   py37_0  \r\n",
      "docutils                  0.14                     py37_0  \r\n",
      "ecos                      2.0.7.post1              pypi_0    pypi\r\n",
      "entrypoints               0.2.3                    py37_2  \r\n",
      "enum34                    1.1.6                    pypi_0    pypi\r\n",
      "et_xmlfile                1.0.1                    py37_0  \r\n",
      "expat                     2.2.6                h0a44026_0  \r\n",
      "fancyimpute               0.4.2                    pypi_0    pypi\r\n",
      "fastai                    1.0.45                   pypi_0    pypi\r\n",
      "fastcache                 1.0.2            py37h1de35cc_2  \r\n",
      "fastprogress              0.1.19                   pypi_0    pypi\r\n",
      "filelock                  3.0.10                   py37_0  \r\n",
      "findspark                 1.3.0                    pypi_0    pypi\r\n",
      "flask                     1.0.2                    py37_1  \r\n",
      "flask-cors                3.0.7                    py37_0  \r\n",
      "flatbuffers               1.10                     pypi_0    pypi\r\n",
      "fontconfig                2.13.0               h5d5b041_1  \r\n",
      "freetype                  2.9.1                hb4e5f40_0  \r\n",
      "fribidi                   1.0.5                h1de35cc_0  \r\n",
      "funcsigs                  1.0.2                    pypi_0    pypi\r\n",
      "future                    0.17.1                   py37_0  \r\n",
      "gast                      0.2.2                    pypi_0    pypi\r\n",
      "get_terminal_size         1.0.0                h7520d66_0  \r\n",
      "gettext                   0.19.8.1             h15daf44_3  \r\n",
      "gevent                    1.3.7            py37h1de35cc_1  \r\n",
      "glib                      2.56.2               hd9629dc_0  \r\n",
      "glob2                     0.6                      py37_1  \r\n",
      "gmp                       6.1.2                hb37e062_1  \r\n",
      "gmpy2                     2.0.8            py37h6ef4df4_2  \r\n",
      "graphite2                 1.3.13               h2098e52_0  \r\n",
      "graphviz                  2.40.1               hefbbd9a_2  \r\n",
      "greenlet                  0.4.15           py37h1de35cc_0  \r\n",
      "grpcio                    1.18.0                   pypi_0    pypi\r",
      "\r\n",
      "h5py                      2.8.0            py37h878fce3_3  \r\n",
      "harfbuzz                  1.8.8                hb8d4a28_0  \r\n",
      "hdf5                      1.10.2               hfa1e0ec_1  \r\n",
      "heapdict                  1.0.0                    py37_2  \r\n",
      "html5lib                  1.0.1                    py37_0  \r\n",
      "icu                       58.2                 h4b95b61_1  \r\n",
      "idna                      2.8                      py37_0  \r\n",
      "imageio                   2.4.1                    py37_0  \r\n",
      "imagesize                 1.1.0                    py37_0  \r\n",
      "imbalanced-learn          0.4.3                    pypi_0    pypi\r\n",
      "importlib_metadata        0.6                      py37_0  \r\n",
      "intel-openmp              2019.1                      144  \r\n",
      "ipykernel                 5.1.0            py37h39e3cac_0  \r\n",
      "ipython                   7.2.0            py37h39e3cac_0  \r\n",
      "ipython_genutils          0.2.0                    py37_0  \r\n",
      "ipywidgets                7.4.2                    py37_0  \r\n",
      "isort                     4.3.4                    py37_0  \r\n",
      "isoweek                   1.3.3                    pypi_0    pypi\r\n",
      "itsdangerous              1.1.0                    py37_0  \r\n",
      "jbig                      2.1                  h4d881f8_0  \r\n",
      "jdcal                     1.4                      py37_0  \r\n",
      "jedi                      0.13.2                   py37_0  \r\n",
      "jinja2                    2.10                     py37_0  \r\n",
      "jmespath                  0.9.4                    pypi_0    pypi\r\n",
      "joblib                    0.13.2                   pypi_0    pypi\r\n",
      "jpeg                      9b                   he5867d9_2  \r\n",
      "jsonschema                2.6.0                    py37_0  \r\n",
      "jupyter                   1.0.0                    py37_7  \r\n",
      "jupyter-contrib-core      0.3.3                    pypi_0    pypi\r\n",
      "jupyter-contrib-nbextensions 0.5.1                    pypi_0    pypi\r\n",
      "jupyter-highlight-selected-word 0.2.0                    pypi_0    pypi\r\n",
      "jupyter-latex-envs        1.4.6                    pypi_0    pypi\r\n",
      "jupyter-nbextensions-configurator 0.4.1                    pypi_0    pypi\r\n",
      "jupyter_client            5.2.4                    py37_0  \r\n",
      "jupyter_console           6.0.0                    py37_0  \r\n",
      "jupyter_core              4.4.0                    py37_0  \r\n",
      "jupyterlab                0.35.3                   py37_0  \r\n",
      "jupyterlab_server         0.2.0                    py37_0  \r\n",
      "keras                     2.2.4                    pypi_0    pypi\r\n",
      "keras-applications        1.0.7                    pypi_0    pypi\r\n",
      "keras-preprocessing       1.0.9                    pypi_0    pypi\r\n",
      "keyring                   17.0.0                   py37_0  \r\n",
      "kiwisolver                1.0.1            py37h0a44026_0  \r\n",
      "knnimpute                 0.1.0                    pypi_0    pypi\r\n",
      "krb5                      1.16.1               hddcf347_7  \r\n",
      "lazy-object-proxy         1.3.1            py37h1de35cc_2  \r\n",
      "libarchive                3.3.3                h786848e_5  \r\n",
      "libcurl                   7.63.0            h051b688_1000  \r\n",
      "libcxx                    4.0.1                hcfea43d_1  \r\n",
      "libcxxabi                 4.0.1                hcfea43d_1  \r\n",
      "libedit                   3.1.20170329         hb402a30_2  \r\n",
      "libffi                    3.2.1                h475c297_4  \r\n",
      "libgfortran               3.0.1                h93005f0_2  \r\n",
      "libiconv                  1.15                 hdd342a3_7  \r\n",
      "liblief                   0.9.0                h2a1bed3_0  \r\n",
      "libpng                    1.6.35               ha441bb4_0  \r\n",
      "libsodium                 1.0.16               h3efe00b_0  \r\n",
      "libssh2                   1.8.0                ha12b0ac_4  \r\n",
      "libtiff                   4.0.9                hcb84e12_2  \r\n",
      "libxml2                   2.9.8                hab757c2_1  \r\n",
      "libxslt                   1.1.32               hb819dd2_0  \r\n",
      "lightgbm                  2.2.3                    pypi_0    pypi\r\n",
      "llvm-openmp               4.0.1                hcfea43d_1  \r\n",
      "llvmlite                  0.26.0           py37h8c7ce04_0  \r\n",
      "locket                    0.2.0                    py37_1  \r\n",
      "loguru                    0.2.5                    pypi_0    pypi\r\n",
      "lxml                      4.2.5            py37hef8c89e_0  \r\n",
      "lz4-c                     1.8.1.2              h1de35cc_0  \r\n",
      "lzo                       2.10                 h362108e_2  \r\n",
      "markdown                  3.0.1                    pypi_0    pypi\r\n",
      "markupsafe                1.1.0            py37h1de35cc_0  \r\n",
      "matplotlib                3.0.2            py37h54f8f79_0  \r\n",
      "mccabe                    0.6.1                    py37_1  \r\n",
      "mistune                   0.8.4            py37h1de35cc_0  \r\n",
      "mkl                       2019.1                      144  \r\n",
      "mkl-service               1.1.2            py37hfbe908c_5  \r\n",
      "mkl_fft                   1.0.6            py37h27c97d8_0  \r\n",
      "mkl_random                1.0.2            py37h27c97d8_0  \r\n",
      "mock                      2.0.0                    pypi_0    pypi\r\n",
      "modin                     0.4.0                    pypi_0    pypi\r\n",
      "more-itertools            4.3.0                    py37_0  \r\n",
      "mpc                       1.1.0                h6ef4df4_1  \r\n",
      "mpfr                      4.0.1                h3018a27_3  \r\n",
      "mpmath                    1.1.0                    py37_0  \r\n",
      "msgpack-numpy             0.4.3.2                  pypi_0    pypi\r\n",
      "msgpack-python            0.5.6            py37h04f5b5a_1  \r\n",
      "multipledispatch          0.6.0                    py37_0  \r\n",
      "multiprocess              0.70.7                   pypi_0    pypi\r\n",
      "murmurhash                1.0.1                    pypi_0    pypi\r\n",
      "navigator-updater         0.2.1                    py37_0  \r\n",
      "nbconvert                 5.4.1                    pypi_0    pypi\r\n",
      "nbformat                  4.4.0                    py37_0  \r\n",
      "nbsphinx                  0.4.2                    pypi_0    pypi\r\n",
      "ncurses                   6.1                  h0a44026_1  \r\n",
      "networkx                  2.2                      py37_1  \r\n",
      "ninja                     1.8.2            py37h04f5b5a_1  \r\n",
      "nltk                      3.4                      py37_1  \r\n",
      "nose                      1.3.7                    py37_2  \r\n",
      "notebook                  5.7.4                    py37_0  \r\n",
      "np-utils                  0.5.9.0                  pypi_0    pypi\r\n",
      "numba                     0.41.0           py37h6440ff4_0  \r\n",
      "numexpr                   2.6.8            py37h7413580_0  \r\n",
      "numpy                     1.15.0                   pypi_0    pypi\r\n",
      "numpydoc                  0.8.0                    py37_0  \r\n",
      "nvidia-ml-py3             7.352.0                  pypi_0    pypi\r\n",
      "odo                       0.5.1                    py37_0  \r\n",
      "olefile                   0.46                     py37_0  \r\n",
      "openpyxl                  2.5.12                   py37_0  \r\n",
      "openssl                   1.1.1b               h1de35cc_1  \r\n",
      "osqp                      0.5.0                    pypi_0    pypi\r\n",
      "packaging                 18.0                     py37_0  \r\n",
      "pandas                    0.24.1                   pypi_0    pypi\r\n",
      "pandas-summary            0.0.6                    pypi_0    pypi\r\n",
      "pandoc                    1.19.2.1             ha5e8f32_1  \r\n",
      "pandocfilters             1.4.2                    py37_1  \r\n",
      "pango                     1.42.4               h060686c_0  \r\n",
      "parso                     0.3.1                    py37_0  \r\n",
      "partd                     0.3.9                    py37_0  \r\n",
      "path.py                   11.5.0                   py37_0  \r\n",
      "pathlib2                  2.3.3                    py37_0  \r\n",
      "patsy                     0.5.1                    py37_0  \r\n",
      "pbr                       5.1.2                    pypi_0    pypi\r\n",
      "pcre                      8.42                 h378b8a2_0  \r\n",
      "pep8                      1.7.1                    py37_0  \r\n",
      "pexpect                   4.6.0                    py37_0  \r\n",
      "pickleshare               0.7.5                    py37_0  \r\n",
      "pillow                    5.3.0            py37hb68e598_0  \r\n",
      "pip                       19.1.1                   pypi_0    pypi\r\n",
      "pixman                    0.38.0               h1de35cc_0  \r\n",
      "pkginfo                   1.4.2                    py37_1  \r\n",
      "plac                      0.9.6                    pypi_0    pypi\r\n",
      "plotly                    3.6.1                    pypi_0    pypi\r\n",
      "pluggy                    0.8.0                    py37_0  \r\n",
      "ply                       3.11                     py37_0  \r\n",
      "preshed                   2.0.1                    pypi_0    pypi\r\n",
      "probscale                 0.2.3                    pypi_0    pypi\r\n",
      "prometheus_client         0.5.0                    py37_0  \r\n",
      "prompt_toolkit            2.0.7                    py37_0  \r\n",
      "protobuf                  3.6.1                    pypi_0    pypi\r\n",
      "psutil                    5.4.8            py37h1de35cc_0  \r\n",
      "ptyprocess                0.6.0                    py37_0  \r\n",
      "py                        1.7.0                    py37_0  \r\n",
      "py-lief                   0.9.0            py37hd4eaf27_0  \r\n",
      "py4j                      0.10.7                   pypi_0    pypi\r\n",
      "pyarrow                   0.12.0                   pypi_0    pypi\r\n",
      "pycodestyle               2.4.0                    py37_0  \r\n",
      "pycosat                   0.6.3            py37h1de35cc_0  \r\n",
      "pycparser                 2.19                     py37_0  \r\n",
      "pycrypto                  2.6.1            py37h1de35cc_9  \r\n",
      "pycurl                    7.43.0.2         py37ha12b0ac_0  \r\n",
      "pydataset                 0.2.0                    pypi_0    pypi\r\n",
      "pydot                     1.3.0                    py37_1  \r\n",
      "pydot-ng                  2.0.0                    pypi_0    pypi\r\n",
      "pyflakes                  2.0.0                    py37_0  \r\n",
      "pygments                  2.3.1                    py37_0  \r\n",
      "pylint                    2.2.2                    py37_0  \r\n",
      "pyodbc                    4.0.25           py37h0a44026_0  \r\n",
      "pyopenssl                 18.0.0                   py37_0  \r\n",
      "pyparsing                 2.3.0                    py37_0  \r\n",
      "pyqt                      5.9.2            py37h655552a_2  \r\n",
      "pysocks                   1.6.8                    py37_0  \r\n",
      "pyspark                   2.4.3                    pypi_0    pypi\r\n",
      "pytables                  3.4.4            py37h13cba08_0  \r\n",
      "pytest                    4.0.2                    py37_0  \r\n",
      "pytest-arraydiff          0.3              py37h39e3cac_0  \r\n",
      "pytest-astropy            0.5.0                    py37_0  \r\n",
      "pytest-doctestplus        0.2.0                    py37_0  \r\n",
      "pytest-openfiles          0.3.1                    py37_0  \r\n",
      "pytest-remotedata         0.3.1                    py37_0  \r\n",
      "python                    3.7.1                haf84260_7  \r\n",
      "python-dateutil           2.7.5                    py37_0  \r\n",
      "python-libarchive-c       2.8                      py37_6  \r\n",
      "python.app                2                        py37_9  \r\n",
      "pytorch                   1.0.1                   py3.7_2    pytorch\r\n",
      "pytz                      2018.7                   py37_0  \r\n",
      "pywavelets                1.0.1            py37h1d22016_0  \r\n",
      "pyyaml                    3.13             py37h1de35cc_0  \r\n",
      "pyzmq                     17.1.2           py37h1de35cc_0  \r\n",
      "qt                        5.9.7                h468cd18_1  \r\n",
      "qtawesome                 0.5.3                    py37_0  \r\n",
      "qtconsole                 4.4.3                    py37_0  \r\n",
      "qtpy                      1.5.2                    py37_0  \r\n",
      "ray                       0.6.2                    pypi_0    pypi\r\n",
      "readline                  7.0                  h1de35cc_5  \r\n",
      "redis                     3.2.1                    pypi_0    pypi\r\n",
      "regex                     2018.1.10                pypi_0    pypi\r\n",
      "requests                  2.21.0                   py37_0  \r\n",
      "retrying                  1.3.3                    pypi_0    pypi\r\n",
      "rope                      0.11.0                   py37_0  \r\n",
      "ruamel_yaml               0.15.46          py37h1de35cc_0  \r\n",
      "s3fs                      0.2.1                    pypi_0    pypi\r\n",
      "s3transfer                0.2.0                    pypi_0    pypi\r\n",
      "scikit-image              0.14.1           py37h0a44026_0  \r\n",
      "scikit-learn              0.20.1           py37h27c97d8_0  \r\n",
      "scipy                     1.1.0            py37h1410ff5_2  \r\n",
      "scs                       2.0.2                    pypi_0    pypi\r\n",
      "seaborn                   0.9.0                    py37_0  \r\n",
      "send2trash                1.5.0                    py37_0  \r\n",
      "setuptools                40.6.3                   py37_0  \r\n",
      "simplegeneric             0.8.1                    py37_2  \r\n",
      "singledispatch            3.4.0.3                  py37_0  \r\n",
      "sip                       4.19.8           py37h0a44026_0  \r\n",
      "six                       1.12.0                   py37_0  \r\n",
      "sklearn                   0.0                      pypi_0    pypi\r\n",
      "sklearn-pandas            1.8.0                    pypi_0    pypi\r\n",
      "snappy                    1.1.7                he62c110_3  \r\n",
      "snowballstemmer           1.2.1                    py37_0  \r\n",
      "sortedcollections         1.0.1                    py37_0  \r\n",
      "sortedcontainers          2.1.0                    py37_0  \r\n",
      "spacy                     2.0.18                   pypi_0    pypi\r\n",
      "sphinx                    1.8.2                    py37_0  \r\n",
      "sphinx-automodapi         0.10                     pypi_0    pypi\r\n",
      "sphinx-gallery            0.2.0                    pypi_0    pypi\r\n",
      "sphinx-rtd-theme          0.4.3                    pypi_0    pypi\r\n",
      "sphinxcontrib             1.0                      py37_1  \r\n",
      "sphinxcontrib-websupport  1.1.0                    py37_1  \r\n",
      "spyder                    3.3.2                    py37_0  \r\n",
      "spyder-kernels            0.3.0                    py37_0  \r\n",
      "sqlalchemy                1.2.15           py37h1de35cc_0  \r\n",
      "sqlite                    3.26.0               ha441bb4_0  \r\n",
      "statsmodels               0.9.0            py37h1d22016_0  \r\n",
      "sympy                     1.3                      py37_0  \r\n",
      "tblib                     1.3.2                    py37_0  \r\n",
      "tensorboard               1.12.2                   pypi_0    pypi\r\n",
      "tensorflow                1.13.0rc2                pypi_0    pypi\r\n",
      "tensorflow-estimator      1.13.0rc0                pypi_0    pypi\r\n",
      "termcolor                 1.1.0                    pypi_0    pypi\r\n",
      "terminado                 0.8.1                    py37_1  \r\n",
      "testpath                  0.4.2                    py37_0  \r\n",
      "thinc                     6.12.1                   pypi_0    pypi\r\n",
      "tk                        8.6.8                ha441bb4_0  \r\n",
      "toolz                     0.9.0                    py37_0  \r\n",
      "torchvision               0.2.1                      py_2    pytorch\r\n",
      "tornado                   5.1.1            py37h1de35cc_0  \r\n",
      "tqdm                      4.28.1           py37h28b3542_0  \r\n",
      "traitlets                 4.3.2                    py37_0  \r\n",
      "typing                    3.6.6                    pypi_0    pypi\r\n",
      "ujson                     1.35                     pypi_0    pypi\r\n",
      "unicodecsv                0.14.1                   py37_0  \r\n",
      "unixodbc                  2.3.7                h1de35cc_0  \r\n",
      "urllib3                   1.24.1                   py37_0  \r\n",
      "wand                      0.5.1                    pypi_0    pypi\r\n",
      "wcwidth                   0.1.7                    py37_0  \r\n",
      "webencodings              0.5.1                    py37_1  \r\n",
      "werkzeug                  0.14.1                   py37_0  \r\n",
      "wheel                     0.32.3                   py37_0  \r\n",
      "widgetsnbextension        3.4.2                    py37_0  \r\n",
      "wrapt                     1.10.11          py37h1de35cc_2  \r\n",
      "wurlitzer                 1.0.2                    py37_0  \r\n",
      "xgboost                   0.81                     pypi_0    pypi\r\n",
      "xlrd                      1.2.0                    py37_0  \r\n",
      "xlsxwriter                1.1.2                    py37_0  \r\n",
      "xlwings                   0.15.1                   py37_0  \r\n",
      "xlwt                      1.3.0                    py37_0  \r\n",
      "xz                        5.2.4                h1de35cc_4  \r\n",
      "yaml                      0.1.7                hc338f04_2  \r\n",
      "zeromq                    4.2.5                h0a44026_1  \r\n",
      "zict                      0.1.3                    py37_0  \r\n",
      "zlib                      1.2.11               h1de35cc_3  \r\n",
      "zstd                      1.3.7                h5bba6e5_0  \r\n"
     ]
    }
   ],
   "source": [
    "!conda list"
   ]
  },
  {
   "cell_type": "code",
   "execution_count": 2,
   "metadata": {
    "ExecuteTime": {
     "end_time": "2019-08-08T15:29:52.287745Z",
     "start_time": "2019-08-08T15:29:52.266643Z"
    }
   },
   "outputs": [
    {
     "data": {
      "text/plain": [
       "'/Users/brucecottman/Documents/PROJECTS/paso'"
      ]
     },
     "execution_count": 2,
     "metadata": {},
     "output_type": "execute_result"
    }
   ],
   "source": [
    "from __future__ import print_function\n",
    "__file__ = !cd .. ;pwd\n",
    "__file__ = __file__[0]\n",
    "__file__"
   ]
  },
  {
   "cell_type": "code",
   "execution_count": 3,
   "metadata": {
    "ExecuteTime": {
     "end_time": "2019-08-08T15:29:52.716718Z",
     "start_time": "2019-08-08T15:29:52.289999Z"
    }
   },
   "outputs": [
    {
     "data": {
      "text/plain": [
       "['/Users/brucecottman/Documents/PROJECTS/paso/lessons',\n",
       " '/Users/brucecottman/anaconda3/envs/paso/lib/python37.zip',\n",
       " '/Users/brucecottman/anaconda3/envs/paso/lib/python3.7',\n",
       " '/Users/brucecottman/anaconda3/envs/paso/lib/python3.7/lib-dynload',\n",
       " '',\n",
       " '/Users/brucecottman/.local/lib/python3.7/site-packages',\n",
       " '/Users/brucecottman/anaconda3/envs/paso/lib/python3.7/site-packages',\n",
       " '/Users/brucecottman/anaconda3/envs/paso/lib/python3.7/site-packages/aeosa',\n",
       " '/Users/brucecottman/anaconda3/envs/paso/lib/python3.7/site-packages/IPython/extensions',\n",
       " '/Users/brucecottman/.ipython',\n",
       " '/Users/brucecottman/Documents/PROJECTS/paso']"
      ]
     },
     "execution_count": 3,
     "metadata": {},
     "output_type": "execute_result"
    }
   ],
   "source": [
    "import sys\n",
    "from random import random\n",
    "import pandas as pd\n",
    "from tqdm import tqdm\n",
    "\n",
    "sys.path.append(__file__)\n",
    "sys.path"
   ]
  },
  {
   "cell_type": "code",
   "execution_count": 4,
   "metadata": {
    "ExecuteTime": {
     "end_time": "2019-08-08T15:29:53.818020Z",
     "start_time": "2019-08-08T15:29:52.720183Z"
    }
   },
   "outputs": [
    {
     "name": "stdout",
     "output_type": "stream",
     "text": [
      "paso 8.8.2019 11:29:53 INFO Log started\n",
      "paso 8.8.2019 11:29:53 INFO ========================================\n",
      "paso 8.8.2019 11:29:53 INFO Read in parameter file: ../parameters/lesson.3.yaml\n"
     ]
    }
   ],
   "source": [
    "import numpy as np\n",
    "import pandas as pd\n",
    "from pandas_summary import DataFrameSummary\n",
    "\n",
    "import warnings\n",
    "warnings.filterwarnings(\"ignore\")\n",
    "import multiprocessing\n",
    "\n",
    "import matplotlib as mpl\n",
    "from matplotlib import pyplot as plt\n",
    "from matplotlib import cm\n",
    "\n",
    "%reload_ext autoreload\n",
    "%autoreload 2\n",
    "%matplotlib inline\n",
    "import matplotlib\n",
    "import seaborn as sns\n",
    "color = sns.color_palette()\n",
    "sns.set(rc={'figure.figsize':(6,4)})\n",
    "from paso.base import Paso,Log,PasoError\n",
    "from loguru import logger\n",
    "session = Paso(parameters_filepath='../parameters/lesson.3.yaml').startup()"
   ]
  },
  {
   "cell_type": "code",
   "execution_count": 5,
   "metadata": {
    "ExecuteTime": {
     "end_time": "2019-08-08T15:29:53.878126Z",
     "start_time": "2019-08-08T15:29:53.821897Z"
    }
   },
   "outputs": [
    {
     "name": "stdout",
     "output_type": "stream",
     "text": [
      "paso 8.8.2019 11:29:53 INFO ========================================\n",
      "paso 8.8.2019 11:29:53 INFO Read in parameter file: ../parameters/lesson.3.yaml\n"
     ]
    }
   ],
   "source": [
    "from paso.base import Paso,Log,PasoError,Param,NameToClass\n",
    "from loguru import logger\n",
    "session = Paso(parameters_filepath='../parameters/lesson.3.yaml').startup()"
   ]
  },
  {
   "cell_type": "markdown",
   "metadata": {},
   "source": [
    "As we saw in [lesson-1](), we need to startup **paso** services."
   ]
  },
  {
   "cell_type": "code",
   "execution_count": 6,
   "metadata": {
    "ExecuteTime": {
     "end_time": "2019-08-08T15:29:53.998975Z",
     "start_time": "2019-08-08T15:29:53.880618Z"
    }
   },
   "outputs": [
    {
     "name": "stdout",
     "output_type": "stream",
     "text": [
      "paso 8.8.2019 11:29:53 INFO ========================================\n",
      "paso 8.8.2019 11:29:53 INFO Read in parameter file: ../parameters/lesson.3.yaml\n"
     ]
    }
   ],
   "source": [
    "import numpy as np\n",
    "import pandas as pd\n",
    "from pandas_summary import DataFrameSummary\n",
    "\n",
    "import warnings\n",
    "warnings.filterwarnings(\"ignore\")\n",
    "import multiprocessing\n",
    "\n",
    "import matplotlib as mpl\n",
    "from matplotlib import pyplot as plt\n",
    "from matplotlib import cm\n",
    "\n",
    "%reload_ext autoreload\n",
    "%autoreload 2\n",
    "%matplotlib inline\n",
    "import matplotlib\n",
    "import seaborn as sns\n",
    "color = sns.color_palette()\n",
    "\n",
    "from paso.base import Paso,Log,PasoError\n",
    "from loguru import logger\n",
    "session = Paso(parameters_filepath='../parameters/lesson.3.yaml').startup()"
   ]
  },
  {
   "cell_type": "markdown",
   "metadata": {},
   "source": [
    "## Toy Example Dataset"
   ]
  },
  {
   "cell_type": "markdown",
   "metadata": {},
   "source": [
    "The **paso** class is a general method to read in datasets and return them as dataframes. For now, we can use them. In a future lesson we will cover  ``Inputer`` in  detail.  All available ``Inputer`` methods are shown with:"
   ]
  },
  {
   "cell_type": "code",
   "execution_count": 7,
   "metadata": {
    "ExecuteTime": {
     "end_time": "2019-08-08T15:29:54.096804Z",
     "start_time": "2019-08-08T15:29:54.001045Z"
    }
   },
   "outputs": [
    {
     "data": {
      "text/plain": [
       "['exec', 'cvs', 'xls', 'xlsm', 'text', 'image2D', 'image3D']"
      ]
     },
     "execution_count": 7,
     "metadata": {},
     "output_type": "execute_result"
    }
   ],
   "source": [
    "from paso.pre.inputers import Inputer,Splitter\n",
    "inputer = Inputer(ontological_filepath='../ontologies/pre/inputers/pima-diabetes.yaml')\n",
    "inputer.inputers()"
   ]
  },
  {
   "cell_type": "code",
   "execution_count": 8,
   "metadata": {
    "ExecuteTime": {
     "end_time": "2019-08-08T15:29:54.200763Z",
     "start_time": "2019-08-08T15:29:54.099150Z"
    }
   },
   "outputs": [
    {
     "name": "stdout",
     "output_type": "stream",
     "text": [
      "paso 8.8.2019 11:29:54 INFO Loaded Ontological file:../ontologies/pre/inputers/pima-diabetes.yaml \n"
     ]
    },
    {
     "data": {
      "text/plain": [
       "['train', 'directory_path']"
      ]
     },
     "execution_count": 8,
     "metadata": {},
     "output_type": "execute_result"
    }
   ],
   "source": [
    "inputer.datasets()"
   ]
  },
  {
   "cell_type": "markdown",
   "metadata": {},
   "source": [
    "Let us start with a toy dataset to class balance. we load the ``iris``data set, into the ``flower`` dataframe.  The feature ``TypeOf`` will contain the class target values."
   ]
  },
  {
   "cell_type": "code",
   "execution_count": 9,
   "metadata": {
    "ExecuteTime": {
     "end_time": "2019-08-08T15:29:54.308664Z",
     "start_time": "2019-08-08T15:29:54.203112Z"
    }
   },
   "outputs": [
    {
     "name": "stdout",
     "output_type": "stream",
     "text": [
      "paso 8.8.2019 11:29:54 INFO Loaded Ontological file:../ontologies/pre/inputers/pima-diabetes.yaml \n"
     ]
    },
    {
     "data": {
      "text/plain": [
       "'Outcome'"
      ]
     },
     "execution_count": 9,
     "metadata": {},
     "output_type": "execute_result"
    }
   ],
   "source": [
    "diabetes = inputer.transform()\n",
    "inputer.target"
   ]
  },
  {
   "cell_type": "markdown",
   "metadata": {},
   "source": [
    "### A short aside on ontological files."
   ]
  },
  {
   "cell_type": "markdown",
   "metadata": {},
   "source": [
    "Instead of using keyword arguments cemented in code, I will use an ontological file. One working definition of ontological (from Wikipedia) is:\n",
    "\n",
    "    \"showing the relations between the concepts and categories in a subject area or domain\".\n",
    "\n",
    "We are using ontological files because:\n",
    "- the description of an object (dataset, model,etc.) can be changed without changing code\n",
    "- the parsing performance of an ontological file and python are about the same as both use dynamic typing. This probably would not be case for statically typed language. However, an object's metadata parsing compute is very tiny compared to the action(s) performed on or by the object in all cases encountered so far.  \n",
    "\n",
    "We will found out if ontological files have a measurable overhead as we port **paso** to other frameworks (such as **RAPIDS**) or statically-typed languages (such as ``swift``). At much of python's workhorse packages are in fast, statically-typed ``C``, so I doubt it.\n",
    "\n",
    "Ontological files consist of hierarchy of key-value pairs.  In a future lesson we will cover Ontological files in  detail. [Different Ontological files can be viewed here.](https://github.com/bcottman/paso/tree/master/ontologies)\n"
   ]
  },
  {
   "cell_type": "code",
   "execution_count": 10,
   "metadata": {
    "ExecuteTime": {
     "end_time": "2019-08-08T15:29:54.639066Z",
     "start_time": "2019-08-08T15:29:54.310948Z"
    }
   },
   "outputs": [
    {
     "data": {
      "text/html": [
       "<div>\n",
       "<style scoped>\n",
       "    .dataframe tbody tr th:only-of-type {\n",
       "        vertical-align: middle;\n",
       "    }\n",
       "\n",
       "    .dataframe tbody tr th {\n",
       "        vertical-align: top;\n",
       "    }\n",
       "\n",
       "    .dataframe thead th {\n",
       "        text-align: right;\n",
       "    }\n",
       "</style>\n",
       "<table border=\"1\" class=\"dataframe\">\n",
       "  <thead>\n",
       "    <tr style=\"text-align: right;\">\n",
       "      <th></th>\n",
       "      <th>Pregnancies</th>\n",
       "      <th>Glucose</th>\n",
       "      <th>BloodPressure</th>\n",
       "      <th>SkinThickness</th>\n",
       "      <th>Insulin</th>\n",
       "      <th>BMI</th>\n",
       "      <th>DiabetesPedigreeFunction</th>\n",
       "      <th>Age</th>\n",
       "      <th>Outcome</th>\n",
       "    </tr>\n",
       "  </thead>\n",
       "  <tbody>\n",
       "    <tr>\n",
       "      <th>count</th>\n",
       "      <td>768</td>\n",
       "      <td>768</td>\n",
       "      <td>768</td>\n",
       "      <td>768</td>\n",
       "      <td>768</td>\n",
       "      <td>768</td>\n",
       "      <td>768</td>\n",
       "      <td>768</td>\n",
       "      <td>768</td>\n",
       "    </tr>\n",
       "    <tr>\n",
       "      <th>mean</th>\n",
       "      <td>3.84505</td>\n",
       "      <td>120.895</td>\n",
       "      <td>69.1055</td>\n",
       "      <td>20.5365</td>\n",
       "      <td>79.7995</td>\n",
       "      <td>31.9926</td>\n",
       "      <td>0.471876</td>\n",
       "      <td>33.2409</td>\n",
       "      <td>0.348958</td>\n",
       "    </tr>\n",
       "    <tr>\n",
       "      <th>std</th>\n",
       "      <td>3.36958</td>\n",
       "      <td>31.9726</td>\n",
       "      <td>19.3558</td>\n",
       "      <td>15.9522</td>\n",
       "      <td>115.244</td>\n",
       "      <td>7.88416</td>\n",
       "      <td>0.331329</td>\n",
       "      <td>11.7602</td>\n",
       "      <td>0.476951</td>\n",
       "    </tr>\n",
       "    <tr>\n",
       "      <th>min</th>\n",
       "      <td>0</td>\n",
       "      <td>0</td>\n",
       "      <td>0</td>\n",
       "      <td>0</td>\n",
       "      <td>0</td>\n",
       "      <td>0</td>\n",
       "      <td>0.078</td>\n",
       "      <td>21</td>\n",
       "      <td>0</td>\n",
       "    </tr>\n",
       "    <tr>\n",
       "      <th>25%</th>\n",
       "      <td>1</td>\n",
       "      <td>99</td>\n",
       "      <td>62</td>\n",
       "      <td>0</td>\n",
       "      <td>0</td>\n",
       "      <td>27.3</td>\n",
       "      <td>0.24375</td>\n",
       "      <td>24</td>\n",
       "      <td>0</td>\n",
       "    </tr>\n",
       "    <tr>\n",
       "      <th>50%</th>\n",
       "      <td>3</td>\n",
       "      <td>117</td>\n",
       "      <td>72</td>\n",
       "      <td>23</td>\n",
       "      <td>30.5</td>\n",
       "      <td>32</td>\n",
       "      <td>0.3725</td>\n",
       "      <td>29</td>\n",
       "      <td>0</td>\n",
       "    </tr>\n",
       "    <tr>\n",
       "      <th>75%</th>\n",
       "      <td>6</td>\n",
       "      <td>140.25</td>\n",
       "      <td>80</td>\n",
       "      <td>32</td>\n",
       "      <td>127.25</td>\n",
       "      <td>36.6</td>\n",
       "      <td>0.62625</td>\n",
       "      <td>41</td>\n",
       "      <td>1</td>\n",
       "    </tr>\n",
       "    <tr>\n",
       "      <th>max</th>\n",
       "      <td>17</td>\n",
       "      <td>199</td>\n",
       "      <td>122</td>\n",
       "      <td>99</td>\n",
       "      <td>846</td>\n",
       "      <td>67.1</td>\n",
       "      <td>2.42</td>\n",
       "      <td>81</td>\n",
       "      <td>1</td>\n",
       "    </tr>\n",
       "    <tr>\n",
       "      <th>counts</th>\n",
       "      <td>768</td>\n",
       "      <td>768</td>\n",
       "      <td>768</td>\n",
       "      <td>768</td>\n",
       "      <td>768</td>\n",
       "      <td>768</td>\n",
       "      <td>768</td>\n",
       "      <td>768</td>\n",
       "      <td>768</td>\n",
       "    </tr>\n",
       "    <tr>\n",
       "      <th>uniques</th>\n",
       "      <td>17</td>\n",
       "      <td>136</td>\n",
       "      <td>47</td>\n",
       "      <td>51</td>\n",
       "      <td>186</td>\n",
       "      <td>248</td>\n",
       "      <td>517</td>\n",
       "      <td>52</td>\n",
       "      <td>2</td>\n",
       "    </tr>\n",
       "    <tr>\n",
       "      <th>missing</th>\n",
       "      <td>0</td>\n",
       "      <td>0</td>\n",
       "      <td>0</td>\n",
       "      <td>0</td>\n",
       "      <td>0</td>\n",
       "      <td>0</td>\n",
       "      <td>0</td>\n",
       "      <td>0</td>\n",
       "      <td>0</td>\n",
       "    </tr>\n",
       "    <tr>\n",
       "      <th>missing_perc</th>\n",
       "      <td>0%</td>\n",
       "      <td>0%</td>\n",
       "      <td>0%</td>\n",
       "      <td>0%</td>\n",
       "      <td>0%</td>\n",
       "      <td>0%</td>\n",
       "      <td>0%</td>\n",
       "      <td>0%</td>\n",
       "      <td>0%</td>\n",
       "    </tr>\n",
       "    <tr>\n",
       "      <th>types</th>\n",
       "      <td>numeric</td>\n",
       "      <td>numeric</td>\n",
       "      <td>numeric</td>\n",
       "      <td>numeric</td>\n",
       "      <td>numeric</td>\n",
       "      <td>numeric</td>\n",
       "      <td>numeric</td>\n",
       "      <td>numeric</td>\n",
       "      <td>bool</td>\n",
       "    </tr>\n",
       "  </tbody>\n",
       "</table>\n",
       "</div>"
      ],
      "text/plain": [
       "             Pregnancies  Glucose BloodPressure SkinThickness  Insulin  \\\n",
       "count                768      768           768           768      768   \n",
       "mean             3.84505  120.895       69.1055       20.5365  79.7995   \n",
       "std              3.36958  31.9726       19.3558       15.9522  115.244   \n",
       "min                    0        0             0             0        0   \n",
       "25%                    1       99            62             0        0   \n",
       "50%                    3      117            72            23     30.5   \n",
       "75%                    6   140.25            80            32   127.25   \n",
       "max                   17      199           122            99      846   \n",
       "counts               768      768           768           768      768   \n",
       "uniques               17      136            47            51      186   \n",
       "missing                0        0             0             0        0   \n",
       "missing_perc          0%       0%            0%            0%       0%   \n",
       "types            numeric  numeric       numeric       numeric  numeric   \n",
       "\n",
       "                  BMI DiabetesPedigreeFunction      Age   Outcome  \n",
       "count             768                      768      768       768  \n",
       "mean          31.9926                 0.471876  33.2409  0.348958  \n",
       "std           7.88416                 0.331329  11.7602  0.476951  \n",
       "min                 0                    0.078       21         0  \n",
       "25%              27.3                  0.24375       24         0  \n",
       "50%                32                   0.3725       29         0  \n",
       "75%              36.6                  0.62625       41         1  \n",
       "max              67.1                     2.42       81         1  \n",
       "counts            768                      768      768       768  \n",
       "uniques           248                      517       52         2  \n",
       "missing             0                        0        0         0  \n",
       "missing_perc       0%                       0%       0%        0%  \n",
       "types         numeric                  numeric  numeric      bool  "
      ]
     },
     "execution_count": 10,
     "metadata": {},
     "output_type": "execute_result"
    }
   ],
   "source": [
    "DataFrameSummary(diabetes).summary()"
   ]
  },
  {
   "cell_type": "markdown",
   "metadata": {},
   "source": [
    "## It is important to split first before balancing"
   ]
  },
  {
   "cell_type": "markdown",
   "metadata": {},
   "source": [
    "Before training the learner it is very important to balance only the dataset we will train on. We want to know the effect of balancing data on the learner, while not corrupting our validation  dataset with augmented  data that balances the classes.\n",
    "\n",
    "Validation is drawn from the initial train dataset in the hopes it is a sample of the past and future data that the test dataset will be drawn from. The other case where train, valid, test are sampled from the original dataset is covered by splitting the initial dataset to result in train and valid. Then split on train again to get train and test. The order does not matter so long as the second split is also on the train dataset ."
   ]
  },
  {
   "cell_type": "code",
   "execution_count": 11,
   "metadata": {
    "ExecuteTime": {
     "end_time": "2019-08-08T15:29:54.841386Z",
     "start_time": "2019-08-08T15:29:54.641574Z"
    }
   },
   "outputs": [
    {
     "name": "stdout",
     "output_type": "stream",
     "text": [
      "paso 8.8.2019 11:29:54 INFO Loaded Ontological file:../ontologies/pre/inputers/split-stratify-shuffle-30.yaml \n"
     ]
    },
    {
     "data": {
      "text/html": [
       "<div>\n",
       "<style scoped>\n",
       "    .dataframe tbody tr th:only-of-type {\n",
       "        vertical-align: middle;\n",
       "    }\n",
       "\n",
       "    .dataframe tbody tr th {\n",
       "        vertical-align: top;\n",
       "    }\n",
       "\n",
       "    .dataframe thead th {\n",
       "        text-align: right;\n",
       "    }\n",
       "</style>\n",
       "<table border=\"1\" class=\"dataframe\">\n",
       "  <thead>\n",
       "    <tr style=\"text-align: right;\">\n",
       "      <th></th>\n",
       "      <th>Age</th>\n",
       "      <th>BMI</th>\n",
       "      <th>BloodPressure</th>\n",
       "      <th>DiabetesPedigreeFunction</th>\n",
       "      <th>Glucose</th>\n",
       "      <th>Insulin</th>\n",
       "      <th>Pregnancies</th>\n",
       "      <th>SkinThickness</th>\n",
       "      <th>Outcome</th>\n",
       "    </tr>\n",
       "  </thead>\n",
       "  <tbody>\n",
       "    <tr>\n",
       "      <th>684</th>\n",
       "      <td>69</td>\n",
       "      <td>0.0</td>\n",
       "      <td>82</td>\n",
       "      <td>0.640</td>\n",
       "      <td>136</td>\n",
       "      <td>0</td>\n",
       "      <td>5</td>\n",
       "      <td>0</td>\n",
       "      <td>0</td>\n",
       "    </tr>\n",
       "    <tr>\n",
       "      <th>293</th>\n",
       "      <td>24</td>\n",
       "      <td>40.5</td>\n",
       "      <td>48</td>\n",
       "      <td>0.613</td>\n",
       "      <td>128</td>\n",
       "      <td>194</td>\n",
       "      <td>1</td>\n",
       "      <td>45</td>\n",
       "      <td>1</td>\n",
       "    </tr>\n",
       "    <tr>\n",
       "      <th>49</th>\n",
       "      <td>24</td>\n",
       "      <td>0.0</td>\n",
       "      <td>0</td>\n",
       "      <td>0.305</td>\n",
       "      <td>105</td>\n",
       "      <td>0</td>\n",
       "      <td>7</td>\n",
       "      <td>0</td>\n",
       "      <td>0</td>\n",
       "    </tr>\n",
       "    <tr>\n",
       "      <th>449</th>\n",
       "      <td>26</td>\n",
       "      <td>30.5</td>\n",
       "      <td>74</td>\n",
       "      <td>0.285</td>\n",
       "      <td>120</td>\n",
       "      <td>63</td>\n",
       "      <td>0</td>\n",
       "      <td>18</td>\n",
       "      <td>0</td>\n",
       "    </tr>\n",
       "    <tr>\n",
       "      <th>461</th>\n",
       "      <td>26</td>\n",
       "      <td>21.8</td>\n",
       "      <td>62</td>\n",
       "      <td>0.416</td>\n",
       "      <td>71</td>\n",
       "      <td>0</td>\n",
       "      <td>1</td>\n",
       "      <td>0</td>\n",
       "      <td>0</td>\n",
       "    </tr>\n",
       "  </tbody>\n",
       "</table>\n",
       "</div>"
      ],
      "text/plain": [
       "     Age   BMI  BloodPressure  DiabetesPedigreeFunction  Glucose  Insulin  \\\n",
       "684   69   0.0             82                     0.640      136        0   \n",
       "293   24  40.5             48                     0.613      128      194   \n",
       "49    24   0.0              0                     0.305      105        0   \n",
       "449   26  30.5             74                     0.285      120       63   \n",
       "461   26  21.8             62                     0.416       71        0   \n",
       "\n",
       "     Pregnancies  SkinThickness  Outcome  \n",
       "684            5              0        0  \n",
       "293            1             45        1  \n",
       "49             7              0        0  \n",
       "449            0             18        0  \n",
       "461            1              0        0  "
      ]
     },
     "execution_count": 11,
     "metadata": {},
     "output_type": "execute_result"
    }
   ],
   "source": [
    "splitter = Splitter(ontological_filepath='../ontologies/pre/inputers/split-stratify-shuffle-30.yaml')\n",
    "train,test=splitter.transform(diabetes,target=inputer.target,random_state=11)\n",
    "train.head()"
   ]
  },
  {
   "cell_type": "markdown",
   "metadata": {},
   "source": [
    "The argument ratio is the amount of the dataset to assign to the validation (test) dataset. In this case,\n",
    "``X``and ``y`` datasets into training set(50\\%) and test set(50\\%). "
   ]
  },
  {
   "cell_type": "markdown",
   "metadata": {},
   "source": [
    "Note: A ``valid`` dataset is not made as we are not tuning learner parameters in this lesson. "
   ]
  },
  {
   "cell_type": "markdown",
   "metadata": {},
   "source": [
    "## paso Class for Handling Imbalanced Classes"
   ]
  },
  {
   "cell_type": "markdown",
   "metadata": {},
   "source": [
    "All available class balance strategies are shown with:"
   ]
  },
  {
   "cell_type": "code",
   "execution_count": 12,
   "metadata": {
    "ExecuteTime": {
     "end_time": "2019-08-08T15:29:54.977649Z",
     "start_time": "2019-08-08T15:29:54.843975Z"
    }
   },
   "outputs": [
    {
     "data": {
      "text/plain": [
       "['RanZOverSample',\n",
       " 'SMOTE',\n",
       " 'ADASYN',\n",
       " 'BorderLineSMOTE',\n",
       " 'SVMSMOTE',\n",
       " 'SMOTENC',\n",
       " 'RandomUnderSample',\n",
       " 'ClusterCentroids',\n",
       " 'NearMiss',\n",
       " 'EditedNearestNeighbour',\n",
       " 'RepeatedEditedNearestNeighbours',\n",
       " 'CondensedNearestNeighbour',\n",
       " 'OneSidedSelection']"
      ]
     },
     "execution_count": 12,
     "metadata": {},
     "output_type": "execute_result"
    }
   ],
   "source": [
    "from paso.pre.cleaners import Class_Balance\n",
    "class_balancer = Class_Balance(ontological_filepath='../ontologies/cleaners/SMOTE.yaml')\n",
    "class_balancer.classBalancers()"
   ]
  },
  {
   "cell_type": "markdown",
   "metadata": {
    "ExecuteTime": {
     "end_time": "2019-07-25T20:11:00.840933Z",
     "start_time": "2019-07-25T20:11:00.787237Z"
    }
   },
   "source": [
    "I am going to oversample the minority classes by using ``SMOOT``. I reccomend [Handling imbalanced datasets in machine learning](https://towardsdatascience.com/handling-imbalanced-datasets-in-machine-learning-7a0e84220f28) for more detail on how to balance class imbalanced datasets."
   ]
  },
  {
   "cell_type": "code",
   "execution_count": 13,
   "metadata": {
    "ExecuteTime": {
     "end_time": "2019-08-08T15:29:55.084695Z",
     "start_time": "2019-08-08T15:29:54.979948Z"
    }
   },
   "outputs": [
    {
     "name": "stdout",
     "output_type": "stream",
     "text": [
      "paso 8.8.2019 11:29:55 INFO Loaded Ontological file:../ontologies/pre/cleaners/SMOTE.yaml \n",
      "paso 8.8.2019 11:29:55 INFO Class_Balance:: SMOTE\n",
      "paso 8.8.2019 11:29:55 INFO Class_Balance: SMOTE with kwargs {}\n"
     ]
    }
   ],
   "source": [
    "targetFeature = inputer.target\n",
    "class_balancer = Class_Balance(ontological_filepath='../ontologies/pre/cleaners/SMOTE.yaml')\n",
    "train = class_balancer.transform(train,target=inputer.target)"
   ]
  },
  {
   "cell_type": "code",
   "execution_count": 14,
   "metadata": {
    "ExecuteTime": {
     "end_time": "2019-08-08T15:29:55.249551Z",
     "start_time": "2019-08-08T15:29:55.087224Z"
    }
   },
   "outputs": [
    {
     "data": {
      "text/html": [
       "<div>\n",
       "<style scoped>\n",
       "    .dataframe tbody tr th:only-of-type {\n",
       "        vertical-align: middle;\n",
       "    }\n",
       "\n",
       "    .dataframe tbody tr th {\n",
       "        vertical-align: top;\n",
       "    }\n",
       "\n",
       "    .dataframe thead th {\n",
       "        text-align: right;\n",
       "    }\n",
       "</style>\n",
       "<table border=\"1\" class=\"dataframe\">\n",
       "  <thead>\n",
       "    <tr style=\"text-align: right;\">\n",
       "      <th></th>\n",
       "      <th>Age</th>\n",
       "      <th>BMI</th>\n",
       "      <th>BloodPressure</th>\n",
       "      <th>DiabetesPedigreeFunction</th>\n",
       "      <th>Glucose</th>\n",
       "      <th>Insulin</th>\n",
       "      <th>Pregnancies</th>\n",
       "      <th>SkinThickness</th>\n",
       "      <th>Outcome</th>\n",
       "    </tr>\n",
       "  </thead>\n",
       "  <tbody>\n",
       "    <tr>\n",
       "      <th>count</th>\n",
       "      <td>754</td>\n",
       "      <td>754</td>\n",
       "      <td>754</td>\n",
       "      <td>754</td>\n",
       "      <td>754</td>\n",
       "      <td>754</td>\n",
       "      <td>754</td>\n",
       "      <td>754</td>\n",
       "      <td>754</td>\n",
       "    </tr>\n",
       "    <tr>\n",
       "      <th>mean</th>\n",
       "      <td>34.2077</td>\n",
       "      <td>32.724</td>\n",
       "      <td>70.6772</td>\n",
       "      <td>0.496099</td>\n",
       "      <td>127.211</td>\n",
       "      <td>82.1875</td>\n",
       "      <td>4.3121</td>\n",
       "      <td>20.6548</td>\n",
       "      <td>0.5</td>\n",
       "    </tr>\n",
       "    <tr>\n",
       "      <th>std</th>\n",
       "      <td>11.6448</td>\n",
       "      <td>7.50231</td>\n",
       "      <td>18.3047</td>\n",
       "      <td>0.342952</td>\n",
       "      <td>32.3293</td>\n",
       "      <td>115.528</td>\n",
       "      <td>3.41042</td>\n",
       "      <td>16.137</td>\n",
       "      <td>0.500332</td>\n",
       "    </tr>\n",
       "    <tr>\n",
       "      <th>min</th>\n",
       "      <td>21</td>\n",
       "      <td>0</td>\n",
       "      <td>0</td>\n",
       "      <td>0.084</td>\n",
       "      <td>0</td>\n",
       "      <td>0</td>\n",
       "      <td>0</td>\n",
       "      <td>0</td>\n",
       "      <td>0</td>\n",
       "    </tr>\n",
       "    <tr>\n",
       "      <th>25%</th>\n",
       "      <td>25</td>\n",
       "      <td>28.4</td>\n",
       "      <td>64</td>\n",
       "      <td>0.256</td>\n",
       "      <td>104</td>\n",
       "      <td>0</td>\n",
       "      <td>1</td>\n",
       "      <td>0</td>\n",
       "      <td>0</td>\n",
       "    </tr>\n",
       "    <tr>\n",
       "      <th>50%</th>\n",
       "      <td>30.9137</td>\n",
       "      <td>32.9</td>\n",
       "      <td>72.8987</td>\n",
       "      <td>0.394936</td>\n",
       "      <td>122.946</td>\n",
       "      <td>13.5213</td>\n",
       "      <td>4</td>\n",
       "      <td>24</td>\n",
       "      <td>0.5</td>\n",
       "    </tr>\n",
       "    <tr>\n",
       "      <th>75%</th>\n",
       "      <td>42</td>\n",
       "      <td>37.2966</td>\n",
       "      <td>80</td>\n",
       "      <td>0.654</td>\n",
       "      <td>151</td>\n",
       "      <td>135</td>\n",
       "      <td>7</td>\n",
       "      <td>32.9834</td>\n",
       "      <td>1</td>\n",
       "    </tr>\n",
       "    <tr>\n",
       "      <th>max</th>\n",
       "      <td>81</td>\n",
       "      <td>59.4</td>\n",
       "      <td>114</td>\n",
       "      <td>2.42</td>\n",
       "      <td>199</td>\n",
       "      <td>744</td>\n",
       "      <td>17</td>\n",
       "      <td>99</td>\n",
       "      <td>1</td>\n",
       "    </tr>\n",
       "    <tr>\n",
       "      <th>counts</th>\n",
       "      <td>754</td>\n",
       "      <td>754</td>\n",
       "      <td>754</td>\n",
       "      <td>754</td>\n",
       "      <td>754</td>\n",
       "      <td>754</td>\n",
       "      <td>754</td>\n",
       "      <td>754</td>\n",
       "      <td>754</td>\n",
       "    </tr>\n",
       "    <tr>\n",
       "      <th>uniques</th>\n",
       "      <td>223</td>\n",
       "      <td>406</td>\n",
       "      <td>212</td>\n",
       "      <td>602</td>\n",
       "      <td>300</td>\n",
       "      <td>239</td>\n",
       "      <td>172</td>\n",
       "      <td>161</td>\n",
       "      <td>2</td>\n",
       "    </tr>\n",
       "    <tr>\n",
       "      <th>missing</th>\n",
       "      <td>0</td>\n",
       "      <td>0</td>\n",
       "      <td>0</td>\n",
       "      <td>0</td>\n",
       "      <td>0</td>\n",
       "      <td>0</td>\n",
       "      <td>0</td>\n",
       "      <td>0</td>\n",
       "      <td>0</td>\n",
       "    </tr>\n",
       "    <tr>\n",
       "      <th>missing_perc</th>\n",
       "      <td>0%</td>\n",
       "      <td>0%</td>\n",
       "      <td>0%</td>\n",
       "      <td>0%</td>\n",
       "      <td>0%</td>\n",
       "      <td>0%</td>\n",
       "      <td>0%</td>\n",
       "      <td>0%</td>\n",
       "      <td>0%</td>\n",
       "    </tr>\n",
       "    <tr>\n",
       "      <th>types</th>\n",
       "      <td>numeric</td>\n",
       "      <td>numeric</td>\n",
       "      <td>numeric</td>\n",
       "      <td>numeric</td>\n",
       "      <td>numeric</td>\n",
       "      <td>numeric</td>\n",
       "      <td>numeric</td>\n",
       "      <td>numeric</td>\n",
       "      <td>bool</td>\n",
       "    </tr>\n",
       "  </tbody>\n",
       "</table>\n",
       "</div>"
      ],
      "text/plain": [
       "                  Age      BMI BloodPressure DiabetesPedigreeFunction  \\\n",
       "count             754      754           754                      754   \n",
       "mean          34.2077   32.724       70.6772                 0.496099   \n",
       "std           11.6448  7.50231       18.3047                 0.342952   \n",
       "min                21        0             0                    0.084   \n",
       "25%                25     28.4            64                    0.256   \n",
       "50%           30.9137     32.9       72.8987                 0.394936   \n",
       "75%                42  37.2966            80                    0.654   \n",
       "max                81     59.4           114                     2.42   \n",
       "counts            754      754           754                      754   \n",
       "uniques           223      406           212                      602   \n",
       "missing             0        0             0                        0   \n",
       "missing_perc       0%       0%            0%                       0%   \n",
       "types         numeric  numeric       numeric                  numeric   \n",
       "\n",
       "              Glucose  Insulin Pregnancies SkinThickness   Outcome  \n",
       "count             754      754         754           754       754  \n",
       "mean          127.211  82.1875      4.3121       20.6548       0.5  \n",
       "std           32.3293  115.528     3.41042        16.137  0.500332  \n",
       "min                 0        0           0             0         0  \n",
       "25%               104        0           1             0         0  \n",
       "50%           122.946  13.5213           4            24       0.5  \n",
       "75%               151      135           7       32.9834         1  \n",
       "max               199      744          17            99         1  \n",
       "counts            754      754         754           754       754  \n",
       "uniques           300      239         172           161         2  \n",
       "missing             0        0           0             0         0  \n",
       "missing_perc       0%       0%          0%            0%        0%  \n",
       "types         numeric  numeric     numeric       numeric      bool  "
      ]
     },
     "execution_count": 14,
     "metadata": {},
     "output_type": "execute_result"
    }
   ],
   "source": [
    "DataFrameSummary(train).summary()"
   ]
  },
  {
   "cell_type": "markdown",
   "metadata": {},
   "source": [
    "``Class_Balance`` did not change the ``Flower-train`` dataframe as the ``iris``dataset comes class balanced. "
   ]
  },
  {
   "cell_type": "code",
   "execution_count": 15,
   "metadata": {
    "ExecuteTime": {
     "end_time": "2019-08-08T15:29:55.354248Z",
     "start_time": "2019-08-08T15:29:55.252076Z"
    },
    "scrolled": true
   },
   "outputs": [
    {
     "data": {
      "text/html": [
       "<div>\n",
       "<style scoped>\n",
       "    .dataframe tbody tr th:only-of-type {\n",
       "        vertical-align: middle;\n",
       "    }\n",
       "\n",
       "    .dataframe tbody tr th {\n",
       "        vertical-align: top;\n",
       "    }\n",
       "\n",
       "    .dataframe thead th {\n",
       "        text-align: right;\n",
       "    }\n",
       "</style>\n",
       "<table border=\"1\" class=\"dataframe\">\n",
       "  <thead>\n",
       "    <tr style=\"text-align: right;\">\n",
       "      <th></th>\n",
       "      <th>Age</th>\n",
       "    </tr>\n",
       "    <tr>\n",
       "      <th>Outcome</th>\n",
       "      <th></th>\n",
       "    </tr>\n",
       "  </thead>\n",
       "  <tbody>\n",
       "    <tr>\n",
       "      <th>0</th>\n",
       "      <td>500</td>\n",
       "    </tr>\n",
       "    <tr>\n",
       "      <th>1</th>\n",
       "      <td>268</td>\n",
       "    </tr>\n",
       "  </tbody>\n",
       "</table>\n",
       "</div>"
      ],
      "text/plain": [
       "         Age\n",
       "Outcome     \n",
       "0        500\n",
       "1        268"
      ]
     },
     "execution_count": 15,
     "metadata": {},
     "output_type": "execute_result"
    }
   ],
   "source": [
    "diabetes[['Age',inputer.target]].groupby([inputer.target]).count()"
   ]
  },
  {
   "cell_type": "code",
   "execution_count": 16,
   "metadata": {
    "ExecuteTime": {
     "end_time": "2019-08-08T15:29:55.464641Z",
     "start_time": "2019-08-08T15:29:55.356911Z"
    }
   },
   "outputs": [
    {
     "data": {
      "text/html": [
       "<div>\n",
       "<style scoped>\n",
       "    .dataframe tbody tr th:only-of-type {\n",
       "        vertical-align: middle;\n",
       "    }\n",
       "\n",
       "    .dataframe tbody tr th {\n",
       "        vertical-align: top;\n",
       "    }\n",
       "\n",
       "    .dataframe thead th {\n",
       "        text-align: right;\n",
       "    }\n",
       "</style>\n",
       "<table border=\"1\" class=\"dataframe\">\n",
       "  <thead>\n",
       "    <tr style=\"text-align: right;\">\n",
       "      <th></th>\n",
       "      <th>Age</th>\n",
       "    </tr>\n",
       "    <tr>\n",
       "      <th>Outcome</th>\n",
       "      <th></th>\n",
       "    </tr>\n",
       "  </thead>\n",
       "  <tbody>\n",
       "    <tr>\n",
       "      <th>0</th>\n",
       "      <td>123</td>\n",
       "    </tr>\n",
       "    <tr>\n",
       "      <th>1</th>\n",
       "      <td>69</td>\n",
       "    </tr>\n",
       "  </tbody>\n",
       "</table>\n",
       "</div>"
      ],
      "text/plain": [
       "         Age\n",
       "Outcome     \n",
       "0        123\n",
       "1         69"
      ]
     },
     "execution_count": 16,
     "metadata": {},
     "output_type": "execute_result"
    }
   ],
   "source": [
    "test[['Age',inputer.target]].groupby([inputer.target]).count()"
   ]
  },
  {
   "cell_type": "markdown",
   "metadata": {
    "heading_collapsed": true
   },
   "source": [
    "## A short aside on cross-validation and classification train/predict model"
   ]
  },
  {
   "cell_type": "markdown",
   "metadata": {
    "hidden": true
   },
   "source": [
    "In an future lesson, I will cover in detail how to use **paso**'s cross-validation for learners that can train and then predict. In the meantime, you can find a good [overview of cross-validation](https://towardsdatascience.com/train-test-split-and-cross-validation-in-python-80b61beca4b6) and a [detailed discussion of cross-validation](https://scikit-learn.org/stable/modules/cross_validation.html#computing-cross-validated-metrics).\n",
    "\n",
    "In this lesson, we use **repeated random sub-sampling** or ``sklearn.ensemble.BaggingClassifier``. This is hopefully a good choice for the class stratified datasets we will be using.\n",
    "\n",
    "Similar to **K-Fold cross-validation** , we set a value for ``n_estimators`` which signifies the number of times we will train our learner on a random subset of the train dataset. However, in this case ``n_estimator``  will not represent the number of learners.\n",
    "Instead, on each training iteration, we randomly select data points for the train folds. The number of data points we select will be a certain percentage we set for the initial trainng set. For example, if we select ``max_samples= 0.90``, then each iteration we will apply the learner to randomly selected 90% of the data points of our original train dataset.  This is similar to ``K-fold`` with ``K=10``, except the samples in folds are chosen at random and it will be more computational expensive if  ``n_estimator >> K``.\n",
    "\n",
    " You should note that ``BaggingClassifier`` will need keep ``n_estimators`` dataset+tree around. If you have a large dataset, it maybe required to pare the dataset down by removing the weakest predictive features in the initial cleaning. I should have done this with the **otto-group**, but I did not. "
   ]
  },
  {
   "cell_type": "markdown",
   "metadata": {},
   "source": [
    "## Using the RandomForest learner"
   ]
  },
  {
   "cell_type": "code",
   "execution_count": 17,
   "metadata": {
    "ExecuteTime": {
     "end_time": "2019-08-08T15:37:38.837917Z",
     "start_time": "2019-08-08T15:29:55.467094Z"
    },
    "scrolled": false
   },
   "outputs": [
    {
     "name": "stdout",
     "output_type": "stream",
     "text": [
      "paso 8.8.2019 11:29:55 INFO Loaded Ontological file:../ontologies/learners/RandomForestClassification.pima.yaml \n",
      "paso 8.8.2019 11:29:55 INFO learner: RandomForest with kwargs {'n_estimators': 600, 'n_jobs': -1, 'criterion': 'gini', 'max_features': 'sqrt', 'max_depth': 300.0}\n",
      "paso 8.8.2019 11:29:55 INFO cross_validation: BaggingClassifier\n",
      "paso 8.8.2019 11:29:55 INFO     cv kwargs: {'n_estimators': 10, 'bootstrap_features': True, 'max_samples': 1.0, 'max_features': 1.0, 'n_jobs': -1}\n",
      "paso 8.8.2019 11:31:27 INFO cross_validation: CalibratedClassifierCV\n",
      "paso 8.8.2019 11:31:27 INFO     cv kwargs: {'method': 'isotonic', 'cv': 5}\n"
     ]
    },
    {
     "data": {
      "text/plain": [
       "CalibratedClassifierCV(base_estimator=BaggingClassifier(base_estimator=RandomForestClassifier(bootstrap=True, class_weight=None, criterion='gini',\n",
       "            max_depth=300.0, max_features='sqrt', max_leaf_nodes=None,\n",
       "            min_impurity_decrease=0.0, min_impurity_split=None,\n",
       "            min_samples_leaf=1, min_sampl..._estimators=10, n_jobs=-1, oob_score=False,\n",
       "         random_state=None, verbose=0, warm_start=False),\n",
       "            cv=5, method='isotonic')"
      ]
     },
     "execution_count": 17,
     "metadata": {},
     "output_type": "execute_result"
    }
   ],
   "source": [
    "from paso.learners.learners import Learner\n",
    "learner = Learner(ontological_filepath='../ontologies/learners/RandomForestClassification.pima.yaml',target='TypeOf')\n",
    "learner.train(train,target=inputer.target\n",
    "              ,checkpoint='diabetesRandomForest1.ckp')"
   ]
  },
  {
   "cell_type": "markdown",
   "metadata": {},
   "source": [
    "Because the population of each of the Iris classes is about the same, the accuracy and the F1-score are almost equal."
   ]
  },
  {
   "cell_type": "code",
   "execution_count": 18,
   "metadata": {
    "ExecuteTime": {
     "end_time": "2019-08-08T15:38:11.255134Z",
     "start_time": "2019-08-08T15:37:38.844338Z"
    }
   },
   "outputs": [
    {
     "name": "stdout",
     "output_type": "stream",
     "text": [
      "paso 8.8.2019 11:38:10 INFO Confusion matrix, without normalization\n",
      "paso 8.8.2019 11:38:10 INFO Normalized confusion matrix\n"
     ]
    },
    {
     "data": {
      "image/png": "[encoded data removed]",
      "text/plain": [
       "<Figure size 432x288 with 2 Axes>"
      ]
     },
     "metadata": {
      "needs_background": "light"
     },
     "output_type": "display_data"
    },
    {
     "data": {
      "image/png": "[encoded data removed]",
      "text/plain": [
       "<Figure size 432x432 with 2 Axes>"
      ]
     },
     "metadata": {
      "needs_background": "light"
     },
     "output_type": "display_data"
    },
    {
     "name": "stdout",
     "output_type": "stream",
     "text": [
      "paso 8.8.2019 11:38:11 INFO measures of error evaluated for model: RandomForest\n"
     ]
    },
    {
     "data": {
      "text/plain": [
       "{'confusion_matrix': array([[103,  20],\n",
       "        [ 23,  46]]),\n",
       " 'brier_loss': 0.0,\n",
       " 'logloss': 0.4824735196620635,\n",
       " 'accuracy': 0.7760416666666666,\n",
       " 'precision': 0.7572150072150072,\n",
       " 'recall': 0.7520325203252032,\n",
       " 'f1': 0.7543953592146363,\n",
       " 'AOC': 0.7520325203252032}"
      ]
     },
     "execution_count": 18,
     "metadata": {},
     "output_type": "execute_result"
    }
   ],
   "source": [
    "learner.predict(test,measure=True)\n",
    "learner.metrics"
   ]
  },
  {
   "cell_type": "code",
   "execution_count": 19,
   "metadata": {
    "ExecuteTime": {
     "end_time": "2019-08-08T15:38:11.365435Z",
     "start_time": "2019-08-08T15:38:11.258118Z"
    }
   },
   "outputs": [
    {
     "data": {
      "text/plain": [
       "(     Age   BMI  BloodPressure  DiabetesPedigreeFunction  Glucose  Insulin  \\\n",
       " 451   23  28.9             70                     0.542      134        0   \n",
       " 361   63  29.8             70                     0.207      158        0   \n",
       " 34    45  27.6             78                     0.512      122        0   \n",
       " 345   49  38.5             88                     0.349      126      108   \n",
       " 429   43  35.0             82                     0.233       95      180   \n",
       " 93    60  23.8             72                     0.277      134        0   \n",
       " 719   52  35.6             76                     0.378       97        0   \n",
       " 128   40  34.5             88                     0.403      117      145   \n",
       " 766   47  30.1             60                     0.349      126        0   \n",
       " 531   24  45.3             76                     0.686      107        0   \n",
       " 254   44  27.6             62                     0.926       92      258   \n",
       " 230   22  44.0             86                     0.645      142        0   \n",
       " 147   34  30.5             64                     1.400      106      119   \n",
       " 489   67  26.1             80                     0.551      194        0   \n",
       " 6     26  31.0             50                     0.248       78       88   \n",
       " 608   27  41.5             82                     0.270      152      272   \n",
       " 36    35  33.2             76                     0.420      138        0   \n",
       " 666   70  32.5             82                     0.235      145        0   \n",
       " 160   36  29.7             90                     0.294      151        0   \n",
       " 400   31  32.0             64                     0.161       95        0   \n",
       " 402   35  35.0             84                     0.286      136       88   \n",
       " 667   40  27.5             70                     0.141      111        0   \n",
       " 322   36  27.4             70                     0.254      124        0   \n",
       " 165   41  29.9             74                     0.722      104      156   \n",
       " 349   37  41.0             80                     0.346        0        0   \n",
       " 750   22  31.2             70                     1.182      136        0   \n",
       " 538   23  36.3             80                     0.804      127      210   \n",
       " 260   34  30.9             68                     0.299      191      130   \n",
       " 645   30  39.4             74                     0.134      157      440   \n",
       " 730   34  28.4             78                     0.323      130       79   \n",
       " 487   58  46.5             78                     1.159      173      265   \n",
       " 722   42  29.3             68                     0.349      149      127   \n",
       " 439   31  36.8             88                     0.727      107        0   \n",
       " 282   37  32.4             88                     0.262      133      155   \n",
       " 569   33  34.3             66                     0.203      121      165   \n",
       " 619   24  32.4              0                     0.141      119        0   \n",
       " 250   42  31.2             52                     0.380      106        0   \n",
       " 38    27  38.2             68                     0.503       90        0   \n",
       " 20    27  39.3             88                     0.704      126      235   \n",
       " 690   34  24.6             80                     0.856      107        0   \n",
       " 57    31  46.8             88                     0.962      100      110   \n",
       " 448   22  33.6             64                     0.510      104       64   \n",
       " 247   23  52.3             90                     0.427      165      680   \n",
       " \n",
       "      Pregnancies  SkinThickness  Outcome  \n",
       " 451            2              0        1  \n",
       " 361            5              0        0  \n",
       " 34            10             31        0  \n",
       " 345            8             36        0  \n",
       " 429            1             25        1  \n",
       " 93             4              0        1  \n",
       " 719            5             27        1  \n",
       " 128            1             24        1  \n",
       " 766            1              0        1  \n",
       " 531            0              0        0  \n",
       " 254           12              7        1  \n",
       " 230            4              0        1  \n",
       " 147            2             35        0  \n",
       " 489            8              0        0  \n",
       " 6              3             32        1  \n",
       " 608            0             39        0  \n",
       " 36            11              0        0  \n",
       " 666            4             18        1  \n",
       " 160            4             38        0  \n",
       " 400            4              0        1  \n",
       " 402            5             41        1  \n",
       " 667           10             27        1  \n",
       " 322            0             20        1  \n",
       " 165            6             18        1  \n",
       " 349            5             32        1  \n",
       " 750            4              0        1  \n",
       " 538            0             37        0  \n",
       " 260            3             15        0  \n",
       " 645            2             35        0  \n",
       " 730            3             23        1  \n",
       " 487            0             32        0  \n",
       " 722            1             29        1  \n",
       " 439            6              0        0  \n",
       " 282            7             15        0  \n",
       " 569            0             30        1  \n",
       " 619            0              0        1  \n",
       " 250            9              0        0  \n",
       " 38             2             42        1  \n",
       " 20             3             41        0  \n",
       " 690            8              0        0  \n",
       " 57             0             60        0  \n",
       " 448            0             37        1  \n",
       " 247            0             33        0  , (43, 9))"
      ]
     },
     "execution_count": 19,
     "metadata": {},
     "output_type": "execute_result"
    }
   ],
   "source": [
    "learner.wrong_predicted_class,learner.wrong_predicted_class.shape"
   ]
  },
  {
   "cell_type": "markdown",
   "metadata": {},
   "source": [
    "Overall, very good scores using ``RandomForestClassifier`` on 70% of dataset train and 30% for of dataset for validation."
   ]
  },
  {
   "cell_type": "markdown",
   "metadata": {},
   "source": [
    "Interesting there were correct class assignments but logloss got slightly worse when we balanced the classes using ``SMOTE``."
   ]
  },
  {
   "cell_type": "markdown",
   "metadata": {},
   "source": [
    "Using splitter, we can shuffle rows around and get different ``piam-diabetes`` train and test datasets."
   ]
  },
  {
   "cell_type": "markdown",
   "metadata": {},
   "source": [
    "## Augment the ``pima-diabetes``dataset."
   ]
  },
  {
   "cell_type": "markdown",
   "metadata": {},
   "source": [
    "Now we can augment (increase by 10\\% the amount data) with  synthetic data generated by a claas imbalence scheme,  ``SMOOT``. Just ``TypeOf=0`` needs 15(10%) rows (3 classes of 5 rows) of synthetic data to balance the classes. The result is similar to image augmention in that we accomplished structured data augmentation by increasing the row count ``Isis``dataset with synthetic data."
   ]
  },
  {
   "cell_type": "code",
   "execution_count": 20,
   "metadata": {
    "ExecuteTime": {
     "end_time": "2019-08-08T15:38:11.464602Z",
     "start_time": "2019-08-08T15:38:11.367853Z"
    }
   },
   "outputs": [],
   "source": [
    "from paso.pre.cleaners import Augment_by_Class"
   ]
  },
  {
   "cell_type": "code",
   "execution_count": 21,
   "metadata": {
    "ExecuteTime": {
     "end_time": "2019-08-08T15:38:11.664446Z",
     "start_time": "2019-08-08T15:38:11.467200Z"
    }
   },
   "outputs": [
    {
     "name": "stdout",
     "output_type": "stream",
     "text": [
      "paso 8.8.2019 11:38:11 INFO Loaded Ontological file:../ontologies/pre/cleaners/SMOTE.yaml \n",
      "paso 8.8.2019 11:38:11 INFO Augment_by_Class:: SMOTE\n",
      "paso 8.8.2019 11:38:11 INFO Augment_by_Class: SMOTE with kwargs {}\n",
      "paso 8.8.2019 11:38:11 INFO Loaded Ontological file:../ontologies/pre/cleaners/SMOTE.yaml \n",
      "paso 8.8.2019 11:38:11 INFO Class_Balance:: SMOTE\n",
      "paso 8.8.2019 11:38:11 INFO Class_Balance: SMOTE with kwargs {}\n",
      "paso 8.8.2019 11:38:11 INFO Loaded Ontological file:../ontologies/pre/cleaners/SMOTE.yaml \n",
      "paso 8.8.2019 11:38:11 INFO Class_Balance:: SMOTE\n",
      "paso 8.8.2019 11:38:11 INFO Class_Balance: SMOTE with kwargs {}\n"
     ]
    },
    {
     "data": {
      "text/html": [
       "<div>\n",
       "<style scoped>\n",
       "    .dataframe tbody tr th:only-of-type {\n",
       "        vertical-align: middle;\n",
       "    }\n",
       "\n",
       "    .dataframe tbody tr th {\n",
       "        vertical-align: top;\n",
       "    }\n",
       "\n",
       "    .dataframe thead th {\n",
       "        text-align: right;\n",
       "    }\n",
       "</style>\n",
       "<table border=\"1\" class=\"dataframe\">\n",
       "  <thead>\n",
       "    <tr style=\"text-align: right;\">\n",
       "      <th></th>\n",
       "      <th>Age</th>\n",
       "      <th>BMI</th>\n",
       "      <th>BloodPressure</th>\n",
       "      <th>DiabetesPedigreeFunction</th>\n",
       "      <th>Glucose</th>\n",
       "      <th>Insulin</th>\n",
       "      <th>Pregnancies</th>\n",
       "      <th>SkinThickness</th>\n",
       "      <th>Outcome</th>\n",
       "    </tr>\n",
       "  </thead>\n",
       "  <tbody>\n",
       "    <tr>\n",
       "      <th>count</th>\n",
       "      <td>1130</td>\n",
       "      <td>1130</td>\n",
       "      <td>1130</td>\n",
       "      <td>1130</td>\n",
       "      <td>1130</td>\n",
       "      <td>1130</td>\n",
       "      <td>1130</td>\n",
       "      <td>1130</td>\n",
       "      <td>1130</td>\n",
       "    </tr>\n",
       "    <tr>\n",
       "      <th>mean</th>\n",
       "      <td>34.18</td>\n",
       "      <td>32.7944</td>\n",
       "      <td>70.7925</td>\n",
       "      <td>0.488369</td>\n",
       "      <td>126.461</td>\n",
       "      <td>80.9108</td>\n",
       "      <td>4.41903</td>\n",
       "      <td>20.6986</td>\n",
       "      <td>0.5</td>\n",
       "    </tr>\n",
       "    <tr>\n",
       "      <th>std</th>\n",
       "      <td>11.3347</td>\n",
       "      <td>7.39468</td>\n",
       "      <td>18.1263</td>\n",
       "      <td>0.321014</td>\n",
       "      <td>31.7389</td>\n",
       "      <td>112.986</td>\n",
       "      <td>3.3256</td>\n",
       "      <td>16.1466</td>\n",
       "      <td>0.500221</td>\n",
       "    </tr>\n",
       "    <tr>\n",
       "      <th>min</th>\n",
       "      <td>21</td>\n",
       "      <td>0</td>\n",
       "      <td>0</td>\n",
       "      <td>0.084</td>\n",
       "      <td>0</td>\n",
       "      <td>0</td>\n",
       "      <td>0</td>\n",
       "      <td>0</td>\n",
       "      <td>0</td>\n",
       "    </tr>\n",
       "    <tr>\n",
       "      <th>25%</th>\n",
       "      <td>25</td>\n",
       "      <td>28.5016</td>\n",
       "      <td>64</td>\n",
       "      <td>0.258239</td>\n",
       "      <td>103</td>\n",
       "      <td>0</td>\n",
       "      <td>1.69946</td>\n",
       "      <td>0</td>\n",
       "      <td>0</td>\n",
       "    </tr>\n",
       "    <tr>\n",
       "      <th>50%</th>\n",
       "      <td>31</td>\n",
       "      <td>32.8325</td>\n",
       "      <td>72.9812</td>\n",
       "      <td>0.39834</td>\n",
       "      <td>122</td>\n",
       "      <td>0.169647</td>\n",
       "      <td>4</td>\n",
       "      <td>24</td>\n",
       "      <td>0.5</td>\n",
       "    </tr>\n",
       "    <tr>\n",
       "      <th>75%</th>\n",
       "      <td>41.7885</td>\n",
       "      <td>37.1314</td>\n",
       "      <td>80</td>\n",
       "      <td>0.64675</td>\n",
       "      <td>150.014</td>\n",
       "      <td>135.236</td>\n",
       "      <td>7</td>\n",
       "      <td>33</td>\n",
       "      <td>1</td>\n",
       "    </tr>\n",
       "    <tr>\n",
       "      <th>max</th>\n",
       "      <td>81</td>\n",
       "      <td>59.4</td>\n",
       "      <td>114</td>\n",
       "      <td>2.42</td>\n",
       "      <td>199</td>\n",
       "      <td>744</td>\n",
       "      <td>17</td>\n",
       "      <td>99</td>\n",
       "      <td>1</td>\n",
       "    </tr>\n",
       "    <tr>\n",
       "      <th>counts</th>\n",
       "      <td>1130</td>\n",
       "      <td>1130</td>\n",
       "      <td>1130</td>\n",
       "      <td>1130</td>\n",
       "      <td>1130</td>\n",
       "      <td>1130</td>\n",
       "      <td>1130</td>\n",
       "      <td>1130</td>\n",
       "      <td>1130</td>\n",
       "    </tr>\n",
       "    <tr>\n",
       "      <th>uniques</th>\n",
       "      <td>583</td>\n",
       "      <td>777</td>\n",
       "      <td>552</td>\n",
       "      <td>978</td>\n",
       "      <td>658</td>\n",
       "      <td>418</td>\n",
       "      <td>497</td>\n",
       "      <td>410</td>\n",
       "      <td>2</td>\n",
       "    </tr>\n",
       "    <tr>\n",
       "      <th>missing</th>\n",
       "      <td>0</td>\n",
       "      <td>0</td>\n",
       "      <td>0</td>\n",
       "      <td>0</td>\n",
       "      <td>0</td>\n",
       "      <td>0</td>\n",
       "      <td>0</td>\n",
       "      <td>0</td>\n",
       "      <td>0</td>\n",
       "    </tr>\n",
       "    <tr>\n",
       "      <th>missing_perc</th>\n",
       "      <td>0%</td>\n",
       "      <td>0%</td>\n",
       "      <td>0%</td>\n",
       "      <td>0%</td>\n",
       "      <td>0%</td>\n",
       "      <td>0%</td>\n",
       "      <td>0%</td>\n",
       "      <td>0%</td>\n",
       "      <td>0%</td>\n",
       "    </tr>\n",
       "    <tr>\n",
       "      <th>types</th>\n",
       "      <td>numeric</td>\n",
       "      <td>numeric</td>\n",
       "      <td>numeric</td>\n",
       "      <td>numeric</td>\n",
       "      <td>numeric</td>\n",
       "      <td>numeric</td>\n",
       "      <td>numeric</td>\n",
       "      <td>numeric</td>\n",
       "      <td>bool</td>\n",
       "    </tr>\n",
       "  </tbody>\n",
       "</table>\n",
       "</div>"
      ],
      "text/plain": [
       "                  Age      BMI BloodPressure DiabetesPedigreeFunction  \\\n",
       "count            1130     1130          1130                     1130   \n",
       "mean            34.18  32.7944       70.7925                 0.488369   \n",
       "std           11.3347  7.39468       18.1263                 0.321014   \n",
       "min                21        0             0                    0.084   \n",
       "25%                25  28.5016            64                 0.258239   \n",
       "50%                31  32.8325       72.9812                  0.39834   \n",
       "75%           41.7885  37.1314            80                  0.64675   \n",
       "max                81     59.4           114                     2.42   \n",
       "counts           1130     1130          1130                     1130   \n",
       "uniques           583      777           552                      978   \n",
       "missing             0        0             0                        0   \n",
       "missing_perc       0%       0%            0%                       0%   \n",
       "types         numeric  numeric       numeric                  numeric   \n",
       "\n",
       "              Glucose   Insulin Pregnancies SkinThickness   Outcome  \n",
       "count            1130      1130        1130          1130      1130  \n",
       "mean          126.461   80.9108     4.41903       20.6986       0.5  \n",
       "std           31.7389   112.986      3.3256       16.1466  0.500221  \n",
       "min                 0         0           0             0         0  \n",
       "25%               103         0     1.69946             0         0  \n",
       "50%               122  0.169647           4            24       0.5  \n",
       "75%           150.014   135.236           7            33         1  \n",
       "max               199       744          17            99         1  \n",
       "counts           1130      1130        1130          1130      1130  \n",
       "uniques           658       418         497           410         2  \n",
       "missing             0         0           0             0         0  \n",
       "missing_perc       0%        0%          0%            0%        0%  \n",
       "types         numeric   numeric     numeric       numeric      bool  "
      ]
     },
     "execution_count": 21,
     "metadata": {},
     "output_type": "execute_result"
    }
   ],
   "source": [
    "from paso.pre.cleaners import Augment_by_Class\n",
    "augmenter = Augment_by_Class(ontological_filepath='../ontologies/pre/cleaners/SMOTE.yaml')\n",
    "targetFeature =  inputer.target\n",
    "augment =augmenter.transform(train,target=inputer.target,ratio=0.5)\n",
    "DataFrameSummary(augment).summary()"
   ]
  },
  {
   "cell_type": "markdown",
   "metadata": {},
   "source": [
    "Notice the ``mean``, ``std`` and other statistics have slightly changed. Also, the count has inreased by 10% or augmented a structured dataset by 10%. Why do expect slight and not large change in the dataset statistics?"
   ]
  },
  {
   "cell_type": "code",
   "execution_count": 22,
   "metadata": {
    "ExecuteTime": {
     "end_time": "2019-08-08T15:46:14.648007Z",
     "start_time": "2019-08-08T15:38:11.666769Z"
    }
   },
   "outputs": [
    {
     "name": "stdout",
     "output_type": "stream",
     "text": [
      "paso 8.8.2019 11:38:11 INFO Loaded Ontological file:../ontologies/learners/RandomForestClassification.pima.yaml \n",
      "paso 8.8.2019 11:38:11 INFO learner: RandomForest with kwargs {'n_estimators': 600, 'n_jobs': -1, 'criterion': 'gini', 'max_features': 'sqrt', 'max_depth': 300.0}\n",
      "paso 8.8.2019 11:38:11 INFO cross_validation: BaggingClassifier\n",
      "paso 8.8.2019 11:38:11 INFO     cv kwargs: {'n_estimators': 10, 'bootstrap_features': True, 'max_samples': 1.0, 'max_features': 1.0, 'n_jobs': -1}\n",
      "paso 8.8.2019 11:39:40 INFO cross_validation: CalibratedClassifierCV\n",
      "paso 8.8.2019 11:39:40 INFO     cv kwargs: {'method': 'isotonic', 'cv': 5}\n",
      "paso 8.8.2019 11:46:14 INFO Confusion matrix, without normalization\n",
      "paso 8.8.2019 11:46:14 INFO Normalized confusion matrix\n"
     ]
    },
    {
     "data": {
      "image/png": "[encoded data removed]",
      "text/plain": [
       "<Figure size 432x432 with 2 Axes>"
      ]
     },
     "metadata": {
      "needs_background": "light"
     },
     "output_type": "display_data"
    },
    {
     "data": {
      "image/png": "[encoded data removed]",
      "text/plain": [
       "<Figure size 432x432 with 2 Axes>"
      ]
     },
     "metadata": {
      "needs_background": "light"
     },
     "output_type": "display_data"
    },
    {
     "name": "stdout",
     "output_type": "stream",
     "text": [
      "paso 8.8.2019 11:46:14 INFO measures of error evaluated for model: RandomForest\n"
     ]
    },
    {
     "data": {
      "text/plain": [
       "{'confusion_matrix': array([[106,  17],\n",
       "        [ 33,  36]]),\n",
       " 'brier_loss': 0.0,\n",
       " 'logloss': 0.49961012679320654,\n",
       " 'accuracy': 0.7395833333333334,\n",
       " 'precision': 0.7209176055382109,\n",
       " 'recall': 0.6917638741604808,\n",
       " 'f1': 0.6996621198848704,\n",
       " 'AOC': 0.6917638741604808}"
      ]
     },
     "execution_count": 22,
     "metadata": {},
     "output_type": "execute_result"
    }
   ],
   "source": [
    "learner.train(augment,target=inputer.target)\n",
    "learner.predict(test,measure=True)\n",
    "learner.metrics"
   ]
  },
  {
   "cell_type": "markdown",
   "metadata": {
    "ExecuteTime": {
     "end_time": "2019-07-01T21:10:09.297466Z",
     "start_time": "2019-07-01T21:09:40.152Z"
    }
   },
   "source": [
    "Hmmm, seemed to improve scores a little bit. Let us try 100% augmentation or double the number of rows in the  ``Flower`` dataframe."
   ]
  },
  {
   "cell_type": "code",
   "execution_count": 23,
   "metadata": {
    "ExecuteTime": {
     "end_time": "2019-08-08T15:46:14.759124Z",
     "start_time": "2019-08-08T15:46:14.650360Z"
    }
   },
   "outputs": [
    {
     "data": {
      "text/plain": [
       "(50, 9)"
      ]
     },
     "execution_count": 23,
     "metadata": {},
     "output_type": "execute_result"
    }
   ],
   "source": [
    "learner.wrong_predicted_class.shape"
   ]
  },
  {
   "cell_type": "markdown",
   "metadata": {},
   "source": [
    "## Augmentation ``pima-diabetes`` train and test datasets"
   ]
  },
  {
   "cell_type": "code",
   "execution_count": 26,
   "metadata": {
    "ExecuteTime": {
     "end_time": "2019-08-08T16:37:32.223192Z",
     "start_time": "2019-08-08T16:37:32.105159Z"
    }
   },
   "outputs": [],
   "source": [
    "def grinder(N,M,S,input_file):\n",
    "    score = np.zeros((S,N,M+2), dtype=np.float32)\n",
    "    scores = {}           \n",
    "\n",
    "    for i in tqdm(range(N)):\n",
    "        inputer = Inputer(ontological_filepath=input_file)\n",
    "        df = inputer.transform(verbose=False)\n",
    "        splitter = Splitter(ontological_filepath='../ontologies/pre/inputers/split-stratify-shuffle-30.yaml')\n",
    "        train,test=splitter.transform(df,verbose=False\n",
    "                                      ,target=inputer.target\n",
    "                                      ,random_state=22*(i+1))\n",
    "        # do not balancee       \n",
    "        learner = Learner(ontological_filepath='../ontologies/learners/RandomForestClassification.pima.yaml',target='TypeOf')\n",
    "        learner.train(train,target=inputer.target,verbose=False\n",
    "                      ,checkpoint='diabetesRandomForest1.ckp')  \n",
    "        learner.predict(test,measure=True)\n",
    "        score[0,i,0] = learner.metrics['logloss']\n",
    "        score[1,i,0] = learner.metrics['AOC']\n",
    "        #Class_Balance\n",
    "        class_balancer = Class_Balance(ontological_filepath='../ontologies/pre/cleaners/SMOTE.yaml')\n",
    "        train = class_balancer.transform(train,target=inputer.target,verbose=False)\n",
    "        learner = Learner(ontological_filepath='../ontologies/learners/RandomForestClassification.pima.yaml',target='TypeOf')\n",
    "        learner.train(train,target=inputer.target,verbose=False\n",
    "                      ,checkpoint='diabetesRandomForest2.ckp')\n",
    "        learner.predict(test,measure=True)\n",
    "        score[0,i,1] = learner.metrics['logloss']\n",
    "        score[1,i,1] = learner.metrics['AOC']\n",
    "        #augment\n",
    "        augment = train\n",
    "        for j in range(M):\n",
    "        # 2*1 augmentation\n",
    "            augmenter = Augment_by_Class(ontological_filepath='../ontologies/pre/cleaners/SMOTE.yaml')\n",
    "            ratio = 1.0\n",
    "            targetFeature =  inputer.target\n",
    "            augment =augmenter.transform(augment,target=inputer.target,ratio=1.0,verbose=False)\n",
    "            learner = Learner(ontological_filepath='../ontologies/learners/RandomForestClassification.pima.yaml',target='TypeOf')\n",
    "            learner.train(augment,target=inputer.target,verbose=False\n",
    "                          ,checkpoint='diabetesRandomForest'+str(i+2)+'.ckp')\n",
    "            learner.predict(test,measure=True)\n",
    "            score[0,i,j+2] = learner.metrics['logloss']\n",
    "            score[1,i,j+2] = learner.metrics['AOC']\n",
    "        learner.wrong_predicted_class\n",
    "    scores['logloss'] = score[0,:,:]\n",
    "    scores['AOC'] = score[1,:,:]\n",
    "    return scores"
   ]
  },
  {
   "cell_type": "code",
   "execution_count": null,
   "metadata": {
    "ExecuteTime": {
     "start_time": "2019-08-08T16:37:39.203Z"
    }
   },
   "outputs": [
    {
     "name": "stderr",
     "output_type": "stream",
     "text": [
      " 10%|█         | 1/10 [46:39<6:59:51, 2799.02s/it]"
     ]
    }
   ],
   "source": [
    "N = 10  #trial\n",
    "M = 4 # augmentation 2**M\n",
    "S= 2 #scores to keep\n",
    "scores = grinder(N,M,S,'../ontologies/pre/inputers/pima-diabetes.yaml')"
   ]
  },
  {
   "cell_type": "code",
   "execution_count": null,
   "metadata": {
    "ExecuteTime": {
     "start_time": "2019-08-08T16:37:39.206Z"
    }
   },
   "outputs": [],
   "source": [
    "baseline = scores['logloss'][:,0]\n",
    "aug_balance = np.mean(scores['logloss'][:,1:2],axis=1)\n",
    "score_names[0],baseline,aug_balance\n"
   ]
  },
  {
   "cell_type": "code",
   "execution_count": null,
   "metadata": {
    "ExecuteTime": {
     "start_time": "2019-08-08T16:37:39.208Z"
    }
   },
   "outputs": [],
   "source": [
    "np.mean(baseline/aug_mean)"
   ]
  },
  {
   "cell_type": "code",
   "execution_count": null,
   "metadata": {
    "ExecuteTime": {
     "start_time": "2019-08-08T16:37:39.210Z"
    }
   },
   "outputs": [],
   "source": [
    "sns.scatterplot(x=baseline ,y=baseline/aug_mean)"
   ]
  },
  {
   "cell_type": "code",
   "execution_count": null,
   "metadata": {
    "ExecuteTime": {
     "start_time": "2019-08-08T16:37:39.212Z"
    }
   },
   "outputs": [],
   "source": [
    "score_names\n"
   ]
  },
  {
   "cell_type": "code",
   "execution_count": null,
   "metadata": {
    "ExecuteTime": {
     "start_time": "2019-08-08T16:37:39.215Z"
    }
   },
   "outputs": [],
   "source": [
    "import seaborn\n",
    "for i in range(N):\n",
    "    grid = seaborn.lineplot(x=range(M+2) ,y=scores['logloss'][i,:])\n",
    "    grid.set(xscale=\"linear\", yscale=\"log\")\n",
    "plt.show()\n",
    "for i in range(N):\n",
    "    grid = seaborn.lineplot(x=range(M+2) ,y=scores['AOC'][i,:])\n",
    "    grid.set(xscale=\"linear\", yscale=\"log\")\n",
    "plt.show()"
   ]
  },
  {
   "cell_type": "markdown",
   "metadata": {
    "ExecuteTime": {
     "end_time": "2019-06-29T20:04:22.014608Z",
     "start_time": "2019-06-29T20:04:21.962258Z"
    }
   },
   "source": [
    "It seems to be more worse on logloss but same on other metrics relating to class assignment."
   ]
  },
  {
   "cell_type": "markdown",
   "metadata": {
    "ExecuteTime": {
     "end_time": "2019-07-29T19:47:04.003749Z",
     "start_time": "2019-07-29T19:47:03.951521Z"
    }
   },
   "source": [
    "Worse on logloss and the same on accuracy"
   ]
  },
  {
   "cell_type": "markdown",
   "metadata": {},
   "source": [
    "For the third time in a row always the same 2 datapoints. It seems no matter how much we augment these two can not predicted in the right class.  I wondr if they are mis-labeled.  If we take them out, then train will predict test 100% accuracy. Hmm!, I wonder what logloss score would be?"
   ]
  },
  {
   "cell_type": "markdown",
   "metadata": {},
   "source": [
    "Seemed to lower the logloss more which means the learner is better at assigning correct class probabilities. Note,isotonic in ``CalibratedClassifierCV`` is similar to clipping both ends of predicted class probability distributions. Let us augment the train dataset again."
   ]
  },
  {
   "cell_type": "markdown",
   "metadata": {},
   "source": [
    "Still causing logloss to go down. Let us stop there on this toy dataset and see how we do on a larger and noisier dataset. \n",
    "\n",
    "Now we cleanup all the object instances we made and no longer need:"
   ]
  },
  {
   "cell_type": "code",
   "execution_count": null,
   "metadata": {
    "ExecuteTime": {
     "start_time": "2019-08-08T16:37:39.218Z"
    }
   },
   "outputs": [],
   "source": [
    "del inputer\n",
    "del splitter\n",
    "del class_balancer\n",
    "del augmenter\n",
    "del learner\n",
    "del diabetes\n",
    "del train\n",
    "del test\n",
    "del augment"
   ]
  }
 ],
 "metadata": {
  "hide_input": false,
  "kernelspec": {
   "display_name": "Python 3",
   "language": "python",
   "name": "python3"
  },
  "language_info": {
   "codemirror_mode": {
    "name": "ipython",
    "version": 3
   },
   "file_extension": ".py",
   "mimetype": "text/x-python",
   "name": "python",
   "nbconvert_exporter": "python",
   "pygments_lexer": "ipython3",
   "version": "3.7.1"
  },
  "notify_time": "0",
  "toc": {
   "base_numbering": 1,
   "nav_menu": {},
   "number_sections": true,
   "sideBar": true,
   "skip_h1_title": false,
   "title_cell": "Table of Contents",
   "title_sidebar": "Contents",
   "toc_cell": false,
   "toc_position": {
    "height": "calc(100% - 180px)",
    "left": "10px",
    "top": "150px",
    "width": "207.11956787109375px"
   },
   "toc_section_display": true,
   "toc_window_display": true
  }
 },
 "nbformat": 4,
 "nbformat_minor": 2
}
