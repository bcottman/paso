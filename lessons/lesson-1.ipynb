{
 "cells": [
  {
   "cell_type": "code",
   "execution_count": 1,
   "metadata": {
    "ExecuteTime": {
     "end_time": "2019-07-15T19:35:55.577485Z",
     "start_time": "2019-07-15T19:35:55.556521Z"
    }
   },
   "outputs": [
    {
     "data": {
      "text/plain": [
       "'/Users/brucecottman/Documents/PROJECTS/paso'"
      ]
     },
     "execution_count": 1,
     "metadata": {},
     "output_type": "execute_result"
    }
   ],
   "source": [
    "__file__ = !cd .. ;pwd\n",
    "__file__ = __file__[0]\n",
    "__file__"
   ]
  },
  {
   "cell_type": "code",
   "execution_count": 2,
   "metadata": {
    "ExecuteTime": {
     "end_time": "2019-07-15T19:35:55.585777Z",
     "start_time": "2019-07-15T19:35:55.580800Z"
    }
   },
   "outputs": [
    {
     "data": {
      "text/plain": [
       "['/Users/brucecottman/Documents/PROJECTS/paso/lessons',\n",
       " '/Users/brucecottman/anaconda3/envs/paso/lib/python37.zip',\n",
       " '/Users/brucecottman/anaconda3/envs/paso/lib/python3.7',\n",
       " '/Users/brucecottman/anaconda3/envs/paso/lib/python3.7/lib-dynload',\n",
       " '',\n",
       " '/Users/brucecottman/.local/lib/python3.7/site-packages',\n",
       " '/Users/brucecottman/anaconda3/envs/paso/lib/python3.7/site-packages',\n",
       " '/Users/brucecottman/anaconda3/envs/paso/lib/python3.7/site-packages/aeosa',\n",
       " '/Users/brucecottman/anaconda3/envs/paso/lib/python3.7/site-packages/IPython/extensions',\n",
       " '/Users/brucecottman/.ipython',\n",
       " '/Users/brucecottman/Documents/PROJECTS/paso']"
      ]
     },
     "execution_count": 2,
     "metadata": {},
     "output_type": "execute_result"
    }
   ],
   "source": [
    "import sys\n",
    "sys.path.append(__file__)\n",
    "sys.path"
   ]
  },
  {
   "cell_type": "markdown",
   "metadata": {},
   "source": [
    "# Overview of ``paso``  Log and Parameter Services"
   ]
  },
  {
   "cell_type": "markdown",
   "metadata": {},
   "source": [
    "## Introduction"
   ]
  },
  {
   "cell_type": "markdown",
   "metadata": {},
   "source": [
    "We have bundled the logging and parameter services as classes, added some default behavior and put them in the ``paso`` package. The goal is that logging should as easy as a ``print`` statement and that parameter files should lower your need for global variables or putting constants in a class definition. The major benefit, of the latter, is that the behavior of your code can change, without you having to change code. \n",
    "\n",
    "I will show:\n",
    "\n",
    "- how to add logging and parameters to your code.\n",
    "\n",
    "- what default behavior ``paso`` adds to the  ``logguru`` and ``yaml`` packages,\n",
    "\n",
    "- overview the source code for the log and Parms class. You are free to use and modify this code.\n",
    "\n"
   ]
  },
  {
   "cell_type": "markdown",
   "metadata": {},
   "source": [
    "## Log"
   ]
  },
  {
   "cell_type": "markdown",
   "metadata": {},
   "source": [
    "Python has the tried and true  ``logger`` package.\n",
    "A good read on the ``logger`` package can be found at  https://realpython.com/python-logging-source-code/ , However, I choose to use the recently released  ``logguru`` package because it is easier to use and both process  and thread safe. Ref:\n",
    "[https://github.com/Delgan/loguru].\n",
    "\n",
    "``loguru`` is so easy use that you can use logging instead of print statements."
   ]
  },
  {
   "cell_type": "code",
   "execution_count": 3,
   "metadata": {
    "ExecuteTime": {
     "end_time": "2019-07-15T19:35:57.180549Z",
     "start_time": "2019-07-15T19:35:55.587678Z"
    }
   },
   "outputs": [
    {
     "name": "stdout",
     "output_type": "stream",
     "text": [
      "paso 15.7.2019 15:35:57 INFO Log started\n",
      "paso 15.7.2019 15:35:57 INFO ========================================\n",
      "paso 15.7.2019 15:35:57 INFO Read in parameter file: ../parameters/test_base.yaml\n"
     ]
    },
    {
     "data": {
      "text/plain": [
       "AttrDict({'project': 'Common Ground Solutions/paso', 'name': 'test', 'description': None, 'HW_platform': {'cpu_n': 12, 'threads_n': 24, 'gpu_n': 2}, 'layer-1': {'layer-2': 5}})"
      ]
     },
     "execution_count": 3,
     "metadata": {},
     "output_type": "execute_result"
    }
   ],
   "source": [
    "from paso.base import Paso,Param\n",
    "Paso(parameters_filepath='../parameters/test_base.yaml').startup()\n",
    "Param.parameters_D "
   ]
  },
  {
   "cell_type": "code",
   "execution_count": 4,
   "metadata": {
    "ExecuteTime": {
     "end_time": "2019-07-15T19:35:57.190354Z",
     "start_time": "2019-07-15T19:35:57.184228Z"
    }
   },
   "outputs": [
    {
     "name": "stdout",
     "output_type": "stream",
     "text": [
      "paso 15.7.2019 15:35:57 INFO Straightforward logging. Replace your informative print statements\n",
      "paso 15.7.2019 15:35:57 INFO Continue logging.\n",
      "paso 15.7.2019 15:35:57 INFO and Yet Again Continue logging.\n"
     ]
    }
   ],
   "source": [
    "from loguru import logger\n",
    "import sys\n",
    "logger.info(\"Straightforward logging. Replace your informative print statements\")\n",
    "logger.info(\"Continue logging.\")\n",
    "logger.info(\"and Yet Again Continue logging.\")"
   ]
  },
  {
   "cell_type": "markdown",
   "metadata": {},
   "source": [
    "As a default, you get a timestamp, type log message (.error, .debug, .info, etc.), location ``logger`` was called from, and your custom message.\n",
    "\n",
    "Of course, you can log inside your functions or methods."
   ]
  },
  {
   "cell_type": "code",
   "execution_count": 5,
   "metadata": {
    "ExecuteTime": {
     "end_time": "2019-07-15T19:35:57.199447Z",
     "start_time": "2019-07-15T19:35:57.194638Z"
    }
   },
   "outputs": [
    {
     "name": "stdout",
     "output_type": "stream",
     "text": [
      "paso 15.7.2019 15:35:57 ERROR cool: logging\n"
     ]
    }
   ],
   "source": [
    "def betterThanPrint(msg):\n",
    "    logger.error(\"cool: {}\".format(msg))\n",
    "\n",
    "betterThanPrint('logging')"
   ]
  },
  {
   "cell_type": "markdown",
   "metadata": {},
   "source": [
    "Thus, You can use ``loguru`` as easily as you use print for your debugging."
   ]
  },
  {
   "cell_type": "code",
   "execution_count": 6,
   "metadata": {
    "ExecuteTime": {
     "end_time": "2019-07-15T19:35:57.205960Z",
     "start_time": "2019-07-15T19:35:57.201629Z"
    }
   },
   "outputs": [
    {
     "name": "stdout",
     "output_type": "stream",
     "text": [
      "paso 15.7.2019 15:35:57 DEBUG x:1\n"
     ]
    }
   ],
   "source": [
    "x =1\n",
    "logger.debug(\"x:{}\".format(x))"
   ]
  },
  {
   "cell_type": "markdown",
   "metadata": {},
   "source": [
    "Loguru comes with all standard logging levels to which ``success()`` has been added. The levels are:"
   ]
  },
  {
   "cell_type": "markdown",
   "metadata": {},
   "source": [
    "logger.debug(_message, *args, **kwargs)\n",
    "\n",
    "logger.info(_message, *args, **kwargs)\n",
    "\n",
    "logger.success(_message, *args, **kwargs)\n",
    "\n",
    "logger.warning(_message, *args, **kwargs)\n",
    "\n",
    "logger.error(_message, *args, **kwargs)\n",
    "\n",
    "logger.critical(_message, *args, **kwargs)\n",
    "\n",
    "logger.success(_message, *args, **kwargs)"
   ]
  },
  {
   "cell_type": "markdown",
   "metadata": {},
   "source": [
    "### ``paso``  logger"
   ]
  },
  {
   "cell_type": "markdown",
   "metadata": {},
   "source": [
    "If your using the ``paso``logger then you using ``logguru`` package with added ``paso`` custominality. You never have to bother with ``logguru`` for it's advanced behavior. All setup customization for ``loguru`` (and Parameters) is all transparent and worry-free. All setup is accomplished  in the call ``Paso().startup()``"
   ]
  },
  {
   "cell_type": "code",
   "execution_count": 7,
   "metadata": {
    "ExecuteTime": {
     "end_time": "2019-07-15T19:35:57.216404Z",
     "start_time": "2019-07-15T19:35:57.208226Z"
    }
   },
   "outputs": [
    {
     "name": "stdout",
     "output_type": "stream",
     "text": [
      "paso 15.7.2019 15:35:57 INFO ========================================\n",
      "paso 15.7.2019 15:35:57 INFO Read in parameter file: ../parameters/default.yaml\n"
     ]
    }
   ],
   "source": [
    "from paso.base import Paso,Log,PasoError\n",
    "session = Paso().startup()"
   ]
  },
  {
   "cell_type": "markdown",
   "metadata": {},
   "source": [
    "With Paso().startup(), the logger format shown is a paso custom log format that output to sys.stdout. You can redirect sys.stdout (dangerous) or better yet send it simutanously to sys.stdout and <filepath> by:"
   ]
  },
  {
   "cell_type": "code",
   "execution_count": 8,
   "metadata": {
    "ExecuteTime": {
     "end_time": "2019-07-15T19:35:57.224908Z",
     "start_time": "2019-07-15T19:35:57.218337Z"
    }
   },
   "outputs": [
    {
     "name": "stdout",
     "output_type": "stream",
     "text": [
      "paso 15.7.2019 15:35:57 INFO Logging also to file:test.log\n"
     ]
    },
    {
     "data": {
      "text/plain": [
       "<paso.base.Log at 0x7fd180709400>"
      ]
     },
     "execution_count": 8,
     "metadata": {},
     "output_type": "execute_result"
    }
   ],
   "source": [
    "Log().file(log_file='test.log')"
   ]
  },
  {
   "cell_type": "markdown",
   "metadata": {},
   "source": [
    "Log().file() will default to default.log in whatever is the current directory. Also note, that all previous log files will include the latest lo.info message,"
   ]
  },
  {
   "cell_type": "code",
   "execution_count": 9,
   "metadata": {
    "ExecuteTime": {
     "end_time": "2019-07-15T19:35:57.233785Z",
     "start_time": "2019-07-15T19:35:57.227124Z"
    }
   },
   "outputs": [
    {
     "name": "stdout",
     "output_type": "stream",
     "text": [
      "paso 15.7.2019 15:35:57 INFO Logging also to file:default.log\n"
     ]
    },
    {
     "data": {
      "text/plain": [
       "<paso.base.Log at 0x7fd180709ba8>"
      ]
     },
     "execution_count": 9,
     "metadata": {},
     "output_type": "execute_result"
    }
   ],
   "source": [
    "Log().file()"
   ]
  },
  {
   "cell_type": "markdown",
   "metadata": {},
   "source": [
    "You can log ``DEBUG`` messages. The level is shown as ``DEBUG`` and the logger format shown is a ``paso`` custom logging format. By showing the level you can quickly search a file for ``DEBUG``, ``ERROR`` or any combination of logging levels you may be interested in."
   ]
  },
  {
   "cell_type": "code",
   "execution_count": 10,
   "metadata": {
    "ExecuteTime": {
     "end_time": "2019-07-15T19:35:57.240450Z",
     "start_time": "2019-07-15T19:35:57.236079Z"
    }
   },
   "outputs": [
    {
     "name": "stdout",
     "output_type": "stream",
     "text": [
      "paso 15.7.2019 15:35:57 DEBUG x:1\n"
     ]
    }
   ],
   "source": [
    "x =1\n",
    "logger.debug(\"x:{}\".format(x))"
   ]
  },
  {
   "cell_type": "markdown",
   "metadata": {},
   "source": [
    "You can log and trap if you wish."
   ]
  },
  {
   "cell_type": "code",
   "execution_count": 11,
   "metadata": {
    "ExecuteTime": {
     "end_time": "2019-07-15T19:35:57.539629Z",
     "start_time": "2019-07-15T19:35:57.242601Z"
    }
   },
   "outputs": [
    {
     "name": "stdout",
     "output_type": "stream",
     "text": [
      "paso 15.7.2019 15:35:57 ERROR whoa!!!! cowboy\n"
     ]
    },
    {
     "ename": "PasoError",
     "evalue": "bad boy",
     "output_type": "error",
     "traceback": [
      "\u001b[0;31m---------------------------------------------------------------------------\u001b[0m",
      "\u001b[0;31mPasoError\u001b[0m                                 Traceback (most recent call last)",
      "\u001b[0;32m~/Documents/PROJECTS/paso\u001b[0m in \u001b[0;36m<module>\u001b[0;34m\u001b[0m\n\u001b[1;32m      1\u001b[0m \u001b[0mlogger\u001b[0m\u001b[0;34m.\u001b[0m\u001b[0merror\u001b[0m\u001b[0;34m(\u001b[0m\u001b[0;34m\"whoa!!!! cowboy\"\u001b[0m\u001b[0;34m)\u001b[0m\u001b[0;34m\u001b[0m\u001b[0;34m\u001b[0m\u001b[0m\n\u001b[0;32m----> 2\u001b[0;31m \u001b[0;32mraise\u001b[0m \u001b[0mPasoError\u001b[0m\u001b[0;34m(\u001b[0m\u001b[0;34m'bad boy'\u001b[0m\u001b[0;34m)\u001b[0m\u001b[0;34m\u001b[0m\u001b[0;34m\u001b[0m\u001b[0m\n\u001b[0m",
      "\u001b[0;31mPasoError\u001b[0m: bad boy"
     ]
    }
   ],
   "source": [
    "logger.error(\"whoa!!!! cowboy\")\n",
    "raise PasoError('bad boy')"
   ]
  },
  {
   "cell_type": "markdown",
   "metadata": {},
   "source": [
    "You can see what custom loggers are ``On``, by looking at the class variable ``Log.log_names``. Currently only ``paso``logger in ``On``."
   ]
  },
  {
   "cell_type": "code",
   "execution_count": 12,
   "metadata": {
    "ExecuteTime": {
     "end_time": "2019-07-15T19:36:32.038062Z",
     "start_time": "2019-07-15T19:36:32.033553Z"
    }
   },
   "outputs": [
    {
     "data": {
      "text/plain": [
       "{'paso': 'On'}"
      ]
     },
     "execution_count": 12,
     "metadata": {},
     "output_type": "execute_result"
    }
   ],
   "source": [
    "Log.log_names"
   ]
  },
  {
   "cell_type": "markdown",
   "metadata": {},
   "source": [
    "## Parameter"
   ]
  },
  {
   "cell_type": "markdown",
   "metadata": {},
   "source": [
    "Retrieving key/value pairs or parameters are retrieved from a file.\n",
    "Currently bootstrap to \\<name>.yaml or from attribute ``experiment_environment``\n",
    "in ``../parameters/default.yaml`` thus any ``<name>.yaml`` can be used\n",
    "without change to current code. Only new code need be added to\n",
    "support ``<nth name>.yaml``.\n"
   ]
  },
  {
   "cell_type": "markdown",
   "metadata": {},
   "source": [
    "    project: Common Ground Solutions/paso\n",
    "\n",
    "    name: paso\n",
    "    model-methods: []\n",
    "    function-methods:[log,parameters,transform,train,predict,read,write,load,save]\n",
    "    parameter_directory_path: '../parameters/'\n",
    "    experiment_environment: 'lesson.1"
   ]
  },
  {
   "cell_type": "markdown",
   "metadata": {},
   "source": [
    "``../parameters/default.yaml`` file"
   ]
  },
  {
   "cell_type": "markdown",
   "metadata": {},
   "source": [
    "Notice the instance is different on each \n",
    "call to class ``Param`` but the resulting \n",
    "parameter dictionary is always the same as the \n",
    "filepath of value of parameter ``experiment_environment`` \n",
    "in the default file. This means class ``Param`` can be \n",
    "called from anywhere to give the same parameters and values."
   ]
  },
  {
   "cell_type": "code",
   "execution_count": 13,
   "metadata": {
    "ExecuteTime": {
     "end_time": "2019-07-15T19:36:32.045735Z",
     "start_time": "2019-07-15T19:36:32.040798Z"
    }
   },
   "outputs": [
    {
     "data": {
      "text/plain": [
       "'Common Ground Solutions/paso'"
      ]
     },
     "execution_count": 13,
     "metadata": {},
     "output_type": "execute_result"
    }
   ],
   "source": [
    "#from paso.base import Paso\n",
    "#session = Paso().startup()\n",
    "from paso.base import Param\n",
    "p = Param.parameters_D\n",
    "p['project']"
   ]
  },
  {
   "cell_type": "markdown",
   "metadata": {},
   "source": [
    "You can override the default filepath with one of your choosing.\n",
    "This means if the default parameter file parameter\n",
    "``experiment_environment`` is changed, parameters \n",
    "are set b a new file with a resulting new parameters \n",
    "dictionary."
   ]
  },
  {
   "cell_type": "code",
   "execution_count": 14,
   "metadata": {
    "ExecuteTime": {
     "end_time": "2019-07-15T19:36:32.056476Z",
     "start_time": "2019-07-15T19:36:32.048756Z"
    }
   },
   "outputs": [
    {
     "name": "stdout",
     "output_type": "stream",
     "text": [
      "paso 15.7.2019 15:36:32 INFO ========================================\n",
      "paso 15.7.2019 15:36:32 INFO Read in parameter file: ../parameters/default.yaml\n"
     ]
    },
    {
     "data": {
      "text/plain": [
       "'Common Ground Solutions/paso'"
      ]
     },
     "execution_count": 14,
     "metadata": {},
     "output_type": "execute_result"
    }
   ],
   "source": [
    "session = Paso(parameters_filepath='../parameters/default.yaml')\n",
    "session.startup()\n",
    "p = Param.parameters_D\n",
    "p['project']"
   ]
  },
  {
   "cell_type": "markdown",
   "metadata": {},
   "source": [
    "The entire parameter dictionary can be shown via:"
   ]
  },
  {
   "cell_type": "code",
   "execution_count": 15,
   "metadata": {
    "ExecuteTime": {
     "end_time": "2019-07-15T19:36:32.063839Z",
     "start_time": "2019-07-15T19:36:32.059667Z"
    }
   },
   "outputs": [
    {
     "data": {
      "text/plain": [
       "AttrDict({'project': 'Common Ground Solutions/paso', 'name': 'default', 'model-methods': [], 'function-methods': ['log', 'parameters', 'transform', 'traun', 'predict', 'read', 'write', 'load', 'save'], 'cpu_n': 12, 'threads_n': 24, 'gpu_n': 2, 'cv_n': 5, 'shuffle': 1, 'layer-1': {'layer-2': 'value'}})"
      ]
     },
     "execution_count": 15,
     "metadata": {},
     "output_type": "execute_result"
    }
   ],
   "source": [
    "Param.parameters_D"
   ]
  },
  {
   "cell_type": "markdown",
   "metadata": {},
   "source": [
    "    project: Common Ground Soltions/paso\n",
    "    name: lesson.1\n",
    "    # Executioon\n",
    "    cpu_n: 12\n",
    "    threads_n: 24\n",
    "    gpu_n: 2\n",
    "    cv_n: 5\n",
    "    shuffle: 1\n",
    "    # 2-order pair\n",
    "    layer-1:\n",
    "         layer-2: value"
   ]
  },
  {
   "cell_type": "markdown",
   "metadata": {},
   "source": [
    "lesson.1.yaml file"
   ]
  },
  {
   "cell_type": "markdown",
   "metadata": {
    "ExecuteTime": {
     "end_time": "2019-06-05T14:38:09.347531Z",
     "start_time": "2019-06-05T14:38:09.343551Z"
    }
   },
   "source": [
    "Any parameter can be accessed by creating an instance of ``Param``\n"
   ]
  },
  {
   "cell_type": "code",
   "execution_count": 16,
   "metadata": {
    "ExecuteTime": {
     "end_time": "2019-07-15T19:36:32.070422Z",
     "start_time": "2019-07-15T19:36:32.065855Z"
    }
   },
   "outputs": [
    {
     "data": {
      "text/plain": [
       "'default'"
      ]
     },
     "execution_count": 16,
     "metadata": {},
     "output_type": "execute_result"
    }
   ],
   "source": [
    "Param.parameters_D['name']"
   ]
  },
  {
   "cell_type": "markdown",
   "metadata": {},
   "source": [
    "However, after ``paso.startup`` you directly the parameter dictionary directly the class attibute."
   ]
  },
  {
   "cell_type": "code",
   "execution_count": 17,
   "metadata": {
    "ExecuteTime": {
     "end_time": "2019-07-15T19:36:32.076686Z",
     "start_time": "2019-07-15T19:36:32.072255Z"
    }
   },
   "outputs": [
    {
     "data": {
      "text/plain": [
       "'default'"
      ]
     },
     "execution_count": 17,
     "metadata": {},
     "output_type": "execute_result"
    }
   ],
   "source": [
    "p = Param.parameters_D\n",
    "p['name']"
   ]
  },
  {
   "cell_type": "markdown",
   "metadata": {},
   "source": [
    "Parameter values can be made very complex through hierarchical pairs."
   ]
  },
  {
   "cell_type": "code",
   "execution_count": 18,
   "metadata": {
    "ExecuteTime": {
     "end_time": "2019-07-15T19:36:32.082638Z",
     "start_time": "2019-07-15T19:36:32.078618Z"
    }
   },
   "outputs": [
    {
     "data": {
      "text/plain": [
       "{'layer-2': 'value'}"
      ]
     },
     "execution_count": 18,
     "metadata": {},
     "output_type": "execute_result"
    }
   ],
   "source": [
    "p['layer-1']"
   ]
  },
  {
   "cell_type": "code",
   "execution_count": 19,
   "metadata": {
    "ExecuteTime": {
     "end_time": "2019-07-15T19:36:32.089164Z",
     "start_time": "2019-07-15T19:36:32.084717Z"
    }
   },
   "outputs": [
    {
     "data": {
      "text/plain": [
       "'value'"
      ]
     },
     "execution_count": 19,
     "metadata": {},
     "output_type": "execute_result"
    }
   ],
   "source": [
    "p['layer-1']['layer-2']"
   ]
  },
  {
   "cell_type": "markdown",
   "metadata": {},
   "source": [
    "## A Little More of ``paso``"
   ]
  },
  {
   "cell_type": "markdown",
   "metadata": {},
   "source": [
    "When the ``with paso `` statement is executed, Python evaluates the expression, calls the __enter__ method on the resulting value (which is called a **context guard**, and assigns whatever __enter__ (``startup``) returns. Whatever is returned,  ``as`` sets the variable (in this case ``session``) Python will then execute the code body, and no matter what happens in that code, call the guard object’s __exit__ method (``shutdown``)."
   ]
  },
  {
   "cell_type": "code",
   "execution_count": 20,
   "metadata": {
    "ExecuteTime": {
     "end_time": "2019-07-15T19:36:32.100242Z",
     "start_time": "2019-07-15T19:36:32.092978Z"
    }
   },
   "outputs": [
    {
     "name": "stdout",
     "output_type": "stream",
     "text": [
      "paso 15.7.2019 15:36:32 INFO ========================================\n",
      "paso 15.7.2019 15:36:32 INFO Read in parameter file: ../parameters/default.yaml\n",
      "paso 15.7.2019 15:36:32 INFO <paso.base.Paso object at 0x7fd1a1751278>\n"
     ]
    }
   ],
   "source": [
    "with Paso() as session:\n",
    "    logger.info('{}'.format(session))"
   ]
  },
  {
   "cell_type": "markdown",
   "metadata": {},
   "source": [
    "or"
   ]
  },
  {
   "cell_type": "code",
   "execution_count": 21,
   "metadata": {
    "ExecuteTime": {
     "end_time": "2019-07-15T19:36:32.110411Z",
     "start_time": "2019-07-15T19:36:32.103238Z"
    }
   },
   "outputs": [
    {
     "name": "stdout",
     "output_type": "stream",
     "text": [
      "paso 15.7.2019 15:36:32 INFO Log started\n",
      "paso 15.7.2019 15:36:32 INFO ========================================\n",
      "paso 15.7.2019 15:36:32 INFO Read in parameter file: ../parameters/default.yaml\n",
      "paso 15.7.2019 15:36:32 INFO <paso.base.Paso object at 0x7fd1a1751be0>\n"
     ]
    }
   ],
   "source": [
    "session = Paso().startup()\n",
    "logger.info('{}'.format(session))"
   ]
  },
  {
   "cell_type": "markdown",
   "metadata": {},
   "source": [
    "When the ``paso`` body completes, a default logger to ``std_out`` is enabled."
   ]
  },
  {
   "cell_type": "markdown",
   "metadata": {},
   "source": [
    "Try to log now. The custom log format should be back to a default format as you have exited from the ``Paso `` instance scope."
   ]
  },
  {
   "cell_type": "code",
   "execution_count": 22,
   "metadata": {
    "ExecuteTime": {
     "end_time": "2019-07-15T19:36:32.116513Z",
     "start_time": "2019-07-15T19:36:32.112590Z"
    }
   },
   "outputs": [
    {
     "name": "stdout",
     "output_type": "stream",
     "text": [
      "paso 15.7.2019 15:36:32 INFO try again outside paso body. yeah!!!\n"
     ]
    }
   ],
   "source": [
    "logger.info('try again outside paso body. yeah!!!')"
   ]
  },
  {
   "cell_type": "markdown",
   "metadata": {},
   "source": [
    "The ``Paso``logger by default will output to ``stdout``. If you wish to log to add to an addtional log file include the argument ``log_file`` when you instantiate ``Paso`` class. "
   ]
  },
  {
   "cell_type": "code",
   "execution_count": 23,
   "metadata": {
    "ExecuteTime": {
     "end_time": "2019-07-15T19:36:32.125204Z",
     "start_time": "2019-07-15T19:36:32.119144Z"
    }
   },
   "outputs": [
    {
     "name": "stdout",
     "output_type": "stream",
     "text": [
      "paso 15.7.2019 15:36:32 INFO ========================================\n",
      "paso 15.7.2019 15:36:32 INFO Read in parameter file: ../parameters/default.yaml\n",
      "paso 15.7.2019 15:36:32 INFO logging to file:<paso.base.Paso object at 0x7fd1a1751fd0>\n"
     ]
    }
   ],
   "source": [
    "with Paso(log_file='mylog.txt') as session:\n",
    "    logger.info('logging to file:{}'.format(session))"
   ]
  },
  {
   "cell_type": "markdown",
   "metadata": {},
   "source": [
    "## Summary"
   ]
  },
  {
   "cell_type": "markdown",
   "metadata": {},
   "source": [
    "With ``paso`` you have tranparent custom logging and the automatic setup and access to parameter pairs."
   ]
  },
  {
   "cell_type": "code",
   "execution_count": 24,
   "metadata": {
    "ExecuteTime": {
     "end_time": "2019-07-15T19:36:32.136944Z",
     "start_time": "2019-07-15T19:36:32.127524Z"
    }
   },
   "outputs": [
    {
     "name": "stdout",
     "output_type": "stream",
     "text": [
      "paso 15.7.2019 15:36:32 INFO Log started\n",
      "paso 15.7.2019 15:36:32 INFO ========================================\n",
      "paso 15.7.2019 15:36:32 INFO Read in parameter file: ../parameters/default.yaml\n",
      "paso 15.7.2019 15:36:32 INFO <paso.base.Paso object at 0x7fd180709390>\n"
     ]
    },
    {
     "data": {
      "text/plain": [
       "'Common Ground Solutions/paso'"
      ]
     },
     "execution_count": 24,
     "metadata": {},
     "output_type": "execute_result"
    }
   ],
   "source": [
    "from paso.base import Paso\n",
    "\n",
    "session = Paso().startup()\n",
    "logger.info('{}'.format(session))\n",
    "\n",
    "from paso.base import Param\n",
    "\n",
    "p = Param.parameters_D\n",
    "p['project']"
   ]
  },
  {
   "cell_type": "markdown",
   "metadata": {},
   "source": [
    "You now should be able easily to log instead of ``print``. You also have the code for using parameter files.  The code for ``paso`` logging and parameter behavior as demonstrated, can be found at [ Paso, Log, Parms class](https://github.com/bcottman/paso/blob/master/paso/base.py)"
   ]
  },
  {
   "cell_type": "markdown",
   "metadata": {},
   "source": [
    "In the future I will go into `` paso `` in more depth with the following articles:\n",
    "\n",
    "1. ``paso`` Data Cleaning Tools for Structured Data\n",
    "1. ``paso`` Balancing and  Augmentating Class Stratified Data\n",
    "1. ``paso`` Class for Finding the best Features of a Structured Dataset.\n",
    "1. ``paso`` Scaler Tools for Structured Data.\n",
    "1. ``paso`` Encoder Tools for Structured Data.\n",
    "1. ``paso`` Machine Learning Models\n",
    "1. ``paso`` Deep Learning Models \n",
    "1. How to build your own ``paso``es.; The ``paso``decorators.\n",
    "1. How to contribute to ``paso``.\n",
    "1. and yet more..."
   ]
  },
  {
   "cell_type": "markdown",
   "metadata": {},
   "source": [
    "You can go beyond this topic by downloading and exploring ``paso`` with\n",
    "    \n",
    "      pip install paso"
   ]
  }
 ],
 "metadata": {
  "hide_input": false,
  "kernelspec": {
   "display_name": "Python 3",
   "language": "python",
   "name": "python3"
  },
  "language_info": {
   "codemirror_mode": {
    "name": "ipython",
    "version": 3
   },
   "file_extension": ".py",
   "mimetype": "text/x-python",
   "name": "python",
   "nbconvert_exporter": "python",
   "pygments_lexer": "ipython3",
   "version": "3.7.1"
  },
  "toc": {
   "base_numbering": 1,
   "nav_menu": {
    "height": "62px",
    "width": "252px"
   },
   "number_sections": true,
   "sideBar": true,
   "skip_h1_title": false,
   "title_cell": "Table of Contents",
   "title_sidebar": "Contents",
   "toc_cell": false,
   "toc_position": {
    "height": "calc(100% - 180px)",
    "left": "10px",
    "top": "150px",
    "width": "195.12228393554688px"
   },
   "toc_section_display": "block",
   "toc_window_display": true
  }
 },
 "nbformat": 4,
 "nbformat_minor": 2
}
