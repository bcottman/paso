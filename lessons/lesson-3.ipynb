{
 "cells": [
  {
   "cell_type": "markdown",
   "metadata": {},
   "source": [
    "## import local"
   ]
  },
  {
   "cell_type": "markdown",
   "metadata": {},
   "source": [
    "if no test dataset:\n",
    "    train,test    =split\n",
    " = Balance(train)\n",
    "\n",
    "clf = RandomForestClassifier(n_estimators=50, n_jobs=-1)\n",
    "\n",
    "bagging n boost = True\n",
    "\n",
    "sklearn.calibration.\n",
    "clf_cal = CalibratedClassifierCV(cv_clf,cv=prefit, cv = k)   resulting in k**2\n",
    "\n",
    "2 modes for kaggle\n",
    "1. train,train-valid, train-test using split-train_test\n",
    "    ratio = .2 verify model against train dataset\n",
    "2. train,train-valid, test using split-train_test \n",
    "   create model from bigger trainset, using ratio = 0.2.0,1 etce\n",
    "use clf_cal. predict on test\n"
   ]
  },
  {
   "cell_type": "code",
   "execution_count": 1,
   "metadata": {
    "ExecuteTime": {
     "end_time": "2019-07-26T21:52:38.291271Z",
     "start_time": "2019-07-26T21:52:38.270179Z"
    }
   },
   "outputs": [
    {
     "data": {
      "text/plain": [
       "'/Users/brucecottman/Documents/PROJECTS/paso'"
      ]
     },
     "execution_count": 1,
     "metadata": {},
     "output_type": "execute_result"
    }
   ],
   "source": [
    "from __future__ import print_function\n",
    "__file__ = !cd .. ;pwd\n",
    "__file__ = __file__[0]\n",
    "__file__"
   ]
  },
  {
   "cell_type": "code",
   "execution_count": 2,
   "metadata": {
    "ExecuteTime": {
     "end_time": "2019-07-26T21:52:38.698920Z",
     "start_time": "2019-07-26T21:52:38.294468Z"
    }
   },
   "outputs": [
    {
     "data": {
      "text/plain": [
       "['/Users/brucecottman/Documents/PROJECTS/paso/lessons',\n",
       " '/Users/brucecottman/anaconda3/envs/paso/lib/python37.zip',\n",
       " '/Users/brucecottman/anaconda3/envs/paso/lib/python3.7',\n",
       " '/Users/brucecottman/anaconda3/envs/paso/lib/python3.7/lib-dynload',\n",
       " '',\n",
       " '/Users/brucecottman/.local/lib/python3.7/site-packages',\n",
       " '/Users/brucecottman/anaconda3/envs/paso/lib/python3.7/site-packages',\n",
       " '/Users/brucecottman/anaconda3/envs/paso/lib/python3.7/site-packages/aeosa',\n",
       " '/Users/brucecottman/anaconda3/envs/paso/lib/python3.7/site-packages/IPython/extensions',\n",
       " '/Users/brucecottman/.ipython',\n",
       " '/Users/brucecottman/Documents/PROJECTS/paso']"
      ]
     },
     "execution_count": 2,
     "metadata": {},
     "output_type": "execute_result"
    }
   ],
   "source": [
    "import sys\n",
    "from random import random\n",
    "import pandas as pd\n",
    "\n",
    "sys.path.append(__file__)\n",
    "sys.path"
   ]
  },
  {
   "cell_type": "code",
   "execution_count": 3,
   "metadata": {
    "ExecuteTime": {
     "end_time": "2019-07-26T21:52:39.690221Z",
     "start_time": "2019-07-26T21:52:38.701057Z"
    }
   },
   "outputs": [
    {
     "name": "stdout",
     "output_type": "stream",
     "text": [
      "paso 26.7.2019 17:52:39 INFO Log started\n",
      "paso 26.7.2019 17:52:39 INFO ========================================\n",
      "paso 26.7.2019 17:52:39 INFO Read in parameter file: ../parameters/lesson.3.yaml\n"
     ]
    }
   ],
   "source": [
    "from paso.base import Paso,Log,PasoError,Param,NameToClass\n",
    "from loguru import logger\n",
    "session = Paso(parameters_filepath='../parameters/lesson.3.yaml').startup()"
   ]
  },
  {
   "cell_type": "markdown",
   "metadata": {},
   "source": [
    "## Balancing and  Augmentating Class Stratified Data"
   ]
  },
  {
   "cell_type": "markdown",
   "metadata": {},
   "source": [
    "Structured Data Augmentation is very rarely discussed in theoretical or real-world production systems. It a secret sauce for which the recipe will be shown here. Along the way, we will introduce ``paso's`` Class Balancing tools. As was shown in the previous two articles, **paso** supports and is compatiable with ``sklearn``.\n",
    "\n"
   ]
  },
  {
   "cell_type": "markdown",
   "metadata": {
    "heading_collapsed": true
   },
   "source": [
    "## A Quick Overview of paso"
   ]
  },
  {
   "cell_type": "markdown",
   "metadata": {
    "hidden": true
   },
   "source": [
    "**paso** is a package written in Python and some ``C``(for speed) that was originally intended to bundle best-practices and state-of-the-art services, classes and functions for the Machine Learning and Deep Learning community. **paso** has grown beyond this to offer patterns, classes and methods you can use in your **Scikit-Learn pipelines** or custom code with or without adopting the entire **paso** package.\n",
    "\n",
    "**Scikit-Learn pipelines** are composed of steps, each step has to be **Scikit-Learn transformer** or a custom **Scikit-Learn transformer**. The last of the pipeline can be a transformer or an estimator, where a **Scikit-Learn estimator** is a compatible model. \n",
    "\n",
    "**paso** has quite a few Class Balancing transformers that are custom **Scikit-Learn transformers**. Note that **paso** translates from Spanish to English to the word step.\n",
    "\n",
    "Discussion will be divided into the following major segments:\n",
    "- Loading a Toy Dataset with **paso** inputter.\n",
    "- What Class Balancing stratagems are in **paso**.\n",
    "- How to use Class Balancing to argument Fixed Structure data\n",
    "- The benefits of argumenting Fixed Structure data.\n",
    "- As usual the source code for all examples is available."
   ]
  },
  {
   "cell_type": "markdown",
   "metadata": {
    "hidden": true
   },
   "source": [
    "As we saw in [lesson-1](), we need to startup **paso** services."
   ]
  },
  {
   "cell_type": "code",
   "execution_count": 4,
   "metadata": {
    "ExecuteTime": {
     "end_time": "2019-07-26T21:52:39.768952Z",
     "start_time": "2019-07-26T21:52:39.693860Z"
    },
    "hidden": true
   },
   "outputs": [
    {
     "name": "stdout",
     "output_type": "stream",
     "text": [
      "paso 26.7.2019 17:52:39 INFO ========================================\n",
      "paso 26.7.2019 17:52:39 INFO Read in parameter file: ../parameters/lesson.3.yaml\n"
     ]
    }
   ],
   "source": [
    "import numpy as np\n",
    "import pandas as pd\n",
    "from pandas_summary import DataFrameSummary\n",
    "\n",
    "import warnings\n",
    "warnings.filterwarnings(\"ignore\")\n",
    "import multiprocessing\n",
    "\n",
    "import matplotlib as mpl\n",
    "from matplotlib import pyplot as plt\n",
    "from matplotlib import cm\n",
    "\n",
    "%reload_ext autoreload\n",
    "%autoreload 2\n",
    "%matplotlib inline\n",
    "import matplotlib\n",
    "import seaborn as sns\n",
    "color = sns.color_palette()\n",
    "\n",
    "from paso.base import Paso,Log,PasoError\n",
    "from loguru import logger\n",
    "session = Paso(parameters_filepath='../parameters/lesson.3.yaml').startup()"
   ]
  },
  {
   "cell_type": "markdown",
   "metadata": {},
   "source": [
    "## Toy Example Dataset"
   ]
  },
  {
   "cell_type": "markdown",
   "metadata": {},
   "source": [
    "The **paso** class is a general method to read in datasets and return them as dataframes. For now, we can use them. In a future lesson we will cover  ``Inputer`` in  detail.  All available ``Inputer`` methods are shown with:"
   ]
  },
  {
   "cell_type": "code",
   "execution_count": 5,
   "metadata": {
    "ExecuteTime": {
     "end_time": "2019-07-26T21:52:39.822231Z",
     "start_time": "2019-07-26T21:52:39.772880Z"
    }
   },
   "outputs": [
    {
     "data": {
      "text/plain": [
       "['exec', 'cvs', 'xls', 'xlsm', 'text', 'image2D', 'image3D']"
      ]
     },
     "execution_count": 5,
     "metadata": {},
     "output_type": "execute_result"
    }
   ],
   "source": [
    "from paso.pre.inputers import Inputer,Splitter\n",
    "inputer = Inputer()\n",
    "inputer.inputers()"
   ]
  },
  {
   "cell_type": "markdown",
   "metadata": {},
   "source": [
    "Let us start with a toy dataset to class balance. we load the ``iris``data set, into the ``Flower``dataframe.  The feature ``TypeOf`` will contain the class target values.\n",
    "\n",
    "Instead of using keyword arguments cemented in code, I will use an ontological file. One working definition of ontological is:\n",
    "\n",
    "    \"showing the relations between the concepts and categories in a subject area or domain\".\n",
    "\n",
    "We are using ontological files because:\n",
    "- the description of an object (dataset, model,etc.) can be changed without changing code\n",
    "- the parsing performance of an ontological file and python are about the same as both use dynamic typing. This probably would not be case for statically typed language. However, an object's description parsing compute is very tiny compared to the action(s) performed on or by the object in all cases encountered so far.\n",
    "\n",
    "Ontological files consist of hierarchy of key-value pairs.  In a future lesson we will cover Ontological files in  detail. [Different Ontological files can be viewed here.](https://github.com/bcottman/paso/tree/master/ontologies)\n"
   ]
  },
  {
   "cell_type": "code",
   "execution_count": 6,
   "metadata": {
    "ExecuteTime": {
     "end_time": "2019-07-26T21:52:39.901488Z",
     "start_time": "2019-07-26T21:52:39.824328Z"
    }
   },
   "outputs": [
    {
     "name": "stdout",
     "output_type": "stream",
     "text": [
      "paso 26.7.2019 17:52:39 INFO Loaded Ontological file:../ontologies/pre/inputers/iris.yaml \n"
     ]
    },
    {
     "data": {
      "text/plain": [
       "'TypeOf'"
      ]
     },
     "execution_count": 6,
     "metadata": {},
     "output_type": "execute_result"
    }
   ],
   "source": [
    "Flower = inputer.transform(ontological_filepath='../ontologies/pre/inputers/iris.yaml')\n",
    "inputer.target"
   ]
  },
  {
   "cell_type": "code",
   "execution_count": 7,
   "metadata": {
    "ExecuteTime": {
     "end_time": "2019-07-26T21:52:40.144982Z",
     "start_time": "2019-07-26T21:52:39.903723Z"
    }
   },
   "outputs": [
    {
     "data": {
      "text/html": [
       "<div>\n",
       "<style scoped>\n",
       "    .dataframe tbody tr th:only-of-type {\n",
       "        vertical-align: middle;\n",
       "    }\n",
       "\n",
       "    .dataframe tbody tr th {\n",
       "        vertical-align: top;\n",
       "    }\n",
       "\n",
       "    .dataframe thead th {\n",
       "        text-align: right;\n",
       "    }\n",
       "</style>\n",
       "<table border=\"1\" class=\"dataframe\">\n",
       "  <thead>\n",
       "    <tr style=\"text-align: right;\">\n",
       "      <th></th>\n",
       "      <th>sepal length (cm)</th>\n",
       "      <th>sepal width (cm)</th>\n",
       "      <th>petal length (cm)</th>\n",
       "      <th>petal width (cm)</th>\n",
       "      <th>TypeOf</th>\n",
       "    </tr>\n",
       "  </thead>\n",
       "  <tbody>\n",
       "    <tr>\n",
       "      <th>count</th>\n",
       "      <td>150</td>\n",
       "      <td>150</td>\n",
       "      <td>150</td>\n",
       "      <td>150</td>\n",
       "      <td>150</td>\n",
       "    </tr>\n",
       "    <tr>\n",
       "      <th>mean</th>\n",
       "      <td>5.84333</td>\n",
       "      <td>3.05733</td>\n",
       "      <td>3.758</td>\n",
       "      <td>1.19933</td>\n",
       "      <td>1</td>\n",
       "    </tr>\n",
       "    <tr>\n",
       "      <th>std</th>\n",
       "      <td>0.828066</td>\n",
       "      <td>0.435866</td>\n",
       "      <td>1.7653</td>\n",
       "      <td>0.762238</td>\n",
       "      <td>0.819232</td>\n",
       "    </tr>\n",
       "    <tr>\n",
       "      <th>min</th>\n",
       "      <td>4.3</td>\n",
       "      <td>2</td>\n",
       "      <td>1</td>\n",
       "      <td>0.1</td>\n",
       "      <td>0</td>\n",
       "    </tr>\n",
       "    <tr>\n",
       "      <th>25%</th>\n",
       "      <td>5.1</td>\n",
       "      <td>2.8</td>\n",
       "      <td>1.6</td>\n",
       "      <td>0.3</td>\n",
       "      <td>0</td>\n",
       "    </tr>\n",
       "    <tr>\n",
       "      <th>50%</th>\n",
       "      <td>5.8</td>\n",
       "      <td>3</td>\n",
       "      <td>4.35</td>\n",
       "      <td>1.3</td>\n",
       "      <td>1</td>\n",
       "    </tr>\n",
       "    <tr>\n",
       "      <th>75%</th>\n",
       "      <td>6.4</td>\n",
       "      <td>3.3</td>\n",
       "      <td>5.1</td>\n",
       "      <td>1.8</td>\n",
       "      <td>2</td>\n",
       "    </tr>\n",
       "    <tr>\n",
       "      <th>max</th>\n",
       "      <td>7.9</td>\n",
       "      <td>4.4</td>\n",
       "      <td>6.9</td>\n",
       "      <td>2.5</td>\n",
       "      <td>2</td>\n",
       "    </tr>\n",
       "    <tr>\n",
       "      <th>counts</th>\n",
       "      <td>150</td>\n",
       "      <td>150</td>\n",
       "      <td>150</td>\n",
       "      <td>150</td>\n",
       "      <td>150</td>\n",
       "    </tr>\n",
       "    <tr>\n",
       "      <th>uniques</th>\n",
       "      <td>35</td>\n",
       "      <td>23</td>\n",
       "      <td>43</td>\n",
       "      <td>22</td>\n",
       "      <td>3</td>\n",
       "    </tr>\n",
       "    <tr>\n",
       "      <th>missing</th>\n",
       "      <td>0</td>\n",
       "      <td>0</td>\n",
       "      <td>0</td>\n",
       "      <td>0</td>\n",
       "      <td>0</td>\n",
       "    </tr>\n",
       "    <tr>\n",
       "      <th>missing_perc</th>\n",
       "      <td>0%</td>\n",
       "      <td>0%</td>\n",
       "      <td>0%</td>\n",
       "      <td>0%</td>\n",
       "      <td>0%</td>\n",
       "    </tr>\n",
       "    <tr>\n",
       "      <th>types</th>\n",
       "      <td>numeric</td>\n",
       "      <td>numeric</td>\n",
       "      <td>numeric</td>\n",
       "      <td>numeric</td>\n",
       "      <td>numeric</td>\n",
       "    </tr>\n",
       "  </tbody>\n",
       "</table>\n",
       "</div>"
      ],
      "text/plain": [
       "             sepal length (cm) sepal width (cm) petal length (cm)  \\\n",
       "count                      150              150               150   \n",
       "mean                   5.84333          3.05733             3.758   \n",
       "std                   0.828066         0.435866            1.7653   \n",
       "min                        4.3                2                 1   \n",
       "25%                        5.1              2.8               1.6   \n",
       "50%                        5.8                3              4.35   \n",
       "75%                        6.4              3.3               5.1   \n",
       "max                        7.9              4.4               6.9   \n",
       "counts                     150              150               150   \n",
       "uniques                     35               23                43   \n",
       "missing                      0                0                 0   \n",
       "missing_perc                0%               0%                0%   \n",
       "types                  numeric          numeric           numeric   \n",
       "\n",
       "             petal width (cm)    TypeOf  \n",
       "count                     150       150  \n",
       "mean                  1.19933         1  \n",
       "std                  0.762238  0.819232  \n",
       "min                       0.1         0  \n",
       "25%                       0.3         0  \n",
       "50%                       1.3         1  \n",
       "75%                       1.8         2  \n",
       "max                       2.5         2  \n",
       "counts                    150       150  \n",
       "uniques                    22         3  \n",
       "missing                     0         0  \n",
       "missing_perc               0%        0%  \n",
       "types                 numeric   numeric  "
      ]
     },
     "execution_count": 7,
     "metadata": {},
     "output_type": "execute_result"
    }
   ],
   "source": [
    "DataFrameSummary(Flower).summary()"
   ]
  },
  {
   "cell_type": "markdown",
   "metadata": {},
   "source": [
    "## It is important to split first before balancing"
   ]
  },
  {
   "cell_type": "markdown",
   "metadata": {},
   "source": [
    "Before training the learner it is very important to balance only the dataset we will train on. We want to know the effect of balancing data on the learner, while not corrupting our validation  dataset with balancing data. \n",
    "\n",
    "Validation is drawn from the initial train dataset in the hopes it is a sample of the past and future data that the test dataset will be drawn from. The other case where train, valid, test are covered by splitting the initial dataset to result in train and valid. Then split on train to get train and test. The order does not matter so long as the second split is on train."
   ]
  },
  {
   "cell_type": "code",
   "execution_count": 8,
   "metadata": {
    "ExecuteTime": {
     "end_time": "2019-07-26T21:52:40.204776Z",
     "start_time": "2019-07-26T21:52:40.146930Z"
    }
   },
   "outputs": [
    {
     "name": "stdout",
     "output_type": "stream",
     "text": [
      "paso 26.7.2019 17:52:40 INFO Loaded Ontological file:../ontologies/pre/inputers/split-stratify-shuffle-20.yaml \n"
     ]
    }
   ],
   "source": [
    "splitter = Splitter()\n",
    "train,test=splitter.transform(Flower,target=inputer.target,ontological_filepath='../ontologies/pre/inputers/split-stratify-shuffle-20.yaml')"
   ]
  },
  {
   "cell_type": "markdown",
   "metadata": {},
   "source": [
    "Note: A ``valid`` dataset is not made as we are not tuning learner parameters in this lesson. "
   ]
  },
  {
   "cell_type": "markdown",
   "metadata": {},
   "source": [
    "## paso Class for Handling Imbalanced Classes"
   ]
  },
  {
   "cell_type": "markdown",
   "metadata": {},
   "source": [
    "All available class balance strategies are shown with:"
   ]
  },
  {
   "cell_type": "code",
   "execution_count": 9,
   "metadata": {
    "ExecuteTime": {
     "end_time": "2019-07-26T21:52:40.291923Z",
     "start_time": "2019-07-26T21:52:40.207330Z"
    }
   },
   "outputs": [
    {
     "name": "stdout",
     "output_type": "stream",
     "text": [
      "paso 26.7.2019 17:52:40 INFO Class_Balance:: SMOTE\n"
     ]
    },
    {
     "data": {
      "text/plain": [
       "['RanZOverSample',\n",
       " 'SMOTE',\n",
       " 'ADASYN:',\n",
       " 'BorderLineSMOTE',\n",
       " 'SVMSMOTE',\n",
       " 'SMOTENC',\n",
       " 'RandomUnderSample',\n",
       " 'ClusterCentroids',\n",
       " 'NearMiss',\n",
       " 'EditedNearestNeighbour',\n",
       " 'RepeatedEditedNearestNeighbours',\n",
       " 'CondensedNearestNeighbour',\n",
       " 'OneSidedSelection']"
      ]
     },
     "execution_count": 9,
     "metadata": {},
     "output_type": "execute_result"
    }
   ],
   "source": [
    "from paso.pre.cleaners import Class_Balance\n",
    "o = Class_Balance('SMOTE')\n",
    "o.classBalancers()"
   ]
  },
  {
   "cell_type": "markdown",
   "metadata": {
    "ExecuteTime": {
     "end_time": "2019-07-25T20:11:00.840933Z",
     "start_time": "2019-07-25T20:11:00.787237Z"
    }
   },
   "source": [
    "I am going to oversample the minority classes by using ``SMOOT``. I reccomend [Handling imbalanced datasets in machine learning](https://towardsdatascience.com/handling-imbalanced-datasets-in-machine-learning-7a0e84220f28)"
   ]
  },
  {
   "cell_type": "code",
   "execution_count": 10,
   "metadata": {
    "ExecuteTime": {
     "end_time": "2019-07-26T21:52:40.349013Z",
     "start_time": "2019-07-26T21:52:40.294075Z"
    }
   },
   "outputs": [
    {
     "name": "stdout",
     "output_type": "stream",
     "text": [
      "paso 26.7.2019 17:52:40 INFO Class_Balance:: SMOTE\n"
     ]
    }
   ],
   "source": [
    "targetFeature = 'TypeOf'\n",
    "Class_BalancerKey = 'SMOTE'\n",
    "train = Class_Balance(Class_BalancerKey).transform(train,targetFeature)"
   ]
  },
  {
   "cell_type": "code",
   "execution_count": 11,
   "metadata": {
    "ExecuteTime": {
     "end_time": "2019-07-26T21:52:40.449699Z",
     "start_time": "2019-07-26T21:52:40.351190Z"
    }
   },
   "outputs": [
    {
     "data": {
      "text/html": [
       "<div>\n",
       "<style scoped>\n",
       "    .dataframe tbody tr th:only-of-type {\n",
       "        vertical-align: middle;\n",
       "    }\n",
       "\n",
       "    .dataframe tbody tr th {\n",
       "        vertical-align: top;\n",
       "    }\n",
       "\n",
       "    .dataframe thead th {\n",
       "        text-align: right;\n",
       "    }\n",
       "</style>\n",
       "<table border=\"1\" class=\"dataframe\">\n",
       "  <thead>\n",
       "    <tr style=\"text-align: right;\">\n",
       "      <th></th>\n",
       "      <th>petal length (cm)</th>\n",
       "      <th>petal width (cm)</th>\n",
       "      <th>sepal length (cm)</th>\n",
       "      <th>sepal width (cm)</th>\n",
       "      <th>TypeOf</th>\n",
       "    </tr>\n",
       "  </thead>\n",
       "  <tbody>\n",
       "    <tr>\n",
       "      <th>count</th>\n",
       "      <td>105</td>\n",
       "      <td>105</td>\n",
       "      <td>105</td>\n",
       "      <td>105</td>\n",
       "      <td>105</td>\n",
       "    </tr>\n",
       "    <tr>\n",
       "      <th>mean</th>\n",
       "      <td>3.7581</td>\n",
       "      <td>1.20952</td>\n",
       "      <td>5.85619</td>\n",
       "      <td>3.08476</td>\n",
       "      <td>1</td>\n",
       "    </tr>\n",
       "    <tr>\n",
       "      <th>std</th>\n",
       "      <td>1.74883</td>\n",
       "      <td>0.767178</td>\n",
       "      <td>0.783229</td>\n",
       "      <td>0.447381</td>\n",
       "      <td>0.820413</td>\n",
       "    </tr>\n",
       "    <tr>\n",
       "      <th>min</th>\n",
       "      <td>1.1</td>\n",
       "      <td>0.1</td>\n",
       "      <td>4.3</td>\n",
       "      <td>2.2</td>\n",
       "      <td>0</td>\n",
       "    </tr>\n",
       "    <tr>\n",
       "      <th>25%</th>\n",
       "      <td>1.5</td>\n",
       "      <td>0.3</td>\n",
       "      <td>5.2</td>\n",
       "      <td>2.8</td>\n",
       "      <td>0</td>\n",
       "    </tr>\n",
       "    <tr>\n",
       "      <th>50%</th>\n",
       "      <td>4.5</td>\n",
       "      <td>1.3</td>\n",
       "      <td>5.8</td>\n",
       "      <td>3</td>\n",
       "      <td>1</td>\n",
       "    </tr>\n",
       "    <tr>\n",
       "      <th>75%</th>\n",
       "      <td>5.1</td>\n",
       "      <td>1.8</td>\n",
       "      <td>6.4</td>\n",
       "      <td>3.4</td>\n",
       "      <td>2</td>\n",
       "    </tr>\n",
       "    <tr>\n",
       "      <th>max</th>\n",
       "      <td>6.7</td>\n",
       "      <td>2.5</td>\n",
       "      <td>7.9</td>\n",
       "      <td>4.4</td>\n",
       "      <td>2</td>\n",
       "    </tr>\n",
       "    <tr>\n",
       "      <th>counts</th>\n",
       "      <td>105</td>\n",
       "      <td>105</td>\n",
       "      <td>105</td>\n",
       "      <td>105</td>\n",
       "      <td>105</td>\n",
       "    </tr>\n",
       "    <tr>\n",
       "      <th>uniques</th>\n",
       "      <td>40</td>\n",
       "      <td>20</td>\n",
       "      <td>32</td>\n",
       "      <td>21</td>\n",
       "      <td>3</td>\n",
       "    </tr>\n",
       "    <tr>\n",
       "      <th>missing</th>\n",
       "      <td>0</td>\n",
       "      <td>0</td>\n",
       "      <td>0</td>\n",
       "      <td>0</td>\n",
       "      <td>0</td>\n",
       "    </tr>\n",
       "    <tr>\n",
       "      <th>missing_perc</th>\n",
       "      <td>0%</td>\n",
       "      <td>0%</td>\n",
       "      <td>0%</td>\n",
       "      <td>0%</td>\n",
       "      <td>0%</td>\n",
       "    </tr>\n",
       "    <tr>\n",
       "      <th>types</th>\n",
       "      <td>numeric</td>\n",
       "      <td>numeric</td>\n",
       "      <td>numeric</td>\n",
       "      <td>numeric</td>\n",
       "      <td>numeric</td>\n",
       "    </tr>\n",
       "  </tbody>\n",
       "</table>\n",
       "</div>"
      ],
      "text/plain": [
       "             petal length (cm) petal width (cm) sepal length (cm)  \\\n",
       "count                      105              105               105   \n",
       "mean                    3.7581          1.20952           5.85619   \n",
       "std                    1.74883         0.767178          0.783229   \n",
       "min                        1.1              0.1               4.3   \n",
       "25%                        1.5              0.3               5.2   \n",
       "50%                        4.5              1.3               5.8   \n",
       "75%                        5.1              1.8               6.4   \n",
       "max                        6.7              2.5               7.9   \n",
       "counts                     105              105               105   \n",
       "uniques                     40               20                32   \n",
       "missing                      0                0                 0   \n",
       "missing_perc                0%               0%                0%   \n",
       "types                  numeric          numeric           numeric   \n",
       "\n",
       "             sepal width (cm)    TypeOf  \n",
       "count                     105       105  \n",
       "mean                  3.08476         1  \n",
       "std                  0.447381  0.820413  \n",
       "min                       2.2         0  \n",
       "25%                       2.8         0  \n",
       "50%                         3         1  \n",
       "75%                       3.4         2  \n",
       "max                       4.4         2  \n",
       "counts                    105       105  \n",
       "uniques                    21         3  \n",
       "missing                     0         0  \n",
       "missing_perc               0%        0%  \n",
       "types                 numeric   numeric  "
      ]
     },
     "execution_count": 11,
     "metadata": {},
     "output_type": "execute_result"
    }
   ],
   "source": [
    "DataFrameSummary(train).summary()"
   ]
  },
  {
   "cell_type": "markdown",
   "metadata": {},
   "source": [
    "``Class_Balance`` did not change the ``Flower-train`` dataframe as the ``iris``dataset comes class balanced. "
   ]
  },
  {
   "cell_type": "code",
   "execution_count": 12,
   "metadata": {
    "ExecuteTime": {
     "end_time": "2019-07-26T21:52:40.719840Z",
     "start_time": "2019-07-26T21:52:40.451750Z"
    }
   },
   "outputs": [
    {
     "data": {
      "text/plain": [
       "<matplotlib.axes._subplots.AxesSubplot at 0x7fda18109b70>"
      ]
     },
     "execution_count": 12,
     "metadata": {},
     "output_type": "execute_result"
    },
    {
     "data": {
      "image/png": "[encoded data removed]",
      "text/plain": [
       "<Figure size 432x288 with 1 Axes>"
      ]
     },
     "metadata": {},
     "output_type": "display_data"
    }
   ],
   "source": [
    "sns.set(rc={'figure.figsize':(6,4)})\n",
    "sns.distplot((train['TypeOf'].astype('category').cat.codes.astype('int')+1),kde=False)"
   ]
  },
  {
   "cell_type": "code",
   "execution_count": 13,
   "metadata": {
    "ExecuteTime": {
     "end_time": "2019-07-26T21:52:40.772546Z",
     "start_time": "2019-07-26T21:52:40.722080Z"
    }
   },
   "outputs": [],
   "source": [
    "from sklearn.model_selection import train_test_split\n",
    "from sklearn.ensemble import RandomForestClassifier\n",
    "from sklearn import metrics"
   ]
  },
  {
   "cell_type": "code",
   "execution_count": 14,
   "metadata": {
    "ExecuteTime": {
     "end_time": "2019-07-26T21:57:14.768408Z",
     "start_time": "2019-07-26T21:52:40.775087Z"
    },
    "scrolled": true
   },
   "outputs": [
    {
     "name": "stdout",
     "output_type": "stream",
     "text": [
      "paso 26.7.2019 17:52:40 INFO Loaded Ontological file:../ontologies/learners/RandomForestClassification.yaml \n",
      "paso 26.7.2019 17:52:40 INFO RandomForest target: TypeOf\n",
      "paso 26.7.2019 17:52:40 INFO learner: RandomForest with kwargs {'n_estimators': 100, 'n_jobs': -1, 'criterion': 'gini'}\n",
      "paso 26.7.2019 17:52:40 INFO cross_validation: BaggingClassifier\n",
      "paso 26.7.2019 17:52:40 INFO     cv kwargs: {'n_estimators': 100, 'bootstrap_features': True, 'max_samples': 0.9, 'max_features': 1.0}\n",
      "paso 26.7.2019 17:52:58 INFO cross_validation: CalibratedClassifierCV\n",
      "paso 26.7.2019 17:52:58 INFO     cv kwargs: {'method': 'isotonic', 'cv': 10}\n"
     ]
    },
    {
     "data": {
      "text/plain": [
       "CalibratedClassifierCV(base_estimator=BaggingClassifier(base_estimator=RandomForestClassifier(bootstrap=True, class_weight=None, criterion='gini',\n",
       "            max_depth=None, max_features='auto', max_leaf_nodes=None,\n",
       "            min_impurity_decrease=0.0, min_impurity_split=None,\n",
       "            min_samples_leaf=1, min_sample...timators=100, n_jobs=None, oob_score=False,\n",
       "         random_state=None, verbose=0, warm_start=False),\n",
       "            cv=10, method='isotonic')"
      ]
     },
     "execution_count": 14,
     "metadata": {},
     "output_type": "execute_result"
    }
   ],
   "source": [
    "from paso.learners.learners import Learner\n",
    "o = Learner()\n",
    "o.train(train,ontological_filepath='../ontologies/learners/RandomForestClassification.yaml',target='TypeOf')\n"
   ]
  },
  {
   "cell_type": "markdown",
   "metadata": {},
   "source": [
    "The argument ratio is the amount of the dataset to assign to the validation (test) dataset. In this case,\n",
    "``X``and ``y`` datasets into training set(80\\%) and validation set(20\\%). Train and predict using ``RanadomForestClassifier``.\n",
    "\n",
    "Because the population of each of the Iris classes is about the same, the accuracy and the F1-score are almost equal."
   ]
  },
  {
   "cell_type": "code",
   "execution_count": 15,
   "metadata": {
    "ExecuteTime": {
     "end_time": "2019-07-26T22:00:49.810652Z",
     "start_time": "2019-07-26T21:57:14.770657Z"
    }
   },
   "outputs": [
    {
     "name": "stdout",
     "output_type": "stream",
     "text": [
      "paso 26.7.2019 18:00:49 INFO Confusion matrix, without normalization\n",
      "paso 26.7.2019 18:00:49 INFO Normalized confusion matrix\n"
     ]
    },
    {
     "data": {
      "image/png": "[encoded data removed]",
      "text/plain": [
       "<Figure size 432x288 with 2 Axes>"
      ]
     },
     "metadata": {},
     "output_type": "display_data"
    },
    {
     "data": {
      "image/png": "[encoded data removed]",
      "text/plain": [
       "<Figure size 432x432 with 2 Axes>"
      ]
     },
     "metadata": {},
     "output_type": "display_data"
    },
    {
     "name": "stdout",
     "output_type": "stream",
     "text": [
      "paso 26.7.2019 18:00:49 INFO measures of error evaluated for model: RandomForest\n"
     ]
    },
    {
     "data": {
      "text/plain": [
       "{'confusion_matrix': array([[15,  0,  0],\n",
       "        [ 0, 15,  0],\n",
       "        [ 0,  2, 13]]),\n",
       " 'logLoss': 4.245887166578904,\n",
       " 'accuracy': 0.9555555555555556,\n",
       " 'precision': 0.9607843137254902,\n",
       " 'recall': 0.9555555555555556,\n",
       " 'f1': 0.9553571428571429,\n",
       " 'AOC': 0}"
      ]
     },
     "execution_count": 15,
     "metadata": {},
     "output_type": "execute_result"
    }
   ],
   "source": [
    "o.predict(test,measure=True)\n",
    "o.metrics"
   ]
  },
  {
   "cell_type": "markdown",
   "metadata": {},
   "source": [
    "Overall, very good scores using ``RandomForestClassifier``. "
   ]
  },
  {
   "cell_type": "markdown",
   "metadata": {
    "heading_collapsed": true
   },
   "source": [
    "## Augment the ``iris``dataset."
   ]
  },
  {
   "cell_type": "markdown",
   "metadata": {
    "hidden": true
   },
   "source": [
    "Now we can augment (increase by 10\\% the amount data) with  synthetic data generated by a claas imbalence scheme,  ``SMOOT``. Just ``TypeOf=0`` needs 15(10%) rows (3 classes of 5 rows) of synthetic data to balance the classes. The result is similar to image augmention in that we accomplished structured data augmentation by increasing the row count ``Isis``dataset with synthetic data."
   ]
  },
  {
   "cell_type": "code",
   "execution_count": 16,
   "metadata": {
    "ExecuteTime": {
     "end_time": "2019-07-26T22:00:49.938317Z",
     "start_time": "2019-07-26T22:00:49.813020Z"
    },
    "hidden": true
   },
   "outputs": [
    {
     "name": "stdout",
     "output_type": "stream",
     "text": [
      "paso 26.7.2019 18:00:49 INFO Augment_by_Class: SMOTE\n",
      "paso 26.7.2019 18:00:49 INFO Class_Balance:: SMOTE\n",
      "paso 26.7.2019 18:00:49 INFO Class_Balance:: SMOTE\n",
      "paso 26.7.2019 18:00:49 INFO Class_Balance:: SMOTE\n"
     ]
    },
    {
     "data": {
      "text/html": [
       "<div>\n",
       "<style scoped>\n",
       "    .dataframe tbody tr th:only-of-type {\n",
       "        vertical-align: middle;\n",
       "    }\n",
       "\n",
       "    .dataframe tbody tr th {\n",
       "        vertical-align: top;\n",
       "    }\n",
       "\n",
       "    .dataframe thead th {\n",
       "        text-align: right;\n",
       "    }\n",
       "</style>\n",
       "<table border=\"1\" class=\"dataframe\">\n",
       "  <thead>\n",
       "    <tr style=\"text-align: right;\">\n",
       "      <th></th>\n",
       "      <th>petal length (cm)</th>\n",
       "      <th>petal width (cm)</th>\n",
       "      <th>sepal length (cm)</th>\n",
       "      <th>sepal width (cm)</th>\n",
       "      <th>TypeOf</th>\n",
       "    </tr>\n",
       "  </thead>\n",
       "  <tbody>\n",
       "    <tr>\n",
       "      <th>count</th>\n",
       "      <td>165</td>\n",
       "      <td>165</td>\n",
       "      <td>165</td>\n",
       "      <td>165</td>\n",
       "      <td>165</td>\n",
       "    </tr>\n",
       "    <tr>\n",
       "      <th>mean</th>\n",
       "      <td>3.75238</td>\n",
       "      <td>1.1995</td>\n",
       "      <td>5.82805</td>\n",
       "      <td>3.05782</td>\n",
       "      <td>1</td>\n",
       "    </tr>\n",
       "    <tr>\n",
       "      <th>std</th>\n",
       "      <td>1.75399</td>\n",
       "      <td>0.758626</td>\n",
       "      <td>0.818354</td>\n",
       "      <td>0.428608</td>\n",
       "      <td>0.818982</td>\n",
       "    </tr>\n",
       "    <tr>\n",
       "      <th>min</th>\n",
       "      <td>1</td>\n",
       "      <td>0.1</td>\n",
       "      <td>4.3</td>\n",
       "      <td>2</td>\n",
       "      <td>0</td>\n",
       "    </tr>\n",
       "    <tr>\n",
       "      <th>25%</th>\n",
       "      <td>1.6</td>\n",
       "      <td>0.3</td>\n",
       "      <td>5.1</td>\n",
       "      <td>2.8</td>\n",
       "      <td>0</td>\n",
       "    </tr>\n",
       "    <tr>\n",
       "      <th>50%</th>\n",
       "      <td>4.3</td>\n",
       "      <td>1.3</td>\n",
       "      <td>5.8</td>\n",
       "      <td>3</td>\n",
       "      <td>1</td>\n",
       "    </tr>\n",
       "    <tr>\n",
       "      <th>75%</th>\n",
       "      <td>5.1</td>\n",
       "      <td>1.8</td>\n",
       "      <td>6.4</td>\n",
       "      <td>3.30919</td>\n",
       "      <td>2</td>\n",
       "    </tr>\n",
       "    <tr>\n",
       "      <th>max</th>\n",
       "      <td>6.9</td>\n",
       "      <td>2.5</td>\n",
       "      <td>7.9</td>\n",
       "      <td>4.4</td>\n",
       "      <td>2</td>\n",
       "    </tr>\n",
       "    <tr>\n",
       "      <th>counts</th>\n",
       "      <td>165</td>\n",
       "      <td>165</td>\n",
       "      <td>165</td>\n",
       "      <td>165</td>\n",
       "      <td>165</td>\n",
       "    </tr>\n",
       "    <tr>\n",
       "      <th>uniques</th>\n",
       "      <td>54</td>\n",
       "      <td>32</td>\n",
       "      <td>43</td>\n",
       "      <td>36</td>\n",
       "      <td>3</td>\n",
       "    </tr>\n",
       "    <tr>\n",
       "      <th>missing</th>\n",
       "      <td>0</td>\n",
       "      <td>0</td>\n",
       "      <td>0</td>\n",
       "      <td>0</td>\n",
       "      <td>0</td>\n",
       "    </tr>\n",
       "    <tr>\n",
       "      <th>missing_perc</th>\n",
       "      <td>0%</td>\n",
       "      <td>0%</td>\n",
       "      <td>0%</td>\n",
       "      <td>0%</td>\n",
       "      <td>0%</td>\n",
       "    </tr>\n",
       "    <tr>\n",
       "      <th>types</th>\n",
       "      <td>numeric</td>\n",
       "      <td>numeric</td>\n",
       "      <td>numeric</td>\n",
       "      <td>numeric</td>\n",
       "      <td>numeric</td>\n",
       "    </tr>\n",
       "  </tbody>\n",
       "</table>\n",
       "</div>"
      ],
      "text/plain": [
       "             petal length (cm) petal width (cm) sepal length (cm)  \\\n",
       "count                      165              165               165   \n",
       "mean                   3.75238           1.1995           5.82805   \n",
       "std                    1.75399         0.758626          0.818354   \n",
       "min                          1              0.1               4.3   \n",
       "25%                        1.6              0.3               5.1   \n",
       "50%                        4.3              1.3               5.8   \n",
       "75%                        5.1              1.8               6.4   \n",
       "max                        6.9              2.5               7.9   \n",
       "counts                     165              165               165   \n",
       "uniques                     54               32                43   \n",
       "missing                      0                0                 0   \n",
       "missing_perc                0%               0%                0%   \n",
       "types                  numeric          numeric           numeric   \n",
       "\n",
       "             sepal width (cm)    TypeOf  \n",
       "count                     165       165  \n",
       "mean                  3.05782         1  \n",
       "std                  0.428608  0.818982  \n",
       "min                         2         0  \n",
       "25%                       2.8         0  \n",
       "50%                         3         1  \n",
       "75%                   3.30919         2  \n",
       "max                       4.4         2  \n",
       "counts                    165       165  \n",
       "uniques                    36         3  \n",
       "missing                     0         0  \n",
       "missing_perc               0%        0%  \n",
       "types                 numeric   numeric  "
      ]
     },
     "execution_count": 16,
     "metadata": {},
     "output_type": "execute_result"
    }
   ],
   "source": [
    "from paso.pre.cleaners import Augment_by_Class\n",
    "ratio = 0.1\n",
    "targetFeature = 'TypeOf'\n",
    "Class_BalancerKey = 'SMOTE'\n",
    "X = Augment_by_Class(Class_BalancerKey).transform(Flower,targetFeature,0.1)\n",
    "DataFrameSummary(X).summary()"
   ]
  },
  {
   "cell_type": "markdown",
   "metadata": {
    "hidden": true
   },
   "source": [
    "Notice the ``mean``, ``std`` and other statistics have slightly changed. Also, the count has inreased by 10% or augmented a structured dataset by 10%. Why do expect slight and not large change in the dataset statistics?"
   ]
  },
  {
   "cell_type": "markdown",
   "metadata": {
    "heading_collapsed": true,
    "hidden": true
   },
   "source": [
    "### A small aside on cross-validation and classification train/predict model"
   ]
  },
  {
   "cell_type": "markdown",
   "metadata": {
    "hidden": true
   },
   "source": [
    "In an future lesson, I will cover in detail how to use **paso**'s cross-validation and models that can train and then predict. In the meantime, you can find a good [overview of cross-validation](https://towardsdatascience.com/train-test-split-and-cross-validation-in-python-80b61beca4b6) and a [detailed discussion of cross-validation](https://scikit-learn.org/stable/modules/cross_validation.html#computing-cross-validated-metrics).\n",
    "\n",
    "In this lesson, we use **repeated random sub-sampling** This is hopefully a good choice for the class stratified datasets we will be using.\n",
    "Similar to K-Fold, we set a value for K which signifies the number of times we will train our model. However, in this case K will not represent the number of equally sized partitions.\n",
    "Instead, on each training iteration, we randomly select points to be for the testing set. The number of points we select will be a certain percentage we set for the testing set. For example, if we select 15%, then on each training iteration we will randomly select 15% of the points in our dataset to be set aside for training."
   ]
  },
  {
   "cell_type": "markdown",
   "metadata": {},
   "source": [
    "## Using the RandomForest model"
   ]
  },
  {
   "cell_type": "code",
   "execution_count": 17,
   "metadata": {
    "ExecuteTime": {
     "end_time": "2019-07-26T22:09:04.101074Z",
     "start_time": "2019-07-26T22:00:49.940726Z"
    }
   },
   "outputs": [
    {
     "name": "stdout",
     "output_type": "stream",
     "text": [
      "paso 26.7.2019 18:00:49 INFO Loaded Ontological file:../ontologies/learners/RandomForestClassification.yaml \n",
      "paso 26.7.2019 18:00:49 INFO RandomForest target: TypeOf\n",
      "paso 26.7.2019 18:00:49 INFO learner: RandomForest with kwargs {'n_estimators': 100, 'n_jobs': -1, 'criterion': 'gini'}\n",
      "paso 26.7.2019 18:00:50 INFO cross_validation: BaggingClassifier\n",
      "paso 26.7.2019 18:00:50 INFO     cv kwargs: {'n_estimators': 100, 'bootstrap_features': True, 'max_samples': 0.9, 'max_features': 1.0}\n",
      "paso 26.7.2019 18:01:04 INFO cross_validation: CalibratedClassifierCV\n",
      "paso 26.7.2019 18:01:04 INFO     cv kwargs: {'method': 'isotonic', 'cv': 10}\n",
      "paso 26.7.2019 18:09:03 INFO Confusion matrix, without normalization\n",
      "paso 26.7.2019 18:09:03 INFO Normalized confusion matrix\n"
     ]
    },
    {
     "data": {
      "image/png": "[encoded data removed]",
      "text/plain": [
       "<Figure size 432x432 with 2 Axes>"
      ]
     },
     "metadata": {},
     "output_type": "display_data"
    },
    {
     "data": {
      "image/png": "[encoded data removed]",
      "text/plain": [
       "<Figure size 432x432 with 2 Axes>"
      ]
     },
     "metadata": {},
     "output_type": "display_data"
    },
    {
     "name": "stdout",
     "output_type": "stream",
     "text": [
      "paso 26.7.2019 18:09:04 INFO measures of error evaluated for model: RandomForest\n"
     ]
    },
    {
     "data": {
      "text/plain": [
       "{'confusion_matrix': array([[15,  0,  0],\n",
       "        [ 0, 15,  0],\n",
       "        [ 0,  0, 15]]),\n",
       " 'logLoss': 1.4105396561516106,\n",
       " 'accuracy': 1.0,\n",
       " 'precision': 1.0,\n",
       " 'recall': 1.0,\n",
       " 'f1': 1.0,\n",
       " 'AOC': 0}"
      ]
     },
     "execution_count": 17,
     "metadata": {},
     "output_type": "execute_result"
    }
   ],
   "source": [
    "o = Learner()\n",
    "o.train(X,ontological_filepath='../ontologies/learners/RandomForestClassification.yaml',target='TypeOf')\n",
    "o.predict(test,measure=True)\n",
    "o.metrics"
   ]
  },
  {
   "cell_type": "markdown",
   "metadata": {
    "ExecuteTime": {
     "end_time": "2019-07-01T21:10:09.297466Z",
     "start_time": "2019-07-01T21:09:40.152Z"
    }
   },
   "source": [
    "Hmmm, seemed to improve scores dramatically.. Let us try 100% augmentation or double the number of rows in the  ``Flower`` dataframe."
   ]
  },
  {
   "cell_type": "code",
   "execution_count": 18,
   "metadata": {
    "ExecuteTime": {
     "end_time": "2019-07-26T22:09:04.236840Z",
     "start_time": "2019-07-26T22:09:04.106955Z"
    }
   },
   "outputs": [
    {
     "name": "stdout",
     "output_type": "stream",
     "text": [
      "paso 26.7.2019 18:09:04 INFO Augment_by_Class: SMOTE\n",
      "paso 26.7.2019 18:09:04 INFO Class_Balance:: SMOTE\n",
      "paso 26.7.2019 18:09:04 INFO Class_Balance:: SMOTE\n",
      "paso 26.7.2019 18:09:04 INFO Class_Balance:: SMOTE\n"
     ]
    },
    {
     "data": {
      "text/html": [
       "<div>\n",
       "<style scoped>\n",
       "    .dataframe tbody tr th:only-of-type {\n",
       "        vertical-align: middle;\n",
       "    }\n",
       "\n",
       "    .dataframe tbody tr th {\n",
       "        vertical-align: top;\n",
       "    }\n",
       "\n",
       "    .dataframe thead th {\n",
       "        text-align: right;\n",
       "    }\n",
       "</style>\n",
       "<table border=\"1\" class=\"dataframe\">\n",
       "  <thead>\n",
       "    <tr style=\"text-align: right;\">\n",
       "      <th></th>\n",
       "      <th>petal length (cm)</th>\n",
       "      <th>petal width (cm)</th>\n",
       "      <th>sepal length (cm)</th>\n",
       "      <th>sepal width (cm)</th>\n",
       "      <th>TypeOf</th>\n",
       "    </tr>\n",
       "  </thead>\n",
       "  <tbody>\n",
       "    <tr>\n",
       "      <th>count</th>\n",
       "      <td>300</td>\n",
       "      <td>300</td>\n",
       "      <td>300</td>\n",
       "      <td>300</td>\n",
       "      <td>300</td>\n",
       "    </tr>\n",
       "    <tr>\n",
       "      <th>mean</th>\n",
       "      <td>3.75485</td>\n",
       "      <td>1.19724</td>\n",
       "      <td>5.84628</td>\n",
       "      <td>3.06215</td>\n",
       "      <td>1</td>\n",
       "    </tr>\n",
       "    <tr>\n",
       "      <th>std</th>\n",
       "      <td>1.73836</td>\n",
       "      <td>0.754257</td>\n",
       "      <td>0.812183</td>\n",
       "      <td>0.412362</td>\n",
       "      <td>0.817861</td>\n",
       "    </tr>\n",
       "    <tr>\n",
       "      <th>min</th>\n",
       "      <td>1</td>\n",
       "      <td>0.1</td>\n",
       "      <td>4.3</td>\n",
       "      <td>2</td>\n",
       "      <td>0</td>\n",
       "    </tr>\n",
       "    <tr>\n",
       "      <th>25%</th>\n",
       "      <td>1.56287</td>\n",
       "      <td>0.3</td>\n",
       "      <td>5.1064</td>\n",
       "      <td>2.8</td>\n",
       "      <td>0</td>\n",
       "    </tr>\n",
       "    <tr>\n",
       "      <th>50%</th>\n",
       "      <td>4.36504</td>\n",
       "      <td>1.34307</td>\n",
       "      <td>5.8</td>\n",
       "      <td>3</td>\n",
       "      <td>1</td>\n",
       "    </tr>\n",
       "    <tr>\n",
       "      <th>75%</th>\n",
       "      <td>5.1</td>\n",
       "      <td>1.8</td>\n",
       "      <td>6.40816</td>\n",
       "      <td>3.3</td>\n",
       "      <td>2</td>\n",
       "    </tr>\n",
       "    <tr>\n",
       "      <th>max</th>\n",
       "      <td>6.9</td>\n",
       "      <td>2.5</td>\n",
       "      <td>7.9</td>\n",
       "      <td>4.4</td>\n",
       "      <td>2</td>\n",
       "    </tr>\n",
       "    <tr>\n",
       "      <th>counts</th>\n",
       "      <td>300</td>\n",
       "      <td>300</td>\n",
       "      <td>300</td>\n",
       "      <td>300</td>\n",
       "      <td>300</td>\n",
       "    </tr>\n",
       "    <tr>\n",
       "      <th>uniques</th>\n",
       "      <td>168</td>\n",
       "      <td>126</td>\n",
       "      <td>163</td>\n",
       "      <td>142</td>\n",
       "      <td>3</td>\n",
       "    </tr>\n",
       "    <tr>\n",
       "      <th>missing</th>\n",
       "      <td>0</td>\n",
       "      <td>0</td>\n",
       "      <td>0</td>\n",
       "      <td>0</td>\n",
       "      <td>0</td>\n",
       "    </tr>\n",
       "    <tr>\n",
       "      <th>missing_perc</th>\n",
       "      <td>0%</td>\n",
       "      <td>0%</td>\n",
       "      <td>0%</td>\n",
       "      <td>0%</td>\n",
       "      <td>0%</td>\n",
       "    </tr>\n",
       "    <tr>\n",
       "      <th>types</th>\n",
       "      <td>numeric</td>\n",
       "      <td>numeric</td>\n",
       "      <td>numeric</td>\n",
       "      <td>numeric</td>\n",
       "      <td>numeric</td>\n",
       "    </tr>\n",
       "  </tbody>\n",
       "</table>\n",
       "</div>"
      ],
      "text/plain": [
       "             petal length (cm) petal width (cm) sepal length (cm)  \\\n",
       "count                      300              300               300   \n",
       "mean                   3.75485          1.19724           5.84628   \n",
       "std                    1.73836         0.754257          0.812183   \n",
       "min                          1              0.1               4.3   \n",
       "25%                    1.56287              0.3            5.1064   \n",
       "50%                    4.36504          1.34307               5.8   \n",
       "75%                        5.1              1.8           6.40816   \n",
       "max                        6.9              2.5               7.9   \n",
       "counts                     300              300               300   \n",
       "uniques                    168              126               163   \n",
       "missing                      0                0                 0   \n",
       "missing_perc                0%               0%                0%   \n",
       "types                  numeric          numeric           numeric   \n",
       "\n",
       "             sepal width (cm)    TypeOf  \n",
       "count                     300       300  \n",
       "mean                  3.06215         1  \n",
       "std                  0.412362  0.817861  \n",
       "min                         2         0  \n",
       "25%                       2.8         0  \n",
       "50%                         3         1  \n",
       "75%                       3.3         2  \n",
       "max                       4.4         2  \n",
       "counts                    300       300  \n",
       "uniques                   142         3  \n",
       "missing                     0         0  \n",
       "missing_perc               0%        0%  \n",
       "types                 numeric   numeric  "
      ]
     },
     "execution_count": 18,
     "metadata": {},
     "output_type": "execute_result"
    }
   ],
   "source": [
    "ratio = 1.00\n",
    "targetFeature = 'TypeOf'\n",
    "Class_BalancerKey = 'SMOTE'\n",
    "X = Augment_by_Class(Class_BalancerKey).transform(Flower,targetFeature,ratio)\n",
    "DataFrameSummary(X).summary()"
   ]
  },
  {
   "cell_type": "code",
   "execution_count": 19,
   "metadata": {
    "ExecuteTime": {
     "end_time": "2019-07-26T22:17:10.951932Z",
     "start_time": "2019-07-26T22:09:04.239650Z"
    }
   },
   "outputs": [
    {
     "name": "stdout",
     "output_type": "stream",
     "text": [
      "paso 26.7.2019 18:09:04 INFO Loaded Ontological file:../ontologies/learners/RandomForestClassification.yaml \n",
      "paso 26.7.2019 18:09:04 INFO RandomForest target: TypeOf\n",
      "paso 26.7.2019 18:09:04 INFO learner: RandomForest with kwargs {'n_estimators': 100, 'n_jobs': -1, 'criterion': 'gini'}\n",
      "paso 26.7.2019 18:09:04 INFO cross_validation: BaggingClassifier\n",
      "paso 26.7.2019 18:09:04 INFO     cv kwargs: {'n_estimators': 100, 'bootstrap_features': True, 'max_samples': 0.9, 'max_features': 1.0}\n",
      "paso 26.7.2019 18:09:19 INFO cross_validation: CalibratedClassifierCV\n",
      "paso 26.7.2019 18:09:19 INFO     cv kwargs: {'method': 'isotonic', 'cv': 10}\n",
      "paso 26.7.2019 18:17:10 INFO Confusion matrix, without normalization\n",
      "paso 26.7.2019 18:17:10 INFO Normalized confusion matrix\n"
     ]
    },
    {
     "data": {
      "image/png": "[encoded data removed]",
      "text/plain": [
       "<Figure size 432x432 with 2 Axes>"
      ]
     },
     "metadata": {},
     "output_type": "display_data"
    },
    {
     "data": {
      "image/png": "[encoded data removed]",
      "text/plain": [
       "<Figure size 432x432 with 2 Axes>"
      ]
     },
     "metadata": {},
     "output_type": "display_data"
    },
    {
     "name": "stdout",
     "output_type": "stream",
     "text": [
      "paso 26.7.2019 18:17:10 INFO measures of error evaluated for model: RandomForest\n"
     ]
    },
    {
     "data": {
      "text/plain": [
       "{'confusion_matrix': array([[15,  0,  0],\n",
       "        [ 0, 15,  0],\n",
       "        [ 0,  0, 15]]),\n",
       " 'logLoss': 1.1050290265069687,\n",
       " 'accuracy': 1.0,\n",
       " 'precision': 1.0,\n",
       " 'recall': 1.0,\n",
       " 'f1': 1.0,\n",
       " 'AOC': 0}"
      ]
     },
     "execution_count": 19,
     "metadata": {},
     "output_type": "execute_result"
    }
   ],
   "source": [
    "o = Learner()\n",
    "o.train(X,ontological_filepath='../ontologies/learners/RandomForestClassification.yaml',target='TypeOf')\n",
    "o.predict(test,measure=True)\n",
    "o.metrics"
   ]
  },
  {
   "cell_type": "markdown",
   "metadata": {
    "ExecuteTime": {
     "end_time": "2019-06-29T20:04:22.014608Z",
     "start_time": "2019-06-29T20:04:21.962258Z"
    }
   },
   "source": [
    "It seems to be more accurate in predicting the holdout (test) dataset."
   ]
  },
  {
   "cell_type": "markdown",
   "metadata": {},
   "source": [
    "Seemed to raise the accuracy by 0.024. Not bad, in both the real-world and the **Kaggle** world this is huge!"
   ]
  },
  {
   "cell_type": "code",
   "execution_count": 20,
   "metadata": {
    "ExecuteTime": {
     "end_time": "2019-07-26T22:17:11.083381Z",
     "start_time": "2019-07-26T22:17:10.954446Z"
    }
   },
   "outputs": [
    {
     "name": "stdout",
     "output_type": "stream",
     "text": [
      "paso 26.7.2019 18:17:11 INFO Augment_by_Class: SMOTE\n",
      "paso 26.7.2019 18:17:11 INFO Class_Balance:: SMOTE\n",
      "paso 26.7.2019 18:17:11 INFO Class_Balance:: SMOTE\n",
      "paso 26.7.2019 18:17:11 INFO Class_Balance:: SMOTE\n"
     ]
    },
    {
     "data": {
      "text/html": [
       "<div>\n",
       "<style scoped>\n",
       "    .dataframe tbody tr th:only-of-type {\n",
       "        vertical-align: middle;\n",
       "    }\n",
       "\n",
       "    .dataframe tbody tr th {\n",
       "        vertical-align: top;\n",
       "    }\n",
       "\n",
       "    .dataframe thead th {\n",
       "        text-align: right;\n",
       "    }\n",
       "</style>\n",
       "<table border=\"1\" class=\"dataframe\">\n",
       "  <thead>\n",
       "    <tr style=\"text-align: right;\">\n",
       "      <th></th>\n",
       "      <th>petal length (cm)</th>\n",
       "      <th>petal width (cm)</th>\n",
       "      <th>sepal length (cm)</th>\n",
       "      <th>sepal width (cm)</th>\n",
       "      <th>TypeOf</th>\n",
       "    </tr>\n",
       "  </thead>\n",
       "  <tbody>\n",
       "    <tr>\n",
       "      <th>count</th>\n",
       "      <td>600</td>\n",
       "      <td>600</td>\n",
       "      <td>600</td>\n",
       "      <td>600</td>\n",
       "      <td>600</td>\n",
       "    </tr>\n",
       "    <tr>\n",
       "      <th>mean</th>\n",
       "      <td>3.74639</td>\n",
       "      <td>1.19717</td>\n",
       "      <td>5.84151</td>\n",
       "      <td>3.07392</td>\n",
       "      <td>1</td>\n",
       "    </tr>\n",
       "    <tr>\n",
       "      <th>std</th>\n",
       "      <td>1.73113</td>\n",
       "      <td>0.750018</td>\n",
       "      <td>0.800598</td>\n",
       "      <td>0.412273</td>\n",
       "      <td>0.817178</td>\n",
       "    </tr>\n",
       "    <tr>\n",
       "      <th>min</th>\n",
       "      <td>1</td>\n",
       "      <td>0.1</td>\n",
       "      <td>4.3</td>\n",
       "      <td>2</td>\n",
       "      <td>0</td>\n",
       "    </tr>\n",
       "    <tr>\n",
       "      <th>25%</th>\n",
       "      <td>1.55898</td>\n",
       "      <td>0.3</td>\n",
       "      <td>5.1773</td>\n",
       "      <td>2.8</td>\n",
       "      <td>0</td>\n",
       "    </tr>\n",
       "    <tr>\n",
       "      <th>50%</th>\n",
       "      <td>4.33951</td>\n",
       "      <td>1.33778</td>\n",
       "      <td>5.8</td>\n",
       "      <td>3.00546</td>\n",
       "      <td>1</td>\n",
       "    </tr>\n",
       "    <tr>\n",
       "      <th>75%</th>\n",
       "      <td>5.1</td>\n",
       "      <td>1.80047</td>\n",
       "      <td>6.44473</td>\n",
       "      <td>3.3</td>\n",
       "      <td>2</td>\n",
       "    </tr>\n",
       "    <tr>\n",
       "      <th>max</th>\n",
       "      <td>6.9</td>\n",
       "      <td>2.5</td>\n",
       "      <td>7.9</td>\n",
       "      <td>4.4</td>\n",
       "      <td>2</td>\n",
       "    </tr>\n",
       "    <tr>\n",
       "      <th>counts</th>\n",
       "      <td>600</td>\n",
       "      <td>600</td>\n",
       "      <td>600</td>\n",
       "      <td>600</td>\n",
       "      <td>600</td>\n",
       "    </tr>\n",
       "    <tr>\n",
       "      <th>uniques</th>\n",
       "      <td>445</td>\n",
       "      <td>362</td>\n",
       "      <td>435</td>\n",
       "      <td>404</td>\n",
       "      <td>3</td>\n",
       "    </tr>\n",
       "    <tr>\n",
       "      <th>missing</th>\n",
       "      <td>0</td>\n",
       "      <td>0</td>\n",
       "      <td>0</td>\n",
       "      <td>0</td>\n",
       "      <td>0</td>\n",
       "    </tr>\n",
       "    <tr>\n",
       "      <th>missing_perc</th>\n",
       "      <td>0%</td>\n",
       "      <td>0%</td>\n",
       "      <td>0%</td>\n",
       "      <td>0%</td>\n",
       "      <td>0%</td>\n",
       "    </tr>\n",
       "    <tr>\n",
       "      <th>types</th>\n",
       "      <td>numeric</td>\n",
       "      <td>numeric</td>\n",
       "      <td>numeric</td>\n",
       "      <td>numeric</td>\n",
       "      <td>numeric</td>\n",
       "    </tr>\n",
       "  </tbody>\n",
       "</table>\n",
       "</div>"
      ],
      "text/plain": [
       "             petal length (cm) petal width (cm) sepal length (cm)  \\\n",
       "count                      600              600               600   \n",
       "mean                   3.74639          1.19717           5.84151   \n",
       "std                    1.73113         0.750018          0.800598   \n",
       "min                          1              0.1               4.3   \n",
       "25%                    1.55898              0.3            5.1773   \n",
       "50%                    4.33951          1.33778               5.8   \n",
       "75%                        5.1          1.80047           6.44473   \n",
       "max                        6.9              2.5               7.9   \n",
       "counts                     600              600               600   \n",
       "uniques                    445              362               435   \n",
       "missing                      0                0                 0   \n",
       "missing_perc                0%               0%                0%   \n",
       "types                  numeric          numeric           numeric   \n",
       "\n",
       "             sepal width (cm)    TypeOf  \n",
       "count                     600       600  \n",
       "mean                  3.07392         1  \n",
       "std                  0.412273  0.817178  \n",
       "min                         2         0  \n",
       "25%                       2.8         0  \n",
       "50%                   3.00546         1  \n",
       "75%                       3.3         2  \n",
       "max                       4.4         2  \n",
       "counts                    600       600  \n",
       "uniques                   404         3  \n",
       "missing                     0         0  \n",
       "missing_perc               0%        0%  \n",
       "types                 numeric   numeric  "
      ]
     },
     "execution_count": 20,
     "metadata": {},
     "output_type": "execute_result"
    }
   ],
   "source": [
    "ratio = 1.00\n",
    "targetFeature = 'TypeOf'\n",
    "Class_BalancerKey = 'SMOTE'\n",
    "X = Augment_by_Class(Class_BalancerKey).transform(X,targetFeature,ratio)\n",
    "DataFrameSummary(X).summary()"
   ]
  },
  {
   "cell_type": "code",
   "execution_count": 21,
   "metadata": {
    "ExecuteTime": {
     "end_time": "2019-07-26T22:25:19.007144Z",
     "start_time": "2019-07-26T22:17:11.085828Z"
    }
   },
   "outputs": [
    {
     "name": "stdout",
     "output_type": "stream",
     "text": [
      "paso 26.7.2019 18:17:11 INFO Loaded Ontological file:../ontologies/learners/RandomForestClassification.yaml \n",
      "paso 26.7.2019 18:17:11 INFO RandomForest target: TypeOf\n",
      "paso 26.7.2019 18:17:11 INFO learner: RandomForest with kwargs {'n_estimators': 100, 'n_jobs': -1, 'criterion': 'gini'}\n",
      "paso 26.7.2019 18:17:11 INFO cross_validation: BaggingClassifier\n",
      "paso 26.7.2019 18:17:11 INFO     cv kwargs: {'n_estimators': 100, 'bootstrap_features': True, 'max_samples': 0.9, 'max_features': 1.0}\n",
      "paso 26.7.2019 18:17:26 INFO cross_validation: CalibratedClassifierCV\n",
      "paso 26.7.2019 18:17:26 INFO     cv kwargs: {'method': 'isotonic', 'cv': 10}\n",
      "paso 26.7.2019 18:25:18 INFO Confusion matrix, without normalization\n",
      "paso 26.7.2019 18:25:18 INFO Normalized confusion matrix\n"
     ]
    },
    {
     "data": {
      "image/png": "[encoded data removed]",
      "text/plain": [
       "<Figure size 432x432 with 2 Axes>"
      ]
     },
     "metadata": {},
     "output_type": "display_data"
    },
    {
     "data": {
      "image/png": "[encoded data removed]",
      "text/plain": [
       "<Figure size 432x432 with 2 Axes>"
      ]
     },
     "metadata": {},
     "output_type": "display_data"
    },
    {
     "name": "stdout",
     "output_type": "stream",
     "text": [
      "paso 26.7.2019 18:25:19 INFO measures of error evaluated for model: RandomForest\n"
     ]
    },
    {
     "data": {
      "text/plain": [
       "{'confusion_matrix': array([[15,  0,  0],\n",
       "        [ 0, 15,  0],\n",
       "        [ 0,  1, 14]]),\n",
       " 'logLoss': 1.572729838490832,\n",
       " 'accuracy': 0.9777777777777777,\n",
       " 'precision': 0.9791666666666666,\n",
       " 'recall': 0.9777777777777779,\n",
       " 'f1': 0.9777530589543938,\n",
       " 'AOC': 0}"
      ]
     },
     "execution_count": 21,
     "metadata": {},
     "output_type": "execute_result"
    }
   ],
   "source": [
    "o = Learner()\n",
    "o.train(X,ontological_filepath='../ontologies/learners/RandomForestClassification.yaml',target='TypeOf')\n",
    "o.predict(test,measure=True)\n",
    "o.metrics"
   ]
  },
  {
   "cell_type": "markdown",
   "metadata": {},
   "source": [
    "Seemed to raise the accuracy by 0.014 or .039 by quadrupling."
   ]
  },
  {
   "cell_type": "code",
   "execution_count": 22,
   "metadata": {
    "ExecuteTime": {
     "end_time": "2019-07-26T22:25:19.196179Z",
     "start_time": "2019-07-26T22:25:19.009605Z"
    }
   },
   "outputs": [
    {
     "name": "stdout",
     "output_type": "stream",
     "text": [
      "paso 26.7.2019 18:25:19 INFO Augment_by_Class: SMOTE\n",
      "paso 26.7.2019 18:25:19 INFO Class_Balance:: SMOTE\n",
      "paso 26.7.2019 18:25:19 INFO Class_Balance:: SMOTE\n",
      "paso 26.7.2019 18:25:19 INFO Class_Balance:: SMOTE\n"
     ]
    },
    {
     "data": {
      "text/html": [
       "<div>\n",
       "<style scoped>\n",
       "    .dataframe tbody tr th:only-of-type {\n",
       "        vertical-align: middle;\n",
       "    }\n",
       "\n",
       "    .dataframe tbody tr th {\n",
       "        vertical-align: top;\n",
       "    }\n",
       "\n",
       "    .dataframe thead th {\n",
       "        text-align: right;\n",
       "    }\n",
       "</style>\n",
       "<table border=\"1\" class=\"dataframe\">\n",
       "  <thead>\n",
       "    <tr style=\"text-align: right;\">\n",
       "      <th></th>\n",
       "      <th>petal length (cm)</th>\n",
       "      <th>petal width (cm)</th>\n",
       "      <th>sepal length (cm)</th>\n",
       "      <th>sepal width (cm)</th>\n",
       "      <th>TypeOf</th>\n",
       "    </tr>\n",
       "  </thead>\n",
       "  <tbody>\n",
       "    <tr>\n",
       "      <th>count</th>\n",
       "      <td>1200</td>\n",
       "      <td>1200</td>\n",
       "      <td>1200</td>\n",
       "      <td>1200</td>\n",
       "      <td>1200</td>\n",
       "    </tr>\n",
       "    <tr>\n",
       "      <th>mean</th>\n",
       "      <td>3.74549</td>\n",
       "      <td>1.1981</td>\n",
       "      <td>5.8415</td>\n",
       "      <td>3.07634</td>\n",
       "      <td>1</td>\n",
       "    </tr>\n",
       "    <tr>\n",
       "      <th>std</th>\n",
       "      <td>1.73007</td>\n",
       "      <td>0.748103</td>\n",
       "      <td>0.79356</td>\n",
       "      <td>0.409606</td>\n",
       "      <td>0.816837</td>\n",
       "    </tr>\n",
       "    <tr>\n",
       "      <th>min</th>\n",
       "      <td>1</td>\n",
       "      <td>0.1</td>\n",
       "      <td>4.3</td>\n",
       "      <td>2</td>\n",
       "      <td>0</td>\n",
       "    </tr>\n",
       "    <tr>\n",
       "      <th>25%</th>\n",
       "      <td>1.50439</td>\n",
       "      <td>0.3</td>\n",
       "      <td>5.19405</td>\n",
       "      <td>2.79879</td>\n",
       "      <td>0</td>\n",
       "    </tr>\n",
       "    <tr>\n",
       "      <th>50%</th>\n",
       "      <td>4.38787</td>\n",
       "      <td>1.34521</td>\n",
       "      <td>5.80863</td>\n",
       "      <td>3.02036</td>\n",
       "      <td>1</td>\n",
       "    </tr>\n",
       "    <tr>\n",
       "      <th>75%</th>\n",
       "      <td>5.09374</td>\n",
       "      <td>1.8</td>\n",
       "      <td>6.4449</td>\n",
       "      <td>3.3</td>\n",
       "      <td>2</td>\n",
       "    </tr>\n",
       "    <tr>\n",
       "      <th>max</th>\n",
       "      <td>6.9</td>\n",
       "      <td>2.5</td>\n",
       "      <td>7.9</td>\n",
       "      <td>4.4</td>\n",
       "      <td>2</td>\n",
       "    </tr>\n",
       "    <tr>\n",
       "      <th>counts</th>\n",
       "      <td>1200</td>\n",
       "      <td>1200</td>\n",
       "      <td>1200</td>\n",
       "      <td>1200</td>\n",
       "      <td>1200</td>\n",
       "    </tr>\n",
       "    <tr>\n",
       "      <th>uniques</th>\n",
       "      <td>1005</td>\n",
       "      <td>835</td>\n",
       "      <td>983</td>\n",
       "      <td>949</td>\n",
       "      <td>3</td>\n",
       "    </tr>\n",
       "    <tr>\n",
       "      <th>missing</th>\n",
       "      <td>0</td>\n",
       "      <td>0</td>\n",
       "      <td>0</td>\n",
       "      <td>0</td>\n",
       "      <td>0</td>\n",
       "    </tr>\n",
       "    <tr>\n",
       "      <th>missing_perc</th>\n",
       "      <td>0%</td>\n",
       "      <td>0%</td>\n",
       "      <td>0%</td>\n",
       "      <td>0%</td>\n",
       "      <td>0%</td>\n",
       "    </tr>\n",
       "    <tr>\n",
       "      <th>types</th>\n",
       "      <td>numeric</td>\n",
       "      <td>numeric</td>\n",
       "      <td>numeric</td>\n",
       "      <td>numeric</td>\n",
       "      <td>numeric</td>\n",
       "    </tr>\n",
       "  </tbody>\n",
       "</table>\n",
       "</div>"
      ],
      "text/plain": [
       "             petal length (cm) petal width (cm) sepal length (cm)  \\\n",
       "count                     1200             1200              1200   \n",
       "mean                   3.74549           1.1981            5.8415   \n",
       "std                    1.73007         0.748103           0.79356   \n",
       "min                          1              0.1               4.3   \n",
       "25%                    1.50439              0.3           5.19405   \n",
       "50%                    4.38787          1.34521           5.80863   \n",
       "75%                    5.09374              1.8            6.4449   \n",
       "max                        6.9              2.5               7.9   \n",
       "counts                    1200             1200              1200   \n",
       "uniques                   1005              835               983   \n",
       "missing                      0                0                 0   \n",
       "missing_perc                0%               0%                0%   \n",
       "types                  numeric          numeric           numeric   \n",
       "\n",
       "             sepal width (cm)    TypeOf  \n",
       "count                    1200      1200  \n",
       "mean                  3.07634         1  \n",
       "std                  0.409606  0.816837  \n",
       "min                         2         0  \n",
       "25%                   2.79879         0  \n",
       "50%                   3.02036         1  \n",
       "75%                       3.3         2  \n",
       "max                       4.4         2  \n",
       "counts                   1200      1200  \n",
       "uniques                   949         3  \n",
       "missing                     0         0  \n",
       "missing_perc               0%        0%  \n",
       "types                 numeric   numeric  "
      ]
     },
     "execution_count": 22,
     "metadata": {},
     "output_type": "execute_result"
    }
   ],
   "source": [
    "ratio = 1.00\n",
    "targetFeature = 'TypeOf'\n",
    "Class_BalancerKey = 'SMOTE'\n",
    "X = Augment_by_Class(Class_BalancerKey).transform(X,targetFeature,ratio)\n",
    "DataFrameSummary(X).summary()"
   ]
  },
  {
   "cell_type": "code",
   "execution_count": 23,
   "metadata": {
    "ExecuteTime": {
     "end_time": "2019-07-26T22:33:42.637012Z",
     "start_time": "2019-07-26T22:25:19.198881Z"
    }
   },
   "outputs": [
    {
     "name": "stdout",
     "output_type": "stream",
     "text": [
      "paso 26.7.2019 18:25:19 INFO Loaded Ontological file:../ontologies/learners/RandomForestClassification.yaml \n",
      "paso 26.7.2019 18:25:19 INFO RandomForest target: TypeOf\n",
      "paso 26.7.2019 18:25:19 INFO learner: RandomForest with kwargs {'n_estimators': 100, 'n_jobs': -1, 'criterion': 'gini'}\n",
      "paso 26.7.2019 18:25:19 INFO cross_validation: BaggingClassifier\n",
      "paso 26.7.2019 18:25:19 INFO     cv kwargs: {'n_estimators': 100, 'bootstrap_features': True, 'max_samples': 0.9, 'max_features': 1.0}\n",
      "paso 26.7.2019 18:25:36 INFO cross_validation: CalibratedClassifierCV\n",
      "paso 26.7.2019 18:25:36 INFO     cv kwargs: {'method': 'isotonic', 'cv': 10}\n",
      "paso 26.7.2019 18:33:42 INFO Confusion matrix, without normalization\n",
      "paso 26.7.2019 18:33:42 INFO Normalized confusion matrix\n"
     ]
    },
    {
     "data": {
      "image/png": "[encoded data removed]",
      "text/plain": [
       "<Figure size 432x432 with 2 Axes>"
      ]
     },
     "metadata": {},
     "output_type": "display_data"
    },
    {
     "data": {
      "image/png": "[encoded data removed]",
      "text/plain": [
       "<Figure size 432x432 with 2 Axes>"
      ]
     },
     "metadata": {},
     "output_type": "display_data"
    },
    {
     "name": "stdout",
     "output_type": "stream",
     "text": [
      "paso 26.7.2019 18:33:42 INFO measures of error evaluated for model: RandomForest\n"
     ]
    },
    {
     "data": {
      "text/plain": [
       "{'confusion_matrix': array([[15,  0,  0],\n",
       "        [ 0, 15,  0],\n",
       "        [ 0,  2, 13]]),\n",
       " 'logLoss': 1.538921252612363,\n",
       " 'accuracy': 0.9555555555555556,\n",
       " 'precision': 0.9607843137254902,\n",
       " 'recall': 0.9555555555555556,\n",
       " 'f1': 0.9553571428571429,\n",
       " 'AOC': 0}"
      ]
     },
     "execution_count": 23,
     "metadata": {},
     "output_type": "execute_result"
    }
   ],
   "source": [
    "o = Learner()\n",
    "o.train(X,ontological_filepath='../ontologies/learners/RandomForestClassification.yaml',target='TypeOf')\n",
    "o.predict(test,measure=True)\n",
    "o.metrics"
   ]
  },
  {
   "cell_type": "markdown",
   "metadata": {
    "ExecuteTime": {
     "end_time": "2019-06-29T16:38:30.805143Z",
     "start_time": "2019-06-29T16:38:27.312Z"
    }
   },
   "source": [
    "## Non-trivial class balancing"
   ]
  },
  {
   "cell_type": "markdown",
   "metadata": {},
   "source": [
    "Let us rebalance and augment a larger dataset. [You can get ``otto_group``here.](https://www.kaggle.com/c/otto-group-product-classification-challenge/data). In this dataset we have about 62,000 rows and 8 different classes."
   ]
  },
  {
   "cell_type": "code",
   "execution_count": 24,
   "metadata": {
    "ExecuteTime": {
     "end_time": "2019-07-26T22:33:46.065560Z",
     "start_time": "2019-07-26T22:33:42.639376Z"
    }
   },
   "outputs": [
    {
     "name": "stdout",
     "output_type": "stream",
     "text": [
      "paso 26.7.2019 18:33:42 INFO Loaded Ontological file:../ontologies/pre/inputers/otto_group_train.yaml \n"
     ]
    },
    {
     "ename": "AttributeError",
     "evalue": "'DataFrame' object has no attribute 'train'",
     "output_type": "error",
     "traceback": [
      "\u001b[0;31m---------------------------------------------------------------------------\u001b[0m",
      "\u001b[0;31mAttributeError\u001b[0m                            Traceback (most recent call last)",
      "\u001b[0;32m~/Documents/PROJECTS/paso\u001b[0m in \u001b[0;36m<module>\u001b[0;34m\u001b[0m\n\u001b[1;32m      1\u001b[0m \u001b[0motto_group\u001b[0m \u001b[0;34m=\u001b[0m \u001b[0mInputer\u001b[0m\u001b[0;34m(\u001b[0m\u001b[0;34m)\u001b[0m\u001b[0;34m.\u001b[0m\u001b[0mtransform\u001b[0m\u001b[0;34m(\u001b[0m\u001b[0montological_filepath\u001b[0m\u001b[0;34m=\u001b[0m\u001b[0;34m'../ontologies/pre/inputers/otto_group_train.yaml'\u001b[0m\u001b[0;34m)\u001b[0m\u001b[0;34m\u001b[0m\u001b[0;34m\u001b[0m\u001b[0m\n\u001b[1;32m      2\u001b[0m \u001b[0;31m#otto_group.train\u001b[0m\u001b[0;34m\u001b[0m\u001b[0;34m\u001b[0m\u001b[0;34m\u001b[0m\u001b[0m\n\u001b[0;32m----> 3\u001b[0;31m \u001b[0mDataFrameSummary\u001b[0m\u001b[0;34m(\u001b[0m\u001b[0motto_group\u001b[0m\u001b[0;34m.\u001b[0m\u001b[0mtrain\u001b[0m\u001b[0;34m)\u001b[0m\u001b[0;34m.\u001b[0m\u001b[0msummary\u001b[0m\u001b[0;34m(\u001b[0m\u001b[0;34m)\u001b[0m\u001b[0;34m\u001b[0m\u001b[0;34m\u001b[0m\u001b[0m\n\u001b[0m",
      "\u001b[0;32m~/anaconda3/envs/paso/lib/python3.7/site-packages/pandas/core/generic.py\u001b[0m in \u001b[0;36m__getattr__\u001b[0;34m(self, name)\u001b[0m\n\u001b[1;32m   5065\u001b[0m             \u001b[0;32mif\u001b[0m \u001b[0mself\u001b[0m\u001b[0;34m.\u001b[0m\u001b[0m_info_axis\u001b[0m\u001b[0;34m.\u001b[0m\u001b[0m_can_hold_identifiers_and_holds_name\u001b[0m\u001b[0;34m(\u001b[0m\u001b[0mname\u001b[0m\u001b[0;34m)\u001b[0m\u001b[0;34m:\u001b[0m\u001b[0;34m\u001b[0m\u001b[0;34m\u001b[0m\u001b[0m\n\u001b[1;32m   5066\u001b[0m                 \u001b[0;32mreturn\u001b[0m \u001b[0mself\u001b[0m\u001b[0;34m[\u001b[0m\u001b[0mname\u001b[0m\u001b[0;34m]\u001b[0m\u001b[0;34m\u001b[0m\u001b[0;34m\u001b[0m\u001b[0m\n\u001b[0;32m-> 5067\u001b[0;31m             \u001b[0;32mreturn\u001b[0m \u001b[0mobject\u001b[0m\u001b[0;34m.\u001b[0m\u001b[0m__getattribute__\u001b[0m\u001b[0;34m(\u001b[0m\u001b[0mself\u001b[0m\u001b[0;34m,\u001b[0m \u001b[0mname\u001b[0m\u001b[0;34m)\u001b[0m\u001b[0;34m\u001b[0m\u001b[0;34m\u001b[0m\u001b[0m\n\u001b[0m\u001b[1;32m   5068\u001b[0m \u001b[0;34m\u001b[0m\u001b[0m\n\u001b[1;32m   5069\u001b[0m     \u001b[0;32mdef\u001b[0m \u001b[0m__setattr__\u001b[0m\u001b[0;34m(\u001b[0m\u001b[0mself\u001b[0m\u001b[0;34m,\u001b[0m \u001b[0mname\u001b[0m\u001b[0;34m,\u001b[0m \u001b[0mvalue\u001b[0m\u001b[0;34m)\u001b[0m\u001b[0;34m:\u001b[0m\u001b[0;34m\u001b[0m\u001b[0;34m\u001b[0m\u001b[0m\n",
      "\u001b[0;31mAttributeError\u001b[0m: 'DataFrame' object has no attribute 'train'"
     ]
    }
   ],
   "source": [
    "otto_group = Inputer().transform(ontological_filepath='../ontologies/pre/inputers/otto_group_train.yaml')\n",
    "#otto_group.train\n",
    "DataFrameSummary(otto_group.train).summary()"
   ]
  },
  {
   "cell_type": "code",
   "execution_count": null,
   "metadata": {
    "ExecuteTime": {
     "end_time": "2019-07-26T22:33:46.068892Z",
     "start_time": "2019-07-26T21:52:38.326Z"
    }
   },
   "outputs": [],
   "source": [
    "dir(otto_group)"
   ]
  },
  {
   "cell_type": "markdown",
   "metadata": {},
   "source": [
    "The ``otto_group_train`` has a few majority classes (1,5) and minority classes(0,3,4,6).It is an unbalanced dataset."
   ]
  },
  {
   "cell_type": "code",
   "execution_count": null,
   "metadata": {
    "ExecuteTime": {
     "end_time": "2019-07-26T22:33:46.070393Z",
     "start_time": "2019-07-26T21:52:38.328Z"
    }
   },
   "outputs": [],
   "source": [
    "sns.distplot(otto_group.train[otto_group.target].astype(\"category\").cat.codes,kde=False)"
   ]
  },
  {
   "cell_type": "code",
   "execution_count": null,
   "metadata": {
    "ExecuteTime": {
     "end_time": "2019-07-26T22:33:46.072224Z",
     "start_time": "2019-07-26T21:52:38.330Z"
    }
   },
   "outputs": [],
   "source": [
    "otto_group.train[['id',otto_group.target]].groupby([otto_group.target]).count()"
   ]
  },
  {
   "cell_type": "code",
   "execution_count": null,
   "metadata": {
    "ExecuteTime": {
     "end_time": "2019-07-26T22:33:46.073826Z",
     "start_time": "2019-07-26T21:52:38.332Z"
    }
   },
   "outputs": [],
   "source": [
    "o = Learner()\n",
    "o.train(otto_group.train,ontological_filepath='../ontologies/learners/RandomForestClassification.yaml',target=otto_group.target)\n",
    "o.predict(otto_group.test,measure=True)\n",
    "o.metrics"
   ]
  },
  {
   "cell_type": "markdown",
   "metadata": {},
   "source": [
    "a What happens when we class balance ``otto_group_train`` dataset ?"
   ]
  },
  {
   "cell_type": "code",
   "execution_count": null,
   "metadata": {
    "ExecuteTime": {
     "end_time": "2019-07-26T22:33:46.075567Z",
     "start_time": "2019-07-26T21:52:38.334Z"
    }
   },
   "outputs": [],
   "source": [
    "ratio = 0.0\n",
    "Class_BalancerKey = 'SMOTE'\n",
    "X = Augment_by_Class(Class_BalancerKey).transform(otto_group.train,otto_group.target,ratio)\n",
    "DataFrameSummary(X).summary()"
   ]
  },
  {
   "cell_type": "markdown",
   "metadata": {},
   "source": [
    "We can use ``Augment_by_Class`` to balance ``otto_group_train``by augmenting by 0%."
   ]
  },
  {
   "cell_type": "code",
   "execution_count": null,
   "metadata": {
    "ExecuteTime": {
     "end_time": "2019-07-26T22:33:46.077100Z",
     "start_time": "2019-07-26T21:52:38.336Z"
    }
   },
   "outputs": [],
   "source": [
    "o = Learner()\n",
    "o.train(X,ontological_filepath='../ontologies/learners/RandomForestClassification.yaml',target=otto_group.target)\n",
    "o.predict(otto_group.test,measure=True)\n",
    "o.metrics"
   ]
  },
  {
   "cell_type": "markdown",
   "metadata": {
    "ExecuteTime": {
     "end_time": "2019-07-09T01:37:25.825415Z",
     "start_time": "2019-07-09T01:37:22.957Z"
    }
   },
   "source": [
    "Augment dataset"
   ]
  },
  {
   "cell_type": "code",
   "execution_count": null,
   "metadata": {
    "ExecuteTime": {
     "end_time": "2019-07-26T22:33:46.078566Z",
     "start_time": "2019-07-26T21:52:38.338Z"
    }
   },
   "outputs": [],
   "source": [
    "ratio = 1.00\n",
    "targetFeature = 'target'\n",
    "Class_BalancerKey = 'SMOTE'\n",
    "X = Augment_by_Class(Class_BalancerKey).transform(X,targetFeature,ratio)\n",
    "DataFrameSummary(X).summary()"
   ]
  },
  {
   "cell_type": "code",
   "execution_count": null,
   "metadata": {
    "ExecuteTime": {
     "end_time": "2019-07-26T22:33:46.080139Z",
     "start_time": "2019-07-26T21:52:38.340Z"
    }
   },
   "outputs": [],
   "source": [
    "o = Learner()\n",
    "o.train(X,ontological_filepath='../ontologies/learners/RandomForestClassification.yaml',target='TypeOf')\n",
    "o.predict(otto_group.test,measure=True)\n",
    "o.metrics"
   ]
  },
  {
   "cell_type": "code",
   "execution_count": null,
   "metadata": {
    "ExecuteTime": {
     "end_time": "2019-07-26T22:33:46.081455Z",
     "start_time": "2019-07-26T21:52:38.342Z"
    }
   },
   "outputs": [],
   "source": [
    "ratio = 1.00\n",
    "targetFeature = 'target'\n",
    "Class_BalancerKey = 'SMOTE'\n",
    "X = Augment_by_Class(Class_BalancerKey).transform(X,targetFeature,ratio)\n",
    "DataFrameSummary(X).summary()"
   ]
  },
  {
   "cell_type": "code",
   "execution_count": null,
   "metadata": {
    "ExecuteTime": {
     "end_time": "2019-07-26T22:33:46.083154Z",
     "start_time": "2019-07-26T21:52:38.344Z"
    }
   },
   "outputs": [],
   "source": [
    "o = Learner()\n",
    "o.train(X,ontological_filepath='../ontologies/learners/RandomForestClassification.yaml',target=otto_group.target)\n",
    "o.predict(otto_group.test,measure=True)\n",
    "o.metrics"
   ]
  },
  {
   "cell_type": "markdown",
   "metadata": {},
   "source": [
    "Wait, maybe the accuracy is even better. We tripled the size of the dataset while also increasing the accuracy. What happens to a balanced ``otto_group_train`` dataset that is the same size as the original ``otto_group_train`` dataset?"
   ]
  },
  {
   "cell_type": "markdown",
   "metadata": {},
   "source": [
    "## Summary"
   ]
  },
  {
   "cell_type": "markdown",
   "metadata": {},
   "source": [
    "In summary paso data cleaning transformation classes are:\n",
    "- ``Impute_Features_by_Values``\n",
    "\n",
    "You have seen **paso** offers data cleaning classes for both production data engineers and research data scientists. **paso** support streaming data as well as bulk extraction data cleaning. You can expect **paso** to continue to offer state-of-the-art tools for data cleaning."
   ]
  },
  {
   "cell_type": "markdown",
   "metadata": {},
   "source": [
    "Other lessons on **paso** are:\n",
    "1. [**paso**'s Offering of Logging and Parameter Services for your Python Project](https://github.com/bcottman/paso/blob/master/lessons/lesson_1.ipynb)\n",
    "1. [**paso**'s Offering of Data Cleaners for your Machine or Deep Learning Projects](https://github.com/bcottman/paso/blob/master/lessons/lesson_2.ipynb)"
   ]
  },
  {
   "cell_type": "markdown",
   "metadata": {},
   "source": [
    "In the future, we will cover **paso** in more depth with the following lesons:\n",
    "- Overview of **paso** scalers and handling data outliers.\n",
    "- Overview of **paso** encoders.\n",
    "- Overview of **paso** machine learning and deep learning models.\n",
    "- Using  **paso** on GPUs.\n",
    "- and yet more…\n",
    "\n",
    "If you have a service or feature or see a bug, then leave the **paso** project a [note](https://github.com/bcottman/paso/issues)."
   ]
  },
  {
   "cell_type": "markdown",
   "metadata": {},
   "source": []
  },
  {
   "cell_type": "markdown",
   "metadata": {},
   "source": []
  },
  {
   "cell_type": "markdown",
   "metadata": {},
   "source": []
  },
  {
   "cell_type": "markdown",
   "metadata": {},
   "source": []
  },
  {
   "cell_type": "markdown",
   "metadata": {},
   "source": []
  },
  {
   "cell_type": "markdown",
   "metadata": {},
   "source": []
  }
 ],
 "metadata": {
  "hide_input": false,
  "kernelspec": {
   "display_name": "Python 3",
   "language": "python",
   "name": "python3"
  },
  "language_info": {
   "codemirror_mode": {
    "name": "ipython",
    "version": 3
   },
   "file_extension": ".py",
   "mimetype": "text/x-python",
   "name": "python",
   "nbconvert_exporter": "python",
   "pygments_lexer": "ipython3",
   "version": "3.7.1"
  },
  "notify_time": "0",
  "toc": {
   "base_numbering": 1,
   "nav_menu": {},
   "number_sections": true,
   "sideBar": true,
   "skip_h1_title": false,
   "title_cell": "Table of Contents",
   "title_sidebar": "Contents",
   "toc_cell": false,
   "toc_position": {},
   "toc_section_display": true,
   "toc_window_display": false
  }
 },
 "nbformat": 4,
 "nbformat_minor": 2
}
