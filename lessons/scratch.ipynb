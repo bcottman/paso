{
 "cells": [
  {
   "cell_type": "code",
   "execution_count": null,
   "metadata": {},
   "outputs": [],
   "source": []
  },
  {
   "cell_type": "code",
   "execution_count": 1,
   "metadata": {
    "ExecuteTime": {
     "end_time": "2019-10-17T21:46:50.733647Z",
     "start_time": "2019-10-17T21:46:49.938063Z"
    }
   },
   "outputs": [],
   "source": [
    "import sklearn.metrics"
   ]
  },
  {
   "cell_type": "code",
   "execution_count": 2,
   "metadata": {
    "ExecuteTime": {
     "end_time": "2019-10-17T21:46:50.748278Z",
     "start_time": "2019-10-17T21:46:50.736663Z"
    }
   },
   "outputs": [
    {
     "data": {
      "text/plain": [
       "['accuracy',\n",
       " 'adjusted_mutual_info_score',\n",
       " 'adjusted_rand_score',\n",
       " 'average_precision',\n",
       " 'balanced_accuracy',\n",
       " 'brier_score_loss',\n",
       " 'completeness_score',\n",
       " 'explained_variance',\n",
       " 'f1',\n",
       " 'f1_macro',\n",
       " 'f1_micro',\n",
       " 'f1_samples',\n",
       " 'f1_weighted',\n",
       " 'fowlkes_mallows_score',\n",
       " 'homogeneity_score',\n",
       " 'mutual_info_score',\n",
       " 'neg_log_loss',\n",
       " 'neg_mean_absolute_error',\n",
       " 'neg_mean_squared_error',\n",
       " 'neg_mean_squared_log_error',\n",
       " 'neg_median_absolute_error',\n",
       " 'normalized_mutual_info_score',\n",
       " 'precision',\n",
       " 'precision_macro',\n",
       " 'precision_micro',\n",
       " 'precision_samples',\n",
       " 'precision_weighted',\n",
       " 'r2',\n",
       " 'recall',\n",
       " 'recall_macro',\n",
       " 'recall_micro',\n",
       " 'recall_samples',\n",
       " 'recall_weighted',\n",
       " 'roc_auc',\n",
       " 'v_measure_score']"
      ]
     },
     "execution_count": 2,
     "metadata": {},
     "output_type": "execute_result"
    }
   ],
   "source": [
    "sorted(sklearn.metrics.SCORERS.keys())"
   ]
  },
  {
   "cell_type": "code",
   "execution_count": 3,
   "metadata": {
    "ExecuteTime": {
     "end_time": "2019-10-17T21:46:50.769269Z",
     "start_time": "2019-10-17T21:46:50.750643Z"
    }
   },
   "outputs": [],
   "source": [
    "# from sklearn.metrics import confusion_matrix\n",
    "from sklearn.metrics import roc_auc_score,hamming_loss\n",
    "# sklearn.metrics imports\n",
    "from sklearn.metrics import f1_score, accuracy_score\n",
    "from sklearn.metrics import precision_score, log_loss, recall_score\n",
    "from sklearn.metrics import mean_squared_error, mean_absolute_error\n",
    "from sklearn.metrics import explained_variance_score, r2_score\n",
    "from sklearn.metrics import brier_score_loss, label_ranking_loss \n",
    "from sklearn.metrics import median_absolute_error, mean_squared_log_error\n",
    "from sklearn.metrics import matthews_corrcoef\n",
    "\n",
    "\n",
    "__metrics__ = {\n",
    "    #Type metric_name  \n",
    "    #        metric_func\n",
    "    #           binary|muli-class\n",
    "    #           metric_func_kwargs\n",
    "    #           hp_opt_kwargs             greater_is_better  needs_proba\n",
    "    \"Classification\": {\n",
    "        \"AOC\": [\n",
    "            roc_auc_score, \n",
    "                'binary',\n",
    "                {},\n",
    "                {\"greater_is_better\": True, \"needs_proba\": False}],\n",
    "        \"accuracy\": [\n",
    "            accuracy_score,\n",
    "                'multiclass',\n",
    "                {'average':\"micro\"},            \n",
    "                {\"greater_is_better\": True, \"needs_proba\": False}],\n",
    "        'brier_score_loss': [\n",
    "             brier_score_loss,\n",
    "                'binary',\n",
    "                {},\n",
    "                {\"greater_is_better\": False, \"needs_proba\": True}],\n",
    "        'label_ranking_loss': [\n",
    "             label_ranking_loss,\n",
    "                'binary',\n",
    "                {},\n",
    "                {\"greater_is_better\": False, \"needs_proba\": True}],\n",
    "        \"f1_score\": [\n",
    "            f1_score,\n",
    "                'multiclass',\n",
    "                {'average':\"micro\"},\n",
    "                {\"greater_is_better\": True, \"needs_proba\": False}],\n",
    "        \"hamming_loss\": [\n",
    "            hamming_loss,\n",
    "                'multiclass',\n",
    "                {},     \n",
    "                {\"greater_is_better\": False, \"needs_proba\": False}],\n",
    "        \"precision\": [\n",
    "            precision_score,\n",
    "                'multiclass',\n",
    "                {'average':\"micro\"}, \n",
    "                {\"greater_is_better\": True, \"needs_proba\": False}],\n",
    "        \"recall\": [\n",
    "            recall_score,\n",
    "                'multiclass',\n",
    "                {'average':\"micro\"},  \n",
    "                {\"greater_is_better\": True, \"needs_proba\": False}],\n",
    "        \"logloss\": [\n",
    "            log_loss,\n",
    "                'multiclass',\n",
    "                {},     \n",
    "                {\"greater_is_better\": False, \"needs_proba\": True}],\n",
    "    },\n",
    "    \"Regression\":{\n",
    "        'mean_squared_error': [\n",
    "                mean_squared_error,\n",
    "                None,\n",
    "                {},\n",
    "                {\"greater_is_better\": False, \"needs_proba\": True}],\n",
    "        'mean_absolute_error': [\n",
    "                mean_absolute_error,\n",
    "                None,\n",
    "                {},\n",
    "                {\"greater_is_better\": False, \"needs_proba\": True}],\n",
    "        'median_absolute_error': [\n",
    "                median_absolute_error,                     \n",
    "                None,\n",
    "                {},\n",
    "                {\"greater_is_better\": False, \"needs_proba\": True}],               \n",
    "        'mean_squared_log_error':[\n",
    "            mean_squared_log_error,\n",
    "                None,\n",
    "                {},\n",
    "                {\"greater_is_better\": False, \"needs_proba\": True}],\n",
    "        'matthews_corrcoef':[\n",
    "            matthews_corrcoef,\n",
    "                'multiclass',\n",
    "                {},  \n",
    "                {\"greater_is_better\": True, \"needs_proba\": False}],\n",
    "        'explained_variance_score': [\n",
    "                explained_variance_score,\n",
    "                None,\n",
    "                {},\n",
    "                {\"greater_is_better\": True, \"needs_proba\": True}],\n",
    "        'r2_score': [\n",
    "                r2_score,\n",
    "                None,\n",
    "                {},\n",
    "                {\"greater_is_better\": True, \"needs_proba\": True}],\n",
    "    },\n",
    "    \"Clustering\": {},\n",
    "    \"Dimension_Reduction\": {}\n",
    "}"
   ]
  },
  {
   "cell_type": "code",
   "execution_count": 4,
   "metadata": {
    "ExecuteTime": {
     "end_time": "2019-10-17T21:46:50.777392Z",
     "start_time": "2019-10-17T21:46:50.772218Z"
    }
   },
   "outputs": [
    {
     "name": "stdout",
     "output_type": "stream",
     "text": [
      "[<function roc_auc_score at 0x7fabe8f71b70>, 'binary', {}]\n",
      "[<function accuracy_score at 0x7fabe8f76378>, 'multiclass', {'average': 'micro'}]\n",
      "[<function brier_score_loss at 0x7fabe8f76d08>, 'binary', {}]\n",
      "[<function label_ranking_loss at 0x7fabe8f71ea0>, 'binary', {}]\n",
      "[<function f1_score at 0x7fabe8f766a8>, 'multiclass', {'average': 'micro'}]\n",
      "[<function hamming_loss at 0x7fabe8f76ae8>, 'multiclass', {}]\n",
      "[<function precision_score at 0x7fabe8f768c8>, 'multiclass', {'average': 'micro'}]\n",
      "[<function recall_score at 0x7fabe8f76950>, 'multiclass', {'average': 'micro'}]\n",
      "[<function log_loss at 0x7fabe8f76b70>, 'multiclass', {}]\n"
     ]
    }
   ],
   "source": [
    "model_type = \"Classification\"\n",
    "if model_type == \"Classification\":\n",
    "#    n_class = len(np.unique(y))\n",
    "#    class_names = _array_to_string(np.unique(y))\n",
    "#    y_pred = predict(X)\n",
    "    metric_dict = __metrics__[model_type]\n",
    "    \n",
    "for metric in metric_dict.keys():\n",
    "    print(metric_dict[metric][0:3])\n",
    "\n",
    "         "
   ]
  }
 ],
 "metadata": {
  "hide_input": false,
  "kernelspec": {
   "display_name": "Python 3",
   "language": "python",
   "name": "python3"
  },
  "language_info": {
   "codemirror_mode": {
    "name": "ipython",
    "version": 3
   },
   "file_extension": ".py",
   "mimetype": "text/x-python",
   "name": "python",
   "nbconvert_exporter": "python",
   "pygments_lexer": "ipython3",
   "version": "3.7.1"
  },
  "toc": {
   "base_numbering": 1,
   "nav_menu": {},
   "number_sections": true,
   "sideBar": true,
   "skip_h1_title": false,
   "title_cell": "Table of Contents",
   "title_sidebar": "Contents",
   "toc_cell": false,
   "toc_position": {},
   "toc_section_display": true,
   "toc_window_display": true
  }
 },
 "nbformat": 4,
 "nbformat_minor": 2
}
