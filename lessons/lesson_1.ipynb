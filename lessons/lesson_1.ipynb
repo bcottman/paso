{
 "cells": [
  {
   "cell_type": "markdown",
   "metadata": {},
   "source": [
    "# Overview of ``paso``  Log and Parameter Services"
   ]
  },
  {
   "cell_type": "markdown",
   "metadata": {
    "heading_collapsed": true
   },
   "source": [
    "## Introduction"
   ]
  },
  {
   "cell_type": "markdown",
   "metadata": {
    "hidden": true
   },
   "source": [
    "We have bundled the logging and parameter services as classes, added some default behavior and put them in the ``paso`` package. The goal is that logging should as easy as a ``print`` statement and that parameter files should eliminate your need for global variables or putting constants in a class definition. The major benefit, of the latter, is that the behavior of your code can change, without you having to change code. \n",
    "\n",
    "I will show:\n",
    "- what default behavior ``paso`` adds to the  ``logguru`` and ``yaml`` packages,\n",
    "\n",
    "- overview the source code;\n",
    "\n",
    "- and show they can be used to add logging and parameters to your code."
   ]
  },
  {
   "cell_type": "markdown",
   "metadata": {},
   "source": [
    "## Log"
   ]
  },
  {
   "cell_type": "markdown",
   "metadata": {},
   "source": [
    "Python has the tried and true  ``logger`` package.\n",
    "A good read on the ``logger`` package can be found at  https://realpython.com/python-logging-source-code/ , However, I choose to use the recently released  ``logguru`` package because it is easier to use and both process  and thread safe. Ref:\n",
    "[https://github.com/Delgan/loguru].\n",
    "\n",
    "``loguru`` is so easy use that you can use logging instead of print statements."
   ]
  },
  {
   "cell_type": "code",
   "execution_count": 1,
   "metadata": {
    "ExecuteTime": {
     "end_time": "2019-06-05T14:38:33.208987Z",
     "start_time": "2019-06-05T14:38:33.187751Z"
    }
   },
   "outputs": [
    {
     "name": "stderr",
     "output_type": "stream",
     "text": [
      "2019-06-05 10:38:33.206 | INFO     | __main__:<module>:3 - Straightforward logging. Replace your informative print statements\n"
     ]
    }
   ],
   "source": [
    "from loguru import logger\n",
    "import sys\n",
    "logger.info(\"Straightforward logging. Replace your informative print statements\")"
   ]
  },
  {
   "cell_type": "markdown",
   "metadata": {},
   "source": [
    "As a default, you get a timestamp, type log message (.error, .debug, .info, etc.), location ``logger`` was called from, and your custom message.\n",
    "\n",
    "Of course, you can log inside your functions or methods."
   ]
  },
  {
   "cell_type": "code",
   "execution_count": 2,
   "metadata": {
    "ExecuteTime": {
     "end_time": "2019-06-05T14:38:33.216128Z",
     "start_time": "2019-06-05T14:38:33.211644Z"
    }
   },
   "outputs": [
    {
     "name": "stderr",
     "output_type": "stream",
     "text": [
      "2019-06-05 10:38:33.213 | INFO     | __main__:betterThanPrint:2 - cool: logging\n"
     ]
    }
   ],
   "source": [
    "def betterThanPrint(msg):\n",
    "    logger.info(\"cool: {}\".format(msg))\n",
    "    \n",
    "betterThanPrint('logging')"
   ]
  },
  {
   "cell_type": "markdown",
   "metadata": {},
   "source": [
    "Thus, You can use ``loguru`` as easily as you use print for your debugging."
   ]
  },
  {
   "cell_type": "code",
   "execution_count": 3,
   "metadata": {
    "ExecuteTime": {
     "end_time": "2019-06-05T14:38:33.230452Z",
     "start_time": "2019-06-05T14:38:33.218422Z"
    }
   },
   "outputs": [
    {
     "name": "stderr",
     "output_type": "stream",
     "text": [
      "2019-06-05 10:38:33.219 | DEBUG    | __main__:<module>:2 - x:1\n"
     ]
    },
    {
     "data": {
      "text/plain": [
       "'None'"
      ]
     },
     "execution_count": 3,
     "metadata": {},
     "output_type": "execute_result"
    }
   ],
   "source": [
    "x =1\n",
    "s = logger.debug(\"x:{}\".format(x))\n",
    "str(s)"
   ]
  },
  {
   "cell_type": "code",
   "execution_count": 4,
   "metadata": {
    "ExecuteTime": {
     "end_time": "2019-06-05T14:38:33.245987Z",
     "start_time": "2019-06-05T14:38:33.233891Z"
    }
   },
   "outputs": [
    {
     "data": {
      "text/plain": [
       "'/Users/brucecottman/Documents/PROJECTS/paso'"
      ]
     },
     "execution_count": 4,
     "metadata": {},
     "output_type": "execute_result"
    }
   ],
   "source": [
    "__file__ = !cd .. ;pwd\n",
    "__file__ = __file__[0]\n",
    "__file__"
   ]
  },
  {
   "cell_type": "code",
   "execution_count": 5,
   "metadata": {
    "ExecuteTime": {
     "end_time": "2019-06-05T14:38:33.254234Z",
     "start_time": "2019-06-05T14:38:33.249278Z"
    }
   },
   "outputs": [
    {
     "data": {
      "text/plain": [
       "['/Users/brucecottman/Documents/PROJECTS/paso/lessons',\n",
       " '/Users/brucecottman/anaconda3/envs/paso/lib/python37.zip',\n",
       " '/Users/brucecottman/anaconda3/envs/paso/lib/python3.7',\n",
       " '/Users/brucecottman/anaconda3/envs/paso/lib/python3.7/lib-dynload',\n",
       " '',\n",
       " '/Users/brucecottman/.local/lib/python3.7/site-packages',\n",
       " '/Users/brucecottman/anaconda3/envs/paso/lib/python3.7/site-packages',\n",
       " '/Users/brucecottman/anaconda3/envs/paso/lib/python3.7/site-packages/aeosa',\n",
       " '/Users/brucecottman/anaconda3/envs/paso/lib/python3.7/site-packages/IPython/extensions',\n",
       " '/Users/brucecottman/.ipython',\n",
       " '/Users/brucecottman/Documents/PROJECTS/paso']"
      ]
     },
     "execution_count": 5,
     "metadata": {},
     "output_type": "execute_result"
    }
   ],
   "source": [
    "sys.path.append(__file__)\n",
    "sys.path"
   ]
  },
  {
   "cell_type": "markdown",
   "metadata": {},
   "source": [
    "### ``paso``  logger"
   ]
  },
  {
   "cell_type": "markdown",
   "metadata": {},
   "source": [
    "If your using the ``paso``logger then you using ``logguru`` package with added ``paso`` custominality. You never have to bother with any ``logguru`` for this advanced behavior, as it is all transparent and worry-free by including it in the call:"
   ]
  },
  {
   "cell_type": "code",
   "execution_count": 6,
   "metadata": {
    "ExecuteTime": {
     "end_time": "2019-06-05T14:38:34.602487Z",
     "start_time": "2019-06-05T14:38:33.256508Z"
    }
   },
   "outputs": [
    {
     "name": "stdout",
     "output_type": "stream",
     "text": [
      "paso 5.6.2019 10:38:34 INFO Log started\n",
      "paso 5.6.2019 10:38:34 INFO ========================================\n",
      "paso 5.6.2019 10:38:34 INFO Read in parameter file: ../parameters/default.yaml\n"
     ]
    }
   ],
   "source": [
    "from paso.base import Paso,Log\n",
    "session = Paso().startup()"
   ]
  },
  {
   "cell_type": "markdown",
   "metadata": {},
   "source": [
    "Now the logger format show is a ``paso`` custom log."
   ]
  },
  {
   "cell_type": "code",
   "execution_count": 7,
   "metadata": {
    "ExecuteTime": {
     "end_time": "2019-06-05T14:38:34.608692Z",
     "start_time": "2019-06-05T14:38:34.604739Z"
    }
   },
   "outputs": [
    {
     "name": "stdout",
     "output_type": "stream",
     "text": [
      "paso 5.6.2019 10:38:34 DEBUG x:1\n"
     ]
    }
   ],
   "source": [
    "x =1\n",
    "logger.debug(\"x:{}\".format(x))"
   ]
  },
  {
   "cell_type": "markdown",
   "metadata": {},
   "source": [
    "You can see what custom loggers are ``On``, by looking at the class variable ``Log.log_names``. Currently only ``paso``logger in ``On``."
   ]
  },
  {
   "cell_type": "code",
   "execution_count": 8,
   "metadata": {
    "ExecuteTime": {
     "end_time": "2019-06-05T14:38:34.615490Z",
     "start_time": "2019-06-05T14:38:34.611117Z"
    }
   },
   "outputs": [
    {
     "data": {
      "text/plain": [
       "{'paso': 'On'}"
      ]
     },
     "execution_count": 8,
     "metadata": {},
     "output_type": "execute_result"
    }
   ],
   "source": [
    "Log.log_names"
   ]
  },
  {
   "cell_type": "markdown",
   "metadata": {},
   "source": [
    "## Parameter"
   ]
  },
  {
   "cell_type": "markdown",
   "metadata": {},
   "source": [
    "Retrieving key/value or parameters from a file is straigtforward.\n",
    "\n",
    "Currently bootstrap to \\<name>.yaml or from attribute ``experiment_environment``\n",
    "in ``../parameters/default.yaml`` thus any ``<name>.yaml`` can be use\n",
    "without change to current code. Only new code need be added to\n",
    "support ``<nth name>.yaml``.\n"
   ]
  },
  {
   "cell_type": "markdown",
   "metadata": {},
   "source": [
    "    project: Common Ground Solutions/paso\n",
    "\n",
    "    name: paso\n",
    "    model-methods: []\n",
    "    function-methods [log,parameters,transform,traun,predict,read,write,load,save]\n",
    "    parameter_directory_path: '../parameters/'\n",
    "    experiment_environment: 'lesson.1"
   ]
  },
  {
   "cell_type": "markdown",
   "metadata": {},
   "source": [
    "``../parameters/default.yaml`` file"
   ]
  },
  {
   "cell_type": "markdown",
   "metadata": {},
   "source": [
    "Notice the instance is different on each \n",
    "call to class ``Param`` but the resulting \n",
    "parameter dictionary is always the same as the \n",
    "filepath of value of parameter ``experiment_environment`` \n",
    "in the default file. This means class ``Param`` can be \n",
    "called from anywhere to give the same parameters and values.\n",
    "\n",
    "It also means if the default parameter file parameter\n",
    "``experiment_environment`` is changed, parameters \n",
    "are set b a new file with a resulting new parameters \n",
    "dictionary."
   ]
  },
  {
   "cell_type": "code",
   "execution_count": 16,
   "metadata": {
    "ExecuteTime": {
     "end_time": "2019-06-05T14:46:12.959179Z",
     "start_time": "2019-06-05T14:46:12.942649Z"
    }
   },
   "outputs": [
    {
     "name": "stdout",
     "output_type": "stream",
     "text": [
      "paso 5.6.2019 10:46:12 INFO ========================================\n",
      "paso 5.6.2019 10:46:12 INFO Read in parameter file: ../parameters/default.yaml\n"
     ]
    },
    {
     "data": {
      "text/plain": [
       "'Common Ground Soltions/paso'"
      ]
     },
     "execution_count": 16,
     "metadata": {},
     "output_type": "execute_result"
    }
   ],
   "source": [
    "from paso.base import Paso\n",
    "session = Paso().startup()\n",
    "from paso.base import Param\n",
    "p = Param().parameters_D\n",
    "p['project']"
   ]
  },
  {
   "cell_type": "markdown",
   "metadata": {},
   "source": [
    "Notice you can override the default filepath with one of your choosing."
   ]
  },
  {
   "cell_type": "code",
   "execution_count": 10,
   "metadata": {
    "ExecuteTime": {
     "end_time": "2019-06-05T14:38:34.651808Z",
     "start_time": "2019-06-05T14:38:34.635749Z"
    }
   },
   "outputs": [
    {
     "name": "stdout",
     "output_type": "stream",
     "text": [
      "paso 5.6.2019 10:38:34 INFO ========================================\n",
      "paso 5.6.2019 10:38:34 INFO Read in parameter file: ../parameters/default-lesson.1.yaml\n"
     ]
    },
    {
     "data": {
      "text/plain": [
       "'Common Ground Soltions/paso'"
      ]
     },
     "execution_count": 10,
     "metadata": {},
     "output_type": "execute_result"
    }
   ],
   "source": [
    "session = Paso().startup('../parameters/default-lesson.1.yaml')\n",
    "p = Param().parameters_D\n",
    "p['project']"
   ]
  },
  {
   "cell_type": "markdown",
   "metadata": {},
   "source": [
    "The entire parameter dictionary can be shown via:"
   ]
  },
  {
   "cell_type": "code",
   "execution_count": 11,
   "metadata": {
    "ExecuteTime": {
     "end_time": "2019-06-05T14:38:34.662414Z",
     "start_time": "2019-06-05T14:38:34.653718Z"
    }
   },
   "outputs": [
    {
     "data": {
      "text/plain": [
       "AttrDict({'project': 'Common Ground Soltions/paso', 'name': 'lesson.1', 'cpu_n': 12, 'threads_n': 24, 'gpu_n': 2, 'cv_n': 5, 'shuffle': 1, 'layer-1': {'layer-2': 'value'}})"
      ]
     },
     "execution_count": 11,
     "metadata": {},
     "output_type": "execute_result"
    }
   ],
   "source": [
    "Param().parameters_D"
   ]
  },
  {
   "cell_type": "markdown",
   "metadata": {},
   "source": [
    "    project: Common Ground Soltions/paso\n",
    "    name: lesson.1\n",
    "    # Executioon\n",
    "    cpu_n: 12\n",
    "    threads_n: 24\n",
    "    gpu_n: 2\n",
    "    cv_n: 5\n",
    "    shuffle: 1\n",
    "    # 2-order pair\n",
    "    layer-1:\n",
    "         layer-2: value"
   ]
  },
  {
   "cell_type": "markdown",
   "metadata": {},
   "source": [
    "lesson.1.yaml file"
   ]
  },
  {
   "cell_type": "markdown",
   "metadata": {
    "ExecuteTime": {
     "end_time": "2019-06-05T14:38:09.347531Z",
     "start_time": "2019-06-05T14:38:09.343551Z"
    }
   },
   "source": [
    "Any parameter can be accessed"
   ]
  },
  {
   "cell_type": "code",
   "execution_count": 12,
   "metadata": {
    "ExecuteTime": {
     "end_time": "2019-06-05T14:38:34.674903Z",
     "start_time": "2019-06-05T14:38:34.665926Z"
    }
   },
   "outputs": [
    {
     "data": {
      "text/plain": [
       "'lesson.1'"
      ]
     },
     "execution_count": 12,
     "metadata": {},
     "output_type": "execute_result"
    }
   ],
   "source": [
    "Param().parameters_D['name']"
   ]
  },
  {
   "cell_type": "markdown",
   "metadata": {},
   "source": [
    "or"
   ]
  },
  {
   "cell_type": "code",
   "execution_count": 13,
   "metadata": {
    "ExecuteTime": {
     "end_time": "2019-06-05T14:38:34.685847Z",
     "start_time": "2019-06-05T14:38:34.677507Z"
    }
   },
   "outputs": [
    {
     "data": {
      "text/plain": [
       "'lesson.1'"
      ]
     },
     "execution_count": 13,
     "metadata": {},
     "output_type": "execute_result"
    }
   ],
   "source": [
    "p = Param().parameters_D\n",
    "p['name']"
   ]
  },
  {
   "cell_type": "markdown",
   "metadata": {},
   "source": [
    "Parameter values can be made very complex through hierarchical pairs."
   ]
  },
  {
   "cell_type": "code",
   "execution_count": 14,
   "metadata": {
    "ExecuteTime": {
     "end_time": "2019-06-05T14:38:34.692202Z",
     "start_time": "2019-06-05T14:38:34.688051Z"
    }
   },
   "outputs": [
    {
     "data": {
      "text/plain": [
       "'value'"
      ]
     },
     "execution_count": 14,
     "metadata": {},
     "output_type": "execute_result"
    }
   ],
   "source": [
    "p['layer-1']['layer-2']"
   ]
  },
  {
   "cell_type": "markdown",
   "metadata": {},
   "source": [
    "## Very, Very Quick Start and not complete introduction to ``paso``"
   ]
  },
  {
   "cell_type": "markdown",
   "metadata": {},
   "source": [
    "Paso().startup()"
   ]
  },
  {
   "cell_type": "code",
   "execution_count": 15,
   "metadata": {
    "ExecuteTime": {
     "end_time": "2019-06-05T14:38:35.019998Z",
     "start_time": "2019-06-05T14:38:34.694693Z"
    }
   },
   "outputs": [
    {
     "ename": "ValueError",
     "evalue": "There is no existing handler with id 'On'",
     "output_type": "error",
     "traceback": [
      "\u001b[0;31m---------------------------------------------------------------------------\u001b[0m",
      "\u001b[0;31mKeyError\u001b[0m                                  Traceback (most recent call last)",
      "\u001b[0;32m~/anaconda3/envs/paso/lib/python3.7/site-packages/loguru/_logger.py\u001b[0m in \u001b[0;36mremove\u001b[0;34m(self, handler_id)\u001b[0m\n\u001b[1;32m    808\u001b[0m                 \u001b[0;32mtry\u001b[0m\u001b[0;34m:\u001b[0m\u001b[0;34m\u001b[0m\u001b[0;34m\u001b[0m\u001b[0m\n\u001b[0;32m--> 809\u001b[0;31m                     \u001b[0mhandler\u001b[0m \u001b[0;34m=\u001b[0m \u001b[0mhandlers\u001b[0m\u001b[0;34m.\u001b[0m\u001b[0mpop\u001b[0m\u001b[0;34m(\u001b[0m\u001b[0mhandler_id\u001b[0m\u001b[0;34m)\u001b[0m\u001b[0;34m\u001b[0m\u001b[0;34m\u001b[0m\u001b[0m\n\u001b[0m\u001b[1;32m    810\u001b[0m                 \u001b[0;32mexcept\u001b[0m \u001b[0mKeyError\u001b[0m\u001b[0;34m:\u001b[0m\u001b[0;34m\u001b[0m\u001b[0;34m\u001b[0m\u001b[0m\n",
      "\u001b[0;31mKeyError\u001b[0m: 'On'",
      "\nDuring handling of the above exception, another exception occurred:\n",
      "\u001b[0;31mValueError\u001b[0m                                Traceback (most recent call last)",
      "\u001b[0;32m~/Documents/PROJECTS/paso\u001b[0m in \u001b[0;36m<module>\u001b[0;34m\u001b[0m\n\u001b[0;32m----> 1\u001b[0;31m \u001b[0mPaso\u001b[0m\u001b[0;34m(\u001b[0m\u001b[0;34m)\u001b[0m\u001b[0;34m.\u001b[0m\u001b[0mshutdown\u001b[0m\u001b[0;34m(\u001b[0m\u001b[0;34m)\u001b[0m\u001b[0;34m\u001b[0m\u001b[0;34m\u001b[0m\u001b[0m\n\u001b[0m",
      "\u001b[0;32m~/Documents/PROJECTS/paso/paso/base.py\u001b[0m in \u001b[0;36mshutdown\u001b[0;34m(self)\u001b[0m\n\u001b[1;32m    261\u001b[0m     \u001b[0;32mdef\u001b[0m \u001b[0mshutdown\u001b[0m\u001b[0;34m(\u001b[0m\u001b[0mself\u001b[0m\u001b[0;34m)\u001b[0m\u001b[0;34m:\u001b[0m\u001b[0;34m\u001b[0m\u001b[0;34m\u001b[0m\u001b[0m\n\u001b[1;32m    262\u001b[0m         \u001b[0mPaso\u001b[0m\u001b[0;34m.\u001b[0m\u001b[0mpipe_pasos\u001b[0m\u001b[0;34m.\u001b[0m\u001b[0mappend\u001b[0m\u001b[0;34m(\u001b[0m\u001b[0;34m[\u001b[0m\u001b[0;34m\"Shutdown Paso\"\u001b[0m\u001b[0;34m,\u001b[0m \u001b[0;34m\"square\"\u001b[0m\u001b[0;34m,\u001b[0m \u001b[0;34m\" \"\u001b[0m\u001b[0;34m]\u001b[0m\u001b[0;34m)\u001b[0m\u001b[0;34m\u001b[0m\u001b[0;34m\u001b[0m\u001b[0m\n\u001b[0;32m--> 263\u001b[0;31m         \u001b[0mlogger\u001b[0m\u001b[0;34m.\u001b[0m\u001b[0mremove\u001b[0m\u001b[0;34m(\u001b[0m \u001b[0mLog\u001b[0m\u001b[0;34m.\u001b[0m\u001b[0mlog_names\u001b[0m\u001b[0;34m[\u001b[0m\u001b[0;34m'paso'\u001b[0m\u001b[0;34m]\u001b[0m\u001b[0;34m)\u001b[0m\u001b[0;34m\u001b[0m\u001b[0;34m\u001b[0m\u001b[0m\n\u001b[0m\u001b[1;32m    264\u001b[0m         \u001b[0;32mreturn\u001b[0m \u001b[0mself\u001b[0m\u001b[0;34m\u001b[0m\u001b[0;34m\u001b[0m\u001b[0m\n\u001b[1;32m    265\u001b[0m \u001b[0;34m\u001b[0m\u001b[0m\n",
      "\u001b[0;32m~/anaconda3/envs/paso/lib/python3.7/site-packages/loguru/_logger.py\u001b[0m in \u001b[0;36mremove\u001b[0;34m(self, handler_id)\u001b[0m\n\u001b[1;32m    809\u001b[0m                     \u001b[0mhandler\u001b[0m \u001b[0;34m=\u001b[0m \u001b[0mhandlers\u001b[0m\u001b[0;34m.\u001b[0m\u001b[0mpop\u001b[0m\u001b[0;34m(\u001b[0m\u001b[0mhandler_id\u001b[0m\u001b[0;34m)\u001b[0m\u001b[0;34m\u001b[0m\u001b[0;34m\u001b[0m\u001b[0m\n\u001b[1;32m    810\u001b[0m                 \u001b[0;32mexcept\u001b[0m \u001b[0mKeyError\u001b[0m\u001b[0;34m:\u001b[0m\u001b[0;34m\u001b[0m\u001b[0;34m\u001b[0m\u001b[0m\n\u001b[0;32m--> 811\u001b[0;31m                     \u001b[0;32mraise\u001b[0m \u001b[0mValueError\u001b[0m\u001b[0;34m(\u001b[0m\u001b[0;34m\"There is no existing handler with id '%s'\"\u001b[0m \u001b[0;34m%\u001b[0m \u001b[0mhandler_id\u001b[0m\u001b[0;34m)\u001b[0m\u001b[0;34m\u001b[0m\u001b[0;34m\u001b[0m\u001b[0m\n\u001b[0m\u001b[1;32m    812\u001b[0m                 \u001b[0mhandler\u001b[0m\u001b[0;34m.\u001b[0m\u001b[0mstop\u001b[0m\u001b[0;34m(\u001b[0m\u001b[0;34m)\u001b[0m\u001b[0;34m\u001b[0m\u001b[0;34m\u001b[0m\u001b[0m\n\u001b[1;32m    813\u001b[0m \u001b[0;34m\u001b[0m\u001b[0m\n",
      "\u001b[0;31mValueError\u001b[0m: There is no existing handler with id 'On'"
     ]
    }
   ],
   "source": [
    "Paso().shutdown()"
   ]
  },
  {
   "cell_type": "markdown",
   "metadata": {},
   "source": [
    "## Summary"
   ]
  },
  {
   "cell_type": "markdown",
   "metadata": {},
   "source": []
  },
  {
   "cell_type": "markdown",
   "metadata": {},
   "source": []
  },
  {
   "cell_type": "markdown",
   "metadata": {},
   "source": [
    "In the following articles we will discuss:\n",
    "\n",
    "1. Overview of built-in ``paso`` data-munging and preprocessing classes.\n",
    "1. How to build your own ``paso`` classes.\n",
    "1. How to contribute to ``paso``.\n",
    "1. Overview of built-in ``paso`` scalers.\n",
    "1. Overview of built-in ``paso`` deep learning models.\n",
    "1. more yet to follow.\n"
   ]
  },
  {
   "cell_type": "markdown",
   "metadata": {},
   "source": [
    "## "
   ]
  },
  {
   "cell_type": "markdown",
   "metadata": {},
   "source": [
    "\n"
   ]
  },
  {
   "cell_type": "markdown",
   "metadata": {},
   "source": []
  },
  {
   "cell_type": "markdown",
   "metadata": {},
   "source": []
  },
  {
   "cell_type": "markdown",
   "metadata": {},
   "source": []
  }
 ],
 "metadata": {
  "hide_input": false,
  "kernelspec": {
   "display_name": "Python 3",
   "language": "python",
   "name": "python3"
  },
  "language_info": {
   "codemirror_mode": {
    "name": "ipython",
    "version": 3
   },
   "file_extension": ".py",
   "mimetype": "text/x-python",
   "name": "python",
   "nbconvert_exporter": "python",
   "pygments_lexer": "ipython3",
   "version": "3.7.1"
  },
  "toc": {
   "base_numbering": 1,
   "nav_menu": {
    "height": "62px",
    "width": "252px"
   },
   "number_sections": true,
   "sideBar": true,
   "skip_h1_title": false,
   "title_cell": "Table of Contents",
   "title_sidebar": "Contents",
   "toc_cell": false,
   "toc_position": {
    "height": "calc(100% - 180px)",
    "left": "10px",
    "top": "150px",
    "width": "195.12228393554688px"
   },
   "toc_section_display": "block",
   "toc_window_display": true
  }
 },
 "nbformat": 4,
 "nbformat_minor": 2
}
