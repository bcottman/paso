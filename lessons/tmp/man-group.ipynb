{
 "cells": [
  {
   "cell_type": "code",
   "execution_count": 293,
   "metadata": {
    "ExecuteTime": {
     "end_time": "2019-09-04T22:19:37.177370Z",
     "start_time": "2019-09-04T22:19:37.174469Z"
    }
   },
   "outputs": [],
   "source": [
    "from datetime import datetime\n",
    "import numpy as np\n",
    "import pandas as pd"
   ]
  },
  {
   "cell_type": "code",
   "execution_count": 444,
   "metadata": {
    "ExecuteTime": {
     "end_time": "2019-09-05T01:35:36.924508Z",
     "start_time": "2019-09-05T01:35:36.909525Z"
    }
   },
   "outputs": [],
   "source": [
    "def group_adjust(vals, groups, weights):\n",
    "    \"\"\"\n",
    "    Calculate a group adjustment (demean).\n",
    "\n",
    "    Parameters\n",
    "    ----------\n",
    "\n",
    "    vals    : List of floats/ints\n",
    "\n",
    "        The original values to adjust\n",
    "\n",
    "    groups  : List of Lists\n",
    "\n",
    "        A list of groups. Each group will be a list of ints\n",
    "\n",
    "    weights : List of floats\n",
    "\n",
    "        A list of weights for the groupings.\n",
    "        \n",
    "    safe: Boolean [False,True]\n",
    "            A little bit of error checking\n",
    "\n",
    "    Returns\n",
    "    -------\n",
    "\n",
    "    A list-like demeaned version of the input values\n",
    "    \"\"\"\n",
    "    # lets make python semi strongly-typed , somedecade v4.0?\n",
    "    # negliable overhead, besides time order constant\n",
    "    if not isinstance(vals,list):\n",
    "        raise TypeError('vals not  of type list')\n",
    "    if not isinstance(groups[0],list):\n",
    "        raise TypeError('groups not of type list of lists')\n",
    "    if not isinstance(weights,list):\n",
    "        raise TypeError('Weight not  of type list')\n",
    "    if (len(weights) != len(groups)):\n",
    "        raise ValueError('test_weights_len_nequals_group_len {} != {}'.format(len(weights),len(groups)))  \n",
    "\n",
    "            \n",
    "    vals = np.array(vals)  \n",
    "\n",
    "    # convert into array, which enables elimination of sopurious nan(s).\n",
    "        # dont need as pandas does for us\n",
    "#    vals = vals[np.logical_not(np.isnan(vals))]\n",
    "\n",
    "    #create dataframe of passed lists.\n",
    "    arg_dic = {'vals':vals}\n",
    "    for i in range(len(groups)):\n",
    "        arg_dic['group_'+ str(i+1)] = groups[i]\n",
    "\n",
    "    df = pd.DataFrame(arg_dic)\n",
    "    \n",
    "    #create df of means\n",
    "    means = df.groupby(['group_1'])['vals'].agg(['mean'])\n",
    "    for i in range(1,len(groups)):\n",
    "        means = pd.concat([ means,df.groupby(['group_'+ str(i+1)])['vals'].agg(['mean'])])\n",
    "\n",
    "    #transform into group names into means and broadcast in weights\n",
    "#    demeaned = pd.DataFrame(groups,dtype='str')\n",
    "    # take out dtype='str' to speed up 1.4x\n",
    "    demeaned = pd.DataFrame(groups)\n",
    "\n",
    "    # v.0.0.1 slowwwww\n",
    "    #apply function is a linear operation, processing \n",
    "    # the function at O(n) complexity. n here is nrows x ncolums\n",
    "#    demeaned = groupdf.applymap(lambda x:  means.loc[x].values[0])\n",
    "\n",
    "# v0.0.2 try some broadcasting to substitute in mean for symbol\n",
    "# about 25x faster\n",
    "# next 1. numpy 2. jit or cpython\n",
    "    for rr in range(means.index.T.shape[0]):\n",
    "        for r in range(demeaned.shape[0]):\n",
    "            demeaned.iloc[r][demeaned.iloc[r]\\\n",
    "                             ==means.index.T[rr]]=means['mean'].loc[means.index.T[rr]]\n",
    "\n",
    "    demeaned_results = demeaned.T*weights*-1\n",
    "\n",
    "# put in mean index , reset_index ? not worth breaking right now\n",
    "    demeaned_results['row_id'] = range(demeaned_results.shape[0])\n",
    "    demeaned_results['row_id'] +=1\n",
    "    # transpose so we can sun over rows\n",
    "    results = demeaned_results.T.sum(axis=0).round(3)\n",
    "\n",
    "    return list(results)\n"
   ]
  },
  {
   "cell_type": "code",
   "execution_count": 423,
   "metadata": {
    "ExecuteTime": {
     "end_time": "2019-09-05T00:45:16.661869Z",
     "start_time": "2019-09-05T00:45:16.042607Z"
    }
   },
   "outputs": [],
   "source": [
    "iter = 1000\n",
    "vals = [1, 2, 3, 8, 5]*iter\n",
    "grps_1 = ['USA', 'USA', 'USA', 'USA', 'USA']*iter\n",
    "grps_2 = ['MA', 'MA', 'MA', 'RI', 'RI']*iter\n",
    "grps_3 = ['WEYMOUTH', 'BOSTON', 'BOSTON', 'PROVIDENCE', 'PROVIDENCE']*iter\n",
    "weights = [.15, .35, .5]\n",
    "\n",
    "group_adjust(vals, [grps_1, grps_2, grps_3], weights)\n",
    "x=1\n"
   ]
  },
  {
   "cell_type": "code",
   "execution_count": 424,
   "metadata": {
    "ExecuteTime": {
     "end_time": "2019-09-05T00:45:21.378438Z",
     "start_time": "2019-09-05T00:45:21.319259Z"
    }
   },
   "outputs": [
    {
     "data": {
      "text/plain": [
       "True"
      ]
     },
     "execution_count": 424,
     "metadata": {},
     "output_type": "execute_result"
    }
   ],
   "source": [
    "def test_three_groups():\n",
    "    vals = [1, 2, 3, 8, 5]\n",
    "    grps_1 = ['USA', 'USA', 'USA', 'USA', 'USA']\n",
    "    grps_2 = ['MA', 'MA', 'MA', 'RI', 'RI']\n",
    "    grps_3 = ['WEYMOUTH', 'BOSTON', 'BOSTON', 'PROVIDENCE', 'PROVIDENCE']\n",
    "    weights = [.15, .35, .5]\n",
    "\n",
    "    adj_vals = group_adjust(vals, [grps_1, grps_2, grps_3], weights)\n",
    "    # 1 - (USA_mean*.15 + MA_mean * .35 + WEYMOUTH_mean * .5)\n",
    "    # 2 - (USA_mean*.15 + MA_mean * .35 + BOSTON_mean * .5)\n",
    "    # 3 - (USA_mean*.15 + MA_mean * .35 + BOSTON_mean * .5)\n",
    "    # etc ...\n",
    "    # Plug in the numbers ...\n",
    "    # 1 - (.15 * 3.8 + .35 * 2.0 + .5 * 1.0) = -0.770\n",
    "    # 2 - (.15 * 3.8 + .35 * 2.0 + .5 * 2.5) = -0.520\n",
    "    # 3 - (.15 * 3.8 + .35 * 2.0 + .5 * 2.5) =  0.480\n",
    "    # etc...\n",
    "\n",
    "    answer = [-0.770, -0.520, 0.480, -2.095, -1.095]\n",
    "    for ans, res in zip(answer, adj_vals):\n",
    "        assert abs(ans - res) < 1e-5\n",
    "    return True\n",
    "test_three_groups()"
   ]
  },
  {
   "cell_type": "code",
   "execution_count": 425,
   "metadata": {
    "ExecuteTime": {
     "end_time": "2019-09-05T00:45:28.174909Z",
     "start_time": "2019-09-05T00:45:28.137858Z"
    }
   },
   "outputs": [
    {
     "data": {
      "text/plain": [
       "True"
      ]
     },
     "execution_count": 425,
     "metadata": {},
     "output_type": "execute_result"
    }
   ],
   "source": [
    "def test_two_groups():\n",
    "    vals = [1, 2, 3, 8, 5]\n",
    "    grps_1 = ['USA', 'USA', 'USA', 'USA', 'USA']\n",
    "    grps_2 = ['MA', 'RI', 'CT', 'CT', 'CT']\n",
    "    weights = [.65, .35]\n",
    "\n",
    "    adj_vals = group_adjust(vals, [grps_1, grps_2], weights)\n",
    "    # 1 - (.65 * 3.8 + .35 * 1.0) = -1.82\n",
    "    # 2 - (.65 * 3.8 + .35 * 2.0) = -1.17\n",
    "    # 3 - (.65 * 3.8 + .35 * 5.33333) = -1.33666\n",
    "    answer = [-1.82, -1.17, -1.337, -0.337, 0.663]\n",
    "    for ans, res in zip(answer, adj_vals):\n",
    "        assert abs(ans - res) < 1e-5\n",
    "    return True\n",
    "test_two_groups()\n",
    "#[-1.82, -1.17, -1.337, -0.337, 0.663]"
   ]
  },
  {
   "cell_type": "code",
   "execution_count": 437,
   "metadata": {
    "ExecuteTime": {
     "end_time": "2019-09-05T00:54:47.631046Z",
     "start_time": "2019-09-05T00:54:47.592078Z"
    }
   },
   "outputs": [
    {
     "data": {
      "text/plain": [
       "True"
      ]
     },
     "execution_count": 437,
     "metadata": {},
     "output_type": "execute_result"
    }
   ],
   "source": [
    "def test_missing_vals():\n",
    "    # If you're using NumPy or Pandas, use np.NaN\n",
    "    # If you're writing pyton, use None\n",
    "    vals = [1,  np.NaN, 3, 5, 8, 7]\n",
    "    # vals = [1, None, 3, 5, 8, 7]\n",
    "    grps_1 = ['USA', 'USA', 'USA', 'USA', 'USA', 'USA']\n",
    "    grps_2 = ['MA', 'RI', 'RI', 'CT', 'CT', 'CT']\n",
    "    weights = [.65, .35]\n",
    "\n",
    "    adj_vals = group_adjust(vals, [grps_1, grps_2], weights)\n",
    "\n",
    "    # This should be None or np.NaN depending on your implementation\n",
    "    # please feel free to change this line to match yours\n",
    "    answer = [-2.47, -2.17, -1.170, -1.453, -0.453, 0.547]\n",
    "    # answer = [-2.47, None, -1.170, -0.4533333, 2.54666666, 1.54666666]\n",
    "\n",
    "    for ans, res in zip(answer, adj_vals):\n",
    "        if ans is None:\n",
    "            assert res is None\n",
    "        elif np.isnan(ans):\n",
    "            assert np.isnan(res)\n",
    "        else:\n",
    "            assert abs(ans - res) < 1e-5\n",
    "        return True\n",
    "test_missing_vals()"
   ]
  },
  {
   "cell_type": "code",
   "execution_count": 432,
   "metadata": {
    "ExecuteTime": {
     "end_time": "2019-09-05T00:50:19.134310Z",
     "start_time": "2019-09-05T00:50:19.113564Z"
    }
   },
   "outputs": [
    {
     "ename": "ValueError",
     "evalue": "test_weights_len_nequals_group_len 1 != 2",
     "output_type": "error",
     "traceback": [
      "\u001b[0;31m---------------------------------------------------------------------------\u001b[0m",
      "\u001b[0;31mValueError\u001b[0m                                Traceback (most recent call last)",
      "\u001b[0;32m<ipython-input-432-37d7e36d08c4>\u001b[0m in \u001b[0;36m<module>\u001b[0;34m\u001b[0m\n\u001b[1;32m     10\u001b[0m \u001b[0;34m\u001b[0m\u001b[0m\n\u001b[1;32m     11\u001b[0m \u001b[0;34m\u001b[0m\u001b[0m\n\u001b[0;32m---> 12\u001b[0;31m \u001b[0mtest_weights_len_equals_group_len\u001b[0m\u001b[0;34m(\u001b[0m\u001b[0;34m)\u001b[0m\u001b[0;34m\u001b[0m\u001b[0;34m\u001b[0m\u001b[0m\n\u001b[0m",
      "\u001b[0;32m<ipython-input-411-820462e8c2b5>\u001b[0m in \u001b[0;36mtest_weights_len_equals_group_len\u001b[0;34m()\u001b[0m\n\u001b[1;32m      7\u001b[0m     \u001b[0mgrps_2\u001b[0m \u001b[0;34m=\u001b[0m \u001b[0;34m[\u001b[0m\u001b[0;34m'MA'\u001b[0m\u001b[0;34m,\u001b[0m \u001b[0;34m'RI'\u001b[0m\u001b[0;34m,\u001b[0m \u001b[0;34m'RI'\u001b[0m\u001b[0;34m,\u001b[0m \u001b[0;34m'CT'\u001b[0m\u001b[0;34m,\u001b[0m \u001b[0;34m'CT'\u001b[0m\u001b[0;34m,\u001b[0m \u001b[0;34m'CT'\u001b[0m\u001b[0;34m]\u001b[0m\u001b[0;34m\u001b[0m\u001b[0;34m\u001b[0m\u001b[0m\n\u001b[1;32m      8\u001b[0m     \u001b[0mweights\u001b[0m \u001b[0;34m=\u001b[0m \u001b[0;34m[\u001b[0m\u001b[0;36m.65\u001b[0m\u001b[0;34m]\u001b[0m\u001b[0;34m\u001b[0m\u001b[0;34m\u001b[0m\u001b[0m\n\u001b[0;32m----> 9\u001b[0;31m     \u001b[0mgroup_adjust\u001b[0m\u001b[0;34m(\u001b[0m\u001b[0mvals\u001b[0m\u001b[0;34m,\u001b[0m \u001b[0;34m[\u001b[0m\u001b[0mgrps_1\u001b[0m\u001b[0;34m,\u001b[0m \u001b[0mgrps_2\u001b[0m\u001b[0;34m]\u001b[0m\u001b[0;34m,\u001b[0m \u001b[0mweights\u001b[0m\u001b[0;34m)\u001b[0m\u001b[0;34m\u001b[0m\u001b[0;34m\u001b[0m\u001b[0m\n\u001b[0m\u001b[1;32m     10\u001b[0m \u001b[0;34m\u001b[0m\u001b[0m\n\u001b[1;32m     11\u001b[0m \u001b[0mtest_weights_len_equals_group_len\u001b[0m\u001b[0;34m(\u001b[0m\u001b[0;34m)\u001b[0m\u001b[0;34m\u001b[0m\u001b[0;34m\u001b[0m\u001b[0m\n",
      "\u001b[0;32m<ipython-input-431-d6491b30986f>\u001b[0m in \u001b[0;36mgroup_adjust\u001b[0;34m(vals, groups, weights)\u001b[0m\n\u001b[1;32m     35\u001b[0m         \u001b[0;32mraise\u001b[0m \u001b[0mTypeError\u001b[0m\u001b[0;34m(\u001b[0m\u001b[0;34m'Weight not  of type list'\u001b[0m\u001b[0;34m)\u001b[0m\u001b[0;34m\u001b[0m\u001b[0;34m\u001b[0m\u001b[0m\n\u001b[1;32m     36\u001b[0m     \u001b[0;32mif\u001b[0m \u001b[0;34m(\u001b[0m\u001b[0mlen\u001b[0m\u001b[0;34m(\u001b[0m\u001b[0mweights\u001b[0m\u001b[0;34m)\u001b[0m \u001b[0;34m!=\u001b[0m \u001b[0mlen\u001b[0m\u001b[0;34m(\u001b[0m\u001b[0mgroups\u001b[0m\u001b[0;34m)\u001b[0m\u001b[0;34m)\u001b[0m\u001b[0;34m:\u001b[0m\u001b[0;34m\u001b[0m\u001b[0;34m\u001b[0m\u001b[0m\n\u001b[0;32m---> 37\u001b[0;31m         \u001b[0;32mraise\u001b[0m \u001b[0mValueError\u001b[0m\u001b[0;34m(\u001b[0m\u001b[0;34m'test_weights_len_nequals_group_len {} != {}'\u001b[0m\u001b[0;34m.\u001b[0m\u001b[0mformat\u001b[0m\u001b[0;34m(\u001b[0m\u001b[0mlen\u001b[0m\u001b[0;34m(\u001b[0m\u001b[0mweights\u001b[0m\u001b[0;34m)\u001b[0m\u001b[0;34m,\u001b[0m\u001b[0mlen\u001b[0m\u001b[0;34m(\u001b[0m\u001b[0mgroups\u001b[0m\u001b[0;34m)\u001b[0m\u001b[0;34m)\u001b[0m\u001b[0;34m)\u001b[0m\u001b[0;34m\u001b[0m\u001b[0;34m\u001b[0m\u001b[0m\n\u001b[0m\u001b[1;32m     38\u001b[0m \u001b[0;34m\u001b[0m\u001b[0m\n\u001b[1;32m     39\u001b[0m \u001b[0;34m\u001b[0m\u001b[0m\n",
      "\u001b[0;31mValueError\u001b[0m: test_weights_len_nequals_group_len 1 != 2"
     ]
    }
   ],
   "source": [
    "def test_group_len_equals_vals_len():\n",
    "    # The groups need to be same shape as vals\n",
    "    vals = [1, 1, 3, 5, 8, 7], 3, 5, 8, 7]\n",
    "    grps_1 = ['USA']\n",
    "    grps_2 = ['MA', 'RI', 'RI', 'CT', 'CT', 'CT']\n",
    "    weights = [.15, .35, .5]\n",
    "\n",
    "\n",
    "    group_adjust(vals, [grps_1, grps_2], weights)\n",
    "\n",
    "    \n",
    "test_weights_len_equals_group_len()"
   ]
  },
  {
   "cell_type": "code",
   "execution_count": 438,
   "metadata": {
    "ExecuteTime": {
     "end_time": "2019-09-05T00:55:47.206264Z",
     "start_time": "2019-09-05T00:55:47.199455Z"
    }
   },
   "outputs": [],
   "source": [
    "def test_performance(iter):\n",
    "    vals = [1, np.NaN, 3, 8, 5]*iter\n",
    "    grps_1 = ['USA', 'USA', 'USA', 'USA', 'USA'] *iter\n",
    "    grps_2 = ['MA', 'MA', 'MA', 'RI', 'RI'] *iter\n",
    "    grps_3 = ['WEYMOUTH', 'BOSTON', 'BOSTON', 'PROVIDENCE', 'PROVIDENCE']*iter\n",
    "    weights = [.15, .35, .5]\n",
    "\n",
    "    start = datetime.now()\n",
    "    group_adjust(vals, [grps_1, grps_2, grps_3], weights)\n",
    "    end = datetime.now()\n",
    "    diff = end - start\n",
    "    return diff"
   ]
  },
  {
   "cell_type": "code",
   "execution_count": 439,
   "metadata": {
    "ExecuteTime": {
     "end_time": "2019-09-05T00:55:51.452756Z",
     "start_time": "2019-09-05T00:55:50.847610Z"
    }
   },
   "outputs": [
    {
     "data": {
      "text/plain": [
       "datetime.timedelta(microseconds=600678)"
      ]
     },
     "execution_count": 439,
     "metadata": {},
     "output_type": "execute_result"
    }
   ],
   "source": [
    "test_performance(1000)"
   ]
  },
  {
   "cell_type": "markdown",
   "metadata": {},
   "source": [
    "1,000 = 8/0.6  14x\n",
    "\n",
    "10,000  = 90.4/5.55 sec 15x\n",
    "\n",
    "100,000 = 1,437/56 sec  25x\n",
    "\n",
    "1,000,000 = /57 sec"
   ]
  },
  {
   "cell_type": "code",
   "execution_count": 442,
   "metadata": {
    "ExecuteTime": {
     "end_time": "2019-09-05T01:03:01.863222Z",
     "start_time": "2019-09-05T01:03:01.638418Z"
    }
   },
   "outputs": [
    {
     "data": {
      "image/png": "[encoded data removed]",
      "text/plain": [
       "<Figure size 432x288 with 1 Axes>"
      ]
     },
     "metadata": {},
     "output_type": "display_data"
    }
   ],
   "source": [
    "import seaborn as sns; sns.set()\n",
    "import matplotlib.pyplot as plt\n",
    "y = [0.6 ,5.55, 57, 569]\n",
    "x = [1.0e03,10*1.0e03 ,100*1.0e03 ,1000*1.0e03 ]\n",
    "df = pd.DataFrame({'x': x, 'y': y })\n",
    "ax = sns.lineplot(x=\"x\", y=\"y\", data=df)\n",
    "\n"
   ]
  }
 ],
 "metadata": {
  "hide_input": false,
  "kernelspec": {
   "display_name": "Python 3",
   "language": "python",
   "name": "python3"
  },
  "language_info": {
   "codemirror_mode": {
    "name": "ipython",
    "version": 3
   },
   "file_extension": ".py",
   "mimetype": "text/x-python",
   "name": "python",
   "nbconvert_exporter": "python",
   "pygments_lexer": "ipython3",
   "version": "3.7.1"
  },
  "toc": {
   "base_numbering": 1,
   "nav_menu": {},
   "number_sections": true,
   "sideBar": true,
   "skip_h1_title": false,
   "title_cell": "Table of Contents",
   "title_sidebar": "Contents",
   "toc_cell": false,
   "toc_position": {},
   "toc_section_display": true,
   "toc_window_display": false
  }
 },
 "nbformat": 4,
 "nbformat_minor": 2
}
